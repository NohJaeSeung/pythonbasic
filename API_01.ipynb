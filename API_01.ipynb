{
 "cells": [
  {
   "cell_type": "markdown",
   "id": "dfa477c4-8972-4f66-b216-f916be2ffe23",
   "metadata": {},
   "source": [
    "# API 연습"
   ]
  },
  {
   "cell_type": "markdown",
   "id": "01e8f290-0473-4cf4-8355-89a86b691d0a",
   "metadata": {},
   "source": [
    "## github서버에서 가져오기"
   ]
  },
  {
   "cell_type": "code",
   "execution_count": 1,
   "id": "702e0dff-1c7c-4830-9d1c-cd9bb6347c43",
   "metadata": {},
   "outputs": [
    {
     "name": "stdout",
     "output_type": "stream",
     "text": [
      "200\n"
     ]
    }
   ],
   "source": [
    "#get매서드의 arguments로 첫번째는 URL, 두번째는 keyword방식으로 headers값을 설정해주었음\n",
    "#status_code를 통해 서버와의 연결상태 확인(200은 정상,https://httpstatuses.com/200에 들어가서 200만 바꿔주면 오류 파악이 가능하다)\n",
    "#parameter를 주지 않으면 요청에 대해 처리할수 없음(422)반환\n",
    "import requests\n",
    "\n",
    "response = requests.get('https://api.github.com/repositories',\n",
    "                        headers={'Accept':'application/vnd.github.v3+json'})\n",
    "print(response.status_code)"
   ]
  },
  {
   "cell_type": "code",
   "execution_count": 2,
   "id": "f4641151-057d-4597-8762-a679ca9d34eb",
   "metadata": {},
   "outputs": [
    {
     "name": "stdout",
     "output_type": "stream",
     "text": [
      "인코딩: utf-8\n",
      "콘텐츠 타입: application/json; charset=utf-8\n",
      "서버: GitHub.com\n"
     ]
    }
   ],
   "source": [
    "#response에 대한 요소 확인\n",
    "print(f\"인코딩: {response.encoding}\")\n",
    "print(f\"콘텐츠 타입: {response.headers['Content-Type']}\")\n",
    "print(f\"서버: {response.headers['server']}\")"
   ]
  },
  {
   "cell_type": "code",
   "execution_count": 5,
   "id": "b84faba1-c466-40dc-b69a-64cee157c570",
   "metadata": {},
   "outputs": [
    {
     "name": "stdout",
     "output_type": "stream",
     "text": [
      "{\n",
      "  \"id\": 1,\n",
      "  \"node_id\": \"MDEwOlJlcG9zaXRvcnkx\",\n",
      "  \"name\": \"grit\",\n",
      "  \"full_name\": \"mojombo/grit\",\n",
      "  \"private\": false,\n",
      "  \"owner\": {\n",
      "    \"login\": \"mojombo\",\n",
      "    \"id\": 1,\n",
      "    \"node_id\": \"MDQ6VXNlcjE=\",\n",
      "\n"
     ]
    }
   ],
   "source": [
    "#json으로 파싱작업을 통해 일련의 문자열을 토큰으로 분해하고 이들로 이루어진 파스 트리를 만들어줌\n",
    "#컨텐츠 타입이 json ==> json으로 변환 가능한 객체 ==>\n",
    "# ==> json라이브러리를 활용하여 구조화(딕셔너리형태의 문자열(Seriealization문자열)을 딕셔너리화해 반환)\n",
    "import json\n",
    "print(json.dumps(response.json()[0], indent=2)[:200])"
   ]
  },
  {
   "cell_type": "code",
   "execution_count": 20,
   "id": "fdb126ac-9b02-43a3-abb8-2ef2078edcf3",
   "metadata": {},
   "outputs": [
    {
     "name": "stdout",
     "output_type": "stream",
     "text": [
      "<class 'dict'>\n"
     ]
    }
   ],
   "source": [
    "print(type(response.json()))"
   ]
  },
  {
   "cell_type": "code",
   "execution_count": null,
   "id": "2ad0eed3-fe69-45f3-b76b-89cd14f9f741",
   "metadata": {},
   "outputs": [],
   "source": [
    "#public repositories에 대한 정보 전부(너무 많아 수행X)\n",
    "response.json()"
   ]
  },
  {
   "cell_type": "code",
   "execution_count": 15,
   "id": "ab15480a-91dd-4ebe-9d6e-3729d17b888a",
   "metadata": {},
   "outputs": [
    {
     "name": "stdout",
     "output_type": "stream",
     "text": [
      "422\n"
     ]
    }
   ],
   "source": [
    "#검색API를 사용해보자\n",
    "#parameter를 주지 않으면 요청에 대해 처리할수 없음(422)반환 (통신에 대한 query parameters는 API마다 다름)\n",
    "response = requests.get('https://api.github.com/search/repositories')\n",
    "print(response.status_code)"
   ]
  },
  {
   "cell_type": "code",
   "execution_count": 16,
   "id": "d9dbdafa-e88e-46b0-b744-8e709b2cae75",
   "metadata": {},
   "outputs": [
    {
     "name": "stdout",
     "output_type": "stream",
     "text": [
      "200\n"
     ]
    }
   ],
   "source": [
    "#(언어는 python)으로 data_science관련을 검색, headers\n",
    "response = requests.get('https://api.github.com/search/repositories',\n",
    "                       params={'q':'data_science+language:python'},\n",
    "                       headers={'Accept':'application/vnd.github.v3.text-match+json'})\n",
    "print(response.status_code)"
   ]
  },
  {
   "cell_type": "code",
   "execution_count": 21,
   "id": "a6f36203-504f-45b9-9c87-2b640a995ed9",
   "metadata": {},
   "outputs": [
    {
     "data": {
      "text/plain": [
       "dict_keys(['total_count', 'incomplete_results', 'items'])"
      ]
     },
     "execution_count": 21,
     "metadata": {},
     "output_type": "execute_result"
    }
   ],
   "source": [
    "response.json().keys()"
   ]
  },
  {
   "cell_type": "code",
   "execution_count": 22,
   "id": "c0e61620-57ee-46b6-82ee-3d7f9295d27f",
   "metadata": {},
   "outputs": [
    {
     "data": {
      "text/plain": [
       "[{'object_url': 'https://api.github.com/repositories/26382146',\n",
       "  'object_type': 'Repository',\n",
       "  'property': 'description',\n",
       "  'fragment': 'code for Data Science From Scratch book',\n",
       "  'matches': [{'text': 'Data Science', 'indices': [9, 21]}]},\n",
       " {'object_url': 'https://api.github.com/repositories/26382146',\n",
       "  'object_type': 'Repository',\n",
       "  'property': 'name',\n",
       "  'fragment': 'data-science-from-scratch',\n",
       "  'matches': [{'text': 'data', 'indices': [0, 4]}]}]"
      ]
     },
     "execution_count": 22,
     "metadata": {},
     "output_type": "execute_result"
    }
   ],
   "source": [
    "#response의 key중에 items(repository에 대한 정보)의 첫번째에서 text_match라는 키값의 value 호출\n",
    "response.json()['items'][0]['text_matches']"
   ]
  },
  {
   "cell_type": "code",
   "execution_count": 23,
   "id": "0d1a7883-fcdf-4765-9d59-0646119ed2d7",
   "metadata": {},
   "outputs": [
    {
     "data": {
      "text/plain": [
       "30"
      ]
     },
     "execution_count": 23,
     "metadata": {},
     "output_type": "execute_result"
    }
   ],
   "source": [
    "#items는 30개의 리스트를 value로 가짐\n",
    "len(response.json()['items'])"
   ]
  },
  {
   "cell_type": "markdown",
   "id": "584758d6-0df1-4df6-896d-d63e01fd5df3",
   "metadata": {
    "tags": []
   },
   "source": [
    "## pytorch오픈소스 가져오기"
   ]
  },
  {
   "cell_type": "markdown",
   "id": "067c45c4-6788-441e-b20a-966a27d8e9c8",
   "metadata": {},
   "source": [
    "pagination = 서버의 과부하를 방지하기 위해 서버에서 응답 개수를 제한  \n",
    "next 30개만 보여줬음"
   ]
  },
  {
   "cell_type": "code",
   "execution_count": 25,
   "id": "7d5637cc-06d6-4da1-8ddd-8c6e5cb39415",
   "metadata": {},
   "outputs": [
    {
     "name": "stdout",
     "output_type": "stream",
     "text": [
      "Response Code 403\n",
      "Number of comments 2\n"
     ]
    }
   ],
   "source": [
    "response = requests.get('https://api.github.com/repos/pytorch/pytorch/issues',\n",
    "                        headers={'Accept':'application/vnd.github.v3.text-match+json'})\n",
    "print('Response Code', response.status_code)\n",
    "print('Number of comments', len(response.json()))"
   ]
  },
  {
   "cell_type": "code",
   "execution_count": 27,
   "id": "58762b02-9545-4db9-90b6-2d2a73250531",
   "metadata": {},
   "outputs": [
    {
     "data": {
      "text/plain": [
       "{}"
      ]
     },
     "execution_count": 27,
     "metadata": {},
     "output_type": "execute_result"
    }
   ],
   "source": [
    "response.links"
   ]
  },
  {
   "cell_type": "code",
   "execution_count": 26,
   "id": "f2a91c03-3c37-45c7-a67d-554380b9e77f",
   "metadata": {},
   "outputs": [],
   "source": [
    "def get_all_pages(url, params=None, headers=None):\n",
    "    output_json = []\n",
    "    response = requests.get(url,params=params, headers=headers)\n",
    "    if response.status_code ==200:\n",
    "        output_json = response.json()\n",
    "        if 'next' in response.links:\n",
    "            next_url = response.links['next']['url']\n",
    "            if next+url is not None:\n",
    "                output_json += get_all_pages(next_url, params, headers)\n",
    "    return output_json"
   ]
  },
  {
   "cell_type": "code",
   "execution_count": null,
   "id": "aad981d5-b172-4b49-a151-449495e75c42",
   "metadata": {},
   "outputs": [],
   "source": []
  },
  {
   "cell_type": "code",
   "execution_count": null,
   "id": "50cbc53f-763c-4374-abbf-f7a612bf89c8",
   "metadata": {},
   "outputs": [],
   "source": [
    "#가져온 데이터 DataFrame화해서 결과확인\n",
    "import pandas as pd\n",
    "\n",
    "out = get_all_pages(\n",
    "    \"https://api.github.com/repos/pytorch/pytorch/issues/comments\",\n",
    "    params={\n",
    "        'since': '2022-01-01T10:00:01Z',\n",
    "        'sorted': 'created',\n",
    "        'direction': 'desc'\n",
    "    },\n",
    "    headers={'Accept' : 'application/vnd.github.v3+json'}\n",
    ")\n",
    "\n",
    "df = pd.DataFrame(out)\n",
    "print(df['body'].count())\n",
    "df[['id', 'created_at','body']].sample(1)"
   ]
  },
  {
   "cell_type": "code",
   "execution_count": null,
   "id": "ae3666a3-2414-4a04-9b10-282997b9e52c",
   "metadata": {},
   "outputs": [],
   "source": []
  },
  {
   "cell_type": "code",
   "execution_count": null,
   "id": "87ede150-f421-4c52-a457-143037da67f8",
   "metadata": {},
   "outputs": [],
   "source": []
  },
  {
   "cell_type": "code",
   "execution_count": null,
   "id": "15ae2929-ba61-4a6e-b0cf-8ec72ef044b8",
   "metadata": {},
   "outputs": [],
   "source": []
  },
  {
   "cell_type": "code",
   "execution_count": null,
   "id": "9de85774-a694-46e1-a586-87a84c7755ee",
   "metadata": {},
   "outputs": [],
   "source": []
  },
  {
   "cell_type": "code",
   "execution_count": null,
   "id": "07c191f5-5891-4e48-8e7d-c8bba434547e",
   "metadata": {},
   "outputs": [],
   "source": []
  }
 ],
 "metadata": {
  "kernelspec": {
   "display_name": "Python 3 (ipykernel)",
   "language": "python",
   "name": "python3"
  },
  "language_info": {
   "codemirror_mode": {
    "name": "ipython",
    "version": 3
   },
   "file_extension": ".py",
   "mimetype": "text/x-python",
   "name": "python",
   "nbconvert_exporter": "python",
   "pygments_lexer": "ipython3",
   "version": "3.9.12"
  }
 },
 "nbformat": 4,
 "nbformat_minor": 5
}
