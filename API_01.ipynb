{
 "cells": [
  {
   "cell_type": "markdown",
   "id": "dfa477c4-8972-4f66-b216-f916be2ffe23",
   "metadata": {},
   "source": [
    "# API 연습"
   ]
  },
  {
   "cell_type": "markdown",
   "id": "01e8f290-0473-4cf4-8355-89a86b691d0a",
   "metadata": {},
   "source": [
    "## github서버에서 가져오기"
   ]
  },
  {
   "cell_type": "markdown",
   "id": "e30dce91-403d-44de-9dbe-7612fc5ef554",
   "metadata": {},
   "source": [
    "대표적인 공공API\n",
    "\n",
    "공공데이터포털: https://www.data.go.kr  \n",
    "문화데이터 광장: https://www.culture.go.kr/data/main/main.do#main  \n",
    "공간정보 오픈플랫폼: https://www.vworld.kr/dev/v4api.do  \n",
    "금융감독원 오픈 API: https://opendart.fss.or.kr/  \n",
    "네이버 오픈 API: https://developers.naver.com/products/intro/plan/plan.md  \n",
    "카카오 디벨로퍼: https://developers.kakao.com/tool  \n",
    "서울 열린데이터 광장: https://data.seoul.go.kr/together/guide/useGuide.do  \n",
    "한국은행 Open API: https://ecos.bok.or.kr/api/#/  "
   ]
  },
  {
   "cell_type": "code",
   "execution_count": 1,
   "id": "702e0dff-1c7c-4830-9d1c-cd9bb6347c43",
   "metadata": {},
   "outputs": [
    {
     "name": "stdout",
     "output_type": "stream",
     "text": [
      "200\n"
     ]
    }
   ],
   "source": [
    "#get매서드의 arguments로 첫번째는 URL, 두번째는 keyword방식으로 headers값을 설정해주었음\n",
    "#status_code를 통해 서버와의 연결상태 확인(200은 정상,https://httpstatuses.com/200에 들어가서 200만 바꿔주면 오류 파악이 가능하다)\n",
    "#parameter를 주지 않으면 요청에 대해 처리할수 없음(422)반환\n",
    "#HTTP통신위해 requests 모듈 사용\n",
    "import requests\n",
    "\n",
    "response = requests.get('https://api.github.com/repositories',\n",
    "                        headers={'Accept':'application/vnd.github.v3+json'})\n",
    "print(response.status_code)"
   ]
  },
  {
   "cell_type": "code",
   "execution_count": 2,
   "id": "f4641151-057d-4597-8762-a679ca9d34eb",
   "metadata": {},
   "outputs": [
    {
     "name": "stdout",
     "output_type": "stream",
     "text": [
      "인코딩: utf-8\n",
      "콘텐츠 타입: application/json; charset=utf-8\n",
      "서버: GitHub.com\n"
     ]
    }
   ],
   "source": [
    "#response에 대한 요소 확인\n",
    "print(f\"인코딩: {response.encoding}\")\n",
    "print(f\"콘텐츠 타입: {response.headers['Content-Type']}\")\n",
    "print(f\"서버: {response.headers['server']}\")"
   ]
  },
  {
   "cell_type": "code",
   "execution_count": 5,
   "id": "b84faba1-c466-40dc-b69a-64cee157c570",
   "metadata": {},
   "outputs": [
    {
     "name": "stdout",
     "output_type": "stream",
     "text": [
      "{\n",
      "  \"id\": 1,\n",
      "  \"node_id\": \"MDEwOlJlcG9zaXRvcnkx\",\n",
      "  \"name\": \"grit\",\n",
      "  \"full_name\": \"mojombo/grit\",\n",
      "  \"private\": false,\n",
      "  \"owner\": {\n",
      "    \"login\": \"mojombo\",\n",
      "    \"id\": 1,\n",
      "    \"node_id\": \"MDQ6VXNlcjE=\",\n",
      "\n"
     ]
    }
   ],
   "source": [
    "#json으로 파싱작업을 통해 일련의 문자열을 토큰으로 분해하고 이들로 이루어진 파스 트리를 만들어줌\n",
    "#컨텐츠 타입이 json ==> json으로 변환 가능한 객체 ==>\n",
    "# ==> json라이브러리를 활용하여 구조화(딕셔너리형태의 문자열(Seriealization문자열)을 딕셔너리화해 반환)\n",
    "import json\n",
    "print(json.dumps(response.json()[0], indent=2)[:200])#response.json == 파싱(딕셔너리 or 리스트 안에 딕셔너리 형태), json.dumps == print할때 쓰는듯?"
   ]
  },
  {
   "cell_type": "code",
   "execution_count": 20,
   "id": "fdb126ac-9b02-43a3-abb8-2ef2078edcf3",
   "metadata": {},
   "outputs": [
    {
     "name": "stdout",
     "output_type": "stream",
     "text": [
      "<class 'dict'>\n"
     ]
    }
   ],
   "source": [
    "print(type(response.json()))"
   ]
  },
  {
   "cell_type": "code",
   "execution_count": null,
   "id": "2ad0eed3-fe69-45f3-b76b-89cd14f9f741",
   "metadata": {},
   "outputs": [],
   "source": [
    "#public repositories에 대한 정보 전부(너무 많아 수행X)\n",
    "response.json()"
   ]
  },
  {
   "cell_type": "code",
   "execution_count": 15,
   "id": "ab15480a-91dd-4ebe-9d6e-3729d17b888a",
   "metadata": {},
   "outputs": [
    {
     "name": "stdout",
     "output_type": "stream",
     "text": [
      "422\n"
     ]
    }
   ],
   "source": [
    "#검색API를 사용해보자\n",
    "#parameter를 주지 않으면 요청에 대해 처리할수 없음(422)반환 (통신에 대한 query parameters는 API마다 다름)\n",
    "response = requests.get('https://api.github.com/search/repositories')\n",
    "print(response.status_code)"
   ]
  },
  {
   "cell_type": "code",
   "execution_count": 16,
   "id": "d9dbdafa-e88e-46b0-b744-8e709b2cae75",
   "metadata": {},
   "outputs": [
    {
     "name": "stdout",
     "output_type": "stream",
     "text": [
      "200\n"
     ]
    }
   ],
   "source": [
    "#param을 통해 (언어는 python)으로 data_science관련을 검색 + headers ==> 당연히 검색API니깐 검색할것을 알려줘야지\n",
    "#양식을 통해 API가 url안의 쿼리문을 만들어줌\n",
    "response = requests.get('https://api.github.com/search/repositories',\n",
    "                       params={'q':'data_science+language:python'},\n",
    "                       headers={'Accept':'application/vnd.github.v3.text-match+json'})\n",
    "print(response.status_code)"
   ]
  },
  {
   "cell_type": "code",
   "execution_count": 21,
   "id": "a6f36203-504f-45b9-9c87-2b640a995ed9",
   "metadata": {},
   "outputs": [
    {
     "data": {
      "text/plain": [
       "dict_keys(['total_count', 'incomplete_results', 'items'])"
      ]
     },
     "execution_count": 21,
     "metadata": {},
     "output_type": "execute_result"
    }
   ],
   "source": [
    "response.json().keys()"
   ]
  },
  {
   "cell_type": "code",
   "execution_count": 22,
   "id": "c0e61620-57ee-46b6-82ee-3d7f9295d27f",
   "metadata": {},
   "outputs": [
    {
     "data": {
      "text/plain": [
       "[{'object_url': 'https://api.github.com/repositories/26382146',\n",
       "  'object_type': 'Repository',\n",
       "  'property': 'description',\n",
       "  'fragment': 'code for Data Science From Scratch book',\n",
       "  'matches': [{'text': 'Data Science', 'indices': [9, 21]}]},\n",
       " {'object_url': 'https://api.github.com/repositories/26382146',\n",
       "  'object_type': 'Repository',\n",
       "  'property': 'name',\n",
       "  'fragment': 'data-science-from-scratch',\n",
       "  'matches': [{'text': 'data', 'indices': [0, 4]}]}]"
      ]
     },
     "execution_count": 22,
     "metadata": {},
     "output_type": "execute_result"
    }
   ],
   "source": [
    "#response의 key중에 items(repository에 대한 정보)의 첫번째에서 text_matches라는 키값의 value 호출\n",
    "response.json()['items'][0]['text_matches']"
   ]
  },
  {
   "cell_type": "code",
   "execution_count": 23,
   "id": "0d1a7883-fcdf-4765-9d59-0646119ed2d7",
   "metadata": {},
   "outputs": [
    {
     "data": {
      "text/plain": [
       "30"
      ]
     },
     "execution_count": 23,
     "metadata": {},
     "output_type": "execute_result"
    }
   ],
   "source": [
    "#items는 30개의 리스트를 value로 가짐\n",
    "len(response.json()['items'])"
   ]
  },
  {
   "cell_type": "markdown",
   "id": "584758d6-0df1-4df6-896d-d63e01fd5df3",
   "metadata": {
    "tags": []
   },
   "source": [
    "## pytorch오픈소스 가져오기"
   ]
  },
  {
   "cell_type": "markdown",
   "id": "067c45c4-6788-441e-b20a-966a27d8e9c8",
   "metadata": {},
   "source": [
    "pagination = 서버의 과부하를 방지하기 위해 서버에서 응답 개수를 제한  \n",
    "next 30개만 보여줬음"
   ]
  },
  {
   "cell_type": "code",
   "execution_count": 3,
   "id": "7d5637cc-06d6-4da1-8ddd-8c6e5cb39415",
   "metadata": {},
   "outputs": [
    {
     "name": "stdout",
     "output_type": "stream",
     "text": [
      "Response Code 200\n",
      "Number of comments 30\n"
     ]
    }
   ],
   "source": [
    "response = requests.get('https://api.github.com/repos/pytorch/pytorch/issues',\n",
    "                        headers={'Accept':'application/vnd.github.v3.text-match+json'})\n",
    "print('Response Code', response.status_code)\n",
    "print('Number of comments', len(response.json()))"
   ]
  },
  {
   "cell_type": "code",
   "execution_count": 27,
   "id": "58762b02-9545-4db9-90b6-2d2a73250531",
   "metadata": {},
   "outputs": [
    {
     "data": {
      "text/plain": [
       "{}"
      ]
     },
     "execution_count": 27,
     "metadata": {},
     "output_type": "execute_result"
    }
   ],
   "source": [
    "response.links"
   ]
  },
  {
   "cell_type": "markdown",
   "id": "61b79f1a-f51c-40a6-8d63-f81d163aa927",
   "metadata": {},
   "source": [
    "오픈소스 가져올때 제한이 걸리므로 함수를 사용해서 자동으로 갱신되게 만들자"
   ]
  },
  {
   "cell_type": "code",
   "execution_count": null,
   "id": "866cbaec-bbf1-45f0-8715-340d81bcf3ef",
   "metadata": {},
   "outputs": [],
   "source": [
    "#재귀제한걸기\n",
    "import sys\n",
    "sys.setrecursionlimit(10**5) # 10의 5승"
   ]
  },
  {
   "cell_type": "code",
   "execution_count": 26,
   "id": "f2a91c03-3c37-45c7-a67d-554380b9e77f",
   "metadata": {},
   "outputs": [],
   "source": [
    "#next가 없을때까지 재귀를 통해 모든 페이지를 출력(역순으로 리턴됨)\n",
    "def get_all_pages(url, params=None, headers=None):\n",
    "    output_json = []\n",
    "    response = requests.get(url,params=params, headers=headers)\n",
    "    if response.status_code ==200:\n",
    "        output_json = response.json()\n",
    "        if 'next' in response.links:\n",
    "            next_url = response.links['next']['url']\n",
    "            if next+url is not None:\n",
    "                output_json += get_all_pages(next_url, params, headers)\n",
    "    return output_json"
   ]
  },
  {
   "cell_type": "code",
   "execution_count": null,
   "id": "50cbc53f-763c-4374-abbf-f7a612bf89c8",
   "metadata": {},
   "outputs": [],
   "source": [
    "#위 함수를 통해 가져온 데이터를 DataFrame화해서 결과확인\n",
    "import pandas as pd\n",
    "\n",
    "out = get_all_pages(\n",
    "    \"https://api.github.com/repos/pytorch/pytorch/issues/comments\",\n",
    "    params={\n",
    "        'since': '2022-01-01T10:00:01Z',\n",
    "        'sorted': 'created',\n",
    "        'direction': 'desc'\n",
    "    },\n",
    "    headers={'Accept' : 'application/vnd.github.v3+json'}\n",
    ")\n",
    "\n",
    "df = pd.DataFrame(out)\n",
    "print(df['body'].count())\n",
    "df[['id', 'created_at','body']].sample(1)"
   ]
  },
  {
   "cell_type": "code",
   "execution_count": null,
   "id": "02a75bc7-2759-4a97-8b39-42a9521e2411",
   "metadata": {},
   "outputs": [],
   "source": [
    "#제한횟수, 제한시간까지 얼마나 남았는지 출력해보자\n",
    "response = requests.head('https://api.github.com/repos/pytorch/pytorch/issues/comments')\n",
    "print('X-Ratelimit-Limit', response.headers['X-Ratelimit-Limit'])\n",
    "print('X-Ratelimit-Remaining', response.headers['X-Ratelimit-Remaining'])\n",
    "\n",
    "# UTC 시간을 사람이 읽을 수 있는 형식으로 변환\n",
    "import datetime\n",
    "print('Rate Limit reset at', datetime.datetime.fromtimestamp(int(response.headers['X-RateLimit-Reset'])).strftime('%c'))"
   ]
  },
  {
   "cell_type": "markdown",
   "id": "bd7ecbf2-dd83-4233-bb2a-b6b2f67adb08",
   "metadata": {},
   "source": [
    "API 호출 속도 조절하기  \n",
    "\n",
    "time 라이브러리의 sleep() 메서드를 활용하여 특정 시간동안 대기하도록 할 수 있습니다.  \n",
    "앞서 이야기한 X-RateLimit-Reset과 X-Ratelimit-Remaining의 값을 활용하여 대기시간을 구합니다.  \n",
    "아래의 코드는 그 대기시간동안 기다렸다가 API 호출을 하는 handle_rate_limits 함수를 구현하였습니다.  "
   ]
  },
  {
   "cell_type": "code",
   "execution_count": null,
   "id": "bad35eb8-2eea-4ccd-9414-a38e7c646659",
   "metadata": {},
   "outputs": [],
   "source": [
    "from datetime import datetime\n",
    "import time\n",
    "\n",
    "def handle_rate_limits(response):\n",
    "    now = datetime.now()\n",
    "    reset_time = datetime.fromtimestamp(int(response.headers['X-RateLimit-Reset']))\n",
    "    remaining_requests = response.headers['X-Ratelimit-Remaining']\n",
    "    remaining_time = (reset_time - now).total_seconds()\n",
    "    intervals = remaining_time / (1.0 + int(remaining_requests))\n",
    "\n",
    "    print('Sleeping for', intervals)\n",
    "    time.sleep(intervals)\n",
    "    return True"
   ]
  },
  {
   "cell_type": "markdown",
   "id": "3c5f974e-6ac3-4a84-abfa-1dff41d1c3f5",
   "metadata": {},
   "source": [
    "네트워크 오류를 감안한 코드 작성1  \n",
    "\n",
    "API 호출에는 여러가지 변수가 존재합니다. 연결 중단, DNS 조회 실패, 연결 시간 초과 등이 있습니다.  \n",
    "호출 실패에 대한 재시도를 할 수 있도록 HTTPAdapter를 사용하는데, Retry 객체를 통해 초기화합니다.  \n",
    "total은 재시도 횟수, status_forcelist는 재시도할 상태 코드 목록을, backoff_factor는 각 시도마다 간격을 늘려주는 수치입니다."
   ]
  },
  {
   "cell_type": "code",
   "execution_count": null,
   "id": "93e1ef04-e691-412c-9bfb-d2edae9a37e1",
   "metadata": {},
   "outputs": [],
   "source": [
    "from requests.adapters import HTTPAdapter\n",
    "from requests.packages.urllib3.util.retry import Retry\n",
    "\n",
    "retry_strategy = Retry(\n",
    "    total=5,\n",
    "    status_forcelist=[500, 503, 504],\n",
    "    backoff_factor=1\n",
    ")\n",
    "\n",
    "retry_adapter = HTTPAdapter(max_retries=retry_strategy)\n",
    "#연결 동작에 재시도를 추가하려면 재시도를 사용할 수 있는 사용자 지정 어댑터를 지정해야 합니다.\n",
    "#그럴 때는 우측의 코드와 같이 새로운 http Session 객체를 생성해서 사용하면 됩니다.\n",
    "http = requests.Session()\n",
    "http.mount(\"https://\", retry_adapter)\n",
    "http.mount(\"https://\", retry_adapter)\n",
    "\n",
    "response = http.get('https://api.github.com/search/repositories',\n",
    "                    params={'q': 'data_science+language:python'})\n",
    "\n",
    "for item in response.json()['items'][:5]:\n",
    "    print(item['name'])"
   ]
  },
  {
   "cell_type": "code",
   "execution_count": null,
   "id": "ae3666a3-2414-4a04-9b10-282997b9e52c",
   "metadata": {},
   "outputs": [],
   "source": [
    "#완성본인듯??\n",
    "#status가 500,503,504상태이면 알아서 재시작\n",
    "from requests.adapters import HTTPAdapter\n",
    "from requests.packages.urllib3.util.retry import Retry\n",
    "\n",
    "retry_strategy = Retry(\n",
    "    total=5,\n",
    "    status_forcelist=[500, 503, 504], \n",
    "    backoff_factor=1\n",
    ")\n",
    "\n",
    "retry_adapter = HTTPAdapter(max_retries=retry_strategy)\n",
    "\n",
    "http = requests.Session()\n",
    "http.mount(\"https://\", retry_adapter)\n",
    "http.mount(\"http://\", retry_adapter)\n",
    "\n",
    "def get_all_pages(url, params=None, headers=None):\n",
    "    output_json = []\n",
    "    response = http.get(url, params=params, headers=headers)\n",
    "    if response.status_code == 200:\n",
    "        output_json = response.json()\n",
    "        if 'next' in response.links:\n",
    "            next_url = response.links['next']['url']\n",
    "            if (next_url is not None) and (handle_rate_limits(response)):\n",
    "                output_json += get_all_pages(next_url, params, headers)\n",
    "    return output_json"
   ]
  },
  {
   "cell_type": "markdown",
   "id": "8aa5479e-36df-4ea5-9fca-2bc82ec1e652",
   "metadata": {},
   "source": [
    "# API 실습해보기"
   ]
  },
  {
   "cell_type": "code",
   "execution_count": null,
   "id": "15ae2929-ba61-4a6e-b0cf-8ec72ef044b8",
   "metadata": {},
   "outputs": [],
   "source": [
    "#인증키 : 463cba3e96c43560eda520cfdad14d0c245d6575"
   ]
  },
  {
   "cell_type": "code",
   "execution_count": 16,
   "id": "38e0f9ad-2e1b-4c75-bafe-5704a2053f2c",
   "metadata": {},
   "outputs": [
    {
     "name": "stdout",
     "output_type": "stream",
     "text": [
      "Collecting xmltodictNote: you may need to restart the kernel to use updated packages.\n"
     ]
    },
    {
     "name": "stderr",
     "output_type": "stream",
     "text": [
      "\n",
      "[notice] A new release of pip available: 22.3.1 -> 23.0.1\n",
      "[notice] To update, run: python.exe -m pip install --upgrade pip\n"
     ]
    },
    {
     "name": "stdout",
     "output_type": "stream",
     "text": [
      "\n",
      "  Downloading xmltodict-0.13.0-py2.py3-none-any.whl (10.0 kB)\n",
      "Installing collected packages: xmltodict\n",
      "Successfully installed xmltodict-0.13.0\n"
     ]
    }
   ],
   "source": [
    "pip install xmltodict"
   ]
  },
  {
   "cell_type": "code",
   "execution_count": 6,
   "id": "453a91fc-097c-4f38-8827-806397e548cd",
   "metadata": {},
   "outputs": [],
   "source": [
    "import requests\n",
    "from io import BytesIO\n",
    "import zipfile\n",
    "import xmltodict\n",
    "api = 'https://opendart.fss.or.kr/api/corpCode.xml'\n",
    "res = requests.get(api, params={'crtfc_key': '463cba3e96c43560eda520cfdad14d0c245d6575'})\n",
    "data_xml = zipfile.ZipFile(BytesIO(res.content))"
   ]
  },
  {
   "cell_type": "code",
   "execution_count": 10,
   "id": "2605828a-3bc7-4b4e-9ae9-71656baf57e1",
   "metadata": {},
   "outputs": [
    {
     "data": {
      "text/plain": [
       "['CORPCODE.xml']"
      ]
     },
     "execution_count": 10,
     "metadata": {},
     "output_type": "execute_result"
    }
   ],
   "source": [
    "data_xml.namelist()"
   ]
  },
  {
   "cell_type": "code",
   "execution_count": 12,
   "id": "e29ca6e9-791f-4628-acb6-3417725da456",
   "metadata": {},
   "outputs": [],
   "source": [
    "import json\n",
    "data_xml_z = data_xml.read('CORPCODE.xml').decode('utf-8')\n",
    "data_odict = xmltodict.parse(data_xml_z)\n",
    "data_dict = json.loads(json.dumps(data_odict))\n",
    "data = data_dict.get('result', {}).get('list')"
   ]
  },
  {
   "cell_type": "code",
   "execution_count": 19,
   "id": "113223e5-aa69-4258-ab5a-632800533102",
   "metadata": {},
   "outputs": [
    {
     "data": {
      "text/plain": [
       "[{'corp_code': '00434003',\n",
       "  'corp_name': '다코',\n",
       "  'stock_code': None,\n",
       "  'modify_date': '20170630'},\n",
       " {'corp_code': '00434456',\n",
       "  'corp_name': '일산약품',\n",
       "  'stock_code': None,\n",
       "  'modify_date': '20170630'},\n",
       " {'corp_code': '00430964',\n",
       "  'corp_name': '굿앤엘에스',\n",
       "  'stock_code': None,\n",
       "  'modify_date': '20170630'},\n",
       " {'corp_code': '00432403',\n",
       "  'corp_name': '한라판지',\n",
       "  'stock_code': None,\n",
       "  'modify_date': '20170630'},\n",
       " {'corp_code': '00388953',\n",
       "  'corp_name': '크레디피아제이십오차유동화전문회사',\n",
       "  'stock_code': None,\n",
       "  'modify_date': '20170630'}]"
      ]
     },
     "execution_count": 19,
     "metadata": {},
     "output_type": "execute_result"
    }
   ],
   "source": [
    "data[:5]"
   ]
  },
  {
   "cell_type": "code",
   "execution_count": 21,
   "id": "c377af2c-e9a6-4577-8a4d-7984ed4f560c",
   "metadata": {},
   "outputs": [
    {
     "name": "stdout",
     "output_type": "stream",
     "text": [
      "{'corp_code': '00521178', 'corp_name': '에스엠', 'stock_code': None, 'modify_date': '20170630'}\n",
      "{'corp_code': '00398118', 'corp_name': '에스엠', 'stock_code': None, 'modify_date': '20170630'}\n",
      "{'corp_code': '01078628', 'corp_name': '에스엠', 'stock_code': None, 'modify_date': '20170630'}\n",
      "{'corp_code': '01101643', 'corp_name': '에스엠', 'stock_code': None, 'modify_date': '20170630'}\n",
      "{'corp_code': '01491917', 'corp_name': '에스엠', 'stock_code': None, 'modify_date': '20200806'}\n",
      "{'corp_code': '01684605', 'corp_name': '에스엠', 'stock_code': None, 'modify_date': '20220913'}\n",
      "{'corp_code': '00658649', 'corp_name': '에스엠', 'stock_code': None, 'modify_date': '20230221'}\n",
      "{'corp_code': '00260930', 'corp_name': '에스엠', 'stock_code': '041510', 'modify_date': '20230220'}\n",
      "{'corp_code': '01012349', 'corp_name': '에스엠', 'stock_code': None, 'modify_date': '20230202'}\n",
      "{'corp_code': '01477476', 'corp_name': '에스엠', 'stock_code': None, 'modify_date': '20230203'}\n"
     ]
    }
   ],
   "source": [
    "#corp_code 획득 00260930\n",
    "for item in data:\n",
    "    if item['corp_name'] == '에스엠':\n",
    "        print(item)"
   ]
  },
  {
   "cell_type": "code",
   "execution_count": 77,
   "id": "e47805de-56ca-46cc-803f-f1833105371d",
   "metadata": {},
   "outputs": [
    {
     "name": "stdout",
     "output_type": "stream",
     "text": [
      "200\n"
     ]
    }
   ],
   "source": [
    "import requests\n",
    "\n",
    "response = requests.get('https://opendart.fss.or.kr/api/majorstock.json',\n",
    "                        params={'crtfc_key': '463cba3e96c43560eda520cfdad14d0c245d6575',\n",
    "                               'corp_code' : '00260930'})\n",
    "print(response.status_code)"
   ]
  },
  {
   "cell_type": "code",
   "execution_count": 55,
   "id": "00ef12cd-038e-48a8-9651-35f66757cb73",
   "metadata": {},
   "outputs": [
    {
     "data": {
      "text/plain": [
       "{'rcept_no': '20210408000094',\n",
       " 'rcept_dt': '2021-04-08',\n",
       " 'corp_code': '00260930',\n",
       " 'corp_name': '에스엠',\n",
       " 'report_tp': '약식',\n",
       " 'repror': '한국투자신탁운용',\n",
       " 'stkqy': '1,182,839',\n",
       " 'stkqy_irds': '-311,595',\n",
       " 'stkrt': '5.04',\n",
       " 'stkrt_irds': '-1.33',\n",
       " 'ctr_stkqy': '-',\n",
       " 'ctr_stkrt': '-',\n",
       " 'report_resn': '1%이상 변동'}"
      ]
     },
     "execution_count": 55,
     "metadata": {},
     "output_type": "execute_result"
    }
   ],
   "source": [
    "response.json()['list'][0]"
   ]
  },
  {
   "cell_type": "code",
   "execution_count": null,
   "id": "3d1110de-d55b-42c8-9d75-b918181cf2a6",
   "metadata": {},
   "outputs": [],
   "source": [
    "#'repror' = '이수만'\n",
    "lsm=[]\n",
    "for i in response.json()['list']:\n",
    "    for key, value in i.items():\n",
    "        if value =='이수만' or '하이브':\n",
    "            lsm.append(i)\n",
    "        \n",
    "for _ in lsm:\n",
    "    print('사명 :',_.get('corp_name'),'매매자 :',_.get('repror'),'보유비율 증감 :',_.get('stkrt_irds'))"
   ]
  },
  {
   "cell_type": "markdown",
   "id": "91b6a467-1b81-4e4f-9550-bca80451e74e",
   "metadata": {},
   "source": [
    "# 웹크롤링"
   ]
  },
  {
   "cell_type": "markdown",
   "id": "a176fd07-9494-44f3-a38a-97aa292ef42f",
   "metadata": {},
   "source": [
    "## robots.txt 분석하기"
   ]
  },
  {
   "cell_type": "code",
   "execution_count": 1,
   "id": "6c045501-df1f-431e-b6bd-21a67645c5a6",
   "metadata": {},
   "outputs": [],
   "source": [
    "#로이터통신 주소의 robots.txt가져옴\n",
    "import urllib.robotparser\n",
    "rp = urllib.robotparser.RobotFileParser()\n",
    "rp.set_url(\"https://www.reuters.com/robots.txt\")\n",
    "rp.read()"
   ]
  },
  {
   "cell_type": "code",
   "execution_count": 5,
   "id": "0c30f948-5b89-4875-97e2-bd7080a11440",
   "metadata": {},
   "outputs": [
    {
     "data": {
      "text/plain": [
       "True"
      ]
     },
     "execution_count": 5,
     "metadata": {},
     "output_type": "execute_result"
    }
   ],
   "source": [
    "# 특정 User-agent가 url에 접근 가능한지 확인한다.\n",
    "rp.can_fetch(useragent=\"*\",url=\"https://reuters.com/sitemap.xml\")"
   ]
  },
  {
   "cell_type": "code",
   "execution_count": 6,
   "id": "210b1211-c861-4666-af4d-2c49b0d99f58",
   "metadata": {},
   "outputs": [
    {
     "data": {
      "text/plain": [
       "['https://www.reuters.com/arc/outboundfeeds/sitemap-index/?outputType=xml',\n",
       " 'https://www.reuters.com/arc/outboundfeeds/news-sitemap-index/?outputType=xml',\n",
       " 'https://www.reuters.com/sitemap_video_index.xml',\n",
       " 'https://www.reuters.com/brandfeature/sitemap']"
      ]
     },
     "execution_count": 6,
     "metadata": {},
     "output_type": "execute_result"
    }
   ],
   "source": [
    "#sitemap에 대한 정보 확인 ==>xml형태임을 확인\n",
    "sitemaps = rp.site_maps()\n",
    "sitemaps"
   ]
  },
  {
   "cell_type": "code",
   "execution_count": 1,
   "id": "4f78e2cb-7766-49cf-9c88-5c2f2bfd9f95",
   "metadata": {},
   "outputs": [
    {
     "name": "stdout",
     "output_type": "stream",
     "text": [
      "Requirement already satisfied: xmltodict in c:\\users\\your\\anaconda3\\lib\\site-packages (0.13.0)\n"
     ]
    }
   ],
   "source": [
    "!pip install xmltodict"
   ]
  },
  {
   "cell_type": "code",
   "execution_count": 8,
   "id": "76d52672-1513-4128-b6ec-2e9054ce8dcf",
   "metadata": {},
   "outputs": [],
   "source": [
    "import xmltodict\n",
    "import requests\n",
    "\n",
    "url = sitemaps[0] # /sitemap/lastest-articles\n",
    "sitemaps = xmltodict.parse(requests.get(url).text)# xml을 dict형태로"
   ]
  },
  {
   "cell_type": "code",
   "execution_count": 39,
   "id": "0f74ec61-313d-4318-a476-bb9d414fe4fc",
   "metadata": {},
   "outputs": [],
   "source": [
    "#여러개의 신문기사 주소를 찾음\n",
    "sitemap_urls=[]\n",
    "for _ in sitemaps['sitemapindex']['sitemap']:\n",
    "    sitemap_urls.append(_['loc'])"
   ]
  },
  {
   "cell_type": "code",
   "execution_count": 41,
   "id": "0c114ad0-cfc0-4849-82c7-a4611fa0216c",
   "metadata": {},
   "outputs": [],
   "source": [
    "url = sitemap_urls[0]\n",
    "news_dict = xmltodict.parse(requests.get(url).text)\n"
   ]
  },
  {
   "cell_type": "code",
   "execution_count": null,
   "id": "6e65fe83-cdd0-4595-8db8-c473fcf5ea36",
   "metadata": {},
   "outputs": [],
   "source": [
    "news_dict"
   ]
  },
  {
   "cell_type": "code",
   "execution_count": 51,
   "id": "9432513d-90d0-4385-b6a2-8f2dc1d2cbc5",
   "metadata": {},
   "outputs": [
    {
     "name": "stdout",
     "output_type": "stream",
     "text": [
      "['https://www.reuters.com/markets/europe/bayer-sees-lower-2023-operating-profit-cost-inflation-2023-02-28/', 'https://www.reuters.com/business/finance/oaktree-capital-seeks-raise-10-billion-new-fund-ft-2023-02-28/', 'https://www.reuters.com/markets/europe/global-markets-view-europe-2023-02-28/', 'https://www.reuters.com/business/retail-consumer/home-zara-fast-slow-fashion-collide-2023-02-28/', 'https://www.reuters.com/lifestyle/sports/england-captain-stokes-has-no-regrets-over-follow-on-2023-02-28/', 'https://www.reuters.com/markets/asia/indias-adani-plans-repay-up-790-mln-share-backed-loans-by-march-sources-2023-02-28/', 'https://www.reuters.com/lifestyle/sports/smith-says-australia-batsmen-will-ditch-risky-tempo-third-test-2023-02-28/', 'https://www.reuters.com/technology/cryptoverse-bitcoin-moves-towards-satoshis-payment-dream-2023-02-28/', 'https://www.reuters.com/markets/europe/ecb-has-started-win-inflation-fight-lane-says-2023-02-28/', 'https://www.reuters.com/markets/rates-bonds/banks-pile-into-euro-zone-bond-sales-rates-shoot-up-2023-02-28/', 'https://www.reuters.com/business/adecco-sees-signs-hiring-slowdown-start-2023-2023-02-28/', 'https://www.reuters.com/world/us/tennessee-meat-plant-workers-reach-12-mln-settlement-over-2018-raid-2023-02-28/', 'https://www.reuters.com/markets/asia/china-income-spending-per-capita-grow-over-2022-national-bureau-statistics-2023-02-28/', 'https://www.reuters.com/world/asia-pacific/la-nina-wet-weather-system-near-its-end-australian-weather-bureau-2023-02-28/', 'https://www.reuters.com/lifestyle/sports/nhl-roundup-connor-mcdavids-49th-50th-goals-cant-stop-bruins-2023-02-28/', 'https://www.reuters.com/lifestyle/sports/new-zealand-skipper-southee-hails-test-win-ages-2023-02-28/', 'https://www.reuters.com/world/china/chinas-birth-rate-slumps-political-advisor-urges-egg-freezing-single-women-2023-02-28/', 'https://www.reuters.com/lifestyle/sports/tough-see-alcaraz-playing-acapulco-says-coach-2023-02-28/', 'https://www.reuters.com/world/moscow-accuses-us-preparing-toxic-chemicals-provocation-ukraine-2023-02-28/', 'https://www.reuters.com/business/finance/goldman-sachs-seen-unveiling-medium-term-goals-investor-day-2023-02-28/', 'https://www.reuters.com/breakingviews/chinas-li-auto-drives-fine-profit-line-2023-02-28/', 'https://www.reuters.com/breakingviews/japan-posts-deal-will-test-interest-rate-optimism-2023-02-28/', 'https://www.reuters.com/markets/europe/germany-home-prices-sink-nearly-6-this-year-2023-02-28/', 'https://www.reuters.com/breakingviews/airtel-would-be-complex-saviour-paytm-2023-02-28/', 'https://www.reuters.com/business/autos-transportation/volkswagen-china-chief-visits-xinjiang-plant-sees-no-sign-forced-labour-2023-02-28/', 'https://www.reuters.com/world/europe/ex-kremlins-adviser-soviet-era-dissident-pavlovsky-dies-2023-02-28/', 'https://www.reuters.com/lifestyle/sports/brentfords-frank-says-abuse-directed-managers-is-disgrace-2023-02-28/', 'https://www.reuters.com/lifestyle/sports/nba-roundup-hornets-win-again-lose-lamelo-ball-2023-02-28/', 'https://www.reuters.com/lifestyle/giorgio-armani-offers-soft-fluid-winter-designs-milan-fashion-week-2023-02-26/', 'https://www.reuters.com/business/energy/thailands-indorama-ventures-scouts-acquisitions-europe-africa-ceo-2023-02-28/', 'https://www.reuters.com/lifestyle/sports/list-narrowest-victories-by-runs-tests-2023-02-28/', 'https://www.reuters.com/business/media-telecom/reuters-reporters-online-accounts-faked-approach-china-activists-2023-02-28/', 'https://www.reuters.com/world/us/us-needs-learn-all-black-history-biden-says-some-republicans-push-curbs-2023-02-27/', 'https://www.reuters.com/lifestyle/sports/list-teams-that-won-test-after-follow-on-2023-02-28/', 'https://www.reuters.com/world/blinken-hold-talks-with-central-asian-nations-wake-ukraine-anniversary-2023-02-28/', 'https://www.reuters.com/lifestyle/sports/wimbledon-offers-best-chance-deep-run-grand-slam-murray-2023-02-28/', 'https://www.reuters.com/lifestyle/sports/new-zealand-beat-england-by-one-run-second-test-level-series-1-1-2023-02-28/', 'https://www.reuters.com/business/finance/australias-regulator-sues-mercer-pension-fund-first-greenwashing-case-2023-02-28/', 'https://www.reuters.com/technology/rapidus-picks-northern-japans-chitose-semiconductor-plant-location-2023-02-28/', 'https://www.reuters.com/lifestyle/sports/spring-training-roundup-emmanuel-rivera-d-backs-walk-off-cubs-2023-02-28/', 'https://www.reuters.com/world/europe/russian-offensive-eastern-ukraine-focused-bakhmut-2023-02-28/', 'https://www.reuters.com/markets/australia-limit-tax-breaks-multi-million-dollar-retirement-savings-2023-02-28/', 'https://www.reuters.com/world/us/us-marshals-service-suffers-major-security-breach-nbc-news-2023-02-28/', 'https://www.reuters.com/world/india/indian-shares-set-muted-start-us-rate-fears-ahead-domestic-gdp-data-2023-02-28/', 'https://www.reuters.com/markets/global-markets-wrapup-1-2023-02-28/', 'https://www.reuters.com/world/us/florida-gov-desantis-signs-bill-asserting-state-oversight-land-around-walt-2023-02-27/', 'https://www.reuters.com/business/sustainable-business/women-make-up-40-boards-top-uk-companies-first-time-2023-02-28/', 'https://www.reuters.com/markets/asia/vietnams-factory-output-rises-february-exports-up-11-2023-02-28/', 'https://www.reuters.com/legal/litigation/ny-lawyer-sued-quiet-quitting-strikes-back-with-race-bias-lawsuit-2023-02-27/', 'https://www.reuters.com/business/energy/oil-steadies-after-fall-fear-rate-hikes-rising-inventories-2023-02-28/', 'https://www.reuters.com/business/aerospace-defense/bae-systems-australia-unveils-first-homegrown-military-drone-2023-02-28/', 'https://www.reuters.com/world/us/us-awards-nearly-1-billion-airports-infrastructure-grants-2023-02-27/', 'https://www.reuters.com/world/china/hong-kong-scrap-covid-mask-mandate-march-1-2023-02-28/', 'https://www.reuters.com/markets/currencies/sterling-holds-gains-after-rising-uk-trade-deal-with-eu-2023-02-28/', 'https://www.reuters.com/business/us-crack-down-child-labor-amid-massive-uptick-2023-02-27/', 'https://www.reuters.com/lifestyle/orchestra-turns-trash-music-environmental-activism-bolivia-2023-02-28/', 'https://www.reuters.com/markets/asia/boj-shouldnt-modify-easy-policy-address-costs-incoming-deputy-governor-uchida-2023-02-28/', 'https://www.reuters.com/breakingviews/warren-buffetts-greatest-hits-lose-their-verve-2023-02-27/', 'https://www.reuters.com/business/aerospace-defense/lockheed-martin-hopes-deliver-more-f-35s-australia-2023-02-28/', 'https://www.reuters.com/lifestyle/sports/japan-anti-trust-authorities-seek-criminal-charges-against-dentsu-others-over-2023-02-28/', 'https://www.reuters.com/world/asia-pacific/rust-belt-province-got-old-before-it-got-rich-much-china-will-2023-02-28/', 'https://www.reuters.com/business/energy/japan-promote-gas-lng-hydrogen-investments-during-g7-presidency-meti-2023-02-28/', 'https://www.reuters.com/world/india/weak-global-demand-rate-hikes-may-curtail-india-growth-economists-2023-02-28/', 'https://www.reuters.com/technology/elon-musk-recruits-team-develop-openai-rival-information-2023-02-28/', 'https://www.reuters.com/world/new-zealand-businesses-less-pessimistic-february-anz-survey-2023-02-28/', 'https://www.reuters.com/markets/australias-current-account-surplus-widens-sharply-q4-2023-02-28/', 'https://www.reuters.com/world/us/house-committee-probe-epa-response-ohio-derailment-2023-02-28/', 'https://www.reuters.com/business/retail-consumer/australia-retail-sales-rebound-by-19-january-2023-02-28/', 'https://www.reuters.com/business/aerospace-defense/boeing-says-great-news-if-mq-28-drone-can-partner-with-f-35-2023-02-28/', 'https://www.reuters.com/technology/aclu-urges-us-lawmakers-not-ban-tiktok-2023-02-28/', 'https://www.reuters.com/world/us/us-commerce-ask-companies-seeking-chips-funding-provide-childcare-employees-2023-02-28/', 'https://www.reuters.com/lifestyle/sports/cactus-league-roundup-emmanuel-rivera-d-backs-walk-off-cubs-2023-02-28/', 'https://www.reuters.com/markets/deals/canadas-baytex-energy-nears-25-bln-deal-us-peer-ranger-oil-sources-2023-02-28/', 'https://www.reuters.com/markets/global-markets-view-asia-graphic-pix-2023-02-27/', 'https://www.reuters.com/markets/asia/japans-factory-output-suffer-biggest-fall-8-months-2023-02-28/', 'https://www.reuters.com/lifestyle/sports/england-90-runs-victory-after-roots-steadying-half-century-2023-02-28/', 'https://www.reuters.com/business/healthcare-pharmaceuticals/eisai-biogen-say-alzheimers-drug-lecanemab-getting-priority-review-china-2023-02-28/', 'https://www.reuters.com/world/uk/uks-hunt-has-extra-30-bln-pounds-play-with-march-budget-ifs-2023-02-28/', 'https://www.reuters.com/business/energy/petroecuador-finish-contingency-work-sote-pipeline-tuesday-2023-02-28/', 'https://www.reuters.com/business/mental-health-startup-cerebral-lay-off-about-15-workforce-2023-02-28/', 'https://www.reuters.com/business/aerospace-defense/lockheeds-himars-plant-gearing-up-meet-demand-after-ukraine-success-2023-02-28/', 'https://www.reuters.com/world/americas/massive-forest-fires-rage-eastern-cuba-2023-02-27/', 'https://www.reuters.com/business/retail-consumer/australias-harvey-norman-slumps-lower-half-year-profit-2023-02-27/', 'https://www.reuters.com/legal/robinhood-says-sec-issued-subpoena-related-crypto-operations-2023-02-27/', 'https://www.reuters.com/world/americas/mexico-receives-us-request-extradite-son-druglord-chapo-guzman-sources-2023-02-27/', 'https://www.reuters.com/world/europe/russia-will-not-resume-start-nuclear-talks-until-washington-listens-moscow-2023-02-27/', 'https://www.reuters.com/legal/legalindustry/california-panel-wants-state-keep-bar-exam-design-its-own-test-2023-02-27/', 'https://www.reuters.com/world/us/yes-joe-biden-plans-run-president-again-wife-jill-says-2023-02-27/', 'https://www.reuters.com/world/americas/mexican-restaurant-operator-alsea-sees-profit-dip-due-higher-taxes-2023-02-27/', 'https://www.reuters.com/world/europe/tiktok-suffers-another-blow-with-european-commissions-ban-2023-02-24/', 'https://www.reuters.com/world/ecuador-belgium-sign-deal-fight-crime-after-mega-cocaine-bust-2023-02-27/', 'https://www.reuters.com/legal/tesla-musk-sued-by-shareholders-over-self-driving-safety-claims-2023-02-27/', 'https://www.reuters.com/markets/asia/bojs-wakatabe-warns-secular-stagnation-risk-has-yet-pass-2023-02-27/', 'https://www.reuters.com/world/europe/us-treasurys-yellen-makes-surprise-visit-ukraine-push-economic-aid-2023-02-27/', 'https://www.reuters.com/legal/legalindustry/law-firms-dial-back-summer-associate-hiring-amid-legal-market-slowdown-2023-02-27/', 'https://www.reuters.com/business/aerospace-defense/japans-ispace-track-late-april-touchdown-attempt-private-moon-lander-2023-02-27/', 'https://www.reuters.com/world/asia-pacific/north-koreas-kim-calls-agriculture-reform-amid-food-shortage-woes-2023-02-27/', 'https://www.reuters.com/lifestyle/sports/late-luis-alberto-goal-lifts-lazio-into-top-four-after-sampdoria-win-2023-02-27/', 'https://www.reuters.com/lifestyle/sports/messi-named-fifa-player-2022-england-women-rewarded-euro-campaign-2023-02-27/', 'https://www.reuters.com/world/us/us-senate-leader-schumer-norfolk-southern-chief-should-testify-ohio-train-wreck-2023-02-27/']\n"
     ]
    }
   ],
   "source": [
    "news_urls = [_['loc'] for _ in news_dict['urlset']['url']]\n",
    "print(news_urls)"
   ]
  },
  {
   "cell_type": "code",
   "execution_count": 64,
   "id": "a414b8fd-e05b-410b-a13b-3967baf2ac38",
   "metadata": {},
   "outputs": [
    {
     "name": "stdout",
     "output_type": "stream",
     "text": [
      "CPU times: total: 125 ms\n",
      "Wall time: 1.96 s\n"
     ]
    }
   ],
   "source": [
    "%%time\n",
    "#datas 폴더에 new_urls의 html파일들을 가져옴(스크래핑)\n",
    "#session 추상화\n",
    "session = requests.Session()\n",
    "\n",
    "#앞의 5개의 링크만 가져와봅시다\n",
    "for url in news_urls[:5]:\n",
    "    file = url.split(\"/\")[-2] + '.html'\n",
    "    \n",
    "    response = session.get(url)\n",
    "    if response.ok:\n",
    "        with open(\"datas/\"+file, \"w+b\") as f:\n",
    "            f.write(response.text.encode('utf-8'))\n",
    "    else:\n",
    "        print(f\"error widh URL : {URL}\")"
   ]
  },
  {
   "cell_type": "markdown",
   "id": "7b8070ba-7d63-434c-a5da-137358af089d",
   "metadata": {},
   "source": [
    "## 파일 사용하기"
   ]
  },
  {
   "cell_type": "code",
   "execution_count": 2,
   "id": "47956ab4-6bfd-44bf-9650-8ee5bb4cec22",
   "metadata": {},
   "outputs": [],
   "source": [
    "#filename.txt 파일을 쓰기 모드로(w)로 열기. open() 함수는 파일 객체 반환\n",
    "file = open('filename.txt','w')\n",
    "\n",
    "#파일 객체의 write() 매서드를 통해 문자열을 파일에 쓸 수 있습니다\n",
    "file.write('파일에 작성할 문자열')\n",
    "\n",
    "#파일에 대한 처리가 끝났으면 파일을 닫아줘야 합니다\n",
    "file.close()"
   ]
  },
  {
   "cell_type": "code",
   "execution_count": 3,
   "id": "3d162a40-ff83-40a1-8893-c4b77d885fc0",
   "metadata": {},
   "outputs": [],
   "source": [
    "#close에 대한 처리 없이 간편히 쓰려면 with를 활용할 수 있습니다.\n",
    "#위의 코드와 동일한 동작을 수행합니다.\n",
    "with open('filename.txt', 'w') as file:\n",
    "    file.write('파일에 작성할 문자열')"
   ]
  },
  {
   "cell_type": "code",
   "execution_count": 4,
   "id": "c6b59440-6550-46fa-b260-4c3693f71d98",
   "metadata": {},
   "outputs": [
    {
     "name": "stdout",
     "output_type": "stream",
     "text": [
      "파일에 작성할 문자열\n"
     ]
    }
   ],
   "source": [
    "#파일 읽어오기\n",
    "with open('filename.txt', 'r') as file:\n",
    "    print(file.read())"
   ]
  },
  {
   "cell_type": "code",
   "execution_count": 5,
   "id": "9a249d8c-dc16-4c62-b734-abcfd34b954a",
   "metadata": {},
   "outputs": [
    {
     "data": {
      "text/plain": [
       "['./datas/.ipynb_checkpoints',\n",
       " './datas/bayer-sees-lower-2023-operating-profit-cost-inflation-2023-02-28.html',\n",
       " './datas/england-captain-stokes-has-no-regrets-over-follow-on-2023-02-28.html',\n",
       " './datas/global-markets-view-europe-2023-02-28.html',\n",
       " './datas/home-zara-fast-slow-fashion-collide-2023-02-28.html',\n",
       " './datas/oaktree-capital-seeks-raise-10-billion-new-fund-ft-2023-02-28.html']"
      ]
     },
     "execution_count": 5,
     "metadata": {},
     "output_type": "execute_result"
    }
   ],
   "source": [
    "import os\n",
    "path = './datas/'\n",
    "files = [path + file for file in os.listdir(path)]\n",
    "files"
   ]
  },
  {
   "cell_type": "code",
   "execution_count": 6,
   "id": "b4074dde-f6a4-4f2d-a753-2e9ca7a6fb29",
   "metadata": {},
   "outputs": [],
   "source": [
    "with open(files[1], \"r\", encoding='utf-8') as f:#두번째파일을 불러와서\n",
    "    html = f.read() #html변수에 담음"
   ]
  },
  {
   "cell_type": "markdown",
   "id": "f158427b-ce0b-4a5b-93e6-b69aa454850c",
   "metadata": {},
   "source": [
    "## 기사 헤드라인 추출하기"
   ]
  },
  {
   "cell_type": "code",
   "execution_count": 7,
   "id": "5c1bf4d1-4f24-4c1e-9e0d-c67d09c5de7c",
   "metadata": {},
   "outputs": [
    {
     "name": "stdout",
     "output_type": "stream",
     "text": [
      "Bayer sees lower 2023 operating profit on cost inflation\n"
     ]
    }
   ],
   "source": [
    "#BeaurifulSoup == HTML을 파싱하는데 필요한 모듈 첫번째 인수로 파싱할 대상인 mark up 을 두번째 인수로 무엇을 기준으로 파싱할지 파서의 종류(\"html.parser\",\"lxml\",\"xml\"등등)를 적습니다\n",
    "#웹상에서 가져올 기사의 기사제목을 f12 -> ctrl+shift+c로 개발자모드로 가서 copy-> copy selector로 가져왔음\n",
    "from bs4 import BeautifulSoup\n",
    "soup = BeautifulSoup(html, 'html.parser')\n",
    "title = soup.select_one(\"#main-content > article > div.article__main__33WV2 > div.article__content__6hMn9 > header > div > div > h1\")\n",
    "print(title.text)"
   ]
  },
  {
   "cell_type": "code",
   "execution_count": 8,
   "id": "342f2db3-38e4-4303-841d-012fe87655eb",
   "metadata": {},
   "outputs": [],
   "source": [
    "#기사제목은 ==> <h1>텍스트</h1>형태로 주어짐"
   ]
  },
  {
   "cell_type": "code",
   "execution_count": 9,
   "id": "9c1dacc1-5518-4e6f-9258-4e451a29f87c",
   "metadata": {},
   "outputs": [
    {
     "data": {
      "text/plain": [
       "<h1 class=\"text__text__1FZLe text__dark-grey__3Ml43 text__medium__1kbOh text__heading_3__1kDhc heading__base__2T28j heading__heading_3__3aL54 article-header__title__3Y2hh\" data-testid=\"Heading\">Bayer sees lower 2023 operating profit on cost inflation</h1>"
      ]
     },
     "execution_count": 9,
     "metadata": {},
     "output_type": "execute_result"
    }
   ],
   "source": [
    "soup.h1 # soup.h1을 조회하면 <h1> 태그에 해당하는 객체를 가져올 수 있으며,"
   ]
  },
  {
   "cell_type": "code",
   "execution_count": 10,
   "id": "ca0cbc19-329e-45e5-b4db-3eaddeb8e595",
   "metadata": {},
   "outputs": [
    {
     "data": {
      "text/plain": [
       "'Bayer sees lower 2023 operating profit on cost inflation | Reuters'"
      ]
     },
     "execution_count": 10,
     "metadata": {},
     "output_type": "execute_result"
    }
   ],
   "source": [
    "soup.title.text #sou.title.text라고 하면 <h1> 태그 사이에 있는 텍스트 값을 가져올 수 있습니다"
   ]
  },
  {
   "cell_type": "code",
   "execution_count": null,
   "id": "07a1d28f-34d5-47d8-952f-c55493bebadc",
   "metadata": {},
   "outputs": [],
   "source": [
    "#본문기사중 부분내용 선택해서 가져오기  \n",
    "#<p>text</p>형태로 가지고있음"
   ]
  },
  {
   "cell_type": "code",
   "execution_count": 14,
   "id": "2200c8ba-f30b-49bd-a551-ca96a9731f66",
   "metadata": {},
   "outputs": [
    {
     "data": {
      "text/plain": [
       "\"FRANKFURT, Feb 28 (Reuters) - Agriculture and healthcare company Bayer (BAYGn.DE) said operating earnings would likely decline in 2023, hurt by higher costs and the reversal of last year's price boost for its glyphosate-based weedkillers.\""
      ]
     },
     "execution_count": 14,
     "metadata": {},
     "output_type": "execute_result"
    }
   ],
   "source": [
    "#selector copy --> soup.select_one을 이용해 가져왔음\n",
    "soup.select_one(\"#main-content > article > div.article__main__33WV2 > div.article__content__6hMn9 > div > div > div.article-body__content__17Yit.paywall-article > p:nth-child(2)\").text"
   ]
  },
  {
   "cell_type": "markdown",
   "id": "0a196338-9bb3-475b-8b95-fe90be3a915d",
   "metadata": {},
   "source": [
    "## URL 추출\n",
    "많은 HTML 파일을 다운로드할 때 파일의 원본 URL을 별도로 저장하지 않으면 나중에 찾기 어렵습니다.  \n",
    "일반적으로 표준 URL(canonical URL)을 사용해서 값을 관리하는 것이 좋습니다  \n",
    "이 용도에 맞는 태그가 별도로 존재하는데 '<'link rel=\"canonical\"'>'이라고 사용됩니다"
   ]
  },
  {
   "cell_type": "code",
   "execution_count": 19,
   "id": "19dd3aa5-e018-4aa9-92bb-48ff2dcfa8dd",
   "metadata": {},
   "outputs": [
    {
     "data": {
      "text/plain": [
       "'https://www.reuters.com/business/bayer-sees-lower-2023-operating-profit-cost-inflation-2023-02-28/'"
      ]
     },
     "execution_count": 19,
     "metadata": {},
     "output_type": "execute_result"
    }
   ],
   "source": [
    "soup.find(\"link\", {\"rel\": \"canonical\"})[\"href\"]"
   ]
  },
  {
   "cell_type": "code",
   "execution_count": null,
   "id": "d6097737-d03f-496b-a2e5-895f2d0a5bad",
   "metadata": {},
   "outputs": [],
   "source": []
  }
 ],
 "metadata": {
  "kernelspec": {
   "display_name": "Python 3 (ipykernel)",
   "language": "python",
   "name": "python3"
  },
  "language_info": {
   "codemirror_mode": {
    "name": "ipython",
    "version": 3
   },
   "file_extension": ".py",
   "mimetype": "text/x-python",
   "name": "python",
   "nbconvert_exporter": "python",
   "pygments_lexer": "ipython3",
   "version": "3.9.12"
  }
 },
 "nbformat": 4,
 "nbformat_minor": 5
}
