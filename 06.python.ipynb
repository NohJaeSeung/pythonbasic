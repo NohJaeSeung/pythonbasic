{
 "cells": [
  {
   "cell_type": "markdown",
   "id": "8c6946d9-29f8-4fac-bdf4-53cfd650925f",
   "metadata": {},
   "source": [
    "# define(함수)"
   ]
  },
  {
   "cell_type": "code",
   "execution_count": 112,
   "id": "a7d6e012-5935-4bca-97d8-94cd2baa1276",
   "metadata": {},
   "outputs": [],
   "source": [
    "def print_ten(some_str):\n",
    "    \"\"\"print(hello)를 n번 출력합니다.\"\"\"\n",
    "    for i in range(10):\n",
    "        print(some_str)"
   ]
  },
  {
   "cell_type": "code",
   "execution_count": 113,
   "id": "fc70ec4f-ae61-45c1-b0e1-66141a6748d4",
   "metadata": {},
   "outputs": [
    {
     "name": "stdout",
     "output_type": "stream",
     "text": [
      "hello\n",
      "hello\n",
      "hello\n",
      "hello\n",
      "hello\n",
      "hello\n",
      "hello\n",
      "hello\n",
      "hello\n",
      "hello\n"
     ]
    }
   ],
   "source": [
    "print_ten(\"hello\")"
   ]
  },
  {
   "cell_type": "code",
   "execution_count": 103,
   "id": "7f11e438-c49b-4a4c-9a46-f1c714251c8b",
   "metadata": {},
   "outputs": [
    {
     "name": "stdout",
     "output_type": "stream",
     "text": [
      "print(hello)를 n번 출력합니다.\n"
     ]
    }
   ],
   "source": [
    "print(print_ten.__doc__)"
   ]
  },
  {
   "cell_type": "code",
   "execution_count": 110,
   "id": "2ecffd47-8a45-49ab-b66d-8a23edd2f1a8",
   "metadata": {},
   "outputs": [
    {
     "name": "stdout",
     "output_type": "stream",
     "text": [
      "print(value, ..., sep=' ', end='\\n', file=sys.stdout, flush=False)\n",
      "\n",
      "Prints the values to a stream, or to sys.stdout by default.\n",
      "Optional keyword arguments:\n",
      "file:  a file-like object (stream); defaults to the current sys.stdout.\n",
      "sep:   string inserted between values, default a space.\n",
      "end:   string appended after the last value, default a newline.\n",
      "flush: whether to forcibly flush the stream.\n"
     ]
    }
   ],
   "source": [
    "print(print.__doc__)"
   ]
  },
  {
   "cell_type": "markdown",
   "id": "9a0ffe0d-6ead-4977-8529-2cd53a51cf54",
   "metadata": {},
   "source": [
    "## 함수의 정의 - 인자(parameter)\n",
    "\n",
    "-- 인자의 종류 --  \n",
    "1.위치-키워드 : 위치로 혹은 키워드로 전달될 수 있는 인자, 매개변수의 기본 형태  \n",
    "2.위치 전용 : /문자를 기준으로 좌측에 위치한 인자  \n",
    "3.키워드 전용 : * 문자를 기준으로 우측에 위치한 인자  \n",
    "4.가변 위치 : 위치 매개변수 외에 추가적인 위치 매개변수를 개수에 상관없이 받을 수 있음, 변수명 앞에 *를 붙여 표기  \n",
    "5.가변 키워드 : 키워드 매개변수 외에 추가적인 키워드 매개변수를 개수에 상관없이 받을 수 있음, 변수명 앞에 ** 를 붙여 표기"
   ]
  },
  {
   "cell_type": "code",
   "execution_count": 114,
   "id": "0921de46-ed3b-4da5-9ec8-dd69579e68a1",
   "metadata": {},
   "outputs": [],
   "source": [
    "def greeting(name,age):\n",
    "    print(f\"{name} 씨 안녕하세요. 약 {age *365.25}일 되었습니다.\")"
   ]
  },
  {
   "cell_type": "code",
   "execution_count": 115,
   "id": "a6b5409b-6f4a-46da-b389-6e5a9a41064a",
   "metadata": {},
   "outputs": [
    {
     "name": "stdout",
     "output_type": "stream",
     "text": [
      "파이썬 씨 안녕하세요. 약 11688.0일 되었습니다.\n"
     ]
    }
   ],
   "source": [
    "#위치 인수만으로 호출 (순서가 중요!)\n",
    "greeting(\"파이썬\",32)"
   ]
  },
  {
   "cell_type": "code",
   "execution_count": 118,
   "id": "2be6dd06-ff67-427c-8723-5953ea91daa3",
   "metadata": {},
   "outputs": [
    {
     "name": "stdout",
     "output_type": "stream",
     "text": [
      "파이썬 씨 안녕하세요. 약 11688.0일 되었습니다.\n"
     ]
    }
   ],
   "source": [
    "#키워드 인수만으로 호출\n",
    "greeting(name=\"파이썬\",age=32)"
   ]
  },
  {
   "cell_type": "code",
   "execution_count": 116,
   "id": "6bafc81d-a222-4504-8512-e5129c9bc1cd",
   "metadata": {},
   "outputs": [
    {
     "name": "stdout",
     "output_type": "stream",
     "text": [
      "파이썬 씨 안녕하세요. 약 11688.0일 되었습니다.\n"
     ]
    }
   ],
   "source": [
    "#위치 인수와 키워드 인수로 호출, 위치 인수가 키워드 인수보다 먼저! 위치해야 함\n",
    "greeting(\"파이썬\", age=32)"
   ]
  },
  {
   "cell_type": "code",
   "execution_count": 117,
   "id": "b6002b8d-1b86-409d-a50d-a68d44af5b58",
   "metadata": {},
   "outputs": [
    {
     "name": "stdout",
     "output_type": "stream",
     "text": [
      "파이썬 씨 안녕하세요. 약 11688.0일 되었습니다.\n"
     ]
    }
   ],
   "source": [
    "#키워드 인수만으로 호출시 순서는 상관X\n",
    "greeting(age=32, name=\"파이썬\")"
   ]
  },
  {
   "cell_type": "code",
   "execution_count": 119,
   "id": "2efefc75-f352-40e4-990e-774ab5699f88",
   "metadata": {},
   "outputs": [
    {
     "ename": "SyntaxError",
     "evalue": "non-default argument follows default argument (3265332727.py, line 1)",
     "output_type": "error",
     "traceback": [
      "\u001b[1;36m  Input \u001b[1;32mIn [119]\u001b[1;36m\u001b[0m\n\u001b[1;33m    def greeting(name=\"default\",age):\u001b[0m\n\u001b[1;37m                                   ^\u001b[0m\n\u001b[1;31mSyntaxError\u001b[0m\u001b[1;31m:\u001b[0m non-default argument follows default argument\n"
     ]
    }
   ],
   "source": [
    "#default파라미터는 non-default파라미터 뒤에 와야함\n",
    "def greeting(name=\"default\",age):\n",
    "    print(f\"{name} 씨 안녕하세요. 약 {age *365.25}일 되었습니다.\")"
   ]
  },
  {
   "cell_type": "code",
   "execution_count": 121,
   "id": "86ccbff8-62cb-4938-ab1b-711528b6f94c",
   "metadata": {},
   "outputs": [],
   "source": [
    "def greeting(age,name=\"default\"):\n",
    "    print(f\"{name} 씨 안녕하세요. 약 {age *365.25}일 되었습니다.\")"
   ]
  },
  {
   "cell_type": "code",
   "execution_count": 124,
   "id": "69b58478-fdb9-46cd-8f99-038beb8b1596",
   "metadata": {},
   "outputs": [
    {
     "name": "stdout",
     "output_type": "stream",
     "text": [
      "파이썬 씨 안녕하세요. 약 11688.0일 되었습니다.\n"
     ]
    }
   ],
   "source": [
    "#default값이 있는 경우 생략가능\n",
    "def greeting(name,age=32):\n",
    "    print(f\"{name} 씨 안녕하세요. 약 {age *365.25}일 되었습니다.\")\n",
    "greeting(\"파이썬\")"
   ]
  },
  {
   "cell_type": "code",
   "execution_count": 126,
   "id": "1dcb2ed6-7cf0-425a-967a-005351396b73",
   "metadata": {},
   "outputs": [
    {
     "name": "stdout",
     "output_type": "stream",
     "text": [
      "값만 입력해야 합니다\n"
     ]
    }
   ],
   "source": [
    "#2.위치 전용 인자 ==> /를 넣어 좌측부분을 위치 전용 인자로 선언\n",
    "def posonly(posonly, /):\n",
    "    print(posonly)\n",
    "posonly(\"값만 입력해야 합니다\")"
   ]
  },
  {
   "cell_type": "code",
   "execution_count": 127,
   "id": "446db99c-574b-458f-a450-55c9c354d04a",
   "metadata": {},
   "outputs": [
    {
     "ename": "TypeError",
     "evalue": "posonly() got some positional-only arguments passed as keyword arguments: 'posonly'",
     "output_type": "error",
     "traceback": [
      "\u001b[1;31m---------------------------------------------------------------------------\u001b[0m",
      "\u001b[1;31mTypeError\u001b[0m                                 Traceback (most recent call last)",
      "Input \u001b[1;32mIn [127]\u001b[0m, in \u001b[0;36m<cell line: 2>\u001b[1;34m()\u001b[0m\n\u001b[0;32m      1\u001b[0m \u001b[38;5;66;03m#키원드 인수로 전달하면 오류 발생\u001b[39;00m\n\u001b[1;32m----> 2\u001b[0m \u001b[43mposonly\u001b[49m\u001b[43m(\u001b[49m\u001b[43mposonly\u001b[49m\u001b[43m \u001b[49m\u001b[38;5;241;43m=\u001b[39;49m\u001b[43m \u001b[49m\u001b[38;5;124;43m\"\u001b[39;49m\u001b[38;5;124;43m키워드 인수로 전달하면 오류 발생!\u001b[39;49m\u001b[38;5;124;43m\"\u001b[39;49m\u001b[43m)\u001b[49m\n",
      "\u001b[1;31mTypeError\u001b[0m: posonly() got some positional-only arguments passed as keyword arguments: 'posonly'"
     ]
    }
   ],
   "source": [
    "#3.키워드 전용 인자 ==> 키워드 인수로 전달하면 오류 발생\n",
    "posonly(posonly = \"키워드 인수로 전달하면 오류 발생!\")"
   ]
  },
  {
   "cell_type": "code",
   "execution_count": 128,
   "id": "26c454b5-bd8e-4427-9510-1cdb9623d519",
   "metadata": {},
   "outputs": [
    {
     "name": "stdout",
     "output_type": "stream",
     "text": [
      "키워드로만 입력해야 합니다.\n"
     ]
    }
   ],
   "source": [
    "def keyonly(*, keyonly):\n",
    "    print(keyonly)\n",
    "keyonly(keyonly=\"키워드로만 입력해야 합니다.\")"
   ]
  },
  {
   "cell_type": "code",
   "execution_count": 129,
   "id": "0efbe5e9-4f8f-4673-a27c-0dc6a7d57919",
   "metadata": {},
   "outputs": [
    {
     "name": "stdout",
     "output_type": "stream",
     "text": [
      "<class 'tuple'>\n",
      "15\n"
     ]
    }
   ],
   "source": [
    "#4.가변-위치 인자(명시된 인자 외에 추가적으로 위치 인수를 개수에 상관없이 유연하게 전달 받을 수 있음)\n",
    "def var_positional(*args):\n",
    "    print(type(args))#가변인수를 튜플로 packing한 뒤 전달\n",
    "    return sum([_ for _ in args])\n",
    "print(var_positional(1,2,3,4,5))"
   ]
  },
  {
   "cell_type": "code",
   "execution_count": 132,
   "id": "c88ee7e6-6e2c-4a29-985c-083bc0d42836",
   "metadata": {},
   "outputs": [
    {
     "name": "stdout",
     "output_type": "stream",
     "text": [
      "<class 'dict'>\n",
      "{'key': 'value', 'key2': 'value2'}\n"
     ]
    }
   ],
   "source": [
    "#5.가변 키워드 인자 ==> 명시된 인자 외에 추가적으로 키워드 인수를 개수에 상관없이 유연하게 전달 받을 수 있음\n",
    "def var_keyword(**kargs):\n",
    "    print(type(kargs))\n",
    "    return kargs\n",
    "print(var_keyword(key=\"value\", key2=\"value2\"))"
   ]
  },
  {
   "cell_type": "code",
   "execution_count": 145,
   "id": "59a77292-5ab5-4191-92d5-e64b81559351",
   "metadata": {},
   "outputs": [
    {
     "data": {
      "text/plain": [
       "80"
      ]
     },
     "execution_count": 145,
     "metadata": {},
     "output_type": "execute_result"
    }
   ],
   "source": [
    "def plus_ten(n):\n",
    "    result = n+10\n",
    "    return result\n",
    "plus_ten(70)"
   ]
  },
  {
   "cell_type": "code",
   "execution_count": 160,
   "id": "afebeb4a-cff4-4626-a87b-1e0964180617",
   "metadata": {},
   "outputs": [
    {
     "name": "stdout",
     "output_type": "stream",
     "text": [
      "21.11111111111111\n"
     ]
    }
   ],
   "source": [
    "def to_celsius(fahrenheit):\n",
    "    C = (fahrenheit-32)*5/9\n",
    "    return C\n",
    "print(to_celsius(70))"
   ]
  },
  {
   "cell_type": "code",
   "execution_count": 225,
   "id": "14cf6d09-044d-446f-87b5-39b579dc9b5b",
   "metadata": {},
   "outputs": [],
   "source": [
    "def odd_even(number):\n",
    "    \"number가 짝수면 \\\"짝수\\\", 홀수면 \\\"홀수\\\" 반환\"\n",
    "    if type(number) is not int or number ==0:\n",
    "        return\n",
    "    else:\n",
    "        return \"짝수\" * (number % 2 ==0) or \"홀수\"\n",
    "    #짝수 일 때 number %2 ==0 이 True가 돼서 1로 입력됨 ==>\"짝수\" 반환\n",
    "    #홀수 일 때 False 되어서 뒤에 \"홀수\"반환"
   ]
  },
  {
   "cell_type": "code",
   "execution_count": 226,
   "id": "1756e82f-0b22-4258-85ff-efe78b1ebaad",
   "metadata": {},
   "outputs": [
    {
     "name": "stdout",
     "output_type": "stream",
     "text": [
      "number가 짝수면 \"짝수\", 홀수면 \"홀수\" 반환\n",
      "짝수\n",
      "홀수\n",
      "None\n"
     ]
    }
   ],
   "source": [
    "print(odd_even.__doc__)\n",
    "print(odd_even(10))\n",
    "print(odd_even(9))\n",
    "print(odd_even(\"가\"))"
   ]
  },
  {
   "cell_type": "markdown",
   "id": "0906b13b-b56b-4797-8f88-55a95b491d3f",
   "metadata": {},
   "source": [
    "### 문자열 입력해서 자연수로 변환 가능 여부 판별  \n",
    "* .isdigit() ==>단일 글자가 '숫자' 모양으로 생겼으면 무조건 True를 반환하는 함수  \n",
    "* .isdecimal() ==> 주어진 문자열이 int형으로 변환이 가능한지 알아내는 함수  \n",
    "* .isnumeric() ==>숫자값 표현에 해당하는 문자열까지 인정한다. 제곱근 및 분수, 거듭제곱 특수문자도 isnumeric() 함수는 True를 반환"
   ]
  },
  {
   "cell_type": "code",
   "execution_count": 239,
   "id": "ac86faa8-3983-4cab-bda3-78795c897869",
   "metadata": {},
   "outputs": [
    {
     "name": "stdout",
     "output_type": "stream",
     "text": [
      "반환 값: \"윤년\"\n",
      "반환 값: \"윤년\"\n",
      "반환 값: \"평년\"\n"
     ]
    }
   ],
   "source": [
    "def check_leap_year(n):\n",
    "    if n % 4 != 0 or (n %100 == 0 and n % 400 != 0):\n",
    "        return \"평년\"\n",
    "    else:\n",
    "        return \"윤년\"\n",
    "print(\"반환 값: \\\"\"+check_leap_year(2004)+\"\\\"\")\n",
    "print(\"반환 값: \\\"\"+check_leap_year(2000)+\"\\\"\")\n",
    "print(\"반환 값: \\\"\"+check_leap_year(1900)+\"\\\"\")"
   ]
  },
  {
   "cell_type": "code",
   "execution_count": 243,
   "id": "29be9f34-32ad-4efb-9e47-9d3f7017500e",
   "metadata": {},
   "outputs": [
    {
     "name": "stdout",
     "output_type": "stream",
     "text": [
      "반환 값: 30\n",
      "반환 값: 28\n",
      "반환 값: 31\n"
     ]
    }
   ],
   "source": [
    "def days(month):\n",
    "    if month == 2:\n",
    "        return 28\n",
    "    elif month in [4,6,9,11]:\n",
    "        return 30\n",
    "    else:\n",
    "        return 31\n",
    "print(\"반환 값:\",days(11))\n",
    "print(\"반환 값:\",days(2))\n",
    "print(\"반환 값:\",days(1))"
   ]
  },
  {
   "cell_type": "code",
   "execution_count": 251,
   "id": "62135bfa-469d-4e02-98c2-66f91843045a",
   "metadata": {},
   "outputs": [
    {
     "name": "stdout",
     "output_type": "stream",
     "text": [
      "반환 값: 30\n",
      "반환 값: 31\n",
      "반환 값: 28\n",
      "반환 값: 29\n"
     ]
    }
   ],
   "source": [
    "def days(year,month):\n",
    "    if month in [4,6,9,11]:\n",
    "        return 30\n",
    "    elif month in [1,3,5,7,8,10,12]:\n",
    "        return 31\n",
    "    else:\n",
    "        if year % 4 != 0 or (year %100 == 0 and year % 400 != 0):#평년일떼\n",
    "            return 28\n",
    "        else:\n",
    "            return 29\n",
    "print(\"반환 값:\",days(1900,11))\n",
    "print(\"반환 값:\",days(2004,10))\n",
    "print(\"반환 값:\",days(1900,2))\n",
    "print(\"반환 값:\",days(2000,2))"
   ]
  },
  {
   "cell_type": "markdown",
   "id": "c5d446d1-4ff0-4d18-8b8b-344016582e0a",
   "metadata": {},
   "source": [
    "### 조건표현식(conditional Expression), inline if else\n",
    "\n",
    "True일때 값 if 조건식 else False일때 값"
   ]
  },
  {
   "cell_type": "code",
   "execution_count": 2,
   "id": "e4f9411f-d806-4602-bcd6-e57a1b5879b1",
   "metadata": {},
   "outputs": [
    {
     "data": {
      "text/plain": [
       "'C'"
      ]
     },
     "execution_count": 2,
     "metadata": {},
     "output_type": "execute_result"
    }
   ],
   "source": [
    "score = 70\n",
    "'A' if 90<score<=100 else 'B' if 80<score else 'C'"
   ]
  },
  {
   "cell_type": "markdown",
   "id": "adb9679c-f721-4cbd-9da4-afaae1f15e25",
   "metadata": {},
   "source": [
    "### 람다(lambda) feat. map()  \n",
    "표현 : map(lambda parameter1,parameter2, ...:expression, iterable1,iterable2,...))"
   ]
  },
  {
   "cell_type": "code",
   "execution_count": 8,
   "id": "b900cbca-ef56-46f6-bfc4-b183cd3cb283",
   "metadata": {},
   "outputs": [
    {
     "name": "stdout",
     "output_type": "stream",
     "text": [
      "[2, 5, 8, 11, 14]\n"
     ]
    }
   ],
   "source": [
    "a = list(range(1,6))\n",
    "b = list(range(1,10,2))\n",
    "print(list(map(lambda x,y: x+y, a,b)))"
   ]
  },
  {
   "cell_type": "markdown",
   "id": "1f81afd7-75fd-44a2-9f98-341cce8f068c",
   "metadata": {},
   "source": [
    "### 람다(lambda) feat. filter()  \n",
    "표현 : filter(lambda parameter1,parameter2, ...:expression, iterable1,iterable2,...))"
   ]
  },
  {
   "cell_type": "code",
   "execution_count": 3,
   "id": "93c792d3-95e7-4154-905e-c2b2939f7b62",
   "metadata": {},
   "outputs": [
    {
     "data": {
      "text/plain": [
       "[3, 9, 9]"
      ]
     },
     "execution_count": 3,
     "metadata": {},
     "output_type": "execute_result"
    }
   ],
   "source": [
    "a = [3,2,8,22,10,7,0,11,9,9]\n",
    "list(filter(lambda x: x% 3 == 0 and 0< x< 10,a))"
   ]
  },
  {
   "cell_type": "code",
   "execution_count": 19,
   "id": "52798af6-e203-44e8-b9eb-147053ad1e15",
   "metadata": {},
   "outputs": [
    {
     "name": "stdout",
     "output_type": "stream",
     "text": [
      "hello\n"
     ]
    }
   ],
   "source": [
    "#클래스 속성 만들기\n",
    "class Person:\n",
    "    def __init__(self):\n",
    "        self.hello = \"안녕하세요\"\n",
    "    def greeting(self):\n",
    "        print('hello')     \n",
    "        \n",
    "a = Person()\n",
    "a.greeting()"
   ]
  },
  {
   "cell_type": "code",
   "execution_count": null,
   "id": "bf55388b-cf3c-4679-9c3a-45edd8486c71",
   "metadata": {},
   "outputs": [],
   "source": []
  },
  {
   "cell_type": "code",
   "execution_count": null,
   "id": "a9bb46ed-9e16-4f93-bd9b-b66a323d7887",
   "metadata": {},
   "outputs": [],
   "source": []
  }
 ],
 "metadata": {
  "kernelspec": {
   "display_name": "Python 3 (ipykernel)",
   "language": "python",
   "name": "python3"
  },
  "language_info": {
   "codemirror_mode": {
    "name": "ipython",
    "version": 3
   },
   "file_extension": ".py",
   "mimetype": "text/x-python",
   "name": "python",
   "nbconvert_exporter": "python",
   "pygments_lexer": "ipython3",
   "version": "3.9.12"
  }
 },
 "nbformat": 4,
 "nbformat_minor": 5
}
