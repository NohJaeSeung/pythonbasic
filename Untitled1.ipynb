{
 "cells": [
  {
   "cell_type": "code",
   "execution_count": null,
   "id": "d20161b0-3917-4e47-9f22-0eb4eb2548e1",
   "metadata": {},
   "outputs": [],
   "source": [
    "서비스키:rKz9S1pKRro%2Fr%2BGE1iLbi9lBVMjoDBReLLFF0cvPwD9drJsvM11pOiChKnp6Daaq6dsShMtugjvWZedB6GPi0Q%3D%3D"
   ]
  },
  {
   "cell_type": "code",
   "execution_count": 11,
   "id": "21872d35-0112-481d-9aa3-d36db8a7dfd3",
   "metadata": {},
   "outputs": [
    {
     "name": "stdout",
     "output_type": "stream",
     "text": [
      "b'<?xml version=\"1.0\" encoding=\"UTF-8\" standalone=\"yes\"?><response><header><resultCode>99</resultCode><resultMsg>SERVICE KEY IS NOT REGISTERED ERROR.</resultMsg></header></response>'\n"
     ]
    }
   ],
   "source": [
    "import requests\n",
    "\n",
    "url = 'http://openapi.molit.go.kr:8081/OpenAPI_ToolInstallPackage/service/rest/RTMSOBJSvc/getRTMSDataSvcAptRent'\n",
    "params ={'serviceKey' : 'rKz9S1pKRro/r+GE1iLbi9lBVMjoDBReLLFF0cvPwD9drJsvM11pOiChKnp6Daaq6dsShMtugjvWZedB6GPi0Q==', 'LAWD_CD' : '11110', 'DEAL_YMD' : '201512' }\n",
    "\n",
    "response = requests.get(url, params=params)\n",
    "print(response.content)"
   ]
  },
  {
   "cell_type": "code",
   "execution_count": 4,
   "id": "b0d301be-00a3-4cc5-9ea3-ce24ca904d80",
   "metadata": {},
   "outputs": [
    {
     "name": "stdout",
     "output_type": "stream",
     "text": [
      "200\n"
     ]
    }
   ],
   "source": [
    "print(response.status_code)"
   ]
  },
  {
   "cell_type": "code",
   "execution_count": 2,
   "id": "848fb4c1-9799-4bef-97d8-570675037d51",
   "metadata": {},
   "outputs": [
    {
     "name": "stdout",
     "output_type": "stream",
     "text": [
      "인코딩: None\n",
      "콘텐츠 타입: application/xml\n",
      "서버: apache\n"
     ]
    }
   ],
   "source": [
    "#response에 대한 요소 확인\n",
    "print(f\"인코딩: {response.encoding}\")\n",
    "print(f\"콘텐츠 타입: {response.headers['Content-Type']}\")\n",
    "print(f\"서버: {response.headers['server']}\")"
   ]
  },
  {
   "cell_type": "code",
   "execution_count": 3,
   "id": "3cf16c4c-6200-4918-bd61-dbbd24823e0e",
   "metadata": {},
   "outputs": [
    {
     "data": {
      "text/plain": [
       "{'response': {'header': {'resultCode': '99',\n",
       "   'resultMsg': 'SERVICE KEY IS NOT REGISTERED ERROR.'}}}"
      ]
     },
     "execution_count": 3,
     "metadata": {},
     "output_type": "execute_result"
    }
   ],
   "source": [
    "import xmltodict\n",
    "data = xmltodict.parse(response.text)\n",
    "data"
   ]
  },
  {
   "cell_type": "code",
   "execution_count": null,
   "id": "d31a1fc0-759d-4eef-862d-7db9cca73b9a",
   "metadata": {},
   "outputs": [],
   "source": []
  }
 ],
 "metadata": {
  "kernelspec": {
   "display_name": "Python 3 (ipykernel)",
   "language": "python",
   "name": "python3"
  },
  "language_info": {
   "codemirror_mode": {
    "name": "ipython",
    "version": 3
   },
   "file_extension": ".py",
   "mimetype": "text/x-python",
   "name": "python",
   "nbconvert_exporter": "python",
   "pygments_lexer": "ipython3",
   "version": "3.9.12"
  }
 },
 "nbformat": 4,
 "nbformat_minor": 5
}
