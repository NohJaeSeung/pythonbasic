{
 "cells": [
  {
   "cell_type": "code",
   "execution_count": 1,
   "id": "9e7621e1-dd3e-45bf-964e-fe3d7544cc1c",
   "metadata": {},
   "outputs": [
    {
     "name": "stdout",
     "output_type": "stream",
     "text": [
      "world\n"
     ]
    }
   ],
   "source": [
    "#\n",
    "x = 1 #\n",
    "text=\"#이것은 주석이 아닙니다. 따옴표 안은 문자열 리터럴입니다.\""
   ]
  },
  {
   "cell_type": "code",
   "execution_count": 10,
   "id": "c4007342-b4ca-43e6-9744-feb26adbeb6d",
   "metadata": {},
   "outputs": [
    {
     "name": "stdout",
     "output_type": "stream",
     "text": [
      "Hello,world!\n",
      " Hello, world!\n",
      " Python Programming\n"
     ]
    }
   ],
   "source": [
    "print(\"Hello,world!\\n Hello, world!\\n Python Programming\")"
   ]
  },
  {
   "cell_type": "code",
   "execution_count": 1,
   "id": "63baf41b-2c9f-4ac3-bfe9-92b91b718c1b",
   "metadata": {},
   "outputs": [
    {
     "data": {
      "text/plain": [
       "89"
      ]
     },
     "execution_count": 1,
     "metadata": {},
     "output_type": "execute_result"
    }
   ],
   "source": [
    "13 + (22-3) *4"
   ]
  },
  {
   "cell_type": "code",
   "execution_count": 2,
   "id": "b80ed07e-3f4f-4b2f-9643-da238b0bcc1f",
   "metadata": {},
   "outputs": [
    {
     "data": {
      "text/plain": [
       "28.2"
      ]
     },
     "execution_count": 2,
     "metadata": {},
     "output_type": "execute_result"
    }
   ],
   "source": [
    "13 + ((22-3)*4)/5"
   ]
  },
  {
   "cell_type": "code",
   "execution_count": 3,
   "id": "5de08920-15ad-435b-ae1c-a40619d6dede",
   "metadata": {},
   "outputs": [
    {
     "data": {
      "text/plain": [
       "3"
      ]
     },
     "execution_count": 3,
     "metadata": {},
     "output_type": "execute_result"
    }
   ],
   "source": [
    "int(3.14)"
   ]
  },
  {
   "cell_type": "code",
   "execution_count": 5,
   "id": "64306514-b364-47cb-a618-935aba9edc94",
   "metadata": {},
   "outputs": [
    {
     "data": {
      "text/plain": [
       "7"
      ]
     },
     "execution_count": 5,
     "metadata": {},
     "output_type": "execute_result"
    }
   ],
   "source": [
    "int(0.2497*12+4.159)"
   ]
  },
  {
   "cell_type": "code",
   "execution_count": 6,
   "id": "1725085d-4f1f-4198-aa66-e84f7abafaee",
   "metadata": {},
   "outputs": [
    {
     "name": "stdout",
     "output_type": "stream",
     "text": [
      "가장 시끄러운 층은 = 7 층\n"
     ]
    }
   ],
   "source": [
    "print(\"가장 시끄러운 층은 =\",int(0.2497*12+4.159),\"층\")"
   ]
  },
  {
   "cell_type": "code",
   "execution_count": 9,
   "id": "a2c21881-bc15-45c2-8a78-cdd2338f675c",
   "metadata": {},
   "outputs": [
    {
     "name": "stdout",
     "output_type": "stream",
     "text": [
      "냉장고 가격은 1272000 원 입니다.\n"
     ]
    }
   ],
   "source": [
    "print(\"냉장고 가격은\",53000*24,\"원 입니다.\")"
   ]
  },
  {
   "cell_type": "code",
   "execution_count": 16,
   "id": "1924544d-baae-48a8-95db-1ca4a980a408",
   "metadata": {},
   "outputs": [
    {
     "name": "stdout",
     "output_type": "stream",
     "text": [
      "총 지불 해야 할 금액은 16500000 원 입니다.\n"
     ]
    }
   ],
   "source": [
    "people= 250\n",
    "tax = 1.1\n",
    "print(\"총 지불 해야 할 금액은\",int(people*20000*3*tax),'원 입니다.')"
   ]
  },
  {
   "cell_type": "code",
   "execution_count": 18,
   "id": "0cedb9d6-4880-4716-a6bc-a7a5064488dc",
   "metadata": {},
   "outputs": [
    {
     "data": {
      "text/plain": [
       "39"
      ]
     },
     "execution_count": 18,
     "metadata": {},
     "output_type": "execute_result"
    }
   ],
   "source": [
    "0b100111"
   ]
  },
  {
   "cell_type": "code",
   "execution_count": 19,
   "id": "063ff8a3-e70d-402e-81cc-211d99fa7bf9",
   "metadata": {},
   "outputs": [
    {
     "data": {
      "text/plain": [
       "'0b100111'"
      ]
     },
     "execution_count": 19,
     "metadata": {},
     "output_type": "execute_result"
    }
   ],
   "source": [
    "bin(39)"
   ]
  },
  {
   "cell_type": "code",
   "execution_count": 20,
   "id": "0a48ef09-e2ab-4e4d-9396-fa827a4b4f91",
   "metadata": {},
   "outputs": [
    {
     "data": {
      "text/plain": [
       "'0o172'"
      ]
     },
     "execution_count": 20,
     "metadata": {},
     "output_type": "execute_result"
    }
   ],
   "source": [
    "oct(122)"
   ]
  },
  {
   "cell_type": "code",
   "execution_count": 21,
   "id": "55cdd0ee-5524-4826-8063-9bac75351b57",
   "metadata": {},
   "outputs": [
    {
     "data": {
      "text/plain": [
       "122"
      ]
     },
     "execution_count": 21,
     "metadata": {},
     "output_type": "execute_result"
    }
   ],
   "source": [
    "0o172"
   ]
  },
  {
   "cell_type": "code",
   "execution_count": 22,
   "id": "8ee8e6dd-e91b-4d70-8037-99c72825e9a0",
   "metadata": {},
   "outputs": [
    {
     "data": {
      "text/plain": [
       "31"
      ]
     },
     "execution_count": 22,
     "metadata": {},
     "output_type": "execute_result"
    }
   ],
   "source": [
    "0x1f"
   ]
  },
  {
   "cell_type": "code",
   "execution_count": 23,
   "id": "40f8bed1-8807-486c-b3fe-bc3453ab4f13",
   "metadata": {},
   "outputs": [
    {
     "data": {
      "text/plain": [
       "'0x1f'"
      ]
     },
     "execution_count": 23,
     "metadata": {},
     "output_type": "execute_result"
    }
   ],
   "source": [
    "hex(31)"
   ]
  },
  {
   "cell_type": "code",
   "execution_count": 24,
   "id": "cb5b126f-7c81-4fc2-b2e9-b4f70d01145b",
   "metadata": {},
   "outputs": [
    {
     "data": {
      "text/plain": [
       "'0x78'"
      ]
     },
     "execution_count": 24,
     "metadata": {},
     "output_type": "execute_result"
    }
   ],
   "source": [
    "hex(120)"
   ]
  },
  {
   "cell_type": "code",
   "execution_count": 25,
   "id": "40d00ea3-fa74-40e8-a317-9ec5d9f0e3b9",
   "metadata": {},
   "outputs": [
    {
     "name": "stdout",
     "output_type": "stream",
     "text": [
      "453.0\n"
     ]
    }
   ],
   "source": [
    "AP = 380\n",
    "print(AP*0.6+225)"
   ]
  },
  {
   "cell_type": "code",
   "execution_count": 28,
   "id": "4b306f00-50df-460e-9b52-20bba8160dc2",
   "metadata": {},
   "outputs": [
    {
     "name": "stdout",
     "output_type": "stream",
     "text": [
      "20\n"
     ]
    }
   ],
   "source": [
    "a = 10\n",
    "a = a +10\n",
    "print(a)"
   ]
  },
  {
   "cell_type": "code",
   "execution_count": 30,
   "id": "0e7f0cb5-3eb6-40ad-8f81-6270641f0e93",
   "metadata": {},
   "outputs": [
    {
     "ename": "NameError",
     "evalue": "name 'a' is not defined",
     "output_type": "error",
     "traceback": [
      "\u001b[1;31m---------------------------------------------------------------------------\u001b[0m",
      "\u001b[1;31mNameError\u001b[0m                                 Traceback (most recent call last)",
      "\u001b[1;32m~\\AppData\\Local\\Temp\\ipykernel_12696\\1497285116.py\u001b[0m in \u001b[0;36m<module>\u001b[1;34m\u001b[0m\n\u001b[0;32m      1\u001b[0m \u001b[1;32mdel\u001b[0m \u001b[0ma\u001b[0m\u001b[1;33m\u001b[0m\u001b[1;33m\u001b[0m\u001b[0m\n\u001b[1;32m----> 2\u001b[1;33m \u001b[0mprint\u001b[0m\u001b[1;33m(\u001b[0m\u001b[0ma\u001b[0m\u001b[1;33m)\u001b[0m\u001b[1;33m\u001b[0m\u001b[1;33m\u001b[0m\u001b[0m\n\u001b[0m",
      "\u001b[1;31mNameError\u001b[0m: name 'a' is not defined"
     ]
    }
   ],
   "source": [
    "del a\n",
    "print(a)"
   ]
  },
  {
   "cell_type": "code",
   "execution_count": 36,
   "id": "f9b83230-d778-46cf-98b1-15346fda2c20",
   "metadata": {},
   "outputs": [
    {
     "name": "stdout",
     "output_type": "stream",
     "text": [
      "None\n"
     ]
    }
   ],
   "source": [
    "a= None\n",
    "print(a)"
   ]
  },
  {
   "cell_type": "code",
   "execution_count": 40,
   "id": "70f36951-f4cb-46f1-8de8-00cc1510f38d",
   "metadata": {},
   "outputs": [
    {
     "name": "stdout",
     "output_type": "stream",
     "text": [
      " \"안녕?\"이라는 그 인사를 듣고 나는 '누구지?'라고 생각했다.\n"
     ]
    }
   ],
   "source": [
    "print(\" \\\"안녕?\\\"이라는 그 인사를 듣고 나는 \\'누구지?\\'라고 생각했다.\")"
   ]
  },
  {
   "cell_type": "code",
   "execution_count": 5,
   "id": "ad877309-1085-478a-b5a6-7729d70c2699",
   "metadata": {},
   "outputs": [
    {
     "name": "stdout",
     "output_type": "stream",
     "text": [
      "안녕하세요.\n",
      "나는 파이썬을 공부하고 있습니다.\n",
      "반갑습니다.\n"
     ]
    }
   ],
   "source": [
    "s3 = \"\"\"\\\n",
    "안녕하세요.\n",
    "나는 파이썬을 공부하고 있습니다.\n",
    "반갑습니다.\\\n",
    "\"\"\"\n",
    "print(s3)"
   ]
  },
  {
   "cell_type": "code",
   "execution_count": 8,
   "id": "53a6c313-7a0b-4158-a777-12d980d2188a",
   "metadata": {},
   "outputs": [
    {
     "name": "stdout",
     "output_type": "stream",
     "text": [
      "\n",
      "\"안녕하세요.\"\n",
      "나는 파이썬을 공부하고 있습니다.\n",
      "반갑습니다.\n"
     ]
    }
   ],
   "source": [
    "s3 = \"\"\"\n",
    "\"안녕하세요.\"\n",
    "나는 파이썬을 공부하고 있습니다.\n",
    "반갑습니다.\\\n",
    "\"\"\"\n",
    "print(s3)"
   ]
  },
  {
   "cell_type": "code",
   "execution_count": 7,
   "id": "275a8c62-3eb9-49a5-9bfb-7036dacf2a7a",
   "metadata": {},
   "outputs": [
    {
     "name": "stdout",
     "output_type": "stream",
     "text": [
      "너무 너무 너무 너무 너무 너무 너무 파이썬 공부가 즐겁습니다.\n"
     ]
    }
   ],
   "source": [
    "s3 = \"너무 너무 너무 너무 너무 너무 너무 파이썬 공부가 즐겁습니다.\"\n",
    "print(s3)"
   ]
  },
  {
   "cell_type": "code",
   "execution_count": 10,
   "id": "05a755c2-4da8-44c3-8f8e-48d90cbbaff4",
   "metadata": {},
   "outputs": [
    {
     "name": "stdout",
     "output_type": "stream",
     "text": [
      "너무 너무 너무 너무 너무 너무 너무 너무 너무 너무 너무 너무 너무 너무 너무 너무 너무 너무 너무 너무 너무 너무 너무 너무 너무 너무 너무 너무 너무 너무 너무 너무 너무 너무 너무 너무 너무 너무 너무 너무 너무 너무 너무 너무 너무 너무 너무 너무 너무 너무 너무 너무 너무 너무 너무 너무 너무 너무 너무 너무 너무 너무 너무 너무 너무 너무 너무 너무 너무 너무 너무 너무 너무 너무 너무 너무 너무 너무 너무 너무 너무 너무 너무 너무 너무 너무 너무 너무 너무 너무 너무 너무 너무 너무 너무 너무 너무 너무 너무 너무 파이썬\n"
     ]
    }
   ],
   "source": [
    "s6 = \"너무 \" *100 + \"파이썬 공부가 즐겁습니다.\"\n",
    "print(s6)"
   ]
  },
  {
   "cell_type": "code",
   "execution_count": 11,
   "id": "88d40357-abc4-4e93-9b39-a5d933df78a6",
   "metadata": {},
   "outputs": [
    {
     "name": "stdout",
     "output_type": "stream",
     "text": [
      "p\n"
     ]
    }
   ],
   "source": [
    "word = 'python'\n",
    "print(word[0])"
   ]
  },
  {
   "cell_type": "code",
   "execution_count": 15,
   "id": "cf81f032-6c74-4643-97cb-82d985ceee51",
   "metadata": {},
   "outputs": [
    {
     "name": "stdout",
     "output_type": "stream",
     "text": [
      "꺾\n"
     ]
    }
   ],
   "source": [
    "sentense = '중요한 것은 꺾이지 않는 마음'\n",
    "print(sentense[7])"
   ]
  },
  {
   "cell_type": "code",
   "execution_count": 38,
   "id": "5656bb15-f958-4cd9-baf1-f8b92f008cc8",
   "metadata": {},
   "outputs": [
    {
     "name": "stdout",
     "output_type": "stream",
     "text": [
      "pto\n"
     ]
    }
   ],
   "source": [
    "word = 'python'\n",
    "print(word[::2])"
   ]
  },
  {
   "cell_type": "code",
   "execution_count": 39,
   "id": "ff579975-57c5-4b66-a390-05edad04dd16",
   "metadata": {},
   "outputs": [
    {
     "name": "stdout",
     "output_type": "stream",
     "text": [
      "한 것은 꺾이지 않는 마음\n"
     ]
    }
   ],
   "source": [
    "sentense = '중요한 것은 꺾이지 않는 마음'\n",
    "print(sentense[2:42])"
   ]
  },
  {
   "cell_type": "code",
   "execution_count": 41,
   "id": "29e946cd-4107-416e-ac51-868c640618eb",
   "metadata": {},
   "outputs": [
    {
     "name": "stdout",
     "output_type": "stream",
     "text": [
      "꺾이지 않는 마음\n"
     ]
    }
   ],
   "source": [
    "sentense = '중요한 것은 꺾이지 않는 마음'\n",
    "print(sentense[7:])"
   ]
  },
  {
   "cell_type": "code",
   "execution_count": 59,
   "id": "66d5119b-9722-4924-83b0-ce5584e570fc",
   "metadata": {},
   "outputs": [
    {
     "name": "stdout",
     "output_type": "stream",
     "text": [
      "한요중\n"
     ]
    }
   ],
   "source": [
    "sentense = '중요한 것은 꺾이지 않는 마음'  \n",
    "print(sentense[2::-1])"
   ]
  },
  {
   "cell_type": "code",
   "execution_count": 61,
   "id": "4e27486e-b6a4-4690-9f10-39a2c84d02cb",
   "metadata": {},
   "outputs": [
    {
     "name": "stdout",
     "output_type": "stream",
     "text": [
      "[1, 4, 9, 16, 25]\n"
     ]
    },
    {
     "data": {
      "text/plain": [
       "list"
      ]
     },
     "execution_count": 61,
     "metadata": {},
     "output_type": "execute_result"
    }
   ],
   "source": [
    "squares = [1**2,2**2,3**2,4**2,5**2]\n",
    "print(squares)\n",
    "type(squares)"
   ]
  },
  {
   "cell_type": "code",
   "execution_count": 62,
   "id": "89da20b1-a088-42ac-8e72-83749cda4edb",
   "metadata": {},
   "outputs": [
    {
     "name": "stdout",
     "output_type": "stream",
     "text": [
      "1\n",
      "25\n"
     ]
    }
   ],
   "source": [
    "print(squares[0])\n",
    "print(squares[-1])"
   ]
  },
  {
   "cell_type": "code",
   "execution_count": 63,
   "id": "30943e9e-de5d-4db5-942d-deeee0c96f93",
   "metadata": {},
   "outputs": [
    {
     "name": "stdout",
     "output_type": "stream",
     "text": [
      "[9, 16, 25]\n"
     ]
    }
   ],
   "source": [
    "print(squares[-3:])"
   ]
  },
  {
   "cell_type": "code",
   "execution_count": 64,
   "id": "ec9ad695-b589-4ad2-8a1d-fc84549c9403",
   "metadata": {},
   "outputs": [
    {
     "name": "stdout",
     "output_type": "stream",
     "text": [
      "[1, 4, 9, 16, 25, 36, 49, 64, 82, 100]\n"
     ]
    }
   ],
   "source": [
    "print(squares + [36,49,64,82,100])"
   ]
  },
  {
   "cell_type": "code",
   "execution_count": 65,
   "id": "b71d5c13-c206-495f-8149-6931332081df",
   "metadata": {},
   "outputs": [
    {
     "name": "stdout",
     "output_type": "stream",
     "text": [
      "['a', 'b', 'c', 'd', 'e', 'a', 'b', 'c', 'd', 'e', 'a', 'b', 'c', 'd', 'e', 'a', 'b', 'c', 'd', 'e', 'a', 'b', 'c', 'd', 'e']\n"
     ]
    }
   ],
   "source": [
    "letters=['a','b','c','d','e']\n",
    "print(letters*5)"
   ]
  },
  {
   "cell_type": "code",
   "execution_count": 66,
   "id": "28271599-fad5-489c-816f-653f57d2ba0e",
   "metadata": {},
   "outputs": [
    {
     "name": "stdout",
     "output_type": "stream",
     "text": [
      "5\n"
     ]
    }
   ],
   "source": [
    "letters=['a','b','c','d','e']\n",
    "print(len(letters))"
   ]
  },
  {
   "cell_type": "code",
   "execution_count": 79,
   "id": "c1f36d6c-8de9-4136-9c02-8bb822bf5609",
   "metadata": {},
   "outputs": [
    {
     "data": {
      "text/plain": [
       "False"
      ]
     },
     "execution_count": 79,
     "metadata": {},
     "output_type": "execute_result"
    }
   ],
   "source": [
    "scores = [88,73,89,59,77]\n",
    "scores[0] >= 60 and scores[1] >= 60 and scores[2] >= 60 and scores[3] >= 60 and scores[4] >= 60"
   ]
  },
  {
   "cell_type": "code",
   "execution_count": 82,
   "id": "0251c6c5-fe83-4667-97d1-80de73a48147",
   "metadata": {},
   "outputs": [
    {
     "name": "stdout",
     "output_type": "stream",
     "text": [
      "[0, 1, 2, 3, 4, 5, 6, 7, 8, 0]\n"
     ]
    }
   ],
   "source": [
    "numbers=[0,1,2,3,4,5,6,7,8]\n",
    "numbers.append(0)\n",
    "print(numbers)"
   ]
  },
  {
   "cell_type": "code",
   "execution_count": 83,
   "id": "5f96d0f8-edce-47b0-ba76-a36613f8041e",
   "metadata": {},
   "outputs": [
    {
     "name": "stdout",
     "output_type": "stream",
     "text": [
      "[1, 2, 3, 4, 5, 6, 7, 8, 0]\n"
     ]
    }
   ],
   "source": [
    "numbers.remove(0)\n",
    "print(numbers)"
   ]
  },
  {
   "cell_type": "code",
   "execution_count": 85,
   "id": "d0c1e542-f6e3-4320-8c6b-aedcfa754029",
   "metadata": {},
   "outputs": [
    {
     "name": "stdout",
     "output_type": "stream",
     "text": [
      "0\n"
     ]
    }
   ],
   "source": [
    "print(numbers.pop())"
   ]
  },
  {
   "cell_type": "code",
   "execution_count": 86,
   "id": "7a1c51b7-5756-4db1-9a29-fc03bee6be94",
   "metadata": {},
   "outputs": [
    {
     "name": "stdout",
     "output_type": "stream",
     "text": [
      "[1, 2, 3, 4, 5, 6, 7, 8]\n"
     ]
    }
   ],
   "source": [
    "print(numbers)"
   ]
  },
  {
   "cell_type": "code",
   "execution_count": 89,
   "id": "2107a994-cd52-403b-ab62-3532091e127e",
   "metadata": {},
   "outputs": [
    {
     "name": "stdout",
     "output_type": "stream",
     "text": [
      "6\n"
     ]
    }
   ],
   "source": [
    "print(numbers.index(7))"
   ]
  },
  {
   "cell_type": "code",
   "execution_count": 90,
   "id": "83114027-c461-4696-822e-cdcc93c7b4e0",
   "metadata": {},
   "outputs": [
    {
     "data": {
      "text/plain": [
       "1"
      ]
     },
     "execution_count": 90,
     "metadata": {},
     "output_type": "execute_result"
    }
   ],
   "source": [
    "numbers.count(1)"
   ]
  },
  {
   "cell_type": "code",
   "execution_count": 93,
   "id": "55e4d10d-9e04-446a-a748-d1337e90ca38",
   "metadata": {},
   "outputs": [
    {
     "name": "stdout",
     "output_type": "stream",
     "text": [
      "[8, 7, 6, 5, 4, 3, 2, 1]\n"
     ]
    }
   ],
   "source": [
    "numbers.reverse()\n",
    "print(numbers)"
   ]
  },
  {
   "cell_type": "code",
   "execution_count": 100,
   "id": "6b79412b-1df8-4d8c-b263-36e1475e6f6d",
   "metadata": {},
   "outputs": [
    {
     "name": "stdout",
     "output_type": "stream",
     "text": [
      "[1, 2, 3, 4, 5, 6, 7, 8]\n"
     ]
    }
   ],
   "source": [
    "a = sorted(numbers)\n",
    "print(a)"
   ]
  },
  {
   "cell_type": "code",
   "execution_count": 98,
   "id": "4417b93f-29ac-46c4-bf4b-a1f8a1afd447",
   "metadata": {},
   "outputs": [
    {
     "name": "stdout",
     "output_type": "stream",
     "text": [
      "[8, 4, 2, 1, 2, 7]\n"
     ]
    }
   ],
   "source": [
    "reverse_test = [7,2,1,2,4,8]\n",
    "reverse_test.reverse()\n",
    "print(reverse_test)"
   ]
  },
  {
   "cell_type": "code",
   "execution_count": 101,
   "id": "723b8f3a-40b3-40ff-9080-aa375a87319b",
   "metadata": {},
   "outputs": [
    {
     "name": "stdout",
     "output_type": "stream",
     "text": [
      "7\n",
      "6\n",
      "[3, 4, 5]\n"
     ]
    }
   ],
   "source": [
    "stack =[3,4,5]\n",
    "stack.append(6)\n",
    "stack.append(7)\n",
    "\n",
    "print(stack.pop())\n",
    "print(stack.pop())\n",
    "print(stack)"
   ]
  },
  {
   "cell_type": "code",
   "execution_count": 102,
   "id": "99989097-634e-4add-97c3-0a3256af879a",
   "metadata": {},
   "outputs": [
    {
     "name": "stdout",
     "output_type": "stream",
     "text": [
      "[]\n"
     ]
    }
   ],
   "source": [
    "numbers.clear()\n",
    "print(numbers)"
   ]
  },
  {
   "cell_type": "code",
   "execution_count": 105,
   "id": "67f170ee-5049-44e9-89db-689287fb5045",
   "metadata": {},
   "outputs": [],
   "source": [
    "tuple_var= 1,2,3,4,5,\"Hello\""
   ]
  },
  {
   "cell_type": "code",
   "execution_count": 107,
   "id": "43a734ab-a233-4eaf-a2da-99d6e886b0cc",
   "metadata": {},
   "outputs": [
    {
     "name": "stdout",
     "output_type": "stream",
     "text": [
      "<class 'tuple'>\n",
      "(1, 2, 3, 4, 5, 'Hello')\n"
     ]
    }
   ],
   "source": [
    "print(type(tuple_var))\n",
    "print(tuple_var)"
   ]
  },
  {
   "cell_type": "code",
   "execution_count": 110,
   "id": "f0a3741f-d04e-407b-bab6-5d6b96579fe1",
   "metadata": {},
   "outputs": [
    {
     "name": "stdout",
     "output_type": "stream",
     "text": [
      "0.24765610694885254\n"
     ]
    }
   ],
   "source": [
    "import time\n",
    "\n",
    "start_time = time.time()\n",
    "test = []\n",
    "\n",
    "for _ in range(1_000_000):\n",
    "    tp = (_,_)\n",
    "    test.append(tp)\n",
    "\n",
    "print(time.time() - start_time)"
   ]
  },
  {
   "cell_type": "code",
   "execution_count": 111,
   "id": "e3288d57-aaca-41f4-af5c-8a4c0c17849f",
   "metadata": {},
   "outputs": [
    {
     "name": "stdout",
     "output_type": "stream",
     "text": [
      "1.0046424865722656\n"
     ]
    }
   ],
   "source": [
    "import time\n",
    "\n",
    "start_time = time.time()\n",
    "test = []\n",
    "\n",
    "for _ in range(1_000_000):\n",
    "    tp = [_,_]\n",
    "    test.append(tp)\n",
    "\n",
    "print(time.time() - start_time)"
   ]
  },
  {
   "cell_type": "code",
   "execution_count": 112,
   "id": "6f64a00d-62ef-45a1-bc3f-65d761142ebe",
   "metadata": {},
   "outputs": [],
   "source": [
    "# 1.튜플 소수는 변하지 x\n",
    "# 2.리스트 미래에 변화할 수 있어서 \n",
    "# 3.리스트 나이 몸무게 키는 변화\n",
    "# 4.튜플 생일과 출생지는 변화x\n",
    "# 5.리스트 순서를 바꿔야할 수도 있으므로\n",
    "# 6.튜플 순서대로 추가해주면되서?"
   ]
  },
  {
   "cell_type": "code",
   "execution_count": 113,
   "id": "4dee681e-6682-45c2-86a7-a96a1b2820ae",
   "metadata": {},
   "outputs": [
    {
     "name": "stdout",
     "output_type": "stream",
     "text": [
      "text1\n",
      "text2\n"
     ]
    }
   ],
   "source": [
    "s1, s2 = (\"text1\", \"text2\")\n",
    "print(s1)\n",
    "print(s2)"
   ]
  },
  {
   "cell_type": "code",
   "execution_count": 114,
   "id": "8f1bed57-6c65-41c4-8b3a-db081237943e",
   "metadata": {},
   "outputs": [
    {
     "name": "stdout",
     "output_type": "stream",
     "text": [
      "이렇게 리스트도 가능합니다.\n"
     ]
    }
   ],
   "source": [
    "s3, s4, s5 = ['이렇게','리스트도','가능합니다.']\n",
    "print(s3,s4,s5)"
   ]
  },
  {
   "cell_type": "code",
   "execution_count": 116,
   "id": "72346f68-0fdf-47aa-a38b-e1178a71a6fe",
   "metadata": {},
   "outputs": [
    {
     "name": "stdout",
     "output_type": "stream",
     "text": [
      "문 자 열\n"
     ]
    }
   ],
   "source": [
    "s6,s7,s8,s9 = \"문자열도\"\n",
    "print(s6,s7,s8,s9)"
   ]
  },
  {
   "cell_type": "code",
   "execution_count": 123,
   "id": "971a2bbb-496e-4865-b4f4-0e7cd77a21bd",
   "metadata": {},
   "outputs": [
    {
     "name": "stdin",
     "output_type": "stream",
     "text": [
      "Message 1111\n"
     ]
    }
   ],
   "source": [
    "input_value = input('Message')\n",
    "input_value = int(input_value)"
   ]
  },
  {
   "cell_type": "code",
   "execution_count": 124,
   "id": "6e4ecf61-e715-47c4-8c5d-84ddeac76e0e",
   "metadata": {},
   "outputs": [
    {
     "name": "stdout",
     "output_type": "stream",
     "text": [
      "input_value: 1111 \n",
      "type: <class 'int'>\n"
     ]
    }
   ],
   "source": [
    "print(\"input_value:\", input_value, \"\\ntype:\", type(input_value))"
   ]
  },
  {
   "cell_type": "code",
   "execution_count": 125,
   "id": "77590569-5135-4dc1-81f6-be0826b09201",
   "metadata": {},
   "outputs": [
    {
     "name": "stdin",
     "output_type": "stream",
     "text": [
      "정수 외에 다른 값을 입력해보세요. 1.1\n"
     ]
    }
   ],
   "source": [
    "input_value2 = input(\"정수 외에 다른 값을 입력해보세요.\")"
   ]
  },
  {
   "cell_type": "code",
   "execution_count": 128,
   "id": "f0a29b27-1ed5-46b0-bc0b-e5a3fc5f0668",
   "metadata": {},
   "outputs": [
    {
     "name": "stdout",
     "output_type": "stream",
     "text": [
      "1\n"
     ]
    }
   ],
   "source": [
    "input_value2 = int(float(input_value2))\n",
    "print(input_value2)"
   ]
  },
  {
   "cell_type": "code",
   "execution_count": 132,
   "id": "5cbc89fd-39fa-48fa-a88d-7a550b35b6af",
   "metadata": {},
   "outputs": [
    {
     "name": "stdin",
     "output_type": "stream",
     "text": [
      "정수를 입력해주세요: 4\n"
     ]
    },
    {
     "name": "stdout",
     "output_type": "stream",
     "text": [
      "4\n"
     ]
    }
   ],
   "source": [
    "input_value4 = int(input(\"정수를 입력해주세요:\"))\n",
    "print(input_value4)"
   ]
  },
  {
   "cell_type": "code",
   "execution_count": 140,
   "id": "44f46c74-7fe1-476c-b0d4-f4a1adf83537",
   "metadata": {},
   "outputs": [
    {
     "name": "stdin",
     "output_type": "stream",
     "text": [
      "이름을 입력하시오: 엔코아\n"
     ]
    },
    {
     "name": "stdout",
     "output_type": "stream",
     "text": [
      "엔코아씨, 안녕하세요?\n",
      "파이썬에 오신것을 환영합니다.\n"
     ]
    },
    {
     "name": "stdin",
     "output_type": "stream",
     "text": [
      "첫 번째 정수를 입력하세요: 300\n",
      "두 번째 정수를 입력하세요: 400\n"
     ]
    },
    {
     "name": "stdout",
     "output_type": "stream",
     "text": [
      "300 과 400 의 합은 700 입니다.\n"
     ]
    }
   ],
   "source": [
    "a = input(\"이름을 입력하시오:\")\n",
    "print(a+\"\"\"씨, 안녕하세요?\n",
    "파이썬에 오신것을 환영합니다.\"\"\")\n",
    "b = int(input(\"첫 번째 정수를 입력하세요:\"))\n",
    "c = int(input(\"두 번째 정수를 입력하세요:\"))\n",
    "print(b,\"과\",c,\"의 합은\",(b+c),\"입니다.\")"
   ]
  },
  {
   "cell_type": "code",
   "execution_count": 143,
   "id": "3ebc014b-9350-4ba3-9747-7bfa100f9abe",
   "metadata": {},
   "outputs": [
    {
     "name": "stdin",
     "output_type": "stream",
     "text": [
      "경기장은 어디입니까? 고척\n",
      "이긴 팀은 어디입니까? KT\n",
      "진팀은 어디입니까? LG\n",
      "우수 선수는 누구입니까? 강백호\n",
      "스코어는 몇대몇입니까? 10:9\n"
     ]
    },
    {
     "name": "stdout",
     "output_type": "stream",
     "text": [
      "[속보] KT 가 10:9 로 승리...\n",
      "오늘 고척 경기장에서 야구 경기가 있었습니다.\n",
      "KT 와 LG 는 치열한 공방전을 펼쳤습니다.\n",
      "이 경기에서 강백호 가 맹활약을 했습니다.\n",
      "그 끝내 KT 가 LG 를 10:9 로 승리하였습니다.\n",
      "기사 끝\n"
     ]
    }
   ],
   "source": [
    "place = input(\"경기장은 어디입니까?\")\n",
    "win = input(\"이긴 팀은 어디입니까?\")\n",
    "lose = input(\"진팀은 어디입니까?\")\n",
    "best = input(\"우수 선수는 누구입니까?\")\n",
    "score = input(\"스코어는 몇대몇입니까?\")\n",
    "\n",
    "print(\"[속보]\",win,\"가\",score,\"로 승리...\")\n",
    "print(\"오늘 고척 경기장에서 야구 경기가 있었습니다.\")\n",
    "print(win,\"와\",lose,\"는 치열한 공방전을 펼쳤습니다.\")\n",
    "print(\"이 경기에서\",best,\"가 맹활약을 했습니다.\")\n",
    "print(\"그 끝내\",win,\"가\",lose,\"를\",score,\"로 승리하였습니다.\")\n",
    "print(\"기사 끝\")"
   ]
  },
  {
   "cell_type": "code",
   "execution_count": 147,
   "id": "f0c66938-ff39-4084-9d3b-2922b993bb5f",
   "metadata": {},
   "outputs": [
    {
     "name": "stdout",
     "output_type": "stream",
     "text": [
      "[속보] 고척 가 10:9 로 승리...\n",
      "오늘 고척 경기장에서 야구 경기가 있었습니다.\n",
      "KT와 LG는 치열한 공방전을 펼쳤습니다.\n",
      "이 경기에서 강백호가 맹활약을 했습니다\n",
      "그 끝내 KT 가 LG를 10:9로 승리하였습니다.\n",
      "기사 끝\n"
     ]
    }
   ],
   "source": [
    "print(\"\"\"[속보] {0} 가 {4} 로 승리...\n",
    "오늘 고척 경기장에서 야구 경기가 있었습니다.\n",
    "{1}와 {2}는 치열한 공방전을 펼쳤습니다.\n",
    "이 경기에서 {3}가 맹활약을 했습니다.\n",
    "그 끝내 {1} 가 {2}를 {4}로 승리하였습니다.\n",
    "기사 끝.\"\"\".format('고척','KT','LG','강백호','10:9'))"
   ]
  },
  {
   "cell_type": "code",
   "execution_count": 148,
   "id": "634e994f-30f7-4a71-ba90-cbe193440e41",
   "metadata": {},
   "outputs": [
    {
     "name": "stdout",
     "output_type": "stream",
     "text": [
      "<class 'list'>\n",
      "['1', '2', '3']\n"
     ]
    }
   ],
   "source": [
    "result = '1,2,3'.split(',')\n",
    "print(type(result))\n",
    "print(result)"
   ]
  },
  {
   "cell_type": "code",
   "execution_count": 150,
   "id": "1d3fff30-814b-46fd-98b4-af9ac7cbebcd",
   "metadata": {},
   "outputs": [
    {
     "name": "stdin",
     "output_type": "stream",
     "text": [
      "hh:mm:ss의 형태로 시간을 입력해주세요 12:33:23\n"
     ]
    },
    {
     "name": "stdout",
     "output_type": "stream",
     "text": [
      "실행결과:\n",
      "시: 12\n",
      "분: 33\n",
      "초: 23\n"
     ]
    }
   ],
   "source": [
    "h,m,s = input(\"hh:mm:ss의 형태로 시간을 입력해주세요\").split(':')\n",
    "print(\"실행결과:\")\n",
    "print(\"시:\",h)\n",
    "print(\"분:\",m)\n",
    "print(\"초:\",s)"
   ]
  },
  {
   "cell_type": "code",
   "execution_count": 174,
   "id": "868ddc13-021a-4519-941d-685f8c2f6402",
   "metadata": {},
   "outputs": [
    {
     "name": "stdin",
     "output_type": "stream",
     "text": [
      "국어,영어,수학,과학 점수를 입력해주세요 98,100,96,100\n"
     ]
    },
    {
     "name": "stdout",
     "output_type": "stream",
     "text": [
      "실행결과:\n",
      "평균 점수는 98.5 점입니다\n"
     ]
    }
   ],
   "source": [
    "scores = list(map(int,input(\"국어,영어,수학,과학 점수를 입력해주세요\").split(',')))\n",
    "mean = sum(scores)/len(scores)\n",
    "print(\"실행결과:\")\n",
    "print(\"평균 점수는\",mean,\"점입니다\")                         "
   ]
  },
  {
   "cell_type": "code",
   "execution_count": null,
   "id": "027f11d6-6155-4516-828e-2a9f860b225a",
   "metadata": {},
   "outputs": [],
   "source": []
  },
  {
   "cell_type": "code",
   "execution_count": null,
   "id": "49e913fd-bea5-4cf9-9d95-8349d09d1f3c",
   "metadata": {},
   "outputs": [],
   "source": []
  },
  {
   "cell_type": "code",
   "execution_count": null,
   "id": "80274e6a-861d-4ee1-a1aa-076d16f98546",
   "metadata": {},
   "outputs": [],
   "source": []
  }
 ],
 "metadata": {
  "kernelspec": {
   "display_name": "Python 3 (ipykernel)",
   "language": "python",
   "name": "python3"
  },
  "language_info": {
   "codemirror_mode": {
    "name": "ipython",
    "version": 3
   },
   "file_extension": ".py",
   "mimetype": "text/x-python",
   "name": "python",
   "nbconvert_exporter": "python",
   "pygments_lexer": "ipython3",
   "version": "3.9.12"
  }
 },
 "nbformat": 4,
 "nbformat_minor": 5
}
