{
 "cells": [
  {
   "cell_type": "code",
   "execution_count": 1,
   "id": "9e7621e1-dd3e-45bf-964e-fe3d7544cc1c",
   "metadata": {},
   "outputs": [
    {
     "name": "stdout",
     "output_type": "stream",
     "text": [
      "world\n"
     ]
    }
   ],
   "source": [
    "#\n",
    "x = 1 #\n",
    "text=\"#이것은 주석이 아닙니다. 따옴표 안은 문자열 리터럴입니다.\""
   ]
  },
  {
   "cell_type": "code",
   "execution_count": 10,
   "id": "c4007342-b4ca-43e6-9744-feb26adbeb6d",
   "metadata": {},
   "outputs": [
    {
     "name": "stdout",
     "output_type": "stream",
     "text": [
      "Hello,world!\n",
      " Hello, world!\n",
      " Python Programming\n"
     ]
    }
   ],
   "source": [
    "print(\"Hello,world!\\n Hello, world!\\n Python Programming\")"
   ]
  },
  {
   "cell_type": "code",
   "execution_count": 1,
   "id": "63baf41b-2c9f-4ac3-bfe9-92b91b718c1b",
   "metadata": {},
   "outputs": [
    {
     "data": {
      "text/plain": [
       "89"
      ]
     },
     "execution_count": 1,
     "metadata": {},
     "output_type": "execute_result"
    }
   ],
   "source": [
    "13 + (22-3) *4"
   ]
  },
  {
   "cell_type": "code",
   "execution_count": 2,
   "id": "b80ed07e-3f4f-4b2f-9643-da238b0bcc1f",
   "metadata": {},
   "outputs": [
    {
     "data": {
      "text/plain": [
       "28.2"
      ]
     },
     "execution_count": 2,
     "metadata": {},
     "output_type": "execute_result"
    }
   ],
   "source": [
    "13 + ((22-3)*4)/5"
   ]
  },
  {
   "cell_type": "code",
   "execution_count": 3,
   "id": "5de08920-15ad-435b-ae1c-a40619d6dede",
   "metadata": {},
   "outputs": [
    {
     "data": {
      "text/plain": [
       "3"
      ]
     },
     "execution_count": 3,
     "metadata": {},
     "output_type": "execute_result"
    }
   ],
   "source": [
    "int(3.14)"
   ]
  },
  {
   "cell_type": "code",
   "execution_count": 5,
   "id": "64306514-b364-47cb-a618-935aba9edc94",
   "metadata": {},
   "outputs": [
    {
     "data": {
      "text/plain": [
       "7"
      ]
     },
     "execution_count": 5,
     "metadata": {},
     "output_type": "execute_result"
    }
   ],
   "source": [
    "int(0.2497*12+4.159)"
   ]
  },
  {
   "cell_type": "code",
   "execution_count": 6,
   "id": "1725085d-4f1f-4198-aa66-e84f7abafaee",
   "metadata": {},
   "outputs": [
    {
     "name": "stdout",
     "output_type": "stream",
     "text": [
      "가장 시끄러운 층은 = 7 층\n"
     ]
    }
   ],
   "source": [
    "print(\"가장 시끄러운 층은 =\",int(0.2497*12+4.159),\"층\")"
   ]
  },
  {
   "cell_type": "code",
   "execution_count": 9,
   "id": "a2c21881-bc15-45c2-8a78-cdd2338f675c",
   "metadata": {},
   "outputs": [
    {
     "name": "stdout",
     "output_type": "stream",
     "text": [
      "냉장고 가격은 1272000 원 입니다.\n"
     ]
    }
   ],
   "source": [
    "print(\"냉장고 가격은\",53000*24,\"원 입니다.\")"
   ]
  },
  {
   "cell_type": "code",
   "execution_count": 16,
   "id": "1924544d-baae-48a8-95db-1ca4a980a408",
   "metadata": {},
   "outputs": [
    {
     "name": "stdout",
     "output_type": "stream",
     "text": [
      "총 지불 해야 할 금액은 16500000 원 입니다.\n"
     ]
    }
   ],
   "source": [
    "people= 250\n",
    "tax = 1.1\n",
    "print(\"총 지불 해야 할 금액은\",int(people*20000*3*tax),'원 입니다.')"
   ]
  },
  {
   "cell_type": "code",
   "execution_count": 18,
   "id": "0cedb9d6-4880-4716-a6bc-a7a5064488dc",
   "metadata": {},
   "outputs": [
    {
     "data": {
      "text/plain": [
       "39"
      ]
     },
     "execution_count": 18,
     "metadata": {},
     "output_type": "execute_result"
    }
   ],
   "source": [
    "0b100111"
   ]
  },
  {
   "cell_type": "code",
   "execution_count": 19,
   "id": "063ff8a3-e70d-402e-81cc-211d99fa7bf9",
   "metadata": {},
   "outputs": [
    {
     "data": {
      "text/plain": [
       "'0b100111'"
      ]
     },
     "execution_count": 19,
     "metadata": {},
     "output_type": "execute_result"
    }
   ],
   "source": [
    "bin(39)"
   ]
  },
  {
   "cell_type": "code",
   "execution_count": 20,
   "id": "0a48ef09-e2ab-4e4d-9396-fa827a4b4f91",
   "metadata": {},
   "outputs": [
    {
     "data": {
      "text/plain": [
       "'0o172'"
      ]
     },
     "execution_count": 20,
     "metadata": {},
     "output_type": "execute_result"
    }
   ],
   "source": [
    "oct(122)"
   ]
  },
  {
   "cell_type": "code",
   "execution_count": 21,
   "id": "55cdd0ee-5524-4826-8063-9bac75351b57",
   "metadata": {},
   "outputs": [
    {
     "data": {
      "text/plain": [
       "122"
      ]
     },
     "execution_count": 21,
     "metadata": {},
     "output_type": "execute_result"
    }
   ],
   "source": [
    "0o172"
   ]
  },
  {
   "cell_type": "code",
   "execution_count": 22,
   "id": "8ee8e6dd-e91b-4d70-8037-99c72825e9a0",
   "metadata": {},
   "outputs": [
    {
     "data": {
      "text/plain": [
       "31"
      ]
     },
     "execution_count": 22,
     "metadata": {},
     "output_type": "execute_result"
    }
   ],
   "source": [
    "0x1f"
   ]
  },
  {
   "cell_type": "code",
   "execution_count": 23,
   "id": "40f8bed1-8807-486c-b3fe-bc3453ab4f13",
   "metadata": {},
   "outputs": [
    {
     "data": {
      "text/plain": [
       "'0x1f'"
      ]
     },
     "execution_count": 23,
     "metadata": {},
     "output_type": "execute_result"
    }
   ],
   "source": [
    "hex(31)"
   ]
  },
  {
   "cell_type": "code",
   "execution_count": 24,
   "id": "cb5b126f-7c81-4fc2-b2e9-b4f70d01145b",
   "metadata": {},
   "outputs": [
    {
     "data": {
      "text/plain": [
       "'0x78'"
      ]
     },
     "execution_count": 24,
     "metadata": {},
     "output_type": "execute_result"
    }
   ],
   "source": [
    "hex(120)"
   ]
  },
  {
   "cell_type": "code",
   "execution_count": 25,
   "id": "40d00ea3-fa74-40e8-a317-9ec5d9f0e3b9",
   "metadata": {},
   "outputs": [
    {
     "name": "stdout",
     "output_type": "stream",
     "text": [
      "453.0\n"
     ]
    }
   ],
   "source": [
    "AP = 380\n",
    "print(AP*0.6+225)"
   ]
  },
  {
   "cell_type": "code",
   "execution_count": 28,
   "id": "4b306f00-50df-460e-9b52-20bba8160dc2",
   "metadata": {},
   "outputs": [
    {
     "name": "stdout",
     "output_type": "stream",
     "text": [
      "20\n"
     ]
    }
   ],
   "source": [
    "a = 10\n",
    "a = a +10\n",
    "print(a)"
   ]
  },
  {
   "cell_type": "code",
   "execution_count": 30,
   "id": "0e7f0cb5-3eb6-40ad-8f81-6270641f0e93",
   "metadata": {},
   "outputs": [
    {
     "ename": "NameError",
     "evalue": "name 'a' is not defined",
     "output_type": "error",
     "traceback": [
      "\u001b[1;31m---------------------------------------------------------------------------\u001b[0m",
      "\u001b[1;31mNameError\u001b[0m                                 Traceback (most recent call last)",
      "\u001b[1;32m~\\AppData\\Local\\Temp\\ipykernel_12696\\1497285116.py\u001b[0m in \u001b[0;36m<module>\u001b[1;34m\u001b[0m\n\u001b[0;32m      1\u001b[0m \u001b[1;32mdel\u001b[0m \u001b[0ma\u001b[0m\u001b[1;33m\u001b[0m\u001b[1;33m\u001b[0m\u001b[0m\n\u001b[1;32m----> 2\u001b[1;33m \u001b[0mprint\u001b[0m\u001b[1;33m(\u001b[0m\u001b[0ma\u001b[0m\u001b[1;33m)\u001b[0m\u001b[1;33m\u001b[0m\u001b[1;33m\u001b[0m\u001b[0m\n\u001b[0m",
      "\u001b[1;31mNameError\u001b[0m: name 'a' is not defined"
     ]
    }
   ],
   "source": [
    "del a\n",
    "print(a)"
   ]
  },
  {
   "cell_type": "code",
   "execution_count": 36,
   "id": "f9b83230-d778-46cf-98b1-15346fda2c20",
   "metadata": {},
   "outputs": [
    {
     "name": "stdout",
     "output_type": "stream",
     "text": [
      "None\n"
     ]
    }
   ],
   "source": [
    "a= None\n",
    "print(a)"
   ]
  },
  {
   "cell_type": "code",
   "execution_count": 40,
   "id": "70f36951-f4cb-46f1-8de8-00cc1510f38d",
   "metadata": {},
   "outputs": [
    {
     "name": "stdout",
     "output_type": "stream",
     "text": [
      " \"안녕?\"이라는 그 인사를 듣고 나는 '누구지?'라고 생각했다.\n"
     ]
    }
   ],
   "source": [
    "print(\" \\\"안녕?\\\"이라는 그 인사를 듣고 나는 \\'누구지?\\'라고 생각했다.\")"
   ]
  },
  {
   "cell_type": "code",
   "execution_count": null,
   "id": "ad877309-1085-478a-b5a6-7729d70c2699",
   "metadata": {},
   "outputs": [],
   "source": []
  }
 ],
 "metadata": {
  "kernelspec": {
   "display_name": "Python 3 (ipykernel)",
   "language": "python",
   "name": "python3"
  },
  "language_info": {
   "codemirror_mode": {
    "name": "ipython",
    "version": 3
   },
   "file_extension": ".py",
   "mimetype": "text/x-python",
   "name": "python",
   "nbconvert_exporter": "python",
   "pygments_lexer": "ipython3",
   "version": "3.9.13"
  }
 },
 "nbformat": 4,
 "nbformat_minor": 5
}
