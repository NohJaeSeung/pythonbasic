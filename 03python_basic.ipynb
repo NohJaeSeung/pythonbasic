{
 "cells": [
  {
   "cell_type": "code",
   "execution_count": 1,
   "id": "ee8b9ae1-0e16-4a43-8320-c7bb571f9b49",
   "metadata": {},
   "outputs": [
    {
     "name": "stdout",
     "output_type": "stream",
     "text": [
      "value 1 1.1 [1, 2, 'text']\n"
     ]
    }
   ],
   "source": [
    "print(\"value\",1,1.1,[1,2,'text'])"
   ]
  },
  {
   "cell_type": "code",
   "execution_count": 9,
   "id": "9b4eff14-0185-4b11-afd3-027a77f74706",
   "metadata": {},
   "outputs": [
    {
     "name": "stdout",
     "output_type": "stream",
     "text": [
      "value : 1 : 1.1 : [1, 2, 'text']\n"
     ]
    }
   ],
   "source": [
    "print(\"value\",1,1.1,[1,2,'text'],sep = \" : \")"
   ]
  },
  {
   "cell_type": "code",
   "execution_count": 17,
   "id": "7e5a8cef-2091-4cd1-8905-9f3cd0cde38e",
   "metadata": {},
   "outputs": [
    {
     "name": "stdout",
     "output_type": "stream",
     "text": [
      "줄이 바뀌지 않습니다.그 이유는 end=\"\\n\"과 같이 기본 설정된 값을 빈 스트링으로 변경했기 때문입니다.\n",
      "sep, end는 맨뒤에 써야하면 둘 간 순서는 상관없습니다.어떻게 사용하는지\n",
      "이해가 되시나요?"
     ]
    }
   ],
   "source": [
    "print(\"줄이 바뀌지 않습니다.\",end=\"\")\n",
    "print(\"그 이유는 end=\\\"\\\\n\\\"과 같이 기본 설정된 값을 빈 스트링으로 변경했기 때문입니다.\")\n",
    "print(\"sep\",\"end는 맨뒤에 써야하면 둘 간 순서는 상관없습니다.\",sep=\", \", end=\"\")\n",
    "print(\"어떻게 사용하는지\",\"이해가 되시나요\",sep=\"\\n\", end=\"?\")"
   ]
  },
  {
   "cell_type": "code",
   "execution_count": 22,
   "id": "560a81cd-159c-4822-8fe3-9be3e168ee56",
   "metadata": {},
   "outputs": [
    {
     "name": "stdout",
     "output_type": "stream",
     "text": [
      "2021/02/03 18:33:23\n"
     ]
    }
   ],
   "source": [
    "year='2021'\n",
    "month='02'\n",
    "day='03'\n",
    "hour='18'\n",
    "minute='33'\n",
    "second='23'\n",
    "\n",
    "print(year,month, day,sep='/',end=' ')\n",
    "print(hour,minute,second,sep=':')"
   ]
  },
  {
   "cell_type": "code",
   "execution_count": 32,
   "id": "5c7324f8-9e2b-4190-8b9d-e6bc191bb79f",
   "metadata": {},
   "outputs": [
    {
     "name": "stdin",
     "output_type": "stream",
     "text": [
      "사과와 귤을 몇개 드릴까요? 10,20\n"
     ]
    },
    {
     "name": "stdout",
     "output_type": "stream",
     "text": [
      "실행결과:\n",
      "총 가격은 14000원입니다.\n"
     ]
    }
   ],
   "source": [
    "apple, guel =map(int, input(\"사과와 귤을 몇개 드릴까요?\").split(','))\n",
    "print(\"실행결과:\")\n",
    "print(\"총 가격은 \",(apple*1000)+(guel*200),\"원입니다.\",sep=\"\")"
   ]
  },
  {
   "cell_type": "code",
   "execution_count": 39,
   "id": "806673ab-b454-423c-842f-ea5110ad66ca",
   "metadata": {},
   "outputs": [
    {
     "name": "stdout",
     "output_type": "stream",
     "text": [
      "오늘의 날짜를 알려드립니다!\n",
      "2023년 2월 15일입니다.\n"
     ]
    }
   ],
   "source": [
    "import time\n",
    "\n",
    "today = \"\"\"오늘의 날짜를 알려드립니다!\n",
    "{}년 {}월 {}일입니다.\\\n",
    "\"\"\".format(time.localtime().tm_year,\n",
    "           time.localtime().tm_mon,\n",
    "           time.localtime().tm_mday)\n",
    "print(today)"
   ]
  },
  {
   "cell_type": "code",
   "execution_count": 44,
   "id": "6e3011fe-420d-4f0b-9c4e-0d10c97f8378",
   "metadata": {},
   "outputs": [
    {
     "name": "stdout",
     "output_type": "stream",
     "text": [
      "중괄호는 2개이고, 여기 인수는\n"
     ]
    }
   ],
   "source": [
    "#중괄호 개수보다 format 메서드의 인수가 많으면\n",
    "# 초과되는 format 메서드의 인수는 버려집니다,\n",
    "some_str = \"중괄호는 2개이고, {} {}\".format(\"여기\",\"인수는\",\"3개 입니다.\")\n",
    "print(some_str)"
   ]
  },
  {
   "cell_type": "code",
   "execution_count": 45,
   "id": "e97b32cb-043b-4ce5-a70a-89b9d2abd5be",
   "metadata": {},
   "outputs": [
    {
     "ename": "IndexError",
     "evalue": "Replacement index 3 out of range for positional args tuple",
     "output_type": "error",
     "traceback": [
      "\u001b[1;31m---------------------------------------------------------------------------\u001b[0m",
      "\u001b[1;31mIndexError\u001b[0m                                Traceback (most recent call last)",
      "Input \u001b[1;32mIn [45]\u001b[0m, in \u001b[0;36m<cell line: 3>\u001b[1;34m()\u001b[0m\n\u001b[0;32m      1\u001b[0m \u001b[38;5;66;03m#중괄호 개수보다 format 메서드의 인수가 적으면\u001b[39;00m\n\u001b[0;32m      2\u001b[0m \u001b[38;5;66;03m# indexerror가 발생됩니다,\u001b[39;00m\n\u001b[1;32m----> 3\u001b[0m some_str \u001b[38;5;241m=\u001b[39m \u001b[38;5;124;43m\"\u001b[39;49m\u001b[38;5;124;43m중괄호는 4개이고, \u001b[39;49m\u001b[38;5;132;43;01m{}\u001b[39;49;00m\u001b[38;5;124;43m \u001b[39;49m\u001b[38;5;132;43;01m{}\u001b[39;49;00m\u001b[38;5;124;43m \u001b[39;49m\u001b[38;5;132;43;01m{}\u001b[39;49;00m\u001b[38;5;124;43m \u001b[39;49m\u001b[38;5;132;43;01m{}\u001b[39;49;00m\u001b[38;5;124;43m\"\u001b[39;49m\u001b[38;5;241;43m.\u001b[39;49m\u001b[43mformat\u001b[49m\u001b[43m(\u001b[49m\u001b[38;5;124;43m\"\u001b[39;49m\u001b[38;5;124;43m여기\u001b[39;49m\u001b[38;5;124;43m\"\u001b[39;49m\u001b[43m,\u001b[49m\u001b[38;5;124;43m\"\u001b[39;49m\u001b[38;5;124;43m인수는\u001b[39;49m\u001b[38;5;124;43m\"\u001b[39;49m\u001b[43m,\u001b[49m\u001b[38;5;124;43m\"\u001b[39;49m\u001b[38;5;124;43m3개 입니다.\u001b[39;49m\u001b[38;5;124;43m\"\u001b[39;49m\u001b[43m)\u001b[49m\n\u001b[0;32m      4\u001b[0m \u001b[38;5;28mprint\u001b[39m(some_str)\n",
      "\u001b[1;31mIndexError\u001b[0m: Replacement index 3 out of range for positional args tuple"
     ]
    }
   ],
   "source": [
    "#중괄호 개수보다 format 메서드의 인수가 적으면\n",
    "# indexerror가 발생됩니다,\n",
    "some_str = \"중괄호는 4개이고, {} {} {} {}\".format(\"여기\",\"인수는\",\"3개 입니다.\")\n",
    "print(some_str)"
   ]
  },
  {
   "cell_type": "code",
   "execution_count": 46,
   "id": "0012a87e-3faa-4061-b326-e62b79d10c4c",
   "metadata": {},
   "outputs": [
    {
     "name": "stdout",
     "output_type": "stream",
     "text": [
      "10\n",
      "10 20 30\n",
      "101 202 303 404 505\n"
     ]
    }
   ],
   "source": [
    "print(f\"{10}\")\n",
    "print(f\"{10} {20} {30}\")\n",
    "print(f\"{101} {202} {303} {404} {505}\")"
   ]
  },
  {
   "cell_type": "code",
   "execution_count": 55,
   "id": "495a9b0c-d600-4349-a18e-14381343d64f",
   "metadata": {},
   "outputs": [
    {
     "name": "stdout",
     "output_type": "stream",
     "text": [
      "오늘의 날짜를 알려드립니다!\n",
      "2023년 2월 15일입니다.\n",
      "\n"
     ]
    }
   ],
   "source": [
    "import time\n",
    "\n",
    "today = f\"\"\"오늘의 날짜를 알려드립니다!\n",
    "{time.localtime().tm_year}년 {time.localtime().tm_mon}월 {time.localtime().tm_mday}일입니다.\\\n",
    "\"\"\"\n",
    "\n",
    "print(today)"
   ]
  },
  {
   "cell_type": "code",
   "execution_count": 52,
   "id": "19360d93-33e8-4d8f-a077-c336b38550b1",
   "metadata": {},
   "outputs": [
    {
     "data": {
      "text/plain": [
       "True"
      ]
     },
     "execution_count": 52,
     "metadata": {},
     "output_type": "execute_result"
    }
   ],
   "source": [
    "a=1\n",
    "b=1\n",
    "a is b"
   ]
  },
  {
   "cell_type": "code",
   "execution_count": 53,
   "id": "1a51a955-19f7-4598-b11c-5d56d5ca0083",
   "metadata": {},
   "outputs": [
    {
     "name": "stdout",
     "output_type": "stream",
     "text": [
      "시작\n",
      "우\n",
      "끝\n"
     ]
    }
   ],
   "source": [
    "c=89\n",
    "print(\"시작\")\n",
    "\n",
    "if c >= 90:\n",
    "    print(\"수\")\n",
    "elif c>= 80:\n",
    "    print(\"우\")\n",
    "elif c >= 70:\n",
    "    print(\"미\")\n",
    "\n",
    "print(\"끝\")"
   ]
  },
  {
   "cell_type": "code",
   "execution_count": 56,
   "id": "649d6339-5643-4919-9526-b6308dc6e7cd",
   "metadata": {},
   "outputs": [
    {
     "name": "stdout",
     "output_type": "stream",
     "text": [
      "30대 입니다.\n",
      "감사합니다.\n"
     ]
    }
   ],
   "source": [
    "age=30\n",
    "\n",
    "if 20<= age < 30:\n",
    "    print(\"20대 입니다.\")\n",
    "elif 30<= age <40:\n",
    "    print(\"30대 입니다.\")\n",
    "else:\n",
    "    print(\"오우... 불혹을 넘기셨군요\")\n",
    "\n",
    "print(\"감사합니다.\")"
   ]
  },
  {
   "cell_type": "code",
   "execution_count": 71,
   "id": "e5b34a5f-1008-4b87-9812-f25dc49d6ca8",
   "metadata": {},
   "outputs": [
    {
     "name": "stdout",
     "output_type": "stream",
     "text": [
      "실행 결과:\n"
     ]
    },
    {
     "name": "stdin",
     "output_type": "stream",
     "text": [
      "아이디를 입력하세요 : ㅇㄹ\n",
      "회원 등급을 입력해주세요 : 35\n"
     ]
    },
    {
     "name": "stdout",
     "output_type": "stream",
     "text": [
      "권한이 없습니다.\n"
     ]
    }
   ],
   "source": [
    "print(\"실행 결과:\")\n",
    "ID = input(\"아이디를 입력하세요 :\")\n",
    "if ID == 'admin':\n",
    "    print(\"최고 관리자, 모든 권한을 갖습니다.\")\n",
    "elif True:\n",
    "    grade = int(input(\"회원 등급을 입력해주세요 :\"))\n",
    "    if 1 <= grade <=3:\n",
    "        print(\"제한적인 권한을 갖습니다.\")\n",
    "    elif True:\n",
    "        print(\"권한이 없습니다.\")"
   ]
  },
  {
   "cell_type": "code",
   "execution_count": 73,
   "id": "5968606b-66f8-4d18-be28-0b2811a41d44",
   "metadata": {},
   "outputs": [
    {
     "name": "stdin",
     "output_type": "stream",
     "text": [
      "자연수 하나를 입력해주세요: 8\n"
     ]
    },
    {
     "name": "stdout",
     "output_type": "stream",
     "text": [
      "0\n"
     ]
    }
   ],
   "source": [
    "a = int(input(\"자연수 하나를 입력해주세요:\"))\n",
    "if a - 50< 0:\n",
    "    print(0)\n",
    "else: print(a-50)"
   ]
  },
  {
   "cell_type": "code",
   "execution_count": 75,
   "id": "3a1a0004-d84f-45bd-af2d-1f0dcc22f9bd",
   "metadata": {},
   "outputs": [
    {
     "name": "stdin",
     "output_type": "stream",
     "text": [
      "자연수 하나를 입력해주세요: 41\n"
     ]
    },
    {
     "name": "stdout",
     "output_type": "stream",
     "text": [
      "홀수입니다\n"
     ]
    }
   ],
   "source": [
    "a = int(input(\"자연수 하나를 입력해주세요:\"))\n",
    "if a%2 ==1:\n",
    "    print(\"홀수입니다\")\n",
    "else:\n",
    "    print(\"짝수입니다\")"
   ]
  },
  {
   "cell_type": "code",
   "execution_count": 93,
   "id": "e32ece37-88f9-405f-9106-27267bf4e73c",
   "metadata": {},
   "outputs": [
    {
     "name": "stdin",
     "output_type": "stream",
     "text": [
      "소프트웨어 설계 점수를 입력하세요. 60\n",
      "소프트웨어 개발 점수를 입력하세요. 60\n",
      "데이터베이스 구축 점수를 입력하세요. 60\n",
      "프로그래밍 언어활용 점수를 입력하세요. 60\n",
      "정보시스템 구축관리 점수를 입력하세요. 60\n"
     ]
    },
    {
     "name": "stdout",
     "output_type": "stream",
     "text": [
      "합격\n"
     ]
    }
   ],
   "source": [
    "a= int(input(\"소프트웨어 설계 점수를 입력하세요.\"))\n",
    "b= int(input(\"소프트웨어 개발 점수를 입력하세요.\"))\n",
    "c= int(input(\"데이터베이스 구축 점수를 입력하세요.\"))\n",
    "d= int(input(\"프로그래밍 언어활용 점수를 입력하세요.\"))\n",
    "e= int(input(\"정보시스템 구축관리 점수를 입력하세요.\"))\n",
    "result = (a+b+c+d+e)/5\n",
    "f = range(1,101)\n",
    "if a > 100 or b > 100 or c> 100 or d> 100 or e> 100  or a <0 or b<0 or c<0 or d<0 or e < 0:\n",
    "    print(\"잘못된 점수입니다.\")\n",
    "elif result >= 60:\n",
    "    print(\"합격\")\n",
    "else:\n",
    "    print(\"불합격\")\n"
   ]
  },
  {
   "cell_type": "code",
   "execution_count": 118,
   "id": "6427db54-a4f0-4c54-80f1-eb1b34c2e744",
   "metadata": {},
   "outputs": [
    {
     "name": "stdin",
     "output_type": "stream",
     "text": [
      "소프트웨어 설계 점수를 입력하세요. 0\n",
      "소프트웨어 개발 점수를 입력하세요. -1\n",
      "데이터베이스 구축 점수를 입력하세요. 1\n",
      "프로그래밍 언어활용 점수를 입력하세요. 1\n",
      "정보시스템 구축관리 점수를 입력하세요. 1\n"
     ]
    },
    {
     "name": "stdout",
     "output_type": "stream",
     "text": [
      "잘못된 점수입니다.\n"
     ]
    }
   ],
   "source": [
    "a= int(input(\"소프트웨어 설계 점수를 입력하세요.\"))\n",
    "b= int(input(\"소프트웨어 개발 점수를 입력하세요.\"))\n",
    "c= int(input(\"데이터베이스 구축 점수를 입력하세요.\"))\n",
    "d= int(input(\"프로그래밍 언어활용 점수를 입력하세요.\"))\n",
    "e= int(input(\"정보시스템 구축관리 점수를 입력하세요.\"))\n",
    "result = (a+b+c+d+e)/5\n",
    "f = list(range(1,101))\n",
    "if (a or b or c or d or e) not in f:\n",
    "    print(\"잘못된 점수입니다.\")\n",
    "elif result >= 60:\n",
    "    print(\"합격\")\n",
    "else:\n",
    "    print(\"불합격\")"
   ]
  },
  {
   "cell_type": "code",
   "execution_count": 114,
   "id": "318c9398-0fa8-4814-be56-e8929a934a72",
   "metadata": {},
   "outputs": [
    {
     "name": "stdin",
     "output_type": "stream",
     "text": [
      "현재 물의 온도를 입력해주세요 -0.12\n"
     ]
    },
    {
     "name": "stdout",
     "output_type": "stream",
     "text": [
      "고체로 예상됩니다.\n"
     ]
    }
   ],
   "source": [
    "temp = float(input(\"현재 물의 온도를 입력해주세요\"))\n",
    "if temp>= 100:\n",
    "    print(\"기체로 예상됩니다.\")\n",
    "elif 0 <= temp < 100:\n",
    "    print(\"액체로 예상됩니다.\")\n",
    "else:\n",
    "    print(\"고체로 예상됩니다.\")"
   ]
  },
  {
   "cell_type": "code",
   "execution_count": 123,
   "id": "7d6743e6-47b4-4e94-ba80-a75392c73c33",
   "metadata": {},
   "outputs": [
    {
     "name": "stdin",
     "output_type": "stream",
     "text": [
      "자신의 나이를 입력하세요: 6\n"
     ]
    },
    {
     "name": "stdout",
     "output_type": "stream",
     "text": [
      "800원\n"
     ]
    }
   ],
   "source": [
    "age = int(input(\"자신의 나이를 입력하세요:\"))\n",
    "if age >= 19:\n",
    "    print(\"1500원\")\n",
    "elif age >= 12:\n",
    "    print(\"1200원\")\n",
    "elif age >= 6:\n",
    "    print(\"800원\")\n",
    "else:\n",
    "    print(\"무임승차입니다\")"
   ]
  },
  {
   "cell_type": "code",
   "execution_count": 131,
   "id": "317e0b64-320f-43a0-a18b-7dcfd85ea956",
   "metadata": {},
   "outputs": [
    {
     "name": "stdin",
     "output_type": "stream",
     "text": [
      "발주 수량을 입력하세요: 100\n"
     ]
    },
    {
     "name": "stdout",
     "output_type": "stream",
     "text": [
      "100 개를주문하셨습니다.\n",
      "적용 할인욜은 0%입니다.\n",
      "총 발주 금액은 $1000입니다.\n"
     ]
    }
   ],
   "source": [
    "a = int(input(\"발주 수량을 입력하세요:\"))\n",
    "print(a,\"개를주문하셨습니다.\")\n",
    "if a > 2000:\n",
    "    discount = 0.2\n",
    "elif a> 1500:\n",
    "    discount = 0.1\n",
    "elif a >= 1000:\n",
    "    discount = 0.05\n",
    "else:\n",
    "    discount = 0\n",
    "print('적용 할인욜은 {}%입니다.'.format(int(discount*100)))\n",
    "print('총 발주 금액은 ${}입니다.'.format(int(a*10*(1-discount))))"
   ]
  },
  {
   "cell_type": "code",
   "execution_count": 138,
   "id": "357d4e13-f4f4-4264-8a4b-e7710f547e30",
   "metadata": {},
   "outputs": [
    {
     "name": "stdin",
     "output_type": "stream",
     "text": [
      "주민번호 뒷자리를 입력하세요:  5667890\n"
     ]
    },
    {
     "name": "stdout",
     "output_type": "stream",
     "text": [
      "잘못된 입력입니다.\n"
     ]
    }
   ],
   "source": [
    "numbers=input(\"주민번호 뒷자리를 입력하세요: \")\n",
    "if len(numbers) != 7:\n",
    "    print('자리수를 잘못 입력했습니다.')\n",
    "elif numbers[0] not in ['1','2','3','4']:\n",
    "    print(\"잘못된 입력입니다.\")\n",
    "elif int(numbers[0]) %2 ==1:\n",
    "    print('남자')\n",
    "elif int(numbers[0]) %2 ==0:\n",
    "    print('여자')"
   ]
  },
  {
   "cell_type": "code",
   "execution_count": 146,
   "id": "97e19e55-f917-4166-a287-17a30376be90",
   "metadata": {},
   "outputs": [
    {
     "name": "stdin",
     "output_type": "stream",
     "text": [
      "확인할 연도를 입력하세요: 1896\n"
     ]
    },
    {
     "name": "stdout",
     "output_type": "stream",
     "text": [
      "윤년입니다\n"
     ]
    }
   ],
   "source": [
    "year = int(input(\"확인할 연도를 입력하세요:\"))\n",
    "if year %4 == 0:\n",
    "    if year % 100 ==0:\n",
    "        if year % 400 ==0:\n",
    "            print('윤년입니다.')\n",
    "        else:\n",
    "            print('평년입니다.')\n",
    "    else:\n",
    "        print('윤년입니다')\n",
    "else:\n",
    "    print('평년입니다')"
   ]
  },
  {
   "cell_type": "code",
   "execution_count": 150,
   "id": "0ecdf48a-4f7f-4f1f-b213-80208e1f1ebe",
   "metadata": {},
   "outputs": [
    {
     "name": "stdin",
     "output_type": "stream",
     "text": [
      "확인할 연도를 입력하세요: 1900\n"
     ]
    },
    {
     "name": "stdout",
     "output_type": "stream",
     "text": [
      "평년입니다.\n"
     ]
    }
   ],
   "source": [
    "year = int(input(\"확인할 연도를 입력하세요:\"))\n",
    "if year % 4 == 0 and (year %100 != 0 or year % 400 ==0):\n",
    "    print('윤년입니다.')\n",
    "else:\n",
    "    print(\"평년입니다.\")"
   ]
  },
  {
   "cell_type": "code",
   "execution_count": 156,
   "id": "5216d697-26d6-4f4b-91b6-fe31e1a25f52",
   "metadata": {},
   "outputs": [
    {
     "name": "stdin",
     "output_type": "stream",
     "text": [
      "확인할 연도를 입력하세요: 2000\n"
     ]
    },
    {
     "name": "stdout",
     "output_type": "stream",
     "text": [
      "윤년입니다.\n"
     ]
    }
   ],
   "source": [
    "year = int(input(\"확인할 연도를 입력하세요:\"))\n",
    "if year % 4 != 0 or (year % 100 ==0 and year % 400 != 0):\n",
    "    print('평년입니다.')\n",
    "else:\n",
    "    print('윤년입니다.')"
   ]
  },
  {
   "cell_type": "code",
   "execution_count": null,
   "id": "93c8be7a-4b26-48e4-8efc-08ed35a0cf28",
   "metadata": {},
   "outputs": [],
   "source": []
  },
  {
   "cell_type": "code",
   "execution_count": null,
   "id": "b2ab8add-87bd-4e77-9225-7f196f175608",
   "metadata": {},
   "outputs": [],
   "source": []
  }
 ],
 "metadata": {
  "kernelspec": {
   "display_name": "Python 3 (ipykernel)",
   "language": "python",
   "name": "python3"
  },
  "language_info": {
   "codemirror_mode": {
    "name": "ipython",
    "version": 3
   },
   "file_extension": ".py",
   "mimetype": "text/x-python",
   "name": "python",
   "nbconvert_exporter": "python",
   "pygments_lexer": "ipython3",
   "version": "3.9.12"
  }
 },
 "nbformat": 4,
 "nbformat_minor": 5
}
