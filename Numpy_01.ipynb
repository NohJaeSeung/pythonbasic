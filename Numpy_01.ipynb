{
 "cells": [
  {
   "cell_type": "markdown",
   "id": "578d6395-ccf2-45cc-9903-162c4e3e46fd",
   "metadata": {},
   "source": [
    "# Numpy"
   ]
  },
  {
   "cell_type": "code",
   "execution_count": 2,
   "id": "be6dec5a-dc5f-4b45-8537-1fd93336b970",
   "metadata": {},
   "outputs": [],
   "source": [
    "import numpy as np"
   ]
  },
  {
   "cell_type": "code",
   "execution_count": 14,
   "id": "554ef0a7-2513-4416-bcf0-46c092acabb4",
   "metadata": {},
   "outputs": [
    {
     "data": {
      "text/plain": [
       "array([0, 1, 2, 3, 4, 5, 6, 7, 8, 9])"
      ]
     },
     "execution_count": 14,
     "metadata": {},
     "output_type": "execute_result"
    }
   ],
   "source": [
    "a = np.array([_ for _ in range(10)])\n",
    "a"
   ]
  },
  {
   "cell_type": "code",
   "execution_count": 13,
   "id": "fbcd49cc-c6a5-43ca-a2df-92147be38502",
   "metadata": {},
   "outputs": [
    {
     "data": {
      "text/plain": [
       "numpy.ndarray"
      ]
     },
     "execution_count": 13,
     "metadata": {},
     "output_type": "execute_result"
    }
   ],
   "source": [
    "type(a)"
   ]
  },
  {
   "cell_type": "code",
   "execution_count": 11,
   "id": "a2eec398-801e-471d-a72a-4c772ba34780",
   "metadata": {},
   "outputs": [
    {
     "data": {
      "text/plain": [
       "(10,)"
      ]
     },
     "execution_count": 11,
     "metadata": {},
     "output_type": "execute_result"
    }
   ],
   "source": [
    "#1차원의 10칸을 갖는 ndarray\n",
    "a.shape"
   ]
  },
  {
   "cell_type": "code",
   "execution_count": 15,
   "id": "1216861e-d518-462a-96f2-1b437c79ac7e",
   "metadata": {},
   "outputs": [],
   "source": [
    "ar2 = np.array([0.1,12,50,2,3.14])"
   ]
  },
  {
   "cell_type": "code",
   "execution_count": 16,
   "id": "bbc0e59c-fa3e-4fa2-a78e-d6db0bfa10dd",
   "metadata": {},
   "outputs": [
    {
     "data": {
      "text/plain": [
       "array([ 0.1 , 12.  , 50.  ,  2.  ,  3.14])"
      ]
     },
     "execution_count": 16,
     "metadata": {},
     "output_type": "execute_result"
    }
   ],
   "source": [
    "#float로 통일됨\n",
    "ar2"
   ]
  },
  {
   "cell_type": "code",
   "execution_count": 18,
   "id": "69afce53-3026-4762-b6c8-17ba7a897d0e",
   "metadata": {},
   "outputs": [
    {
     "data": {
      "text/plain": [
       "dtype('float64')"
      ]
     },
     "execution_count": 18,
     "metadata": {},
     "output_type": "execute_result"
    }
   ],
   "source": [
    "ar2.dtype"
   ]
  },
  {
   "cell_type": "code",
   "execution_count": 20,
   "id": "767a92e9-1535-4ffb-b30a-d7e48b79c506",
   "metadata": {},
   "outputs": [
    {
     "data": {
      "text/plain": [
       "dtype('int32')"
      ]
     },
     "execution_count": 20,
     "metadata": {},
     "output_type": "execute_result"
    }
   ],
   "source": [
    "ar.dtype"
   ]
  },
  {
   "cell_type": "code",
   "execution_count": 21,
   "id": "13145973-edfb-4495-b765-af5a6b3012cb",
   "metadata": {},
   "outputs": [],
   "source": [
    "x = np.array([1,2,3], dtype='f')"
   ]
  },
  {
   "cell_type": "code",
   "execution_count": 22,
   "id": "669ab2f3-9675-47ec-ad88-a4a644b1c446",
   "metadata": {},
   "outputs": [
    {
     "data": {
      "text/plain": [
       "dtype('float32')"
      ]
     },
     "execution_count": 22,
     "metadata": {},
     "output_type": "execute_result"
    }
   ],
   "source": [
    "x.dtype"
   ]
  },
  {
   "cell_type": "code",
   "execution_count": 23,
   "id": "e7be4726-4a6c-44e6-a297-ffd6e178c12e",
   "metadata": {},
   "outputs": [
    {
     "data": {
      "text/plain": [
       "3.0"
      ]
     },
     "execution_count": 23,
     "metadata": {},
     "output_type": "execute_result"
    }
   ],
   "source": [
    "#인덱싱 가능\n",
    "x[0]+x[1]"
   ]
  },
  {
   "cell_type": "code",
   "execution_count": 24,
   "id": "1afada69-7cff-41c7-955d-b3ab9fc751f5",
   "metadata": {},
   "outputs": [],
   "source": [
    "#U = 유니코드string\n",
    "x = np.array([1,2,3], dtype='U')"
   ]
  },
  {
   "cell_type": "code",
   "execution_count": 25,
   "id": "9241c5ea-0371-411e-93e9-5e1988bb7fd1",
   "metadata": {},
   "outputs": [
    {
     "data": {
      "text/plain": [
       "'12'"
      ]
     },
     "execution_count": 25,
     "metadata": {},
     "output_type": "execute_result"
    }
   ],
   "source": [
    "x[0]+x[1]"
   ]
  },
  {
   "cell_type": "code",
   "execution_count": 26,
   "id": "cb6032f5-7920-45fa-a699-a10c92e830e9",
   "metadata": {},
   "outputs": [
    {
     "data": {
      "text/plain": [
       "dtype('<U1')"
      ]
     },
     "execution_count": 26,
     "metadata": {},
     "output_type": "execute_result"
    }
   ],
   "source": [
    "x.dtype"
   ]
  },
  {
   "cell_type": "code",
   "execution_count": 27,
   "id": "3e8f44a9-2ee1-45b3-8dc2-13c4f726c1fd",
   "metadata": {},
   "outputs": [
    {
     "ename": "TypeError",
     "evalue": "unsupported operand type(s) for /: 'list' and 'list'",
     "output_type": "error",
     "traceback": [
      "\u001b[1;31m---------------------------------------------------------------------------\u001b[0m",
      "\u001b[1;31mTypeError\u001b[0m                                 Traceback (most recent call last)",
      "Input \u001b[1;32mIn [27]\u001b[0m, in \u001b[0;36m<cell line: 3>\u001b[1;34m()\u001b[0m\n\u001b[0;32m      1\u001b[0m x \u001b[38;5;241m=\u001b[39m [\u001b[38;5;241m0\u001b[39m,\u001b[38;5;241m1\u001b[39m,\u001b[38;5;241m-\u001b[39m\u001b[38;5;241m1\u001b[39m,\u001b[38;5;241m0\u001b[39m]\n\u001b[0;32m      2\u001b[0m y \u001b[38;5;241m=\u001b[39m [\u001b[38;5;241m1\u001b[39m,\u001b[38;5;241m0\u001b[39m,\u001b[38;5;241m0\u001b[39m,\u001b[38;5;241m0\u001b[39m]\n\u001b[1;32m----> 3\u001b[0m \u001b[43mx\u001b[49m\u001b[43m \u001b[49m\u001b[38;5;241;43m/\u001b[39;49m\u001b[43my\u001b[49m\n",
      "\u001b[1;31mTypeError\u001b[0m: unsupported operand type(s) for /: 'list' and 'list'"
     ]
    }
   ],
   "source": [
    "#리스트끼리는 나눌 수 없음\n",
    "x = [0,1,-1,0]\n",
    "y = [1,0,0,0]\n",
    "x /y"
   ]
  },
  {
   "cell_type": "code",
   "execution_count": 28,
   "id": "9625e3f8-a570-4bc3-bb92-2ab5beafb9cc",
   "metadata": {},
   "outputs": [
    {
     "name": "stderr",
     "output_type": "stream",
     "text": [
      "C:\\Users\\YOUR\\AppData\\Local\\Temp\\ipykernel_17200\\1623060385.py:3: RuntimeWarning: divide by zero encountered in true_divide\n",
      "  xn/ yn\n",
      "C:\\Users\\YOUR\\AppData\\Local\\Temp\\ipykernel_17200\\1623060385.py:3: RuntimeWarning: invalid value encountered in true_divide\n",
      "  xn/ yn\n"
     ]
    },
    {
     "data": {
      "text/plain": [
       "array([  0.,  inf, -inf,  nan])"
      ]
     },
     "execution_count": 28,
     "metadata": {},
     "output_type": "execute_result"
    }
   ],
   "source": [
    "#inf 는 무한대 nan = nor a number\n",
    "xn = np.array(x)\n",
    "yn= np.array(y)\n",
    "xn/ yn"
   ]
  },
  {
   "cell_type": "code",
   "execution_count": 29,
   "id": "139d7f99-c13c-439e-ba86-8b2ecfdc57e0",
   "metadata": {},
   "outputs": [
    {
     "name": "stdout",
     "output_type": "stream",
     "text": [
      "[0, 2, 4, 6, 8, 10, 12, 14, 16, 18]\n"
     ]
    }
   ],
   "source": [
    "#백터화 연산\n",
    "data = [_ for _ in range(10)]\n",
    "answer = [_ *2 for _ in data]\n",
    "print(answer)"
   ]
  },
  {
   "cell_type": "code",
   "execution_count": 30,
   "id": "5c60ad56-f7cc-43c3-aef3-41a80ec9aea4",
   "metadata": {},
   "outputs": [
    {
     "data": {
      "text/plain": [
       "array([ 0,  2,  4,  6,  8, 10, 12, 14, 16, 18])"
      ]
     },
     "execution_count": 30,
     "metadata": {},
     "output_type": "execute_result"
    }
   ],
   "source": [
    "x = np.array(data)\n",
    "2 * x"
   ]
  },
  {
   "cell_type": "code",
   "execution_count": 37,
   "id": "c2b9d45f-1b8c-48ae-a018-b3a42d013fb4",
   "metadata": {},
   "outputs": [
    {
     "data": {
      "text/plain": [
       "array([[0, 1, 2],\n",
       "       [3, 4, 5]])"
      ]
     },
     "execution_count": 37,
     "metadata": {},
     "output_type": "execute_result"
    }
   ],
   "source": [
    "c = np.array([[0,1,2],[3,4,5]])\n",
    "c"
   ]
  },
  {
   "cell_type": "code",
   "execution_count": 7,
   "id": "0e3a73e5-bf01-4c29-b660-e5da08a79daf",
   "metadata": {},
   "outputs": [
    {
     "data": {
      "text/plain": [
       "array([[10, 20, 30, 40],\n",
       "       [50, 60, 70, 80]])"
      ]
     },
     "execution_count": 7,
     "metadata": {},
     "output_type": "execute_result"
    }
   ],
   "source": [
    "a=np.array([[10,20,30,40],[50,60,70,80]])\n",
    "a"
   ]
  },
  {
   "cell_type": "code",
   "execution_count": 9,
   "id": "f6474ff5-5a91-4cad-a52c-18347725663a",
   "metadata": {},
   "outputs": [
    {
     "data": {
      "text/plain": [
       "(2, 3, 4)"
      ]
     },
     "execution_count": 9,
     "metadata": {},
     "output_type": "execute_result"
    }
   ],
   "source": [
    "d = np.array([[[1,2,3,4],\n",
    "               [5,6,7,8],\n",
    "               [9,10,11,12]],\n",
    "              [[11,12,13,14],\n",
    "               [15,16,17,18],\n",
    "               [19,20,21,22]]])\n",
    "d.shape\n",
    "#(깊이,행,렬)"
   ]
  },
  {
   "cell_type": "code",
   "execution_count": 10,
   "id": "3ebfbefc-6a7f-48e6-af88-cc6ca6ef24c6",
   "metadata": {},
   "outputs": [
    {
     "data": {
      "text/plain": [
       "3"
      ]
     },
     "execution_count": 10,
     "metadata": {},
     "output_type": "execute_result"
    }
   ],
   "source": [
    "#차원의 크기\n",
    "d.ndim"
   ]
  },
  {
   "cell_type": "code",
   "execution_count": 11,
   "id": "4c45267a-aca5-42f2-b3af-3f9a06ec1862",
   "metadata": {},
   "outputs": [
    {
     "data": {
      "text/plain": [
       "6"
      ]
     },
     "execution_count": 11,
     "metadata": {},
     "output_type": "execute_result"
    }
   ],
   "source": [
    "#리스트 인덱싱\n",
    "test = [[1,2,3,4],[5,6,7,8]]\n",
    "test[1][1]"
   ]
  },
  {
   "cell_type": "code",
   "execution_count": 21,
   "id": "097fbd45-0650-421a-816f-76f9a01ea473",
   "metadata": {},
   "outputs": [
    {
     "data": {
      "text/plain": [
       "2"
      ]
     },
     "execution_count": 21,
     "metadata": {},
     "output_type": "execute_result"
    }
   ],
   "source": [
    "#numpy array 인덱싱\n",
    "a = np.array([[0,1,2],[3,4,5]])\n",
    "a[0,2]"
   ]
  },
  {
   "cell_type": "code",
   "execution_count": 25,
   "id": "9a2e8108-efcd-484a-b727-e2bb2359fc52",
   "metadata": {},
   "outputs": [
    {
     "data": {
      "text/plain": [
       "[1, 2, 3]"
      ]
     },
     "execution_count": 25,
     "metadata": {},
     "output_type": "execute_result"
    }
   ],
   "source": [
    "a=[[1,2,3,4],[5,6,7,8,]]\n",
    "a[0][:3]"
   ]
  },
  {
   "cell_type": "code",
   "execution_count": 26,
   "id": "971923bf-d311-47c0-8ab5-535594435f20",
   "metadata": {},
   "outputs": [
    {
     "data": {
      "text/plain": [
       "array([[0, 1, 2, 3],\n",
       "       [4, 5, 6, 7]])"
      ]
     },
     "execution_count": 26,
     "metadata": {},
     "output_type": "execute_result"
    }
   ],
   "source": [
    "a = np.array([[0,1,2,3],[4,5,6,7]])\n",
    "a"
   ]
  },
  {
   "cell_type": "code",
   "execution_count": 27,
   "id": "e54e5243-ecfd-4d5f-957a-6f1739881175",
   "metadata": {},
   "outputs": [
    {
     "data": {
      "text/plain": [
       "array([0, 1, 2, 3])"
      ]
     },
     "execution_count": 27,
     "metadata": {},
     "output_type": "execute_result"
    }
   ],
   "source": [
    "a[0,:]# 첫번째 행 전체"
   ]
  },
  {
   "cell_type": "code",
   "execution_count": 31,
   "id": "9492ed59-822e-47b7-8ece-43fb67125f08",
   "metadata": {},
   "outputs": [
    {
     "data": {
      "text/plain": [
       "array([1, 5])"
      ]
     },
     "execution_count": 31,
     "metadata": {},
     "output_type": "execute_result"
    }
   ],
   "source": [
    "a[:,1] # 두번째 열 전체"
   ]
  },
  {
   "cell_type": "code",
   "execution_count": 32,
   "id": "881a40d5-a422-4213-b0ca-18a82f9ed76c",
   "metadata": {},
   "outputs": [
    {
     "data": {
      "text/plain": [
       "array([5, 6, 7])"
      ]
     },
     "execution_count": 32,
     "metadata": {},
     "output_type": "execute_result"
    }
   ],
   "source": [
    "a[1,1:]"
   ]
  },
  {
   "cell_type": "code",
   "execution_count": 33,
   "id": "c4a6cf11-47a0-41e8-9b5e-9688895c3f0d",
   "metadata": {},
   "outputs": [
    {
     "data": {
      "text/plain": [
       "array([[0, 1],\n",
       "       [4, 5]])"
      ]
     },
     "execution_count": 33,
     "metadata": {},
     "output_type": "execute_result"
    }
   ],
   "source": [
    "a[:2,:2]"
   ]
  },
  {
   "cell_type": "code",
   "execution_count": 189,
   "id": "cbfa7f27-6304-4a55-9632-d4ca6dbdf21e",
   "metadata": {},
   "outputs": [],
   "source": [
    "m = np.array([[0,1,2,3,4],\n",
    "              [5,6,7,8,9],\n",
    "              [10,11,12,13,14]])"
   ]
  },
  {
   "cell_type": "code",
   "execution_count": 35,
   "id": "93b20b5b-ff6f-4a6a-99cd-40de8ea1cd33",
   "metadata": {},
   "outputs": [
    {
     "data": {
      "text/plain": [
       "7"
      ]
     },
     "execution_count": 35,
     "metadata": {},
     "output_type": "execute_result"
    }
   ],
   "source": [
    "m[1,2]"
   ]
  },
  {
   "cell_type": "code",
   "execution_count": 36,
   "id": "d2ab47d6-0352-4e3a-8a1c-798b248819c5",
   "metadata": {},
   "outputs": [
    {
     "data": {
      "text/plain": [
       "14"
      ]
     },
     "execution_count": 36,
     "metadata": {},
     "output_type": "execute_result"
    }
   ],
   "source": [
    "m[2,-1]"
   ]
  },
  {
   "cell_type": "code",
   "execution_count": 37,
   "id": "b9e02404-ea97-4476-aab1-618d4f0c1e87",
   "metadata": {},
   "outputs": [
    {
     "data": {
      "text/plain": [
       "array([6, 7])"
      ]
     },
     "execution_count": 37,
     "metadata": {},
     "output_type": "execute_result"
    }
   ],
   "source": [
    "m[1,1:3]"
   ]
  },
  {
   "cell_type": "code",
   "execution_count": 39,
   "id": "8321a475-7a12-47b2-b1f8-b39b8bbd5a8a",
   "metadata": {},
   "outputs": [
    {
     "data": {
      "text/plain": [
       "array([ 7, 12])"
      ]
     },
     "execution_count": 39,
     "metadata": {},
     "output_type": "execute_result"
    }
   ],
   "source": [
    "m[1:,2]"
   ]
  },
  {
   "cell_type": "code",
   "execution_count": 44,
   "id": "b7c2aa57-b8da-4b80-a808-8fb1e20a3d99",
   "metadata": {},
   "outputs": [
    {
     "data": {
      "text/plain": [
       "array([[3, 4],\n",
       "       [8, 9]])"
      ]
     },
     "execution_count": 44,
     "metadata": {},
     "output_type": "execute_result"
    }
   ],
   "source": [
    "m[:2,3:]"
   ]
  },
  {
   "cell_type": "code",
   "execution_count": 45,
   "id": "8095fd65-a9b8-471e-af1a-ddcc20e2b86d",
   "metadata": {},
   "outputs": [
    {
     "data": {
      "text/plain": [
       "array(['', '', '', '', ''], dtype='<U4')"
      ]
     },
     "execution_count": 45,
     "metadata": {},
     "output_type": "execute_result"
    }
   ],
   "source": [
    "#U4 ==> 4자리까지만 넣어짐\n",
    "d = np.zeros(5, dtype=\"U4\")\n",
    "d"
   ]
  },
  {
   "cell_type": "code",
   "execution_count": 46,
   "id": "d005991c-5e77-4ce7-80dc-5c438be40906",
   "metadata": {},
   "outputs": [
    {
     "data": {
      "text/plain": [
       "array(['abc', 'abcd', 'ABCD', '', ''], dtype='<U4')"
      ]
     },
     "execution_count": 46,
     "metadata": {},
     "output_type": "execute_result"
    }
   ],
   "source": [
    "d[0] = 'abc'\n",
    "d[1] = 'abcd'\n",
    "d[2] = 'ABCDE'\n",
    "d"
   ]
  },
  {
   "cell_type": "code",
   "execution_count": 47,
   "id": "4e79ad0f-3187-480b-b1f7-a27d228d5c17",
   "metadata": {},
   "outputs": [],
   "source": [
    "test = np.array([10,20,22])"
   ]
  },
  {
   "cell_type": "code",
   "execution_count": 49,
   "id": "ead1763f-3cc0-4904-9d0c-428dac5c3a9e",
   "metadata": {},
   "outputs": [
    {
     "data": {
      "text/plain": [
       "array([1., 1., 1.], dtype=float32)"
      ]
     },
     "execution_count": 49,
     "metadata": {},
     "output_type": "execute_result"
    }
   ],
   "source": [
    "#shape를 복사할때는 ones_like or zeros_like사용\n",
    "np.ones_like(test, dtype='f')"
   ]
  },
  {
   "cell_type": "code",
   "execution_count": 50,
   "id": "48ce9f69-b7b6-4f6d-a253-b7bbc3498c03",
   "metadata": {},
   "outputs": [
    {
     "data": {
      "text/plain": [
       "array([[4.24399158e-314, 8.48798317e-314, 1.27319747e-313],\n",
       "       [1.69759663e-313, 2.12199579e-313, 2.54639495e-313],\n",
       "       [2.54639495e-313, 2.97079411e-313, 3.39519327e-313],\n",
       "       [3.81959242e-313, 4.24399158e-313, 4.66839074e-313]])"
      ]
     },
     "execution_count": 50,
     "metadata": {},
     "output_type": "execute_result"
    }
   ],
   "source": [
    "#np.empty로 빠르게 shape을 잡을 수 있다 \n",
    "g= np.empty((4,3))\n",
    "g"
   ]
  },
  {
   "cell_type": "code",
   "execution_count": 51,
   "id": "68470d5d-2bd0-43cd-a854-3f40c05841e5",
   "metadata": {},
   "outputs": [
    {
     "data": {
      "text/plain": [
       "array([0, 1, 2, 3, 4, 5, 6, 7, 8, 9])"
      ]
     },
     "execution_count": 51,
     "metadata": {},
     "output_type": "execute_result"
    }
   ],
   "source": [
    "#Numpy버전의 range == arange\n",
    "np.arange(10)"
   ]
  },
  {
   "cell_type": "code",
   "execution_count": 54,
   "id": "dc4f9ad2-3ca5-4db9-9d80-dbdf20b9f0a8",
   "metadata": {},
   "outputs": [
    {
     "data": {
      "text/plain": [
       "array([  0.,  10.,  20.,  30.,  40.,  50.,  60.,  70.,  80.,  90., 100.])"
      ]
     },
     "execution_count": 54,
     "metadata": {},
     "output_type": "execute_result"
    }
   ],
   "source": [
    "#0부터 100까지 11개의 선형적으로 분할한 위치 값을 출력\n",
    "ex = np.linspace(0,100,11)\n",
    "ex"
   ]
  },
  {
   "cell_type": "code",
   "execution_count": 55,
   "id": "d0d42d32-9afe-4a13-9b81-acec4ffdff4b",
   "metadata": {},
   "outputs": [
    {
     "data": {
      "text/plain": [
       "array([1.e+000, 1.e+010, 1.e+020, 1.e+030, 1.e+040, 1.e+050, 1.e+060,\n",
       "       1.e+070, 1.e+080, 1.e+090, 1.e+100])"
      ]
     },
     "execution_count": 55,
     "metadata": {},
     "output_type": "execute_result"
    }
   ],
   "source": [
    "#0부터 100까지 11개의 로그로 분할한 위치의 값을 출력합니다.(곡선형태)\n",
    "ex = np.logspace(0,100,11)\n",
    "ex"
   ]
  },
  {
   "cell_type": "code",
   "execution_count": 56,
   "id": "95e6283f-6517-4ae0-97e3-8a35f2c70361",
   "metadata": {},
   "outputs": [
    {
     "data": {
      "text/plain": [
       "array([[1, 2, 3],\n",
       "       [4, 5, 6]])"
      ]
     },
     "execution_count": 56,
     "metadata": {},
     "output_type": "execute_result"
    }
   ],
   "source": [
    "A = np.array([[1,2,3],[4,5,6]])\n",
    "A"
   ]
  },
  {
   "cell_type": "code",
   "execution_count": 57,
   "id": "14f0dea8-a039-4758-8a24-f3e9e3d839a2",
   "metadata": {},
   "outputs": [
    {
     "data": {
      "text/plain": [
       "array([[1, 4],\n",
       "       [2, 5],\n",
       "       [3, 6]])"
      ]
     },
     "execution_count": 57,
     "metadata": {},
     "output_type": "execute_result"
    }
   ],
   "source": [
    "#전치(transpose) 연산 ==> 행과 열을 바꾸는 작업\n",
    "A.T"
   ]
  },
  {
   "cell_type": "code",
   "execution_count": 58,
   "id": "8dd451a2-e798-482a-8494-6303bc7e763c",
   "metadata": {},
   "outputs": [
    {
     "data": {
      "text/plain": [
       "array([ 0,  1,  2,  3,  4,  5,  6,  7,  8,  9, 10, 11])"
      ]
     },
     "execution_count": 58,
     "metadata": {},
     "output_type": "execute_result"
    }
   ],
   "source": [
    "a = np.arange(12)\n",
    "a"
   ]
  },
  {
   "cell_type": "code",
   "execution_count": 59,
   "id": "8b720ada-cba3-4b0e-887f-c02c300ec247",
   "metadata": {},
   "outputs": [
    {
     "data": {
      "text/plain": [
       "array([[ 0,  1,  2,  3],\n",
       "       [ 4,  5,  6,  7],\n",
       "       [ 8,  9, 10, 11]])"
      ]
     },
     "execution_count": 59,
     "metadata": {},
     "output_type": "execute_result"
    }
   ],
   "source": [
    "#reshape로 배열의 형태 변환\n",
    "b = a.reshape(3,4)\n",
    "b"
   ]
  },
  {
   "cell_type": "code",
   "execution_count": 62,
   "id": "1c6f870b-18fa-4364-9fd5-b5ae0b09b4f0",
   "metadata": {},
   "outputs": [
    {
     "data": {
      "text/plain": [
       "array([ 0,  1,  2,  3,  4,  5,  6,  7,  8,  9, 10, 11])"
      ]
     },
     "execution_count": 62,
     "metadata": {},
     "output_type": "execute_result"
    }
   ],
   "source": [
    "ex = np.array(range(12))\n",
    "ex"
   ]
  },
  {
   "cell_type": "code",
   "execution_count": 63,
   "id": "4abb9d3b-7a36-4240-9bb7-f60626ecc4b4",
   "metadata": {},
   "outputs": [
    {
     "data": {
      "text/plain": [
       "array([[[ 0,  1],\n",
       "        [ 2,  3]],\n",
       "\n",
       "       [[ 4,  5],\n",
       "        [ 6,  7]],\n",
       "\n",
       "       [[ 8,  9],\n",
       "        [10, 11]]])"
      ]
     },
     "execution_count": 63,
     "metadata": {},
     "output_type": "execute_result"
    }
   ],
   "source": [
    "# -1을 쓰면 형태를 알아서 맞춰줌\n",
    "ex.reshape(3,-1,2)"
   ]
  },
  {
   "cell_type": "code",
   "execution_count": 68,
   "id": "7a0f820e-d6a6-4fae-bf8e-8a9755b2ab52",
   "metadata": {},
   "outputs": [
    {
     "data": {
      "text/plain": [
       "array([[[ 0,  1],\n",
       "        [ 2,  3],\n",
       "        [ 4,  5]],\n",
       "\n",
       "       [[ 6,  7],\n",
       "        [ 8,  9],\n",
       "        [10, 11]]])"
      ]
     },
     "execution_count": 68,
     "metadata": {},
     "output_type": "execute_result"
    }
   ],
   "source": [
    "ex.reshape(2,3,-1)"
   ]
  },
  {
   "cell_type": "code",
   "execution_count": 73,
   "id": "345d2244-2442-4640-937e-baa49e7a6fe4",
   "metadata": {},
   "outputs": [
    {
     "data": {
      "text/plain": [
       "array([ 0,  1,  2,  3,  4,  5,  6,  7,  8,  9, 10, 11])"
      ]
     },
     "execution_count": 73,
     "metadata": {},
     "output_type": "execute_result"
    }
   ],
   "source": [
    "# 1차원으로 만들어줌(flatten, ravel)\n",
    "ex.flatten\n",
    "ex"
   ]
  },
  {
   "cell_type": "code",
   "execution_count": 74,
   "id": "7a40883a-cebd-4660-bae9-a895f6635093",
   "metadata": {},
   "outputs": [],
   "source": [
    "x = np.arange(5)"
   ]
  },
  {
   "cell_type": "code",
   "execution_count": 78,
   "id": "d50716f5-72a5-44dd-82f2-ed44e68efb73",
   "metadata": {},
   "outputs": [
    {
     "data": {
      "text/plain": [
       "(5,)"
      ]
     },
     "execution_count": 78,
     "metadata": {},
     "output_type": "execute_result"
    }
   ],
   "source": [
    "x.shape"
   ]
  },
  {
   "cell_type": "code",
   "execution_count": 76,
   "id": "19f80e88-3eed-4422-b9b0-e27ee7eaa4f2",
   "metadata": {},
   "outputs": [
    {
     "data": {
      "text/plain": [
       "array([[0],\n",
       "       [1],\n",
       "       [2],\n",
       "       [3],\n",
       "       [4]])"
      ]
     },
     "execution_count": 76,
     "metadata": {},
     "output_type": "execute_result"
    }
   ],
   "source": [
    "#newaxis ==> 차원만 1차원 증가시킴\n",
    "x[:, np.newaxis]"
   ]
  },
  {
   "cell_type": "code",
   "execution_count": 77,
   "id": "ab5276d2-5181-47ed-9640-ba359eeaa484",
   "metadata": {},
   "outputs": [
    {
     "data": {
      "text/plain": [
       "(5,)"
      ]
     },
     "execution_count": 77,
     "metadata": {},
     "output_type": "execute_result"
    }
   ],
   "source": [
    "x.shape"
   ]
  },
  {
   "cell_type": "markdown",
   "id": "58dc4237-a201-41b9-a3e6-513128e9a31b",
   "metadata": {},
   "source": [
    "## 배열 연결(concatenate)\n",
    "*hstack : 왼쪽에서 오른쪽으로 합침  \n",
    "*vstack : 위에서 아래로 합침  \n",
    "*dstack : 제3의 축(깊이)방향으로 배열 합침(차원 늘어남)  "
   ]
  },
  {
   "cell_type": "code",
   "execution_count": 84,
   "id": "e748f4c5-47ee-42a1-808a-dfa75e01010a",
   "metadata": {},
   "outputs": [
    {
     "data": {
      "text/plain": [
       "array([[1., 1., 0., 0., 0.],\n",
       "       [1., 1., 0., 0., 0.],\n",
       "       [1., 1., 0., 0., 0.]])"
      ]
     },
     "execution_count": 84,
     "metadata": {},
     "output_type": "execute_result"
    }
   ],
   "source": [
    "a1 = np.ones((3,2))\n",
    "a2 = np.zeros((3,3))\n",
    "np.hstack([a1,a2])"
   ]
  },
  {
   "cell_type": "code",
   "execution_count": 85,
   "id": "5ce34c61-753c-428d-b14c-cd0180a69aa7",
   "metadata": {},
   "outputs": [
    {
     "data": {
      "text/plain": [
       "array([[1., 1., 1.],\n",
       "       [1., 1., 1.],\n",
       "       [0., 0., 0.],\n",
       "       [0., 0., 0.],\n",
       "       [0., 0., 0.]])"
      ]
     },
     "execution_count": 85,
     "metadata": {},
     "output_type": "execute_result"
    }
   ],
   "source": [
    "b1 = np.ones((2,3))\n",
    "b2 = np.zeros((3,3))\n",
    "np.vstack([b1,b2])"
   ]
  },
  {
   "cell_type": "code",
   "execution_count": 89,
   "id": "45110467-13c6-4f93-b93e-96d6abcb4843",
   "metadata": {},
   "outputs": [
    {
     "data": {
      "text/plain": [
       "array([[[1., 0., 0.],\n",
       "        [1., 0., 0.],\n",
       "        [1., 0., 0.],\n",
       "        [1., 0., 0.]],\n",
       "\n",
       "       [[1., 0., 0.],\n",
       "        [1., 0., 0.],\n",
       "        [1., 0., 0.],\n",
       "        [1., 0., 0.]],\n",
       "\n",
       "       [[1., 0., 0.],\n",
       "        [1., 0., 0.],\n",
       "        [1., 0., 0.],\n",
       "        [1., 0., 0.]]])"
      ]
     },
     "execution_count": 89,
     "metadata": {},
     "output_type": "execute_result"
    }
   ],
   "source": [
    "c1 = np.ones((3,4))\n",
    "c2 = np.zeros((3,4))\n",
    "c3 = np.empty((3,4))\n",
    "np.dstack([c1,c2,c3])"
   ]
  },
  {
   "cell_type": "code",
   "execution_count": 93,
   "id": "9757909f-2688-4ab6-88c0-68f98281d564",
   "metadata": {},
   "outputs": [
    {
     "data": {
      "text/plain": [
       "array([[[1., 1., 1., 1.],\n",
       "        [1., 1., 1., 1.],\n",
       "        [1., 1., 1., 1.]],\n",
       "\n",
       "       [[0., 0., 0., 0.],\n",
       "        [0., 0., 0., 0.],\n",
       "        [0., 0., 0., 0.]],\n",
       "\n",
       "       [[0., 0., 0., 0.],\n",
       "        [0., 0., 0., 0.],\n",
       "        [0., 0., 0., 0.]]])"
      ]
     },
     "execution_count": 93,
     "metadata": {},
     "output_type": "execute_result"
    }
   ],
   "source": [
    "#3차원의 axis(축)으로 생각해야함\n",
    "np.stack([c1,c2,c3], axis=0)"
   ]
  },
  {
   "cell_type": "code",
   "execution_count": 94,
   "id": "1b52e0ab-eb41-4ec0-8918-cd63dbf066e0",
   "metadata": {},
   "outputs": [
    {
     "data": {
      "text/plain": [
       "array([[[1., 1., 1., 1.],\n",
       "        [0., 0., 0., 0.],\n",
       "        [0., 0., 0., 0.]],\n",
       "\n",
       "       [[1., 1., 1., 1.],\n",
       "        [0., 0., 0., 0.],\n",
       "        [0., 0., 0., 0.]],\n",
       "\n",
       "       [[1., 1., 1., 1.],\n",
       "        [0., 0., 0., 0.],\n",
       "        [0., 0., 0., 0.]]])"
      ]
     },
     "execution_count": 94,
     "metadata": {},
     "output_type": "execute_result"
    }
   ],
   "source": [
    "np.stack([c1,c2,c3], axis=1)"
   ]
  },
  {
   "cell_type": "code",
   "execution_count": 95,
   "id": "b797d5ea-b5fc-4dc6-9ad3-c4036b5a6504",
   "metadata": {},
   "outputs": [
    {
     "data": {
      "text/plain": [
       "array([[[1., 0., 0.],\n",
       "        [1., 0., 0.],\n",
       "        [1., 0., 0.],\n",
       "        [1., 0., 0.]],\n",
       "\n",
       "       [[1., 0., 0.],\n",
       "        [1., 0., 0.],\n",
       "        [1., 0., 0.],\n",
       "        [1., 0., 0.]],\n",
       "\n",
       "       [[1., 0., 0.],\n",
       "        [1., 0., 0.],\n",
       "        [1., 0., 0.],\n",
       "        [1., 0., 0.]]])"
      ]
     },
     "execution_count": 95,
     "metadata": {},
     "output_type": "execute_result"
    }
   ],
   "source": [
    "np.stack([c1,c2,c3], axis=2)"
   ]
  },
  {
   "cell_type": "code",
   "execution_count": 96,
   "id": "a523f16c-ea38-4bef-b623-6188e19414cf",
   "metadata": {},
   "outputs": [],
   "source": [
    "d1 = np.ones((4,5))\n",
    "d2 = np.zeros((4,5))\n",
    "d3 = np.arange(20).reshape(4,5)"
   ]
  },
  {
   "cell_type": "code",
   "execution_count": 97,
   "id": "3a45839d-d45e-468c-9f6d-4aa9cffbf5a4",
   "metadata": {},
   "outputs": [
    {
     "data": {
      "text/plain": [
       "array([[1., 1., 1., 1., 1.],\n",
       "       [1., 1., 1., 1., 1.],\n",
       "       [1., 1., 1., 1., 1.],\n",
       "       [1., 1., 1., 1., 1.]])"
      ]
     },
     "execution_count": 97,
     "metadata": {},
     "output_type": "execute_result"
    }
   ],
   "source": [
    "d1"
   ]
  },
  {
   "cell_type": "code",
   "execution_count": 98,
   "id": "8b2eaba9-9450-467e-bd5e-01cde38a4221",
   "metadata": {},
   "outputs": [
    {
     "data": {
      "text/plain": [
       "array([[0., 0., 0., 0., 0.],\n",
       "       [0., 0., 0., 0., 0.],\n",
       "       [0., 0., 0., 0., 0.],\n",
       "       [0., 0., 0., 0., 0.]])"
      ]
     },
     "execution_count": 98,
     "metadata": {},
     "output_type": "execute_result"
    }
   ],
   "source": [
    "d2"
   ]
  },
  {
   "cell_type": "code",
   "execution_count": 99,
   "id": "915dae63-97f6-4d6a-a07f-9ecc59aa02b1",
   "metadata": {},
   "outputs": [
    {
     "data": {
      "text/plain": [
       "array([[ 0,  1,  2,  3,  4],\n",
       "       [ 5,  6,  7,  8,  9],\n",
       "       [10, 11, 12, 13, 14],\n",
       "       [15, 16, 17, 18, 19]])"
      ]
     },
     "execution_count": 99,
     "metadata": {},
     "output_type": "execute_result"
    }
   ],
   "source": [
    "d3"
   ]
  },
  {
   "cell_type": "code",
   "execution_count": 112,
   "id": "a4c45dd7-1c9d-4379-893b-986b61734ce9",
   "metadata": {},
   "outputs": [
    {
     "data": {
      "text/plain": [
       "array([[[ 1.,  0.,  0.],\n",
       "        [ 1.,  0.,  1.],\n",
       "        [ 1.,  0.,  2.],\n",
       "        [ 1.,  0.,  3.],\n",
       "        [ 1.,  0.,  4.]],\n",
       "\n",
       "       [[ 1.,  0.,  5.],\n",
       "        [ 1.,  0.,  6.],\n",
       "        [ 1.,  0.,  7.],\n",
       "        [ 1.,  0.,  8.],\n",
       "        [ 1.,  0.,  9.]],\n",
       "\n",
       "       [[ 1.,  0., 10.],\n",
       "        [ 1.,  0., 11.],\n",
       "        [ 1.,  0., 12.],\n",
       "        [ 1.,  0., 13.],\n",
       "        [ 1.,  0., 14.]],\n",
       "\n",
       "       [[ 1.,  0., 15.],\n",
       "        [ 1.,  0., 16.],\n",
       "        [ 1.,  0., 17.],\n",
       "        [ 1.,  0., 18.],\n",
       "        [ 1.,  0., 19.]]])"
      ]
     },
     "execution_count": 112,
     "metadata": {},
     "output_type": "execute_result"
    }
   ],
   "source": [
    "np.stack([d1,d2,d3], axis=2)"
   ]
  },
  {
   "cell_type": "code",
   "execution_count": 110,
   "id": "07dec5a9-51f8-4b8d-aafb-36e2420b2097",
   "metadata": {},
   "outputs": [
    {
     "name": "stdout",
     "output_type": "stream",
     "text": [
      "(3, 4, 5)\n",
      "(4, 3, 5)\n",
      "(4, 5, 3)\n"
     ]
    }
   ],
   "source": [
    "print(np.stack([d1,d2,d3], axis=0).shape)\n",
    "print(np.stack([d1,d2,d3], axis=1).shape)\n",
    "print(np.stack([d1,d2,d3], axis=2).shape)"
   ]
  },
  {
   "cell_type": "code",
   "execution_count": 142,
   "id": "b9d4e083-43a9-40c9-92a1-0acceae56c80",
   "metadata": {},
   "outputs": [
    {
     "data": {
      "text/plain": [
       "array([1, 2, 3, 4, 5, 6])"
      ]
     },
     "execution_count": 142,
     "metadata": {},
     "output_type": "execute_result"
    }
   ],
   "source": [
    "#np.r_ ==>배열을 axis 따라 좌우로 연결\n",
    "np.r_[np.array([1,2,3]), np.array([4,5,6])]"
   ]
  },
  {
   "cell_type": "code",
   "execution_count": 115,
   "id": "729e7aa4-c774-4ec7-b7a4-75255c02ad57",
   "metadata": {},
   "outputs": [
    {
     "data": {
      "text/plain": [
       "array([[1, 4],\n",
       "       [2, 5],\n",
       "       [3, 6]])"
      ]
     },
     "execution_count": 115,
     "metadata": {},
     "output_type": "execute_result"
    }
   ],
   "source": [
    "#np.c_ ==> 배열의 차원을 증가시킨 후 좌우로 연결\n",
    "np.c_[np.array([1,2,3]),np.array([4,5,6])]"
   ]
  },
  {
   "cell_type": "code",
   "execution_count": 116,
   "id": "af0bb9b3-6b5a-49b7-aeb8-95f8c0032f49",
   "metadata": {},
   "outputs": [
    {
     "data": {
      "text/plain": [
       "array([[0, 1, 2, 0, 1, 2],\n",
       "       [3, 4, 5, 3, 4, 5]])"
      ]
     },
     "execution_count": 116,
     "metadata": {},
     "output_type": "execute_result"
    }
   ],
   "source": [
    "#tile은 동일한 배열을 반복하여 연결\n",
    "a = np.array([[0,1,2],[3,4,5]])\n",
    "np.tile(a,2)"
   ]
  },
  {
   "cell_type": "code",
   "execution_count": 118,
   "id": "64bcd0a6-1d65-485c-9493-ccce52eb5785",
   "metadata": {},
   "outputs": [
    {
     "data": {
      "text/plain": [
       "array([[0, 1, 2, 0, 1, 2, 0, 1, 2],\n",
       "       [3, 4, 5, 3, 4, 5, 3, 4, 5],\n",
       "       [0, 1, 2, 0, 1, 2, 0, 1, 2],\n",
       "       [3, 4, 5, 3, 4, 5, 3, 4, 5],\n",
       "       [0, 1, 2, 0, 1, 2, 0, 1, 2],\n",
       "       [3, 4, 5, 3, 4, 5, 3, 4, 5],\n",
       "       [0, 1, 2, 0, 1, 2, 0, 1, 2],\n",
       "       [3, 4, 5, 3, 4, 5, 3, 4, 5]])"
      ]
     },
     "execution_count": 118,
     "metadata": {},
     "output_type": "execute_result"
    }
   ],
   "source": [
    "#4열3행을 각각 타일처럼 깔아줌\n",
    "np.tile(a,(4,3))"
   ]
  },
  {
   "cell_type": "code",
   "execution_count": 138,
   "id": "baf2b5fc-b035-4ff1-80c7-f37b0b6599fe",
   "metadata": {},
   "outputs": [
    {
     "data": {
      "text/plain": [
       "array([[  0.,   0.,   0.,   1.,   1.],\n",
       "       [  0.,   0.,   0.,   1.,   1.],\n",
       "       [  0.,   0.,   0.,   1.,   1.],\n",
       "       [ 10.,  20.,  30.,  40.,  50.],\n",
       "       [ 60.,  70.,  80.,  90., 100.],\n",
       "       [110., 120., 130., 140., 150.],\n",
       "       [  0.,   0.,   0.,   1.,   1.],\n",
       "       [  0.,   0.,   0.,   1.,   1.],\n",
       "       [  0.,   0.,   0.,   1.,   1.],\n",
       "       [ 10.,  20.,  30.,  40.,  50.],\n",
       "       [ 60.,  70.,  80.,  90., 100.],\n",
       "       [110., 120., 130., 140., 150.]])"
      ]
     },
     "execution_count": 138,
     "metadata": {},
     "output_type": "execute_result"
    }
   ],
   "source": [
    "a = np.zeros((3,3))\n",
    "b = np.ones((3,2))\n",
    "c = np.hstack([a,b])\n",
    "d = np.arange(10,151,10).reshape(3,5)\n",
    "e = np.vstack([c,d])\n",
    "np.tile(e,(2,1))"
   ]
  },
  {
   "cell_type": "code",
   "execution_count": 158,
   "id": "030e5332-4fc6-4a62-8ff9-f4c61f10aa07",
   "metadata": {},
   "outputs": [
    {
     "name": "stdout",
     "output_type": "stream",
     "text": [
      "[[0. 0. 0.]\n",
      " [0. 0. 0.]\n",
      " [0. 0. 0.]]\n",
      "[[1. 1. 1.]\n",
      " [1. 1. 1.]\n",
      " [1. 1. 1.]]\n",
      "[[0. 0. 0.]\n",
      " [0. 0. 0.]\n",
      " [0. 0. 0.]\n",
      " [1. 1. 1.]\n",
      " [1. 1. 1.]\n",
      " [1. 1. 1.]]\n",
      "[[0. 0. 0. 1. 1. 1.]\n",
      " [0. 0. 0. 1. 1. 1.]\n",
      " [0. 0. 0. 1. 1. 1.]]\n"
     ]
    }
   ],
   "source": [
    "a2 = np.ones((3,3))\n",
    "a1 = np.zeros((3,3))\n",
    "print(a1)\n",
    "print(a2)\n",
    "print(np.r_[a1, a2])\n",
    "print(np.hstack([a1,a2]))"
   ]
  },
  {
   "cell_type": "markdown",
   "id": "5a998d8e-bab7-4ab5-9ec8-f25f5982d9db",
   "metadata": {},
   "source": [
    "## 브로드캐스팅\n",
    "\n",
    "* 모양이 다른 배열 간의 연산이 가능하도록 배열의 크기를 변환시켜주는 것\n",
    "* 넘파이 배열의 shape을 우측 정렬하고 각 차원별로 \n",
    "* 브로드캐스팅이 가능하지 않을 때 ValueError발생"
   ]
  },
  {
   "cell_type": "code",
   "execution_count": 159,
   "id": "6ac6070d-fefc-4312-80dc-c7986a4122ab",
   "metadata": {},
   "outputs": [
    {
     "data": {
      "text/plain": [
       "array([2., 4., 6.])"
      ]
     },
     "execution_count": 159,
     "metadata": {},
     "output_type": "execute_result"
    }
   ],
   "source": [
    "#스칼라 곱\n",
    "a = np.array([1,2,3])\n",
    "b = 2.0\n",
    "a * b"
   ]
  },
  {
   "cell_type": "code",
   "execution_count": 160,
   "id": "73f710a0-c5a3-4f21-9fe8-02231d08d62a",
   "metadata": {},
   "outputs": [
    {
     "data": {
      "text/plain": [
       "array([2, 4, 6])"
      ]
     },
     "execution_count": 160,
     "metadata": {},
     "output_type": "execute_result"
    }
   ],
   "source": [
    "#배열간 곱\n",
    "a = np.array([1,2,3])\n",
    "b = np.array([2,2,2])\n",
    "a*b"
   ]
  },
  {
   "cell_type": "markdown",
   "id": "d0cbf8a5-ab3a-4e33-9d9a-c3815033be97",
   "metadata": {},
   "source": [
    "두 개의 연산과정은 같지만 스칼라 곱이 메모리를 적게 사용"
   ]
  },
  {
   "cell_type": "markdown",
   "id": "9ebf9634-a30f-4af7-a5d4-e39392bb701e",
   "metadata": {},
   "source": [
    "ex) 깊이X행X열  \n",
    "     A = 15X3X5   \n",
    "     B = 깊이(x)3X1   \n",
    "result = 15X3X5"
   ]
  },
  {
   "cell_type": "markdown",
   "id": "5691a7f6-d529-4c93-81c6-4b96ac5c79cd",
   "metadata": {},
   "source": [
    "## 차원 축소 연산"
   ]
  },
  {
   "cell_type": "code",
   "execution_count": 166,
   "id": "41ea3ac6-6164-4318-95e3-3cac3164ff39",
   "metadata": {},
   "outputs": [
    {
     "data": {
      "text/plain": [
       "10"
      ]
     },
     "execution_count": 166,
     "metadata": {},
     "output_type": "execute_result"
    }
   ],
   "source": [
    "x = np.array([1,2,3,4])\n",
    "np.sum(x)"
   ]
  },
  {
   "cell_type": "code",
   "execution_count": 165,
   "id": "573068e1-71cc-4a1c-b6e4-0ffb766e8f46",
   "metadata": {},
   "outputs": [
    {
     "data": {
      "text/plain": [
       "10"
      ]
     },
     "execution_count": 165,
     "metadata": {},
     "output_type": "execute_result"
    }
   ],
   "source": [
    "x.sum()"
   ]
  },
  {
   "cell_type": "code",
   "execution_count": 167,
   "id": "491b4e37-5fc8-4288-8679-5a81b99f20ec",
   "metadata": {},
   "outputs": [
    {
     "data": {
      "text/plain": [
       "array([[[ 0,  1],\n",
       "        [ 2,  3],\n",
       "        [ 4,  5],\n",
       "        [ 6,  7],\n",
       "        [ 8,  9]],\n",
       "\n",
       "       [[10, 11],\n",
       "        [12, 13],\n",
       "        [14, 15],\n",
       "        [16, 17],\n",
       "        [18, 19]]])"
      ]
     },
     "execution_count": 167,
     "metadata": {},
     "output_type": "execute_result"
    }
   ],
   "source": [
    "x = np.arange(20).reshape(2,5,-1)\n",
    "x"
   ]
  },
  {
   "cell_type": "code",
   "execution_count": 173,
   "id": "12df66b0-5157-490b-b1bc-64aa12d35476",
   "metadata": {},
   "outputs": [
    {
     "data": {
      "text/plain": [
       "array([[0, 0],\n",
       "       [0, 0]], dtype=int64)"
      ]
     },
     "execution_count": 173,
     "metadata": {},
     "output_type": "execute_result"
    }
   ],
   "source": [
    "#해당 배열의 제일 작은 값의 인덱스를 반환, 연산 대상이 2차원 이상일때 axis 사용가능\n",
    "x.argmin(axis=1)"
   ]
  },
  {
   "cell_type": "code",
   "execution_count": 172,
   "id": "d8be8f0e-de48-431e-99e1-fd328ec61b4a",
   "metadata": {},
   "outputs": [
    {
     "data": {
      "text/plain": [
       "array([[ 8,  9],\n",
       "       [18, 19]])"
      ]
     },
     "execution_count": 172,
     "metadata": {},
     "output_type": "execute_result"
    }
   ],
   "source": [
    "#해당 배열의 제일 큰 값의 결과를 반환, 연산 대상이 2차원 이상일때 axis 사용가능\n",
    "x.max(axis=1)"
   ]
  },
  {
   "cell_type": "code",
   "execution_count": 175,
   "id": "1f01eb9c-030f-4f85-84c2-2be52e857ab9",
   "metadata": {},
   "outputs": [
    {
     "data": {
      "text/plain": [
       "array([[1, 1],\n",
       "       [1, 1],\n",
       "       [1, 1],\n",
       "       [1, 1],\n",
       "       [1, 1]], dtype=int64)"
      ]
     },
     "execution_count": 175,
     "metadata": {},
     "output_type": "execute_result"
    }
   ],
   "source": [
    "#해당 배열의 제일 큰 값의 인덱스를 반환, 연산 대상이 2차원 이상일때 axis 사용가능\n",
    "x.argmax(axis=0) # (0, 10), (1,11) 비교 "
   ]
  },
  {
   "cell_type": "code",
   "execution_count": 176,
   "id": "219eaf6f-f51f-4799-a5e0-f35a6e26c737",
   "metadata": {},
   "outputs": [
    {
     "data": {
      "text/plain": [
       "array([[4, 4],\n",
       "       [4, 4]], dtype=int64)"
      ]
     },
     "execution_count": 176,
     "metadata": {},
     "output_type": "execute_result"
    }
   ],
   "source": [
    "x.argmax(axis=1) #(0,2,4,6,8) 비교 8의 인덱스 4반환"
   ]
  },
  {
   "cell_type": "code",
   "execution_count": 177,
   "id": "6238baa3-b44f-4d60-84b7-5c6afbaa06d7",
   "metadata": {},
   "outputs": [
    {
     "data": {
      "text/plain": [
       "array([[1, 1, 1, 1, 1],\n",
       "       [1, 1, 1, 1, 1]], dtype=int64)"
      ]
     },
     "execution_count": 177,
     "metadata": {},
     "output_type": "execute_result"
    }
   ],
   "source": [
    "x.argmax(axis=2) # (0,1), (2,3) 비교"
   ]
  },
  {
   "cell_type": "code",
   "execution_count": 178,
   "id": "347e143d-0c4b-41ad-b446-0324aaec05c4",
   "metadata": {},
   "outputs": [
    {
     "data": {
      "text/plain": [
       "9.5"
      ]
     },
     "execution_count": 178,
     "metadata": {},
     "output_type": "execute_result"
    }
   ],
   "source": [
    "#평균\n",
    "x.mean()"
   ]
  },
  {
   "cell_type": "code",
   "execution_count": 180,
   "id": "d31edf3d-8192-447b-9b0e-8e98322bfa1e",
   "metadata": {},
   "outputs": [
    {
     "data": {
      "text/plain": [
       "9.5"
      ]
     },
     "execution_count": 180,
     "metadata": {},
     "output_type": "execute_result"
    }
   ],
   "source": [
    "#중앙값\n",
    "np.median(x)"
   ]
  },
  {
   "cell_type": "code",
   "execution_count": 182,
   "id": "1734e67a-9345-4d3d-b7b2-e27341303615",
   "metadata": {},
   "outputs": [
    {
     "data": {
      "text/plain": [
       "False"
      ]
     },
     "execution_count": 182,
     "metadata": {},
     "output_type": "execute_result"
    }
   ],
   "source": [
    "#all은 배열 요소가 모두 True일때 True 반환\n",
    "np.all([True,True,False])"
   ]
  },
  {
   "cell_type": "code",
   "execution_count": 183,
   "id": "d945049e-3f2f-4391-ac53-53347455f10b",
   "metadata": {},
   "outputs": [
    {
     "data": {
      "text/plain": [
       "True"
      ]
     },
     "execution_count": 183,
     "metadata": {},
     "output_type": "execute_result"
    }
   ],
   "source": [
    "#any는 배열 요수중 하나라도 True이면 True 반환\n",
    "np.any([True,True,False])"
   ]
  },
  {
   "cell_type": "code",
   "execution_count": 187,
   "id": "9e7ad3df-79ed-4458-836f-89349aa4e968",
   "metadata": {},
   "outputs": [
    {
     "data": {
      "text/plain": [
       "False"
      ]
     },
     "execution_count": 187,
     "metadata": {},
     "output_type": "execute_result"
    }
   ],
   "source": [
    "a = np.zeros((100,100), dtype = np.int64)\n",
    "np.any(a != 0)# a중 0이 아닌게 하나라도 있는가"
   ]
  },
  {
   "cell_type": "code",
   "execution_count": 186,
   "id": "ecb324d0-adda-4d91-ad15-1ba15fa6e281",
   "metadata": {},
   "outputs": [
    {
     "data": {
      "text/plain": [
       "True"
      ]
     },
     "execution_count": 186,
     "metadata": {},
     "output_type": "execute_result"
    }
   ],
   "source": [
    "np.all(a ==a)"
   ]
  },
  {
   "cell_type": "code",
   "execution_count": 188,
   "id": "cceae76a-beb2-4d34-af11-bf1887ba7525",
   "metadata": {},
   "outputs": [],
   "source": [
    "practice = np.array([[1.1, 7.1, 8.0, 2.1, 6.5, 7.2],\n",
    "                                [2.7, 5.2, 3.3, 9.0, 7.7, 2.8],\n",
    "                                [0.7, 8.8, 4.2, 8.9, 4.3, 7.4],\n",
    "                                [8.2, 1.1, 5.4, 2.9, 6.9, 0.2],\n",
    "                                [7.4, 4.8, 2.7, 3.1, 2.8, 8.9]])"
   ]
  },
  {
   "cell_type": "code",
   "execution_count": 201,
   "id": "18e7d64d-00c7-408f-a2a5-f4aa24ff6c80",
   "metadata": {},
   "outputs": [
    {
     "data": {
      "text/plain": [
       "9.0"
      ]
     },
     "execution_count": 201,
     "metadata": {},
     "output_type": "execute_result"
    }
   ],
   "source": [
    "practice.max()"
   ]
  },
  {
   "cell_type": "code",
   "execution_count": 197,
   "id": "158ef11d-c336-43a3-8780-7db21680433c",
   "metadata": {},
   "outputs": [
    {
     "data": {
      "text/plain": [
       "array([20.1, 27. , 23.6, 26. , 28.2, 26.5])"
      ]
     },
     "execution_count": 197,
     "metadata": {},
     "output_type": "execute_result"
    }
   ],
   "source": [
    "practice.sum(axis=0)"
   ]
  },
  {
   "cell_type": "code",
   "execution_count": 198,
   "id": "ce67fd7d-e94c-4133-91ba-fb143cf77c3d",
   "metadata": {},
   "outputs": [
    {
     "data": {
      "text/plain": [
       "array([8.2, 8.8, 8. , 9. , 7.7, 8.9])"
      ]
     },
     "execution_count": 198,
     "metadata": {},
     "output_type": "execute_result"
    }
   ],
   "source": [
    "practice.max(axis=0)"
   ]
  },
  {
   "cell_type": "code",
   "execution_count": 199,
   "id": "9a6b4b46-3023-4e33-8d04-a9f2d9479cbc",
   "metadata": {},
   "outputs": [
    {
     "data": {
      "text/plain": [
       "array([5.33333333, 5.11666667, 5.71666667, 4.11666667, 4.95      ])"
      ]
     },
     "execution_count": 199,
     "metadata": {},
     "output_type": "execute_result"
    }
   ],
   "source": [
    "practice.mean(axis=1)"
   ]
  },
  {
   "cell_type": "code",
   "execution_count": 200,
   "id": "b289b5db-3fde-4d20-ae34-b018aee10dd2",
   "metadata": {},
   "outputs": [
    {
     "data": {
      "text/plain": [
       "array([1.1, 2.7, 0.7, 0.2, 2.7])"
      ]
     },
     "execution_count": 200,
     "metadata": {},
     "output_type": "execute_result"
    }
   ],
   "source": [
    "practice.min(axis=1)"
   ]
  },
  {
   "cell_type": "markdown",
   "id": "5d50c6a0-9309-4ef3-b0ca-2bd9916ed678",
   "metadata": {},
   "source": [
    "## 정렬\n",
    "\n",
    "np.sort()는 객체 자료 자체변화(in-place)메서드이므로 사용에 주의 해아함"
   ]
  },
  {
   "cell_type": "code",
   "execution_count": 202,
   "id": "e94d50e1-23d4-43d2-9121-29a69e6b441c",
   "metadata": {},
   "outputs": [],
   "source": [
    "a = np.array([[4,3,5,7],\n",
    "             [1,12,11,9],\n",
    "             [2,15,1,14]])"
   ]
  },
  {
   "cell_type": "code",
   "execution_count": 203,
   "id": "01c7b347-6428-4de3-bd31-b640650e6a9b",
   "metadata": {},
   "outputs": [
    {
     "data": {
      "text/plain": [
       "array([[ 3,  4,  5,  7],\n",
       "       [ 1,  9, 11, 12],\n",
       "       [ 1,  2, 14, 15]])"
      ]
     },
     "execution_count": 203,
     "metadata": {},
     "output_type": "execute_result"
    }
   ],
   "source": [
    "np.sort(a)# axis=1과 동일"
   ]
  },
  {
   "cell_type": "code",
   "execution_count": 204,
   "id": "a1629c38-1227-4f3e-8418-064b6760d1e4",
   "metadata": {},
   "outputs": [
    {
     "data": {
      "text/plain": [
       "array([[ 1,  3,  1,  7],\n",
       "       [ 2, 12,  5,  9],\n",
       "       [ 4, 15, 11, 14]])"
      ]
     },
     "execution_count": 204,
     "metadata": {},
     "output_type": "execute_result"
    }
   ],
   "source": [
    "np.sort(a,axis=0)"
   ]
  },
  {
   "cell_type": "markdown",
   "id": "4fceaa02-7f9b-483b-bbf6-d082e07c9ae4",
   "metadata": {},
   "source": [
    "정렬하는게 아닌 순서만 알고 싶을 경우 argsort사용"
   ]
  },
  {
   "cell_type": "code",
   "execution_count": 209,
   "id": "8ce129ab-1258-4525-95d8-03210f5343b0",
   "metadata": {},
   "outputs": [
    {
     "data": {
      "text/plain": [
       "array([2, 3, 1, 0], dtype=int64)"
      ]
     },
     "execution_count": 209,
     "metadata": {},
     "output_type": "execute_result"
    }
   ],
   "source": [
    "b = np.array([42,38,12,25])\n",
    "j = np.argsort(b)\n",
    "j#값이 작은 순서대로 index 반환"
   ]
  },
  {
   "cell_type": "code",
   "execution_count": 212,
   "id": "4edbdef5-ea82-4347-9ce9-4cfdcce2ce6c",
   "metadata": {},
   "outputs": [
    {
     "data": {
      "text/plain": [
       "array([12, 25, 38, 42])"
      ]
     },
     "execution_count": 212,
     "metadata": {},
     "output_type": "execute_result"
    }
   ],
   "source": [
    "b[j]# 작은 순서대로 배열 가져올 수 있다!"
   ]
  },
  {
   "cell_type": "markdown",
   "id": "63406fa1-0173-4e01-bf1b-b77135851941",
   "metadata": {},
   "source": [
    "## 고급 인덱싱\n",
    "\n",
    "인덱스 배열을 사용한 인덱싱"
   ]
  },
  {
   "cell_type": "code",
   "execution_count": 214,
   "id": "af0273a1-1064-4dc9-b15c-c85f0e76458d",
   "metadata": {},
   "outputs": [
    {
     "data": {
      "text/plain": [
       "array([[1, 2],\n",
       "       [3, 4],\n",
       "       [5, 6]])"
      ]
     },
     "execution_count": 214,
     "metadata": {},
     "output_type": "execute_result"
    }
   ],
   "source": [
    "a = np.array([[1,2],[3,4],[5,6]])\n",
    "a"
   ]
  },
  {
   "cell_type": "code",
   "execution_count": 218,
   "id": "9988889d-5854-4e14-a6cc-6d4f845473e0",
   "metadata": {},
   "outputs": [
    {
     "name": "stdout",
     "output_type": "stream",
     "text": [
      "[1 4 5]\n"
     ]
    }
   ],
   "source": [
    "print(a[[0,1,2],[0,1,0]]) #앞은 행의 대해서, 뒤는 열의 대해서 각각 매칭되어 값 호출"
   ]
  },
  {
   "cell_type": "code",
   "execution_count": 246,
   "id": "7e910cbd-08a3-4b46-842b-e61199debc05",
   "metadata": {},
   "outputs": [
    {
     "name": "stdout",
     "output_type": "stream",
     "text": [
      "[[1 2 1]\n",
      " [3 4 3]\n",
      " [5 6 5]]\n"
     ]
    }
   ],
   "source": [
    "print(a[:,[0,1,0]]) # ==> :(a전체) 에서 행별로 [0,1,0]을 각각 가져온다"
   ]
  },
  {
   "cell_type": "code",
   "execution_count": 228,
   "id": "422e9ca1-494c-4ece-b435-1868ce4160b4",
   "metadata": {},
   "outputs": [],
   "source": [
    "scores = np.array([[1,2,3,4],\n",
    "                   [46,99,100,71],\n",
    "                   [81,59,90,100]])"
   ]
  },
  {
   "cell_type": "code",
   "execution_count": 233,
   "id": "1566d63c-3441-475a-8f21-1608b67b5e60",
   "metadata": {},
   "outputs": [
    {
     "data": {
      "text/plain": [
       "array([0, 3, 1, 2], dtype=int64)"
      ]
     },
     "execution_count": 233,
     "metadata": {},
     "output_type": "execute_result"
    }
   ],
   "source": [
    "eng_rank = scores.argsort()[1]\n",
    "eng_rank"
   ]
  },
  {
   "cell_type": "code",
   "execution_count": 245,
   "id": "829554b0-7a1b-45f2-be9c-dc1e9720d414",
   "metadata": {},
   "outputs": [
    {
     "data": {
      "text/plain": [
       "array([[  1,   4,   2,   3],\n",
       "       [ 46,  71,  99, 100],\n",
       "       [ 81, 100,  59,  90]])"
      ]
     },
     "execution_count": 245,
     "metadata": {},
     "output_type": "execute_result"
    }
   ],
   "source": [
    "scores = np.array([[1,2,3,4],\n",
    "                   [46,99,100,71],\n",
    "                   [81,59,90,100]])\n",
    "eng_rank = scores.argsort()[1]\n",
    "scores[:, eng_rank]"
   ]
  },
  {
   "cell_type": "markdown",
   "id": "1a25010f-9463-47ae-b932-791136af6936",
   "metadata": {},
   "source": [
    "## 기술 통계"
   ]
  },
  {
   "cell_type": "code",
   "execution_count": 255,
   "id": "eb92c36c-13d7-4a58-b9c3-8901a9c40625",
   "metadata": {},
   "outputs": [
    {
     "data": {
      "text/plain": [
       "9.5"
      ]
     },
     "execution_count": 255,
     "metadata": {},
     "output_type": "execute_result"
    }
   ],
   "source": [
    "#표본 평균\n",
    "np.mean(x)"
   ]
  },
  {
   "cell_type": "code",
   "execution_count": 256,
   "id": "4295ee68-b9a7-4408-8ffb-31246d6948a8",
   "metadata": {},
   "outputs": [
    {
     "data": {
      "text/plain": [
       "33.25"
      ]
     },
     "execution_count": 256,
     "metadata": {},
     "output_type": "execute_result"
    }
   ],
   "source": [
    "#표본 분산\n",
    "np.var(x)"
   ]
  },
  {
   "cell_type": "code",
   "execution_count": 257,
   "id": "147cb56d-0397-4621-9da1-05711d63e673",
   "metadata": {},
   "outputs": [
    {
     "data": {
      "text/plain": [
       "5.766281297335398"
      ]
     },
     "execution_count": 257,
     "metadata": {},
     "output_type": "execute_result"
    }
   ],
   "source": [
    "#표준 편차\n",
    "np.std(x)"
   ]
  },
  {
   "cell_type": "code",
   "execution_count": 258,
   "id": "f410720d-1d9e-45ad-b406-3835de17ec89",
   "metadata": {},
   "outputs": [
    {
     "data": {
      "text/plain": [
       "9.5"
      ]
     },
     "execution_count": 258,
     "metadata": {},
     "output_type": "execute_result"
    }
   ],
   "source": [
    "#중앙값 == 가장 가운데에 있는 수 (짝수일경우 가운데 2개의 평균값)\n",
    "np.median(x)"
   ]
  },
  {
   "cell_type": "code",
   "execution_count": 261,
   "id": "585f547e-d621-4735-86bd-890aba7d5934",
   "metadata": {},
   "outputs": [
    {
     "data": {
      "text/plain": [
       "4.75"
      ]
     },
     "execution_count": 261,
     "metadata": {},
     "output_type": "execute_result"
    }
   ],
   "source": [
    "#사분위수\n",
    "np.percentile(x,25)# 25분위 수 == 1사분위 수\n",
    "np.percentile(x,50)#2사분위 수\n",
    "np.percentile(x,75)#3사분위 수"
   ]
  },
  {
   "cell_type": "markdown",
   "id": "052c3dec-1566-4f4f-8fb6-f468c0c1b2a8",
   "metadata": {},
   "source": [
    "## 난수 발생과 카운팅"
   ]
  },
  {
   "cell_type": "code",
   "execution_count": null,
   "id": "5ec8359c-f4a5-4dc0-a347-dba741cee587",
   "metadata": {},
   "outputs": [],
   "source": [
    "#파이썬의 random과 다름\n",
    "np.random"
   ]
  },
  {
   "cell_type": "markdown",
   "id": "1557c225-5ef7-46e1-9a69-b56d5de6be72",
   "metadata": {},
   "source": [
    "### 시드\n",
    "\n",
    "시드를 설정하면 random.rand의 숫자가 시드가 같으면 같은 숫자가 나옴"
   ]
  },
  {
   "cell_type": "code",
   "execution_count": 262,
   "id": "d8e1d7f9-402c-435c-b8be-1427a48459a5",
   "metadata": {},
   "outputs": [],
   "source": [
    "# 시드 설정하기\n",
    "np.random.seed(0)"
   ]
  },
  {
   "cell_type": "code",
   "execution_count": 264,
   "id": "4e320527-3502-4656-bf46-d24b47cc10e4",
   "metadata": {},
   "outputs": [
    {
     "data": {
      "text/plain": [
       "array([0.5488135 , 0.71518937, 0.60276338, 0.54488318, 0.4236548 ])"
      ]
     },
     "execution_count": 264,
     "metadata": {},
     "output_type": "execute_result"
    }
   ],
   "source": [
    "#다른 사람들이랑 같은 숫자 나옴(seed 0설정)\n",
    "np.random.rand(5)"
   ]
  },
  {
   "cell_type": "markdown",
   "id": "6112e312-2926-41c2-a753-0589dc0acdbd",
   "metadata": {},
   "source": [
    "### 데이터의 순서 바꾸기"
   ]
  },
  {
   "cell_type": "code",
   "execution_count": 265,
   "id": "2a70be3d-2716-45cd-8606-5ea4ea3d7104",
   "metadata": {},
   "outputs": [
    {
     "data": {
      "text/plain": [
       "array([0, 1, 2, 3, 4, 5, 6, 7, 8, 9])"
      ]
     },
     "execution_count": 265,
     "metadata": {},
     "output_type": "execute_result"
    }
   ],
   "source": [
    "x = np.arange(10)\n",
    "x"
   ]
  },
  {
   "cell_type": "code",
   "execution_count": 267,
   "id": "8dfd44a2-403b-4967-9f78-2c7da120c8ef",
   "metadata": {},
   "outputs": [
    {
     "data": {
      "text/plain": [
       "array([3, 1, 8, 7, 9, 0, 6, 4, 2, 5])"
      ]
     },
     "execution_count": 267,
     "metadata": {},
     "output_type": "execute_result"
    }
   ],
   "source": [
    "np.random.shuffle(x)\n",
    "x"
   ]
  },
  {
   "cell_type": "markdown",
   "id": "ea67c430-b884-4c61-b0cd-782b35c8b166",
   "metadata": {},
   "source": [
    "### 데이터 샘플링\n",
    "\n",
    "이미 있는 데이터 집합에서 일부를 무작위 선택하는것"
   ]
  },
  {
   "cell_type": "code",
   "execution_count": 269,
   "id": "1c766b77-c40f-4910-9de0-67327b7f3fc0",
   "metadata": {},
   "outputs": [
    {
     "data": {
      "text/plain": [
       "array([4, 2, 3, 1, 0])"
      ]
     },
     "execution_count": 269,
     "metadata": {},
     "output_type": "execute_result"
    }
   ],
   "source": [
    "np.random.choice(5,5, replace = False)#shuffle 명령과 같다"
   ]
  },
  {
   "cell_type": "code",
   "execution_count": 270,
   "id": "9c2fb84b-c58c-40af-8ce9-02ccf121194b",
   "metadata": {},
   "outputs": [
    {
     "data": {
      "text/plain": [
       "array([2, 3, 4])"
      ]
     },
     "execution_count": 270,
     "metadata": {},
     "output_type": "execute_result"
    }
   ],
   "source": [
    "np.random.choice(5,3, replace = False)#3개만 선택"
   ]
  },
  {
   "cell_type": "code",
   "execution_count": 272,
   "id": "28e3c01c-b48c-4ee1-87f3-999d4248d0fc",
   "metadata": {},
   "outputs": [
    {
     "data": {
      "text/plain": [
       "array([0, 3, 0, 2, 3, 0, 1, 3, 3, 3])"
      ]
     },
     "execution_count": 272,
     "metadata": {},
     "output_type": "execute_result"
    }
   ],
   "source": [
    "np.random.choice(5,10)#반복해서 10개 선택"
   ]
  },
  {
   "cell_type": "code",
   "execution_count": 274,
   "id": "14fdba1c-d952-4eaa-ada8-95b2b6b79ba6",
   "metadata": {},
   "outputs": [
    {
     "data": {
      "text/plain": [
       "array([0, 3, 3, 3, 3, 3, 2, 3, 3, 0])"
      ]
     },
     "execution_count": 274,
     "metadata": {},
     "output_type": "execute_result"
    }
   ],
   "source": [
    "np.random.choice(5,10, p=[0.1,0,0.3,0.6,0]) #선택 확률을 다르게 해서 10개 선택 1, 5는 확률 0, 3은 확률 60퍼라 많이나옴"
   ]
  },
  {
   "cell_type": "markdown",
   "id": "ea97b4c1-a599-412d-9849-e44e0f05f10e",
   "metadata": {},
   "source": [
    "### 난수 생성\n",
    "\n",
    "* rand : 0부터 1사이의 균일 분포\n",
    "* randn : 표준 정규 분포\n",
    "* randint : 균일 분포의 정수 난수"
   ]
  },
  {
   "cell_type": "code",
   "execution_count": 276,
   "id": "7d43c05b-33f1-44eb-ab5a-ec4f3e82dfee",
   "metadata": {},
   "outputs": [
    {
     "data": {
      "text/plain": [
       "array([[0.20887676, 0.16130952, 0.65310833, 0.2532916 , 0.46631077],\n",
       "       [0.24442559, 0.15896958, 0.11037514, 0.65632959, 0.13818295],\n",
       "       [0.19658236, 0.36872517, 0.82099323, 0.09710128, 0.83794491]])"
      ]
     },
     "execution_count": 276,
     "metadata": {},
     "output_type": "execute_result"
    }
   ],
   "source": [
    "#rand 함수는 0~1사이에서 균일한 확률 분포로 실수 난수를 생성\n",
    "np.random.rand(3,5)"
   ]
  },
  {
   "cell_type": "code",
   "execution_count": 279,
   "id": "147e36bd-1b2e-4be8-ba5a-e4dc6a325d1b",
   "metadata": {},
   "outputs": [
    {
     "data": {
      "text/plain": [
       "array([[ 0.4253934 , -0.02797118,  1.47598983,  0.6467801 , -0.36433431],\n",
       "       [-0.67877739, -0.35362786, -0.74074747, -0.67502183, -0.13278426],\n",
       "       [ 0.61980106,  1.79116846,  0.17100044, -1.72567135,  0.16065854]])"
      ]
     },
     "execution_count": 279,
     "metadata": {},
     "output_type": "execute_result"
    }
   ],
   "source": [
    "#randn 함수는 기댓값(mean)이 0, 표준편차가 1 인 표준정규분포를 따르는 난수 생성\n",
    "np.random.randn(3,5)"
   ]
  },
  {
   "cell_type": "code",
   "execution_count": 280,
   "id": "99c73de7-4e68-4266-851b-6725b11195d7",
   "metadata": {},
   "outputs": [],
   "source": [
    "#randint함수 ==> numpy.random.randint(low, high = None, size = None) high를 입력하지 않으면 0~low사이의 숫자를 입력하면 low~high사이의 숫자"
   ]
  },
  {
   "cell_type": "code",
   "execution_count": 281,
   "id": "c39b908d-de40-4d4c-ad63-408899d529d4",
   "metadata": {},
   "outputs": [
    {
     "data": {
      "text/plain": [
       "array([[16, 18, 12, 13, 10],\n",
       "       [10, 16, 10, 16, 13],\n",
       "       [13, 18, 18, 18, 12]])"
      ]
     },
     "execution_count": 281,
     "metadata": {},
     "output_type": "execute_result"
    }
   ],
   "source": [
    "np.random.randint(10,20, size=(3,5))"
   ]
  },
  {
   "cell_type": "code",
   "execution_count": 296,
   "id": "a0880101-9da8-4c97-884a-2ba40e1993ac",
   "metadata": {},
   "outputs": [
    {
     "name": "stdout",
     "output_type": "stream",
     "text": [
      "0.56\n"
     ]
    }
   ],
   "source": [
    "np.random.seed(0)\n",
    "x = np.random.randint(2, size=100)\n",
    "print(sum(x==1)/len(x))"
   ]
  },
  {
   "cell_type": "code",
   "execution_count": 4,
   "id": "7fc7c174-b95f-4092-921e-f844a7fad4c7",
   "metadata": {},
   "outputs": [
    {
     "name": "stdout",
     "output_type": "stream",
     "text": [
      "3.42\n",
      "3.42\n"
     ]
    }
   ],
   "source": [
    "np.random.seed(0)\n",
    "x = np.random.randint(1,7,100)\n",
    "print(sum(x)/len(x))\n",
    "print(x.mean())"
   ]
  },
  {
   "cell_type": "markdown",
   "id": "33615b75-9324-46a0-961f-f04262b54e57",
   "metadata": {},
   "source": [
    "### 정수 데이터 카운팅\n",
    "\n",
    "unique() 함수는 데이터에서 중복된 값을 제거하고 중복되지 않는 값의 리스트를 출력합니다.  \n",
    "return_counts 인수를 True 로 설정하면 각 값의 데이터 개수도 출력합니다."
   ]
  },
  {
   "cell_type": "code",
   "execution_count": 298,
   "id": "8338c0bd-0319-41b4-b5e1-8827fbd26552",
   "metadata": {},
   "outputs": [
    {
     "data": {
      "text/plain": [
       "array([ 2, 11, 34])"
      ]
     },
     "execution_count": 298,
     "metadata": {},
     "output_type": "execute_result"
    }
   ],
   "source": [
    "np.unique([11,11,2,2,34,34])"
   ]
  },
  {
   "cell_type": "code",
   "execution_count": 299,
   "id": "0d51228d-5cbb-4c7a-892d-bb3686c89295",
   "metadata": {},
   "outputs": [],
   "source": [
    "a = np.array(['a','b','b','c','a'])\n",
    "index, count =np.unique(a, return_counts=True)"
   ]
  },
  {
   "cell_type": "code",
   "execution_count": 300,
   "id": "0f90ecab-e380-4ece-97e1-d5125059a021",
   "metadata": {},
   "outputs": [
    {
     "data": {
      "text/plain": [
       "array(['a', 'b', 'c'], dtype='<U1')"
      ]
     },
     "execution_count": 300,
     "metadata": {},
     "output_type": "execute_result"
    }
   ],
   "source": [
    "index"
   ]
  },
  {
   "cell_type": "code",
   "execution_count": 301,
   "id": "99843173-f32b-4704-8a50-51429e8ffdc5",
   "metadata": {},
   "outputs": [
    {
     "data": {
      "text/plain": [
       "array([2, 2, 1], dtype=int64)"
      ]
     },
     "execution_count": 301,
     "metadata": {},
     "output_type": "execute_result"
    }
   ],
   "source": [
    "count"
   ]
  },
  {
   "cell_type": "code",
   "execution_count": 297,
   "id": "7197bfac-18d1-4b92-9b6a-cf551aff133a",
   "metadata": {},
   "outputs": [
    {
     "data": {
      "text/plain": [
       "array([0, 2, 3, 1, 0, 0], dtype=int64)"
      ]
     },
     "execution_count": 297,
     "metadata": {},
     "output_type": "execute_result"
    }
   ],
   "source": [
    "#한번도 나오지 않은 값에 대해서도 출력하려면 bincount사용\n",
    "np.bincount([1,1,2,2,2,3], minlength=6)# 1의 개수 2의 개수 3의 개수를 각각 구해줌"
   ]
  },
  {
   "cell_type": "markdown",
   "id": "528f7a4f-662a-4c85-a897-01dee99959fb",
   "metadata": {},
   "source": [
    "# 실습 문제"
   ]
  },
  {
   "cell_type": "code",
   "execution_count": 10,
   "id": "a02ef11b-7347-4138-9a6b-c548600c2c91",
   "metadata": {},
   "outputs": [
    {
     "data": {
      "text/plain": [
       "array([[ 8, 10, 12],\n",
       "       [14, 16, 18]])"
      ]
     },
     "execution_count": 10,
     "metadata": {},
     "output_type": "execute_result"
    }
   ],
   "source": [
    "a = np.arange(1,7).reshape(2,3)\n",
    "b = np.arange(7,13).reshape(2,3)\n",
    "a+b"
   ]
  },
  {
   "cell_type": "code",
   "execution_count": 11,
   "id": "355ee155-0ed7-421d-83c6-e160c27d75a7",
   "metadata": {},
   "outputs": [
    {
     "data": {
      "text/plain": [
       "array([ 3,  6,  9, 12, 15, 18, 21, 24, 27])"
      ]
     },
     "execution_count": 11,
     "metadata": {},
     "output_type": "execute_result"
    }
   ],
   "source": [
    "a = np.arange(1,10)\n",
    "a*3"
   ]
  },
  {
   "cell_type": "code",
   "execution_count": 17,
   "id": "3c0c025a-f30c-45af-9b3b-68973f7ea112",
   "metadata": {},
   "outputs": [
    {
     "data": {
      "text/plain": [
       "array([0., 0., 0., 0., 1., 0., 0., 0., 0., 0.])"
      ]
     },
     "execution_count": 25,
     "metadata": {},
     "output_type": "execute_result"
    }
   ],
   "source": [
    "a = np.zeros((1,10))\n",
    "a[0,4] = 1\n",
    "a"
   ]
  },
  {
   "cell_type": "code",
   "execution_count": 239,
   "id": "ef993038-964c-4e5c-813c-b660c15c871b",
   "metadata": {},
   "outputs": [
    {
     "data": {
      "text/plain": [
       "array([49, 48, 47, 46, 45, 44, 43, 42, 41, 40, 39, 38, 37, 36, 35, 34, 33,\n",
       "       32, 31, 30, 29, 28, 27, 26, 25, 24, 23, 22, 21, 20, 19, 18, 17, 16,\n",
       "       15, 14, 13, 12, 11, 10,  9,  8,  7,  6,  5,  4,  3,  2,  1])"
      ]
     },
     "execution_count": 239,
     "metadata": {},
     "output_type": "execute_result"
    }
   ],
   "source": [
    "a = np.arange(1,50)\n",
    "a[::-1]"
   ]
  },
  {
   "cell_type": "code",
   "execution_count": 49,
   "id": "e5f387d4-cd5e-4ccc-a1c6-797bdbbf7097",
   "metadata": {},
   "outputs": [
    {
     "data": {
      "text/plain": [
       "array([[['', '', ''],\n",
       "        ['', '', ''],\n",
       "        ['', '', '']],\n",
       "\n",
       "       [['', '', ''],\n",
       "        ['', '', ''],\n",
       "        ['', '', '']],\n",
       "\n",
       "       [['', '', ''],\n",
       "        ['', '', ''],\n",
       "        ['', '', '']]], dtype='<U10')"
      ]
     },
     "execution_count": 49,
     "metadata": {},
     "output_type": "execute_result"
    }
   ],
   "source": [
    "a = np.empty((3,3,3), dtype='U10')\n",
    "a"
   ]
  },
  {
   "cell_type": "code",
   "execution_count": 51,
   "id": "c5d9e10e-f7a7-44a6-aced-84424c3dcd2d",
   "metadata": {
    "tags": []
   },
   "outputs": [
    {
     "data": {
      "text/plain": [
       "array([[['Playdata', 'Playdata', 'Playdata'],\n",
       "        ['Playdata', 'Playdata', 'Playdata'],\n",
       "        ['Playdata', 'Playdata', 'Playdata']],\n",
       "\n",
       "       [['Playdata', 'Playdata', 'Playdata'],\n",
       "        ['Playdata', 'Playdata', 'Playdata'],\n",
       "        ['Playdata', 'Playdata', 'Playdata']],\n",
       "\n",
       "       [['Playdata', 'Playdata', 'Playdata'],\n",
       "        ['Playdata', 'Playdata', 'Playdata'],\n",
       "        ['Playdata', 'Playdata', 'Playdata']]], dtype='<U8')"
      ]
     },
     "execution_count": 51,
     "metadata": {},
     "output_type": "execute_result"
    }
   ],
   "source": [
    "np.full((3,3,3), 'Playdata')"
   ]
  },
  {
   "cell_type": "code",
   "execution_count": 56,
   "id": "b6564e85-eb91-4397-b04c-5cf1e49a1eb4",
   "metadata": {},
   "outputs": [
    {
     "data": {
      "text/plain": [
       "array([[[ 2,  4,  6,  8, 10],\n",
       "        [12, 14, 16, 18, 20]],\n",
       "\n",
       "       [[22, 24, 26, 28, 30],\n",
       "        [32, 34, 36, 38, 40]]])"
      ]
     },
     "execution_count": 56,
     "metadata": {},
     "output_type": "execute_result"
    }
   ],
   "source": [
    "a = np.arange(2,41,2).reshape(2,2,5)\n",
    "a"
   ]
  },
  {
   "cell_type": "code",
   "execution_count": 63,
   "id": "ab867d40-ec3a-4318-ac10-571cc5883186",
   "metadata": {},
   "outputs": [
    {
     "data": {
      "text/plain": [
       "array([[1, 0, 0, 0],\n",
       "       [0, 1, 0, 0],\n",
       "       [0, 0, 1, 0],\n",
       "       [0, 0, 0, 1]], dtype=int32)"
      ]
     },
     "execution_count": 63,
     "metadata": {},
     "output_type": "execute_result"
    }
   ],
   "source": [
    "np.eye(4, dtype='i')"
   ]
  },
  {
   "cell_type": "code",
   "execution_count": 69,
   "id": "1c2c00cc-c951-4868-98c7-0726dd82e3e0",
   "metadata": {},
   "outputs": [
    {
     "data": {
      "text/plain": [
       "array([[False,  True,  True],\n",
       "       [False,  True,  True],\n",
       "       [ True,  True,  True]])"
      ]
     },
     "execution_count": 69,
     "metadata": {},
     "output_type": "execute_result"
    }
   ],
   "source": [
    "np.random.seed(0)\n",
    "np.random.randint(2, size=(3,3)).astype(bool)"
   ]
  },
  {
   "cell_type": "code",
   "execution_count": 73,
   "id": "db5409c6-3f2c-488b-a6ce-8b46ea343f13",
   "metadata": {},
   "outputs": [
    {
     "data": {
      "text/plain": [
       "array([5, 7, 6, 5, 4, 6, 4, 8, 9, 3])"
      ]
     },
     "execution_count": 73,
     "metadata": {},
     "output_type": "execute_result"
    }
   ],
   "source": [
    "np.random.seed(0)\n",
    "(np.random.rand(10) *10).astype(int)"
   ]
  },
  {
   "cell_type": "code",
   "execution_count": 112,
   "id": "871a8806-33ef-47b6-9f51-293cdf62e061",
   "metadata": {},
   "outputs": [
    {
     "data": {
      "text/plain": [
       "array([[0., 0., 0., 0., 0., 0., 0., 0., 0., 0.],\n",
       "       [0., 1., 1., 1., 1., 1., 1., 1., 1., 0.],\n",
       "       [0., 1., 1., 1., 1., 1., 1., 1., 1., 0.],\n",
       "       [0., 1., 1., 1., 1., 1., 1., 1., 1., 0.],\n",
       "       [0., 1., 1., 1., 1., 1., 1., 1., 1., 0.],\n",
       "       [0., 1., 1., 1., 1., 1., 1., 1., 1., 0.],\n",
       "       [0., 1., 1., 1., 1., 1., 1., 1., 1., 0.],\n",
       "       [0., 1., 1., 1., 1., 1., 1., 1., 1., 0.],\n",
       "       [0., 1., 1., 1., 1., 1., 1., 1., 1., 0.],\n",
       "       [0., 0., 0., 0., 0., 0., 0., 0., 0., 0.]])"
      ]
     },
     "execution_count": 112,
     "metadata": {},
     "output_type": "execute_result"
    }
   ],
   "source": [
    "a =np.ones((10,10))\n",
    "a[[0,-1] ,:] =0\n",
    "a[:,[0,-1]]=0\n",
    "a"
   ]
  },
  {
   "cell_type": "code",
   "execution_count": 168,
   "id": "32547e86-a158-44ac-aaca-2e2dd9196bcf",
   "metadata": {},
   "outputs": [
    {
     "data": {
      "text/plain": [
       "array([[1., 0., 1., 0., 1., 0., 1., 0.],\n",
       "       [0., 1., 0., 1., 0., 1., 0., 1.],\n",
       "       [1., 0., 1., 0., 1., 0., 1., 0.],\n",
       "       [0., 1., 0., 1., 0., 1., 0., 1.],\n",
       "       [1., 0., 1., 0., 1., 0., 1., 0.],\n",
       "       [0., 1., 0., 1., 0., 1., 0., 1.],\n",
       "       [1., 0., 1., 0., 1., 0., 1., 0.],\n",
       "       [0., 1., 0., 1., 0., 1., 0., 1.]])"
      ]
     },
     "execution_count": 168,
     "metadata": {},
     "output_type": "execute_result"
    }
   ],
   "source": [
    "a = np.ones((8,8))\n",
    "a[1::2,:]=0\n",
    "a[:,1::2]=0\n",
    "a[1::2,1::2] = 1\n",
    "a"
   ]
  },
  {
   "cell_type": "code",
   "execution_count": 190,
   "id": "de84ea7a-d3fd-4ee3-b378-73441db3574a",
   "metadata": {},
   "outputs": [
    {
     "data": {
      "text/plain": [
       "array([[1, 0, 1, 0, 1, 0, 1, 0],\n",
       "       [0, 1, 0, 1, 0, 1, 0, 1],\n",
       "       [1, 0, 1, 0, 1, 0, 1, 0],\n",
       "       [0, 1, 0, 1, 0, 1, 0, 1],\n",
       "       [1, 0, 1, 0, 1, 0, 1, 0],\n",
       "       [0, 1, 0, 1, 0, 1, 0, 1],\n",
       "       [1, 0, 1, 0, 1, 0, 1, 0],\n",
       "       [0, 1, 0, 1, 0, 1, 0, 1]])"
      ]
     },
     "execution_count": 190,
     "metadata": {},
     "output_type": "execute_result"
    }
   ],
   "source": [
    "a = np.ones((8,8), dtype=int)\n",
    "a[1::2,::2] = 0\n",
    "a[::2,1::2] = 0\n",
    "a"
   ]
  },
  {
   "cell_type": "code",
   "execution_count": 211,
   "id": "b60c0d43-2a8b-48e5-8368-d209736566bb",
   "metadata": {
    "tags": []
   },
   "outputs": [
    {
     "data": {
      "text/plain": [
       "array([[1., 0., 1., 0., 1., 0., 1., 0.],\n",
       "       [0., 1., 0., 1., 0., 1., 0., 1.],\n",
       "       [1., 0., 1., 0., 1., 0., 1., 0.],\n",
       "       [0., 1., 0., 1., 0., 1., 0., 1.],\n",
       "       [1., 0., 1., 0., 1., 0., 1., 0.],\n",
       "       [0., 1., 0., 1., 0., 1., 0., 1.],\n",
       "       [1., 0., 1., 0., 1., 0., 1., 0.],\n",
       "       [0., 1., 0., 1., 0., 1., 0., 1.]])"
      ]
     },
     "execution_count": 211,
     "metadata": {},
     "output_type": "execute_result"
    }
   ],
   "source": [
    "a = np.eye(2)\n",
    "np.tile(a,(4,4))"
   ]
  },
  {
   "cell_type": "code",
   "execution_count": 220,
   "id": "f141124c-014b-4154-9424-d55f4087560d",
   "metadata": {
    "tags": []
   },
   "outputs": [
    {
     "data": {
      "text/plain": [
       "array([False,  True, False,  True])"
      ]
     },
     "execution_count": 220,
     "metadata": {},
     "output_type": "execute_result"
    }
   ],
   "source": [
    "a = np.arange(1,5)\n",
    "even = np.array([True if i%2 ==0 else False for i in range(1,5)])\n",
    "even"
   ]
  },
  {
   "cell_type": "code",
   "execution_count": 217,
   "id": "7692162a-0dd6-4bbb-9870-36cf713f8c30",
   "metadata": {
    "tags": []
   },
   "outputs": [
    {
     "data": {
      "text/plain": [
       "array([ 0,  1,  2,  3, -4, -5, -6,  7,  8,  9, 10])"
      ]
     },
     "execution_count": 217,
     "metadata": {},
     "output_type": "execute_result"
    }
   ],
   "source": [
    "a = np.arange(11)\n",
    "minus = np.array([-1 if 3 < i < 7 else 1 for i in range(11)])\n",
    "a * minus"
   ]
  },
  {
   "cell_type": "code",
   "execution_count": 250,
   "id": "adbe1978-5707-483c-8cb0-c3df9d8015dc",
   "metadata": {},
   "outputs": [
    {
     "data": {
      "text/plain": [
       "1683"
      ]
     },
     "execution_count": 250,
     "metadata": {},
     "output_type": "execute_result"
    }
   ],
   "source": [
    "sum(np.arange(3,101,3))"
   ]
  },
  {
   "cell_type": "code",
   "execution_count": 254,
   "id": "c42009d7-1d7a-4f74-a101-95788b6fc90d",
   "metadata": {},
   "outputs": [
    {
     "data": {
      "text/plain": [
       "array([0.1, 0.2, 0.3, 0.4, 0.5, 0.6, 0.7, 0.8, 0.9])"
      ]
     },
     "execution_count": 254,
     "metadata": {},
     "output_type": "execute_result"
    }
   ],
   "source": [
    "np.linspace(0.1,0.9,9)"
   ]
  },
  {
   "cell_type": "code",
   "execution_count": 1,
   "id": "e07b595f-7538-47a7-9e03-8426cad36a9f",
   "metadata": {},
   "outputs": [
    {
     "name": "stdin",
     "output_type": "stream",
     "text": [
      "자연수를 입력해주세요 3\n"
     ]
    },
    {
     "data": {
      "text/plain": [
       "[array([ 2, 12, 17, 37, 40, 45]),\n",
       " array([12, 13, 19, 26, 36, 41]),\n",
       " array([10, 15, 21, 23, 27, 43])]"
      ]
     },
     "metadata": {},
     "output_type": "display_data"
    }
   ],
   "source": [
    "import numpy as np\n",
    "while True:\n",
    "    try:\n",
    "        count = int(input(\"자연수를 입력해주세요\"))\n",
    "        if count <= 0:\n",
    "            raise Error\n",
    "        numbers = np.arange(1,46)\n",
    "        lottos = [np.sort(np.random.choice(numbers,6,replace =False)) for _ in range(count)]\n",
    "        display(lottos)\n",
    "        break\n",
    "    except:\n",
    "        print(\"자연수를 입력해주세요\")\n",
    "    "
   ]
  },
  {
   "cell_type": "code",
   "execution_count": 1,
   "id": "9e4160c0-6788-4632-a253-9cbd31669dc2",
   "metadata": {},
   "outputs": [
    {
     "name": "stdin",
     "output_type": "stream",
     "text": [
      "자연수를 입력해주세요 a\n"
     ]
    },
    {
     "name": "stdout",
     "output_type": "stream",
     "text": [
      "자연수를 입력해주세요\n"
     ]
    },
    {
     "name": "stdin",
     "output_type": "stream",
     "text": [
      "자연수를 입력해주세요 3\n"
     ]
    },
    {
     "data": {
      "text/plain": [
       "array([[ 9, 10, 21, 30, 41, 45],\n",
       "       [ 8, 14, 22, 25, 29, 35],\n",
       "       [ 4, 12, 16, 27, 28, 39]])"
      ]
     },
     "metadata": {},
     "output_type": "display_data"
    }
   ],
   "source": [
    "import numpy as np\n",
    "while True:\n",
    "    try:\n",
    "        num = int(input(\"자연수를 입력해주세요\"))\n",
    "        if num <= 0:\n",
    "            raise Error\n",
    "        nums= np.arange(1,46)\n",
    "        lottos = np.sort(np.random.choice(nums,size=(num,6),replace =False))\n",
    "        display(lottos)\n",
    "        break\n",
    "    except:\n",
    "        print(\"자연수를 입력해주세요\")"
   ]
  },
  {
   "cell_type": "code",
   "execution_count": 47,
   "id": "62fb7161-ea75-418b-b623-705d97e43013",
   "metadata": {},
   "outputs": [
    {
     "name": "stdin",
     "output_type": "stream",
     "text": [
      "자연수를 입력해주세요 0\n"
     ]
    },
    {
     "name": "stdout",
     "output_type": "stream",
     "text": [
      "자연수를 입력해주세요\n"
     ]
    },
    {
     "name": "stdin",
     "output_type": "stream",
     "text": [
      "자연수를 입력해주세요 1\n"
     ]
    },
    {
     "name": "stdout",
     "output_type": "stream",
     "text": [
      "[[32 23  8 27 28  4]]\n"
     ]
    }
   ],
   "source": [
    "import numpy as np\n",
    "\n",
    "while True:\n",
    "    try:\n",
    "        num = int(input(\"자연수를 입력해주세요\"))\n",
    "        if num <= 0:\n",
    "            contunue\n",
    "        print(np.random.choice(np.arange(1,46), size = (num,6) , replace =False))\n",
    "        break\n",
    "    except:\n",
    "        print(\"자연수를 입력해주세요\")"
   ]
  },
  {
   "cell_type": "code",
   "execution_count": 3,
   "id": "ca1af883-eed3-45c4-bee7-a06fb48b054d",
   "metadata": {},
   "outputs": [],
   "source": [
    "resp_time = np. array([158,  85, 205,  24,  42, 175, 188, 149, 153, 171, 137,  55, 108,\n",
    "                       199, 177, 209, 218,  76, 103, 189, 110, 192, 136, 119,   4, 102,\n",
    "                       177, 212, 110,  37, 163,  32,  77,  22, 125, 184,  46, 139,  72,\n",
    "                       168, 133, 209, 148,  47, 102,  65, 160,  56,  11,  96, 169, 118,\n",
    "                        55, 135, 217,  49, 100,  85, 179,  15, 139, 199, 124, 142,  15,\n",
    "                        49, 168, 171, 168, 177, 147,  23, 199,  26,  51,  42,  90, 128,\n",
    "                       186, 169, 129,  70, 198, 111,  81, 150,  17, 177, 201,  10,  75,\n",
    "                       199,  55, 151, 183, 152, 119, 193, 110, 204])\n"
   ]
  },
  {
   "cell_type": "code",
   "execution_count": 7,
   "id": "15a63ebb-1709-4fc3-b468-31c2239f8086",
   "metadata": {},
   "outputs": [
    {
     "data": {
      "text/plain": [
       "array([False, False,  True, False, False, False, False, False, False,\n",
       "       False, False, False, False, False, False,  True,  True, False,\n",
       "       False, False, False, False, False, False, False, False, False,\n",
       "        True, False, False, False, False, False, False, False, False,\n",
       "       False, False, False, False, False,  True, False, False, False,\n",
       "       False, False, False, False, False, False, False, False, False,\n",
       "        True, False, False, False, False, False, False, False, False,\n",
       "       False, False, False, False, False, False, False, False, False,\n",
       "       False, False, False, False, False, False, False, False, False,\n",
       "       False, False, False, False, False, False, False,  True, False,\n",
       "       False, False, False, False, False, False, False, False, False,\n",
       "        True])"
      ]
     },
     "execution_count": 7,
     "metadata": {},
     "output_type": "execute_result"
    }
   ],
   "source": [
    "a = (200 <= resp_time)\n",
    "a"
   ]
  },
  {
   "cell_type": "code",
   "execution_count": 44,
   "id": "0c497547-829b-4ddd-8ff1-92a47de904cf",
   "metadata": {},
   "outputs": [
    {
     "name": "stdout",
     "output_type": "stream",
     "text": [
      "71.5\n",
      "131.0\n",
      "175.5\n",
      "71.5\n"
     ]
    }
   ],
   "source": [
    "print(np.percentile(resp_time,25))\n",
    "print(np.percentile(resp_time,50))\n",
    "print(np.percentile(resp_time,75))\n",
    "print(np.quantile(resp_time, 0.25))"
   ]
  },
  {
   "cell_type": "code",
   "execution_count": 42,
   "id": "d15b85c3-46e2-4f41-b4b2-8b68dfdc0004",
   "metadata": {},
   "outputs": [
    {
     "data": {
      "text/plain": [
       "71.5"
      ]
     },
     "execution_count": 42,
     "metadata": {},
     "output_type": "execute_result"
    }
   ],
   "source": [
    "np.quantile(resp_time, 0.25)"
   ]
  },
  {
   "cell_type": "code",
   "execution_count": 110,
   "id": "8aacd28b-5f47-43c9-ac15-c6e9374ddc90",
   "metadata": {},
   "outputs": [
    {
     "name": "stdout",
     "output_type": "stream",
     "text": [
      "뽀로로가 81표로 반장으로 선출되었습니다.\n"
     ]
    }
   ],
   "source": [
    "p = [\"뽀로로\", \"루피\", \"크롱\"]\n",
    "result = np.array([2, 1, 2, 2, 2, 2, 0, 2, 1, 1, 0, 0, 2, 0, 0, 1, 1, 2, 2, 2, 1, 1,\n",
    "                   1, 2, 0, 2, 2, 0, 1, 1, 0, 2, 1, 0, 1, 2, 0, 0, 1, 0, 1, 1, 1, 2,\n",
    "                   1, 1, 1, 0, 0, 0, 0, 1, 0, 0, 2, 0, 2, 2, 0, 0, 1, 1, 1, 0, 0, 2,\n",
    "                   2, 1, 0, 1, 2, 0, 2, 0, 0, 0, 2, 0, 0, 0, 0, 0, 1, 2, 1, 1, 2, 0,\n",
    "                   2, 0, 0, 0, 0, 2, 1, 2, 0, 2, 0, 0, 1, 0, 1, 2, 1, 2, 0, 2, 2, 1,\n",
    "                   2, 0, 0, 1, 1, 0, 1, 2, 1, 2, 0, 2, 2, 2, 2, 0, 2, 2, 0, 2, 0, 2,\n",
    "                   1, 1, 2, 1, 1, 0, 0, 1, 0, 0, 0, 2, 2, 0, 2, 0, 0, 0, 2, 0, 0, 0,\n",
    "                   2, 0, 1, 2, 1, 0, 2, 0, 0, 1, 2, 1, 1, 2, 2, 0, 0, 0, 0, 2, 2, 1,\n",
    "                   0, 1, 1, 2, 2, 1, 0, 0, 2, 0, 0, 0, 2, 0, 2, 2, 0, 2, 1, 0, 0, 2,\n",
    "                   0, 1])\n",
    "a = np.bincount(result,minlength =3)\n",
    "print('{}가 {}표로 반장으로 선출되었습니다.'.format(p[a.argmax()],a.max()))"
   ]
  },
  {
   "cell_type": "code",
   "execution_count": 10,
   "id": "d1e1d5ba-7887-48d9-8bef-3da553e566e0",
   "metadata": {},
   "outputs": [
    {
     "name": "stdout",
     "output_type": "stream",
     "text": [
      "뽀로로가 81표로 반장으로 선출되었습니다.\n"
     ]
    }
   ],
   "source": [
    "p = [\"뽀로로\", \"루피\", \"크롱\"]\n",
    "result = np.array([2, 1, 2, 2, 2, 2, 0, 2, 1, 1, 0, 0, 2, 0, 0, 1, 1, 2, 2, 2, 1, 1,\n",
    "                   1, 2, 0, 2, 2, 0, 1, 1, 0, 2, 1, 0, 1, 2, 0, 0, 1, 0, 1, 1, 1, 2,\n",
    "                   1, 1, 1, 0, 0, 0, 0, 1, 0, 0, 2, 0, 2, 2, 0, 0, 1, 1, 1, 0, 0, 2,\n",
    "                   2, 1, 0, 1, 2, 0, 2, 0, 0, 0, 2, 0, 0, 0, 0, 0, 1, 2, 1, 1, 2, 0,\n",
    "                   2, 0, 0, 0, 0, 2, 1, 2, 0, 2, 0, 0, 1, 0, 1, 2, 1, 2, 0, 2, 2, 1,\n",
    "                   2, 0, 0, 1, 1, 0, 1, 2, 1, 2, 0, 2, 2, 2, 2, 0, 2, 2, 0, 2, 0, 2,\n",
    "                   1, 1, 2, 1, 1, 0, 0, 1, 0, 0, 0, 2, 2, 0, 2, 0, 0, 0, 2, 0, 0, 0,\n",
    "                   2, 0, 1, 2, 1, 0, 2, 0, 0, 1, 2, 1, 1, 2, 2, 0, 0, 0, 0, 2, 2, 1,\n",
    "                   0, 1, 1, 2, 2, 1, 0, 0, 2, 0, 0, 0, 2, 0, 2, 2, 0, 2, 1, 0, 0, 2,\n",
    "                   0, 1])\n",
    "index, count =np.unique(result, return_counts=True)\n",
    "print('{}가 {}표로 반장으로 선출되었습니다.'.format(p[count.argmax()],count.max()))"
   ]
  },
  {
   "cell_type": "code",
   "execution_count": null,
   "id": "49283f94-2ab5-45ea-9eca-43ffac2ef721",
   "metadata": {},
   "outputs": [],
   "source": []
  }
 ],
 "metadata": {
  "kernelspec": {
   "display_name": "Python 3 (ipykernel)",
   "language": "python",
   "name": "python3"
  },
  "language_info": {
   "codemirror_mode": {
    "name": "ipython",
    "version": 3
   },
   "file_extension": ".py",
   "mimetype": "text/x-python",
   "name": "python",
   "nbconvert_exporter": "python",
   "pygments_lexer": "ipython3",
   "version": "3.9.12"
  }
 },
 "nbformat": 4,
 "nbformat_minor": 5
}
