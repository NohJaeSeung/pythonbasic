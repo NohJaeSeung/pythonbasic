{
 "cells": [
  {
   "cell_type": "code",
   "execution_count": 2,
   "id": "d6b68bfa-40f3-434f-9377-8b147506b161",
   "metadata": {},
   "outputs": [],
   "source": [
    "import pandas as pd\n",
    "import numpy as np"
   ]
  },
  {
   "cell_type": "code",
   "execution_count": 3,
   "id": "03b5e161-b829-4dea-8002-3760c15fe114",
   "metadata": {},
   "outputs": [
    {
     "data": {
      "text/plain": [
       "0        0\n",
       "1        1\n",
       "2        2\n",
       "3        3\n",
       "4        4\n",
       "      ... \n",
       "495    495\n",
       "496    496\n",
       "497    497\n",
       "498    498\n",
       "499    499\n",
       "Length: 500, dtype: int64"
      ]
     },
     "execution_count": 3,
     "metadata": {},
     "output_type": "execute_result"
    }
   ],
   "source": [
    "nums = pd.Series(range(500))\n",
    "nums"
   ]
  },
  {
   "cell_type": "code",
   "execution_count": 4,
   "id": "e34bb116-4e0a-46f3-a43d-783479e8f122",
   "metadata": {},
   "outputs": [
    {
     "data": {
      "text/plain": [
       "0    0\n",
       "1    1\n",
       "2    2\n",
       "3    3\n",
       "4    4\n",
       "5    5\n",
       "6    6\n",
       "7    7\n",
       "8    8\n",
       "9    9\n",
       "dtype: int64"
      ]
     },
     "execution_count": 4,
     "metadata": {},
     "output_type": "execute_result"
    }
   ],
   "source": [
    "nums.head(10)"
   ]
  },
  {
   "cell_type": "code",
   "execution_count": 5,
   "id": "6de370f4-cdeb-475e-ba05-1d37f2c50660",
   "metadata": {},
   "outputs": [
    {
     "data": {
      "text/plain": [
       "490    490\n",
       "491    491\n",
       "492    492\n",
       "493    493\n",
       "494    494\n",
       "495    495\n",
       "496    496\n",
       "497    497\n",
       "498    498\n",
       "499    499\n",
       "dtype: int64"
      ]
     },
     "execution_count": 5,
     "metadata": {},
     "output_type": "execute_result"
    }
   ],
   "source": [
    "nums.tail(10)"
   ]
  },
  {
   "cell_type": "code",
   "execution_count": 6,
   "id": "615af08a-7e99-4c01-ad38-cf1c8cb8e2e1",
   "metadata": {},
   "outputs": [
    {
     "data": {
      "text/plain": [
       "0    1.0\n",
       "1    2.0\n",
       "2    NaN\n",
       "3    4.0\n",
       "4    5.0\n",
       "dtype: float64"
      ]
     },
     "execution_count": 6,
     "metadata": {},
     "output_type": "execute_result"
    }
   ],
   "source": [
    "nums = pd.Series([1,2,np.nan,4,5])\n",
    "nums"
   ]
  },
  {
   "cell_type": "code",
   "execution_count": 8,
   "id": "81136174-d32c-437b-9d9a-fd0c0dc531a4",
   "metadata": {},
   "outputs": [
    {
     "data": {
      "text/plain": [
       "0    h\n",
       "1    e\n",
       "2    l\n",
       "3    l\n",
       "4    o\n",
       "dtype: object"
      ]
     },
     "execution_count": 8,
     "metadata": {},
     "output_type": "execute_result"
    }
   ],
   "source": [
    "hello = pd.Series(list('hello'))\n",
    "hello"
   ]
  },
  {
   "cell_type": "code",
   "execution_count": 10,
   "id": "5503daa3-703e-4488-ace3-6d211b1c62f2",
   "metadata": {},
   "outputs": [
    {
     "data": {
      "text/plain": [
       "4"
      ]
     },
     "execution_count": 10,
     "metadata": {},
     "output_type": "execute_result"
    }
   ],
   "source": [
    "#h e l o 고유값만 세어줌\n",
    "hello.nunique()"
   ]
  },
  {
   "cell_type": "code",
   "execution_count": 11,
   "id": "b9436a66-881a-4dc2-8861-fb6e23f6f312",
   "metadata": {},
   "outputs": [
    {
     "data": {
      "text/plain": [
       "4"
      ]
     },
     "execution_count": 11,
     "metadata": {},
     "output_type": "execute_result"
    }
   ],
   "source": [
    "nums.count()"
   ]
  },
  {
   "cell_type": "code",
   "execution_count": 12,
   "id": "83b18236-cbe2-4fda-92d9-e3650cdcb931",
   "metadata": {},
   "outputs": [
    {
     "data": {
      "text/plain": [
       "5"
      ]
     },
     "execution_count": 12,
     "metadata": {},
     "output_type": "execute_result"
    }
   ],
   "source": [
    "len(nums)"
   ]
  },
  {
   "cell_type": "code",
   "execution_count": 13,
   "id": "c5c51261-f560-4d0f-bab0-a9f58dcae663",
   "metadata": {},
   "outputs": [
    {
     "data": {
      "text/plain": [
       "12.0"
      ]
     },
     "execution_count": 13,
     "metadata": {},
     "output_type": "execute_result"
    }
   ],
   "source": [
    "nums.sum()"
   ]
  },
  {
   "cell_type": "code",
   "execution_count": 14,
   "id": "4eca3350-80b5-4be0-b9cb-27ba88adef42",
   "metadata": {},
   "outputs": [
    {
     "data": {
      "text/plain": [
       "nan"
      ]
     },
     "execution_count": 14,
     "metadata": {},
     "output_type": "execute_result"
    }
   ],
   "source": [
    "#기본적으로 skipna = True 당연히 nan값 포함하면 nan이 되니까\n",
    "nums.sum(skipna=False)"
   ]
  },
  {
   "cell_type": "code",
   "execution_count": 15,
   "id": "e0a2ea26-6ac4-4445-bf2d-2761f3119264",
   "metadata": {},
   "outputs": [
    {
     "data": {
      "text/plain": [
       "3.0"
      ]
     },
     "execution_count": 15,
     "metadata": {},
     "output_type": "execute_result"
    }
   ],
   "source": [
    "nums.mean()"
   ]
  },
  {
   "cell_type": "code",
   "execution_count": 16,
   "id": "074a171d-0c24-440f-ab36-4b3ad24f9d5c",
   "metadata": {},
   "outputs": [
    {
     "data": {
      "text/plain": [
       "3.0"
      ]
     },
     "execution_count": 16,
     "metadata": {},
     "output_type": "execute_result"
    }
   ],
   "source": [
    "nums.median()"
   ]
  },
  {
   "cell_type": "code",
   "execution_count": 17,
   "id": "858cacb8-31fc-4650-a66a-072fd991d6dc",
   "metadata": {},
   "outputs": [
    {
     "data": {
      "text/plain": [
       "1.8257418583505538"
      ]
     },
     "execution_count": 17,
     "metadata": {},
     "output_type": "execute_result"
    }
   ],
   "source": [
    "nums.std()"
   ]
  },
  {
   "cell_type": "code",
   "execution_count": 18,
   "id": "afd2a77c-4877-4091-8085-1d04bb0f8079",
   "metadata": {},
   "outputs": [
    {
     "data": {
      "text/plain": [
       "5.0"
      ]
     },
     "execution_count": 18,
     "metadata": {},
     "output_type": "execute_result"
    }
   ],
   "source": [
    "nums.max()"
   ]
  },
  {
   "cell_type": "code",
   "execution_count": 19,
   "id": "9008f92b-c09d-4714-8ede-fdcb90a777c5",
   "metadata": {},
   "outputs": [
    {
     "data": {
      "text/plain": [
       "1.0"
      ]
     },
     "execution_count": 19,
     "metadata": {},
     "output_type": "execute_result"
    }
   ],
   "source": [
    "nums.min()"
   ]
  },
  {
   "cell_type": "code",
   "execution_count": 20,
   "id": "dc57f0e7-2dd0-4e0e-9dd3-301e6801c2be",
   "metadata": {},
   "outputs": [
    {
     "data": {
      "text/plain": [
       "0    A\n",
       "1    a\n",
       "2    B\n",
       "3    b\n",
       "4    C\n",
       "5    c\n",
       "dtype: object"
      ]
     },
     "execution_count": 20,
     "metadata": {},
     "output_type": "execute_result"
    }
   ],
   "source": [
    "somechar = pd.Series(list('AaBbCc'))\n",
    "somechar"
   ]
  },
  {
   "cell_type": "code",
   "execution_count": 21,
   "id": "c007bd88-1e8c-4514-a3e9-d7931f158b01",
   "metadata": {},
   "outputs": [
    {
     "data": {
      "text/plain": [
       "'c'"
      ]
     },
     "execution_count": 21,
     "metadata": {},
     "output_type": "execute_result"
    }
   ],
   "source": [
    "#유니코드 숫자의 값으로 바꾸고 최대값 구해줌\n",
    "somechar.max()"
   ]
  },
  {
   "cell_type": "code",
   "execution_count": 22,
   "id": "279f3a39-b91b-4b53-a038-f9e4d8e54931",
   "metadata": {},
   "outputs": [
    {
     "data": {
      "text/plain": [
       "'A'"
      ]
     },
     "execution_count": 22,
     "metadata": {},
     "output_type": "execute_result"
    }
   ],
   "source": [
    "somechar.min()"
   ]
  },
  {
   "cell_type": "code",
   "execution_count": 23,
   "id": "4fe3c135-6ff6-4d82-8862-cef073502f63",
   "metadata": {},
   "outputs": [
    {
     "data": {
      "text/plain": [
       "count    4.000000\n",
       "mean     3.000000\n",
       "std      1.825742\n",
       "min      1.000000\n",
       "25%      1.750000\n",
       "50%      3.000000\n",
       "75%      4.250000\n",
       "max      5.000000\n",
       "dtype: float64"
      ]
     },
     "execution_count": 23,
     "metadata": {},
     "output_type": "execute_result"
    }
   ],
   "source": [
    "nums.describe()"
   ]
  },
  {
   "cell_type": "code",
   "execution_count": 24,
   "id": "96deb057-8087-496a-b802-137c45480359",
   "metadata": {},
   "outputs": [
    {
     "data": {
      "text/plain": [
       "count     5\n",
       "unique    4\n",
       "top       l\n",
       "freq      2\n",
       "dtype: object"
      ]
     },
     "execution_count": 24,
     "metadata": {},
     "output_type": "execute_result"
    }
   ],
   "source": [
    "hello.describe()"
   ]
  },
  {
   "cell_type": "code",
   "execution_count": 36,
   "id": "519e4b83-33c1-4a85-9b64-f3fa36c7591d",
   "metadata": {},
   "outputs": [
    {
     "data": {
      "text/plain": [
       "Batman             100\n",
       "Superman           120\n",
       "Spider-Man          90\n",
       "Iron Man            95\n",
       "Captain America    110\n",
       "Wonder Woman       120\n",
       "dtype: int64"
      ]
     },
     "execution_count": 36,
     "metadata": {},
     "output_type": "execute_result"
    }
   ],
   "source": [
    "superheros = [\n",
    "    \"Batman\",\n",
    "    \"Superman\",\n",
    "    \"Spider-Man\",\n",
    "    \"Iron Man\",\n",
    "    \"Captain America\",\n",
    "    \"Wonder Woman\"\n",
    "]\n",
    "strength_levels = (100, 120, 90, 95, 110, 120)\n",
    "heros = pd.Series(strength_levels,superheros)\n",
    "heros"
   ]
  },
  {
   "cell_type": "code",
   "execution_count": 37,
   "id": "8a75c76c-aeca-4e57-8b0b-92ea8e2dbc58",
   "metadata": {},
   "outputs": [
    {
     "data": {
      "text/plain": [
       "Spider-Man          90\n",
       "Iron Man            95\n",
       "Captain America    110\n",
       "Wonder Woman       120\n",
       "dtype: int64"
      ]
     },
     "execution_count": 37,
     "metadata": {},
     "output_type": "execute_result"
    }
   ],
   "source": [
    "heros.tail(4)"
   ]
  },
  {
   "cell_type": "code",
   "execution_count": 38,
   "id": "2e83b99b-adb4-47b7-b3e3-993c1809b954",
   "metadata": {},
   "outputs": [
    {
     "data": {
      "text/plain": [
       "5"
      ]
     },
     "execution_count": 38,
     "metadata": {},
     "output_type": "execute_result"
    }
   ],
   "source": [
    "heros.nunique()"
   ]
  },
  {
   "cell_type": "code",
   "execution_count": 39,
   "id": "d0279baf-fd6a-4272-a0e7-58382fef0971",
   "metadata": {},
   "outputs": [
    {
     "data": {
      "text/plain": [
       "105.83333333333333"
      ]
     },
     "execution_count": 39,
     "metadata": {},
     "output_type": "execute_result"
    }
   ],
   "source": [
    "heros.mean()"
   ]
  },
  {
   "cell_type": "code",
   "execution_count": 40,
   "id": "59897894-3bdd-4349-b23d-af1e31b3d6cd",
   "metadata": {},
   "outputs": [
    {
     "data": {
      "text/plain": [
       "105.0"
      ]
     },
     "execution_count": 40,
     "metadata": {},
     "output_type": "execute_result"
    }
   ],
   "source": [
    "heros.median()"
   ]
  },
  {
   "cell_type": "code",
   "execution_count": 41,
   "id": "d6b8ab45-5814-4022-b66a-d19100e46431",
   "metadata": {},
   "outputs": [
    {
     "data": {
      "text/plain": [
       "120"
      ]
     },
     "execution_count": 41,
     "metadata": {},
     "output_type": "execute_result"
    }
   ],
   "source": [
    "heros.max()\n",
    "heros.min()"
   ]
  },
  {
   "cell_type": "code",
   "execution_count": 42,
   "id": "52c4e9d4-ae52-49ae-a580-7896146eab6d",
   "metadata": {},
   "outputs": [
    {
     "data": {
      "text/plain": [
       "90"
      ]
     },
     "execution_count": 42,
     "metadata": {},
     "output_type": "execute_result"
    }
   ],
   "source": [
    "heros.min()"
   ]
  },
  {
   "cell_type": "code",
   "execution_count": 44,
   "id": "aa1eee57-81b1-4044-a71e-c97d7e163069",
   "metadata": {},
   "outputs": [
    {
     "data": {
      "text/plain": [
       "{'Batman': 100,\n",
       " 'Superman': 120,\n",
       " 'Spider-Man': 90,\n",
       " 'Iron Man': 95,\n",
       " 'Captain America': 110,\n",
       " 'Wonder Woman': 120}"
      ]
     },
     "execution_count": 44,
     "metadata": {},
     "output_type": "execute_result"
    }
   ],
   "source": [
    "dict(heros)"
   ]
  },
  {
   "cell_type": "code",
   "execution_count": 73,
   "id": "23e201bd-ad58-4782-b9b9-9243582299b6",
   "metadata": {},
   "outputs": [
    {
     "data": {
      "text/plain": [
       "Pokemon\n",
       "Bulbasaur      Grass / Poison\n",
       "Ivysaur        Grass / Poison\n",
       "Venusaur       Grass / Poison\n",
       "Charmander               Fire\n",
       "Charmeleon               Fire\n",
       "                    ...      \n",
       "Stakataka        Rock / Steel\n",
       "Blacephalon      Fire / Ghost\n",
       "Zeraora              Electric\n",
       "Meltan                  Steel\n",
       "Melmetal                Steel\n",
       "Name: Type, Length: 809, dtype: object"
      ]
     },
     "execution_count": 73,
     "metadata": {},
     "output_type": "execute_result"
    }
   ],
   "source": [
    "#squeeze = True (series형태로 가져옴)\n",
    "pokemons = pd.read_csv(\"datas/pokemon.csv\", index_col=\"Pokemon\").squeeze()\n",
    "pokemons"
   ]
  },
  {
   "cell_type": "code",
   "execution_count": 74,
   "id": "5ac8879e-89f5-4d00-b263-632cb697117a",
   "metadata": {},
   "outputs": [
    {
     "data": {
      "text/plain": [
       "Pokemon\n",
       "Bulbasaur     Grass / Poison\n",
       "Ivysaur       Grass / Poison\n",
       "Venusaur      Grass / Poison\n",
       "Charmander              Fire\n",
       "Charmeleon              Fire\n",
       "Name: Type, dtype: object"
      ]
     },
     "execution_count": 74,
     "metadata": {},
     "output_type": "execute_result"
    }
   ],
   "source": [
    "pokemons.head()"
   ]
  },
  {
   "cell_type": "code",
   "execution_count": 91,
   "id": "b4fe6f45-e9c4-4fa8-ad32-de6a9746e8ab",
   "metadata": {},
   "outputs": [
    {
     "data": {
      "text/plain": [
       "count        809\n",
       "unique       159\n",
       "top       Normal\n",
       "freq          65\n",
       "Name: Type, dtype: object"
      ]
     },
     "execution_count": 91,
     "metadata": {},
     "output_type": "execute_result"
    }
   ],
   "source": [
    "pokemons.describe()"
   ]
  },
  {
   "cell_type": "code",
   "execution_count": 94,
   "id": "f380c8aa-e6fd-491b-8a77-cb25611d8e31",
   "metadata": {},
   "outputs": [
    {
     "data": {
      "text/plain": [
       "Pokemon\n",
       "Empoleon      Water / Steel\n",
       "Corsola        Water / Rock\n",
       "Relicanth      Water / Rock\n",
       "Carracosta     Water / Rock\n",
       "Tirtouga       Water / Rock\n",
       "                  ...      \n",
       "Kricketune              Bug\n",
       "Cascoon                 Bug\n",
       "Scatterbug              Bug\n",
       "Kricketot               Bug\n",
       "Grubbin                 Bug\n",
       "Name: Type, Length: 809, dtype: object"
      ]
     },
     "execution_count": 94,
     "metadata": {},
     "output_type": "execute_result"
    }
   ],
   "source": [
    "#알파벳 순서로 정렬\n",
    "pokemons.sort_values(ascending=False)#ascending으로 내림차순정렬"
   ]
  },
  {
   "cell_type": "code",
   "execution_count": 96,
   "id": "545d40c9-9e5f-417d-9754-bbec35a4eba9",
   "metadata": {},
   "outputs": [
    {
     "data": {
      "text/plain": [
       "Date\n",
       "2004-08-19    49.98\n",
       "2004-08-20    53.95\n",
       "2004-08-23    54.50\n",
       "2004-08-24    52.24\n",
       "2004-08-25    52.80\n",
       "Name: Close, dtype: float64"
      ]
     },
     "execution_count": 96,
     "metadata": {},
     "output_type": "execute_result"
    }
   ],
   "source": [
    "google = pd.read_csv(\"datas/google_stocks.csv\",\n",
    "                     parse_dates=['Date'], #Date 타입으로 저장, parse_dates 인수에 파싱할 column명을 리스트 형태로 전달\n",
    "                     index_col=\"Date\").squeeze()\n",
    "google.head()"
   ]
  },
  {
   "cell_type": "code",
   "execution_count": 99,
   "id": "a3e88e1c-ba7d-4bf2-996d-198c7f088de1",
   "metadata": {},
   "outputs": [
    {
     "data": {
      "text/plain": [
       "Start Date\n",
       "1774-09-01    Massachusetts\n",
       "1774-12-14    New Hampshire\n",
       "1775-04-19    Massachusetts\n",
       "1775-04-19    Massachusetts\n",
       "1775-04-20         Virginia\n",
       "Name: State, dtype: object"
      ]
     },
     "execution_count": 99,
     "metadata": {},
     "output_type": "execute_result"
    }
   ],
   "source": [
    "war = pd.read_csv(\"datas/revolutionary_war.csv\",\n",
    "                  parse_dates = [\"Start Date\"],\n",
    "                  index_col=\"Start Date\",\n",
    "                  usecols=[\"Start Date\", \"State\"]).squeeze()\n",
    "war.head()"
   ]
  },
  {
   "cell_type": "code",
   "execution_count": 118,
   "id": "3e61fafa-64e5-4e0b-87b3-3134d0eed004",
   "metadata": {},
   "outputs": [
    {
     "data": {
      "text/plain": [
       "70"
      ]
     },
     "execution_count": 118,
     "metadata": {},
     "output_type": "execute_result"
    }
   ],
   "source": [
    "war.isnull().sum()"
   ]
  },
  {
   "cell_type": "code",
   "execution_count": 117,
   "id": "3343b045-39af-485e-a29d-0e560d8d5353",
   "metadata": {},
   "outputs": [
    {
     "data": {
      "text/plain": [
       "162"
      ]
     },
     "execution_count": 117,
     "metadata": {},
     "output_type": "execute_result"
    }
   ],
   "source": [
    "war.count()"
   ]
  },
  {
   "cell_type": "code",
   "execution_count": 104,
   "id": "cafbac93-3430-4567-b340-ef8a61104f44",
   "metadata": {},
   "outputs": [
    {
     "data": {
      "text/plain": [
       "17"
      ]
     },
     "execution_count": 104,
     "metadata": {},
     "output_type": "execute_result"
    }
   ],
   "source": [
    "war.nunique()"
   ]
  },
  {
   "cell_type": "code",
   "execution_count": 121,
   "id": "9a6e8e77-170d-4dc8-a219-b495702b4c15",
   "metadata": {},
   "outputs": [
    {
     "data": {
      "text/plain": [
       "Start Date\n",
       "1781-09-06    Connecticut\n",
       "1779-07-05    Connecticut\n",
       "1777-04-27    Connecticut\n",
       "1777-09-03       Delaware\n",
       "1777-05-17        Florida\n",
       "                 ...     \n",
       "1782-08-08            NaN\n",
       "1782-08-25            NaN\n",
       "1782-09-13            NaN\n",
       "1782-10-18            NaN\n",
       "1782-12-06            NaN\n",
       "Name: State, Length: 232, dtype: object"
      ]
     },
     "execution_count": 121,
     "metadata": {},
     "output_type": "execute_result"
    }
   ],
   "source": [
    "# na_position ==> NaN값을 마지막으로 오게 정렬\n",
    "war.sort_values(na_position = 'last')"
   ]
  },
  {
   "cell_type": "code",
   "execution_count": 122,
   "id": "da815c92-5022-4528-9254-b2d25f93dfac",
   "metadata": {},
   "outputs": [
    {
     "data": {
      "text/plain": [
       "Start Date\n",
       "1774-09-01     Massachusetts\n",
       "1774-12-14     New Hampshire\n",
       "1775-04-19     Massachusetts\n",
       "1775-04-19     Massachusetts\n",
       "1775-04-20          Virginia\n",
       "                   ...      \n",
       "1782-08-15          Virginia\n",
       "1782-08-19          Virginia\n",
       "1782-08-26    South Carolina\n",
       "1782-09-11          Virginia\n",
       "1783-01-22          Virginia\n",
       "Name: State, Length: 162, dtype: object"
      ]
     },
     "execution_count": 122,
     "metadata": {},
     "output_type": "execute_result"
    }
   ],
   "source": [
    "war.dropna()"
   ]
  },
  {
   "cell_type": "code",
   "execution_count": 123,
   "id": "4ad3d2f6-c1ea-4aeb-bcaa-d1dde054cb0c",
   "metadata": {},
   "outputs": [
    {
     "data": {
      "text/plain": [
       "Pokemon\n",
       "Abomasnow        Grass / Ice\n",
       "Abra                 Psychic\n",
       "Absol                   Dark\n",
       "Accelgor                 Bug\n",
       "Aegislash      Steel / Ghost\n",
       "                  ...       \n",
       "Zoroark                 Dark\n",
       "Zorua                   Dark\n",
       "Zubat        Poison / Flying\n",
       "Zweilous       Dark / Dragon\n",
       "Zygarde      Dragon / Ground\n",
       "Name: Type, Length: 809, dtype: object"
      ]
     },
     "execution_count": 123,
     "metadata": {},
     "output_type": "execute_result"
    }
   ],
   "source": [
    "#index 정렬\n",
    "pokemons.sort_index(ascending=True)"
   ]
  },
  {
   "cell_type": "code",
   "execution_count": 125,
   "id": "4b089529-4793-4a90-a486-72459f83ed9d",
   "metadata": {},
   "outputs": [
    {
     "data": {
      "text/plain": [
       "Start Date\n",
       "NaT              New Jersey\n",
       "NaT                Virginia\n",
       "NaT                     NaN\n",
       "NaT                     NaN\n",
       "1774-09-01    Massachusetts\n",
       "                  ...      \n",
       "1782-09-11         Virginia\n",
       "1782-09-13              NaN\n",
       "1782-10-18              NaN\n",
       "1782-12-06              NaN\n",
       "1783-01-22         Virginia\n",
       "Name: State, Length: 232, dtype: object"
      ]
     },
     "execution_count": 125,
     "metadata": {},
     "output_type": "execute_result"
    }
   ],
   "source": [
    "#nat값 먼저오게\n",
    "war.sort_index(na_position='first')"
   ]
  },
  {
   "cell_type": "code",
   "execution_count": 181,
   "id": "70ad0f03-8665-4359-8128-a44dc0ca0b83",
   "metadata": {},
   "outputs": [
    {
     "data": {
      "text/plain": [
       "DatetimeIndex(['1774-09-01', '1774-12-14', '1775-04-19', '1775-04-19',\n",
       "               '1775-04-20', '1775-05-10', '1775-05-27', '1775-06-11',\n",
       "               '1775-06-17', '1775-08-08',\n",
       "               ...\n",
       "               '1782-08-08', '1782-08-15', '1782-08-19', '1782-08-26',\n",
       "               '1782-08-25', '1782-09-11', '1782-09-13', '1782-10-18',\n",
       "               '1782-12-06', '1783-01-22'],\n",
       "              dtype='datetime64[ns]', name='Start Date', length=228, freq=None)"
      ]
     },
     "execution_count": 181,
     "metadata": {},
     "output_type": "execute_result"
    }
   ],
   "source": [
    "#nat 값 제외하는 2가지 방법\n",
    "war.loc[war.index.dropna()] # 인덱스의 중복을 포함해서 나옴 ==> 인덱스의 중복이 없어야 한다."
   ]
  },
  {
   "cell_type": "code",
   "execution_count": 127,
   "id": "cc4456bf-3728-4e2f-900a-f8b1ffa9f64d",
   "metadata": {},
   "outputs": [
    {
     "data": {
      "text/plain": [
       "Start Date\n",
       "1774-09-01    Massachusetts\n",
       "1774-12-14    New Hampshire\n",
       "1775-04-19    Massachusetts\n",
       "1775-04-19    Massachusetts\n",
       "1775-04-20         Virginia\n",
       "                  ...      \n",
       "1782-09-11         Virginia\n",
       "1782-09-13              NaN\n",
       "1782-10-18              NaN\n",
       "1782-12-06              NaN\n",
       "1783-01-22         Virginia\n",
       "Name: State, Length: 228, dtype: object"
      ]
     },
     "execution_count": 127,
     "metadata": {},
     "output_type": "execute_result"
    }
   ],
   "source": [
    "war.loc[war.index.notnull()]"
   ]
  },
  {
   "cell_type": "code",
   "execution_count": 150,
   "id": "044b47b4-653e-4dba-8164-0952f62c98a7",
   "metadata": {},
   "outputs": [
    {
     "data": {
      "text/plain": [
       "Date\n",
       "2004-09-03    49.82\n",
       "2004-09-01    49.94\n",
       "2004-08-19    49.98\n",
       "2004-09-02    50.57\n",
       "2004-09-07    50.60\n",
       "2004-08-30    50.81\n",
       "2004-09-08    50.96\n",
       "2004-09-09    50.96\n",
       "2004-08-31    50.99\n",
       "2004-08-24    52.24\n",
       "Name: Close, dtype: float64"
      ]
     },
     "execution_count": 150,
     "metadata": {},
     "output_type": "execute_result"
    }
   ],
   "source": [
    "google.sort_values().head(10)"
   ]
  },
  {
   "cell_type": "code",
   "execution_count": 140,
   "id": "7ba4c2e5-ebfa-4f24-80c3-7ec548831272",
   "metadata": {},
   "outputs": [
    {
     "data": {
      "text/plain": [
       "Date\n",
       "2019-04-29    1287.58\n",
       "2019-04-26    1272.18\n",
       "2018-07-26    1268.33\n",
       "2019-10-25    1265.13\n",
       "2019-04-23    1264.55\n",
       "2018-07-25    1263.70\n",
       "2019-04-25    1263.45\n",
       "2019-10-24    1260.99\n",
       "2019-10-23    1259.13\n",
       "2019-04-24    1256.00\n",
       "Name: Close, dtype: float64"
      ]
     },
     "execution_count": 140,
     "metadata": {},
     "output_type": "execute_result"
    }
   ],
   "source": [
    "google.sort_values(ascending=False)[:10]"
   ]
  },
  {
   "cell_type": "code",
   "execution_count": 182,
   "id": "b46d199a-8666-4b56-a2c8-656b9e058ec5",
   "metadata": {},
   "outputs": [
    {
     "data": {
      "text/plain": [
       "Date\n",
       "2019-04-29    1287.58\n",
       "2019-04-26    1272.18\n",
       "2018-07-26    1268.33\n",
       "2019-10-25    1265.13\n",
       "2019-04-23    1264.55\n",
       "2018-07-25    1263.70\n",
       "2019-04-25    1263.45\n",
       "2019-10-24    1260.99\n",
       "2019-10-23    1259.13\n",
       "2019-04-24    1256.00\n",
       "Name: Close, dtype: float64"
      ]
     },
     "execution_count": 182,
     "metadata": {},
     "output_type": "execute_result"
    }
   ],
   "source": [
    "google.nlargest(10)"
   ]
  },
  {
   "cell_type": "code",
   "execution_count": 183,
   "id": "d812af66-6cf0-41d5-a306-26a24c7d8256",
   "metadata": {},
   "outputs": [
    {
     "data": {
      "text/plain": [
       "Date\n",
       "2004-09-03    49.82\n",
       "2004-09-01    49.94\n",
       "2004-08-19    49.98\n",
       "2004-09-02    50.57\n",
       "2004-09-07    50.60\n",
       "2004-08-30    50.81\n",
       "2004-09-08    50.96\n",
       "2004-09-09    50.96\n",
       "2004-08-31    50.99\n",
       "2004-08-24    52.24\n",
       "Name: Close, dtype: float64"
      ]
     },
     "execution_count": 183,
     "metadata": {},
     "output_type": "execute_result"
    }
   ],
   "source": [
    "google.nsmallest(10)"
   ]
  },
  {
   "cell_type": "code",
   "execution_count": 185,
   "id": "bd97ae50-030f-4fb1-95c4-ef868a875b83",
   "metadata": {},
   "outputs": [
    {
     "data": {
      "text/plain": [
       "Normal                65\n",
       "Water                 61\n",
       "Grass                 38\n",
       "Psychic               35\n",
       "Fire                  30\n",
       "                      ..\n",
       "Fire / Psychic         1\n",
       "Normal / Ground        1\n",
       "Psychic / Fighting     1\n",
       "Dark / Ghost           1\n",
       "Fire / Ghost           1\n",
       "Name: Type, Length: 159, dtype: int64"
      ]
     },
     "execution_count": 185,
     "metadata": {},
     "output_type": "execute_result"
    }
   ],
   "source": [
    "pokemons.value_counts()"
   ]
  },
  {
   "cell_type": "code",
   "execution_count": 189,
   "id": "5980a5fc-7192-4722-a232-829e4d552fff",
   "metadata": {},
   "outputs": [
    {
     "data": {
      "text/plain": [
       "count    3824.000000\n",
       "mean      479.945860\n",
       "std       328.528592\n",
       "min        49.820000\n",
       "25%       235.860000\n",
       "50%       314.680000\n",
       "75%       708.205000\n",
       "max      1287.580000\n",
       "Name: Close, dtype: float64"
      ]
     },
     "execution_count": 189,
     "metadata": {},
     "output_type": "execute_result"
    }
   ],
   "source": [
    "google.describe()"
   ]
  },
  {
   "cell_type": "code",
   "execution_count": 215,
   "id": "bda49f60-89df-466a-bc6c-78cdbb68b09f",
   "metadata": {},
   "outputs": [
    {
     "data": {
      "text/plain": [
       "(200.0, 400.0]      1568\n",
       "(-0.001, 200.0]      595\n",
       "(400.0, 600.0]       575\n",
       "(1000.0, 1200.0]     406\n",
       "(600.0, 800.0]       380\n",
       "(800.0, 1000.0]      207\n",
       "(1200.0, 1400.0]      93\n",
       "Name: Close, dtype: int64"
      ]
     },
     "execution_count": 215,
     "metadata": {},
     "output_type": "execute_result"
    }
   ],
   "source": [
    "#구간 설정하여 구간별로 count\n",
    "bins= np.linspace(0,1400,8)\n",
    "google.value_counts(bins=bins)"
   ]
  },
  {
   "cell_type": "code",
   "execution_count": 193,
   "id": "ad4d3745-c123-4c53-9390-65aacc1db839",
   "metadata": {},
   "outputs": [
    {
     "data": {
      "text/plain": [
       "(-0.001, 200.0]      595\n",
       "(200.0, 400.0]      1568\n",
       "(400.0, 600.0]       575\n",
       "(600.0, 800.0]       380\n",
       "(800.0, 1000.0]      207\n",
       "(1000.0, 1200.0]     406\n",
       "(1200.0, 1400.0]      93\n",
       "Name: Close, dtype: int64"
      ]
     },
     "execution_count": 193,
     "metadata": {},
     "output_type": "execute_result"
    }
   ],
   "source": [
    "bins= np.linspace(0,1400,8)\n",
    "google.value_counts(bins=bins).sort_index()"
   ]
  },
  {
   "cell_type": "code",
   "execution_count": 197,
   "id": "c25f9bfc-a639-4b35-80e1-5a9f43a37e1e",
   "metadata": {},
   "outputs": [
    {
     "data": {
      "text/plain": [
       "(-0.001, 200.0]      595\n",
       "(200.0, 400.0]      1568\n",
       "(400.0, 600.0]       575\n",
       "(600.0, 800.0]       380\n",
       "(800.0, 1000.0]      207\n",
       "(1000.0, 1200.0]     406\n",
       "(1200.0, 1400.0]      93\n",
       "Name: Close, dtype: int64"
      ]
     },
     "execution_count": 197,
     "metadata": {},
     "output_type": "execute_result"
    }
   ],
   "source": [
    "bins= [0,200,400,600,800,1000,1200,1400]\n",
    "google.value_counts(bins=bins).sort_index()"
   ]
  },
  {
   "cell_type": "code",
   "execution_count": 198,
   "id": "6c56f74a-aaf5-4870-b091-876f371f8153",
   "metadata": {},
   "outputs": [
    {
     "data": {
      "text/plain": [
       "(48.581, 204.54]       651\n",
       "(204.54, 359.26]      1435\n",
       "(359.26, 513.98]       263\n",
       "(513.98, 668.7]        466\n",
       "(668.7, 823.42]        334\n",
       "(823.42, 978.14]       161\n",
       "(978.14, 1132.86]      283\n",
       "(1132.86, 1287.58]     231\n",
       "Name: Close, dtype: int64"
      ]
     },
     "execution_count": 198,
     "metadata": {},
     "output_type": "execute_result"
    }
   ],
   "source": [
    "google.value_counts(bins=8, sort= False)"
   ]
  },
  {
   "cell_type": "code",
   "execution_count": 204,
   "id": "4c20630e-ad5b-461a-83ac-a07217def562",
   "metadata": {},
   "outputs": [
    {
     "data": {
      "text/html": [
       "<div>\n",
       "<style scoped>\n",
       "    .dataframe tbody tr th:only-of-type {\n",
       "        vertical-align: middle;\n",
       "    }\n",
       "\n",
       "    .dataframe tbody tr th {\n",
       "        vertical-align: top;\n",
       "    }\n",
       "\n",
       "    .dataframe thead th {\n",
       "        text-align: right;\n",
       "    }\n",
       "</style>\n",
       "<table border=\"1\" class=\"dataframe\">\n",
       "  <thead>\n",
       "    <tr style=\"text-align: right;\">\n",
       "      <th></th>\n",
       "      <th>c1</th>\n",
       "      <th>c2</th>\n",
       "      <th>c3</th>\n",
       "    </tr>\n",
       "  </thead>\n",
       "  <tbody>\n",
       "    <tr>\n",
       "      <th>0</th>\n",
       "      <td>1</td>\n",
       "      <td>2</td>\n",
       "      <td>누락</td>\n",
       "    </tr>\n",
       "    <tr>\n",
       "      <th>1</th>\n",
       "      <td>1.11</td>\n",
       "      <td></td>\n",
       "      <td>3.33</td>\n",
       "    </tr>\n",
       "    <tr>\n",
       "      <th>2</th>\n",
       "      <td>one</td>\n",
       "      <td>two</td>\n",
       "      <td>three</td>\n",
       "    </tr>\n",
       "  </tbody>\n",
       "</table>\n",
       "</div>"
      ],
      "text/plain": [
       "     c1   c2     c3\n",
       "0     1    2     누락\n",
       "1  1.11        3.33\n",
       "2   one  two  three"
      ]
     },
     "execution_count": 204,
     "metadata": {},
     "output_type": "execute_result"
    }
   ],
   "source": [
    "df_csv = pd.DataFrame(data = [[1,2,'누락'],[1.11,'',3.33],['one','two','three']],\n",
    "                  columns = ['c1','c2','c3'])\n",
    "df_csv"
   ]
  },
  {
   "cell_type": "code",
   "execution_count": 206,
   "id": "43dcf6db-7564-41ea-9375-505bcfca26bc",
   "metadata": {},
   "outputs": [],
   "source": [
    "#경로에 csv파일로 저장\n",
    "df_csv.to_csv('datas/sample1.csv',index=False)"
   ]
  },
  {
   "cell_type": "code",
   "execution_count": 213,
   "id": "2fbf82ac-e010-4f46-a290-8a43ff53f0f2",
   "metadata": {},
   "outputs": [
    {
     "data": {
      "text/plain": [
       "'C:\\\\python\\\\datas'"
      ]
     },
     "execution_count": 213,
     "metadata": {},
     "output_type": "execute_result"
    }
   ],
   "source": [
    "#현재 경로\n",
    "%pwd"
   ]
  },
  {
   "cell_type": "code",
   "execution_count": 212,
   "id": "3b3cc93f-f572-4bde-a5a8-6212e7e99732",
   "metadata": {},
   "outputs": [
    {
     "name": "stdout",
     "output_type": "stream",
     "text": [
      "C:\\python\\datas\n"
     ]
    }
   ],
   "source": [
    "#경로 수정\n",
    "%cd C:\\\\python\\\\datas"
   ]
  },
  {
   "cell_type": "code",
   "execution_count": 214,
   "id": "09626943-2f50-4cb4-8d98-6575dffb3c58",
   "metadata": {},
   "outputs": [
    {
     "data": {
      "text/html": [
       "<div>\n",
       "<style scoped>\n",
       "    .dataframe tbody tr th:only-of-type {\n",
       "        vertical-align: middle;\n",
       "    }\n",
       "\n",
       "    .dataframe tbody tr th {\n",
       "        vertical-align: top;\n",
       "    }\n",
       "\n",
       "    .dataframe thead th {\n",
       "        text-align: right;\n",
       "    }\n",
       "</style>\n",
       "<table border=\"1\" class=\"dataframe\">\n",
       "  <thead>\n",
       "    <tr style=\"text-align: right;\">\n",
       "      <th></th>\n",
       "      <th>c1</th>\n",
       "      <th>c2</th>\n",
       "      <th>c3</th>\n",
       "    </tr>\n",
       "  </thead>\n",
       "  <tbody>\n",
       "    <tr>\n",
       "      <th>0</th>\n",
       "      <td>1</td>\n",
       "      <td>2</td>\n",
       "      <td>누락</td>\n",
       "    </tr>\n",
       "    <tr>\n",
       "      <th>1</th>\n",
       "      <td>1.11</td>\n",
       "      <td>NaN</td>\n",
       "      <td>3.33</td>\n",
       "    </tr>\n",
       "    <tr>\n",
       "      <th>2</th>\n",
       "      <td>one</td>\n",
       "      <td>two</td>\n",
       "      <td>three</td>\n",
       "    </tr>\n",
       "  </tbody>\n",
       "</table>\n",
       "</div>"
      ],
      "text/plain": [
       "     c1   c2     c3\n",
       "0     1    2     누락\n",
       "1  1.11  NaN   3.33\n",
       "2   one  two  three"
      ]
     },
     "execution_count": 214,
     "metadata": {},
     "output_type": "execute_result"
    }
   ],
   "source": [
    "df_read = pd.read_csv('sample1.csv')\n",
    "df_read"
   ]
  },
  {
   "cell_type": "code",
   "execution_count": 216,
   "id": "6cf121ad-d759-4816-b3e8-eab332556bf5",
   "metadata": {},
   "outputs": [],
   "source": [
    "df_csv.to_csv('sample2.csv', index=False,header=False)"
   ]
  },
  {
   "cell_type": "code",
   "execution_count": 217,
   "id": "f006dabe-18ad-4526-a6c8-c24f93568f26",
   "metadata": {},
   "outputs": [
    {
     "data": {
      "text/html": [
       "<div>\n",
       "<style scoped>\n",
       "    .dataframe tbody tr th:only-of-type {\n",
       "        vertical-align: middle;\n",
       "    }\n",
       "\n",
       "    .dataframe tbody tr th {\n",
       "        vertical-align: top;\n",
       "    }\n",
       "\n",
       "    .dataframe thead th {\n",
       "        text-align: right;\n",
       "    }\n",
       "</style>\n",
       "<table border=\"1\" class=\"dataframe\">\n",
       "  <thead>\n",
       "    <tr style=\"text-align: right;\">\n",
       "      <th></th>\n",
       "      <th>c1</th>\n",
       "      <th>c2</th>\n",
       "      <th>c3</th>\n",
       "    </tr>\n",
       "  </thead>\n",
       "  <tbody>\n",
       "    <tr>\n",
       "      <th>0</th>\n",
       "      <td>1</td>\n",
       "      <td>2</td>\n",
       "      <td>누락</td>\n",
       "    </tr>\n",
       "    <tr>\n",
       "      <th>1</th>\n",
       "      <td>1.11</td>\n",
       "      <td>NaN</td>\n",
       "      <td>3.33</td>\n",
       "    </tr>\n",
       "    <tr>\n",
       "      <th>2</th>\n",
       "      <td>one</td>\n",
       "      <td>two</td>\n",
       "      <td>three</td>\n",
       "    </tr>\n",
       "  </tbody>\n",
       "</table>\n",
       "</div>"
      ],
      "text/plain": [
       "     c1   c2     c3\n",
       "0     1    2     누락\n",
       "1  1.11  NaN   3.33\n",
       "2   one  two  three"
      ]
     },
     "execution_count": 217,
     "metadata": {},
     "output_type": "execute_result"
    }
   ],
   "source": [
    "pd.read_csv('sample2.csv',names=['c1','c2','c3'])"
   ]
  },
  {
   "cell_type": "code",
   "execution_count": 218,
   "id": "75661313-ba9f-4a73-aa73-c480cef1a45e",
   "metadata": {},
   "outputs": [
    {
     "name": "stdout",
     "output_type": "stream",
     "text": [
      "Writing sample3.txt\n"
     ]
    }
   ],
   "source": [
    "%%writefile sample3.txt\n",
    "c1        c2        c3        c4\n",
    "0.179181 -1.538472  1.347553  0.43381\n",
    "1.024209  0.087307 -1.281997  0.49265\n",
    "0.417899 -2.002308  0.255245 -1.10515"
   ]
  },
  {
   "cell_type": "code",
   "execution_count": 226,
   "id": "38734037-9888-40f6-8e41-e70d3c253c50",
   "metadata": {},
   "outputs": [
    {
     "data": {
      "text/html": [
       "<div>\n",
       "<style scoped>\n",
       "    .dataframe tbody tr th:only-of-type {\n",
       "        vertical-align: middle;\n",
       "    }\n",
       "\n",
       "    .dataframe tbody tr th {\n",
       "        vertical-align: top;\n",
       "    }\n",
       "\n",
       "    .dataframe thead th {\n",
       "        text-align: right;\n",
       "    }\n",
       "</style>\n",
       "<table border=\"1\" class=\"dataframe\">\n",
       "  <thead>\n",
       "    <tr style=\"text-align: right;\">\n",
       "      <th></th>\n",
       "      <th>c1</th>\n",
       "      <th>c2</th>\n",
       "      <th>c3</th>\n",
       "      <th>c4</th>\n",
       "    </tr>\n",
       "  </thead>\n",
       "  <tbody>\n",
       "    <tr>\n",
       "      <th>0</th>\n",
       "      <td>0.179181</td>\n",
       "      <td>-1.538472</td>\n",
       "      <td>1.347553</td>\n",
       "      <td>0.43381</td>\n",
       "    </tr>\n",
       "    <tr>\n",
       "      <th>1</th>\n",
       "      <td>1.024209</td>\n",
       "      <td>0.087307</td>\n",
       "      <td>-1.281997</td>\n",
       "      <td>0.49265</td>\n",
       "    </tr>\n",
       "    <tr>\n",
       "      <th>2</th>\n",
       "      <td>0.417899</td>\n",
       "      <td>-2.002308</td>\n",
       "      <td>0.255245</td>\n",
       "      <td>-1.10515</td>\n",
       "    </tr>\n",
       "  </tbody>\n",
       "</table>\n",
       "</div>"
      ],
      "text/plain": [
       "         c1        c2        c3       c4\n",
       "0  0.179181 -1.538472  1.347553  0.43381\n",
       "1  1.024209  0.087307 -1.281997  0.49265\n",
       "2  0.417899 -2.002308  0.255245 -1.10515"
      ]
     },
     "execution_count": 226,
     "metadata": {},
     "output_type": "execute_result"
    }
   ],
   "source": [
    "a = pd.read_csv('sample3.txt',sep='\\s+')#\\s ==> 하나이상의 공백(정규식이용)\n",
    "a"
   ]
  },
  {
   "cell_type": "code",
   "execution_count": 227,
   "id": "0e0441ba-fc44-4ea0-ac06-464ba6d4bb66",
   "metadata": {},
   "outputs": [
    {
     "data": {
      "text/html": [
       "<div>\n",
       "<style scoped>\n",
       "    .dataframe tbody tr th:only-of-type {\n",
       "        vertical-align: middle;\n",
       "    }\n",
       "\n",
       "    .dataframe tbody tr th {\n",
       "        vertical-align: top;\n",
       "    }\n",
       "\n",
       "    .dataframe thead th {\n",
       "        text-align: right;\n",
       "    }\n",
       "</style>\n",
       "<table border=\"1\" class=\"dataframe\">\n",
       "  <thead>\n",
       "    <tr style=\"text-align: right;\">\n",
       "      <th></th>\n",
       "      <th>c1</th>\n",
       "      <th>c2</th>\n",
       "      <th>c3</th>\n",
       "      <th>c4</th>\n",
       "    </tr>\n",
       "  </thead>\n",
       "  <tbody>\n",
       "    <tr>\n",
       "      <th>0</th>\n",
       "      <td>0.179181</td>\n",
       "      <td>-1.538472</td>\n",
       "      <td>1.347553</td>\n",
       "      <td>0.43381</td>\n",
       "    </tr>\n",
       "    <tr>\n",
       "      <th>1</th>\n",
       "      <td>1.024209</td>\n",
       "      <td>0.087307</td>\n",
       "      <td>-1.281997</td>\n",
       "      <td>0.49265</td>\n",
       "    </tr>\n",
       "    <tr>\n",
       "      <th>2</th>\n",
       "      <td>0.417899</td>\n",
       "      <td>-2.002308</td>\n",
       "      <td>0.255245</td>\n",
       "      <td>-1.10515</td>\n",
       "    </tr>\n",
       "  </tbody>\n",
       "</table>\n",
       "</div>"
      ],
      "text/plain": [
       "         c1        c2        c3       c4\n",
       "0  0.179181 -1.538472  1.347553  0.43381\n",
       "1  1.024209  0.087307 -1.281997  0.49265\n",
       "2  0.417899 -2.002308  0.255245 -1.10515"
      ]
     },
     "execution_count": 227,
     "metadata": {},
     "output_type": "execute_result"
    }
   ],
   "source": [
    "pd.read_table('sample3.txt',sep='\\s+')"
   ]
  },
  {
   "cell_type": "code",
   "execution_count": 229,
   "id": "97203e38-63dd-455b-b848-2bdfc35ca405",
   "metadata": {},
   "outputs": [
    {
     "name": "stdout",
     "output_type": "stream",
     "text": [
      "Writing sample4.txt\n"
     ]
    }
   ],
   "source": [
    "%%writefile sample4.txt\n",
    "파일 제목: sample4.txt\n",
    "데이터 포맷의 설명:\n",
    "c1, c2, c3\n",
    "1, 1.11, one\n",
    "2, 2.22, two\n",
    "3, 3.33, three"
   ]
  },
  {
   "cell_type": "code",
   "execution_count": 235,
   "id": "175b46dc-fec0-4778-9e87-cccf13befc24",
   "metadata": {},
   "outputs": [
    {
     "data": {
      "text/html": [
       "<div>\n",
       "<style scoped>\n",
       "    .dataframe tbody tr th:only-of-type {\n",
       "        vertical-align: middle;\n",
       "    }\n",
       "\n",
       "    .dataframe tbody tr th {\n",
       "        vertical-align: top;\n",
       "    }\n",
       "\n",
       "    .dataframe thead th {\n",
       "        text-align: right;\n",
       "    }\n",
       "</style>\n",
       "<table border=\"1\" class=\"dataframe\">\n",
       "  <thead>\n",
       "    <tr style=\"text-align: right;\">\n",
       "      <th></th>\n",
       "      <th>c1,</th>\n",
       "      <th>c2,</th>\n",
       "      <th>c3</th>\n",
       "    </tr>\n",
       "  </thead>\n",
       "  <tbody>\n",
       "    <tr>\n",
       "      <th>0</th>\n",
       "      <td>1,</td>\n",
       "      <td>1.11,</td>\n",
       "      <td>one</td>\n",
       "    </tr>\n",
       "    <tr>\n",
       "      <th>1</th>\n",
       "      <td>2,</td>\n",
       "      <td>2.22,</td>\n",
       "      <td>two</td>\n",
       "    </tr>\n",
       "    <tr>\n",
       "      <th>2</th>\n",
       "      <td>3,</td>\n",
       "      <td>3.33,</td>\n",
       "      <td>three</td>\n",
       "    </tr>\n",
       "  </tbody>\n",
       "</table>\n",
       "</div>"
      ],
      "text/plain": [
       "  c1,    c2,     c3\n",
       "0  1,  1.11,    one\n",
       "1  2,  2.22,    two\n",
       "2  3,  3.33,  three"
      ]
     },
     "execution_count": 235,
     "metadata": {},
     "output_type": "execute_result"
    }
   ],
   "source": [
    "pd.read_csv('sample4.txt',sep='\\s+',skiprows=[0,1])"
   ]
  },
  {
   "cell_type": "code",
   "execution_count": 236,
   "id": "e79263a2-9422-48fb-87ba-caa3a9cb28ae",
   "metadata": {},
   "outputs": [
    {
     "data": {
      "text/html": [
       "<div>\n",
       "<style scoped>\n",
       "    .dataframe tbody tr th:only-of-type {\n",
       "        vertical-align: middle;\n",
       "    }\n",
       "\n",
       "    .dataframe tbody tr th {\n",
       "        vertical-align: top;\n",
       "    }\n",
       "\n",
       "    .dataframe thead th {\n",
       "        text-align: right;\n",
       "    }\n",
       "</style>\n",
       "<table border=\"1\" class=\"dataframe\">\n",
       "  <thead>\n",
       "    <tr style=\"text-align: right;\">\n",
       "      <th></th>\n",
       "      <th>c1</th>\n",
       "      <th>c2</th>\n",
       "      <th>c3</th>\n",
       "    </tr>\n",
       "  </thead>\n",
       "  <tbody>\n",
       "    <tr>\n",
       "      <th>0</th>\n",
       "      <td>1</td>\n",
       "      <td>2</td>\n",
       "      <td>NaN</td>\n",
       "    </tr>\n",
       "    <tr>\n",
       "      <th>1</th>\n",
       "      <td>1.11</td>\n",
       "      <td>NaN</td>\n",
       "      <td>3.33</td>\n",
       "    </tr>\n",
       "    <tr>\n",
       "      <th>2</th>\n",
       "      <td>one</td>\n",
       "      <td>two</td>\n",
       "      <td>three</td>\n",
       "    </tr>\n",
       "  </tbody>\n",
       "</table>\n",
       "</div>"
      ],
      "text/plain": [
       "     c1   c2     c3\n",
       "0     1    2    NaN\n",
       "1  1.11  NaN   3.33\n",
       "2   one  two  three"
      ]
     },
     "execution_count": 236,
     "metadata": {},
     "output_type": "execute_result"
    }
   ],
   "source": [
    "# na_values ==>누락을 NaN값으로\n",
    "df_na_val = pd.read_csv('sample1.csv',na_values=['누락'])\n",
    "df_na_val"
   ]
  },
  {
   "cell_type": "code",
   "execution_count": 237,
   "id": "159e14cb-4fde-4e9c-8f58-dc6efc977de3",
   "metadata": {},
   "outputs": [],
   "source": [
    "df_na_val.to_csv('sample5.txt',sep='|')"
   ]
  },
  {
   "cell_type": "code",
   "execution_count": 239,
   "id": "794f1e67-09c7-46a7-a0bf-4721cca0fe38",
   "metadata": {},
   "outputs": [],
   "source": [
    "#na_rep ==> NaN값을 '누락'으로\n",
    "df_na_val.to_csv('sample6.txt',na_rep='누락')"
   ]
  },
  {
   "cell_type": "code",
   "execution_count": 243,
   "id": "02944043-742d-4a6b-822c-04b7c9b13823",
   "metadata": {},
   "outputs": [
    {
     "data": {
      "text/html": [
       "<div>\n",
       "<style scoped>\n",
       "    .dataframe tbody tr th:only-of-type {\n",
       "        vertical-align: middle;\n",
       "    }\n",
       "\n",
       "    .dataframe tbody tr th {\n",
       "        vertical-align: top;\n",
       "    }\n",
       "\n",
       "    .dataframe thead th {\n",
       "        text-align: right;\n",
       "    }\n",
       "</style>\n",
       "<table border=\"1\" class=\"dataframe\">\n",
       "  <thead>\n",
       "    <tr style=\"text-align: right;\">\n",
       "      <th></th>\n",
       "      <th>survived</th>\n",
       "      <th>sex</th>\n",
       "      <th>age</th>\n",
       "      <th>n_siblings_spouses</th>\n",
       "      <th>parch</th>\n",
       "      <th>fare</th>\n",
       "      <th>class</th>\n",
       "      <th>deck</th>\n",
       "      <th>embark_town</th>\n",
       "      <th>alone</th>\n",
       "    </tr>\n",
       "  </thead>\n",
       "  <tbody>\n",
       "    <tr>\n",
       "      <th>0</th>\n",
       "      <td>0</td>\n",
       "      <td>male</td>\n",
       "      <td>22.0</td>\n",
       "      <td>1</td>\n",
       "      <td>0</td>\n",
       "      <td>7.2500</td>\n",
       "      <td>Third</td>\n",
       "      <td>unknown</td>\n",
       "      <td>Southampton</td>\n",
       "      <td>n</td>\n",
       "    </tr>\n",
       "    <tr>\n",
       "      <th>1</th>\n",
       "      <td>1</td>\n",
       "      <td>female</td>\n",
       "      <td>38.0</td>\n",
       "      <td>1</td>\n",
       "      <td>0</td>\n",
       "      <td>71.2833</td>\n",
       "      <td>First</td>\n",
       "      <td>C</td>\n",
       "      <td>Cherbourg</td>\n",
       "      <td>n</td>\n",
       "    </tr>\n",
       "    <tr>\n",
       "      <th>2</th>\n",
       "      <td>1</td>\n",
       "      <td>female</td>\n",
       "      <td>26.0</td>\n",
       "      <td>0</td>\n",
       "      <td>0</td>\n",
       "      <td>7.9250</td>\n",
       "      <td>Third</td>\n",
       "      <td>unknown</td>\n",
       "      <td>Southampton</td>\n",
       "      <td>y</td>\n",
       "    </tr>\n",
       "    <tr>\n",
       "      <th>3</th>\n",
       "      <td>1</td>\n",
       "      <td>female</td>\n",
       "      <td>35.0</td>\n",
       "      <td>1</td>\n",
       "      <td>0</td>\n",
       "      <td>53.1000</td>\n",
       "      <td>First</td>\n",
       "      <td>C</td>\n",
       "      <td>Southampton</td>\n",
       "      <td>n</td>\n",
       "    </tr>\n",
       "    <tr>\n",
       "      <th>4</th>\n",
       "      <td>0</td>\n",
       "      <td>male</td>\n",
       "      <td>28.0</td>\n",
       "      <td>0</td>\n",
       "      <td>0</td>\n",
       "      <td>8.4583</td>\n",
       "      <td>Third</td>\n",
       "      <td>unknown</td>\n",
       "      <td>Queenstown</td>\n",
       "      <td>y</td>\n",
       "    </tr>\n",
       "  </tbody>\n",
       "</table>\n",
       "</div>"
      ],
      "text/plain": [
       "   survived     sex   age  n_siblings_spouses  parch     fare  class     deck  \\\n",
       "0         0    male  22.0                   1      0   7.2500  Third  unknown   \n",
       "1         1  female  38.0                   1      0  71.2833  First        C   \n",
       "2         1  female  26.0                   0      0   7.9250  Third  unknown   \n",
       "3         1  female  35.0                   1      0  53.1000  First        C   \n",
       "4         0    male  28.0                   0      0   8.4583  Third  unknown   \n",
       "\n",
       "   embark_town alone  \n",
       "0  Southampton     n  \n",
       "1    Cherbourg     n  \n",
       "2  Southampton     y  \n",
       "3  Southampton     n  \n",
       "4   Queenstown     y  "
      ]
     },
     "execution_count": 243,
     "metadata": {},
     "output_type": "execute_result"
    }
   ],
   "source": [
    "titanic = pd.read_csv('https://storage.googleapis.com/tf-datasets/titanic/train.csv')\n",
    "titanic.head()"
   ]
  },
  {
   "cell_type": "code",
   "execution_count": 244,
   "id": "04023232-3172-46f3-838d-8b5766edb815",
   "metadata": {},
   "outputs": [
    {
     "data": {
      "text/html": [
       "<div>\n",
       "<style scoped>\n",
       "    .dataframe tbody tr th:only-of-type {\n",
       "        vertical-align: middle;\n",
       "    }\n",
       "\n",
       "    .dataframe tbody tr th {\n",
       "        vertical-align: top;\n",
       "    }\n",
       "\n",
       "    .dataframe thead th {\n",
       "        text-align: right;\n",
       "    }\n",
       "</style>\n",
       "<table border=\"1\" class=\"dataframe\">\n",
       "  <thead>\n",
       "    <tr style=\"text-align: right;\">\n",
       "      <th></th>\n",
       "      <th>survived</th>\n",
       "      <th>age</th>\n",
       "      <th>n_siblings_spouses</th>\n",
       "      <th>parch</th>\n",
       "      <th>fare</th>\n",
       "    </tr>\n",
       "  </thead>\n",
       "  <tbody>\n",
       "    <tr>\n",
       "      <th>count</th>\n",
       "      <td>627.000000</td>\n",
       "      <td>627.000000</td>\n",
       "      <td>627.000000</td>\n",
       "      <td>627.000000</td>\n",
       "      <td>627.000000</td>\n",
       "    </tr>\n",
       "    <tr>\n",
       "      <th>mean</th>\n",
       "      <td>0.387560</td>\n",
       "      <td>29.631308</td>\n",
       "      <td>0.545455</td>\n",
       "      <td>0.379585</td>\n",
       "      <td>34.385399</td>\n",
       "    </tr>\n",
       "    <tr>\n",
       "      <th>std</th>\n",
       "      <td>0.487582</td>\n",
       "      <td>12.511818</td>\n",
       "      <td>1.151090</td>\n",
       "      <td>0.792999</td>\n",
       "      <td>54.597730</td>\n",
       "    </tr>\n",
       "    <tr>\n",
       "      <th>min</th>\n",
       "      <td>0.000000</td>\n",
       "      <td>0.750000</td>\n",
       "      <td>0.000000</td>\n",
       "      <td>0.000000</td>\n",
       "      <td>0.000000</td>\n",
       "    </tr>\n",
       "    <tr>\n",
       "      <th>25%</th>\n",
       "      <td>0.000000</td>\n",
       "      <td>23.000000</td>\n",
       "      <td>0.000000</td>\n",
       "      <td>0.000000</td>\n",
       "      <td>7.895800</td>\n",
       "    </tr>\n",
       "    <tr>\n",
       "      <th>50%</th>\n",
       "      <td>0.000000</td>\n",
       "      <td>28.000000</td>\n",
       "      <td>0.000000</td>\n",
       "      <td>0.000000</td>\n",
       "      <td>15.045800</td>\n",
       "    </tr>\n",
       "    <tr>\n",
       "      <th>75%</th>\n",
       "      <td>1.000000</td>\n",
       "      <td>35.000000</td>\n",
       "      <td>1.000000</td>\n",
       "      <td>0.000000</td>\n",
       "      <td>31.387500</td>\n",
       "    </tr>\n",
       "    <tr>\n",
       "      <th>max</th>\n",
       "      <td>1.000000</td>\n",
       "      <td>80.000000</td>\n",
       "      <td>8.000000</td>\n",
       "      <td>5.000000</td>\n",
       "      <td>512.329200</td>\n",
       "    </tr>\n",
       "  </tbody>\n",
       "</table>\n",
       "</div>"
      ],
      "text/plain": [
       "         survived         age  n_siblings_spouses       parch        fare\n",
       "count  627.000000  627.000000          627.000000  627.000000  627.000000\n",
       "mean     0.387560   29.631308            0.545455    0.379585   34.385399\n",
       "std      0.487582   12.511818            1.151090    0.792999   54.597730\n",
       "min      0.000000    0.750000            0.000000    0.000000    0.000000\n",
       "25%      0.000000   23.000000            0.000000    0.000000    7.895800\n",
       "50%      0.000000   28.000000            0.000000    0.000000   15.045800\n",
       "75%      1.000000   35.000000            1.000000    0.000000   31.387500\n",
       "max      1.000000   80.000000            8.000000    5.000000  512.329200"
      ]
     },
     "execution_count": 244,
     "metadata": {},
     "output_type": "execute_result"
    }
   ],
   "source": [
    "titanic.describe()"
   ]
  },
  {
   "cell_type": "code",
   "execution_count": null,
   "id": "186aaa53-1e3c-4483-ac92-3a2f45d975e3",
   "metadata": {},
   "outputs": [],
   "source": [
    "params={'serviceKey': '0ef7383c-1cbd-40bb-a955-eab4aaea49d9'}"
   ]
  },
  {
   "cell_type": "code",
   "execution_count": 281,
   "id": "005ba9a5-066d-4abc-8aa9-0a48c7d6fce0",
   "metadata": {},
   "outputs": [
    {
     "name": "stdout",
     "output_type": "stream",
     "text": [
      "200\n"
     ]
    }
   ],
   "source": [
    "import requests\n",
    "import json\n",
    "\n",
    "response = requests.get('http://api.kcisa.kr/API_CNV_049/request',\n",
    "                       params={'serviceKey': '0ef7383c-1cbd-40bb-a955-eab4aaea49d9'})\n",
    "print(response.status_code)"
   ]
  },
  {
   "cell_type": "code",
   "execution_count": 253,
   "id": "92f54325-958f-4be1-b301-52a1666f77cf",
   "metadata": {},
   "outputs": [
    {
     "data": {
      "text/plain": [
       "{}"
      ]
     },
     "execution_count": 253,
     "metadata": {},
     "output_type": "execute_result"
    }
   ],
   "source": [
    "response.links"
   ]
  },
  {
   "cell_type": "code",
   "execution_count": 260,
   "id": "0ffd1ca5-2c39-4999-a80d-56bbaf5ce85f",
   "metadata": {},
   "outputs": [
    {
     "name": "stdout",
     "output_type": "stream",
     "text": [
      "인코딩: utf-8\n",
      "콘텐츠 타입: form; charset=utf-8\n",
      "서버: nginx\n"
     ]
    }
   ],
   "source": [
    "print(f\"인코딩: {response.encoding}\")\n",
    "print(f\"콘텐츠 타입: {response.headers['Content-Type']}\")\n",
    "print(f\"서버: {response.headers['server']}\")"
   ]
  },
  {
   "cell_type": "code",
   "execution_count": 299,
   "id": "94cc4a8c-4480-4d2e-8d12-83ee973b8c64",
   "metadata": {
    "scrolled": true,
    "tags": []
   },
   "outputs": [
    {
     "data": {
      "text/plain": [
       "{'response': {'header': {'resultCode': '0000', 'resultMsg': 'OK'},\n",
       "  'body': {'items': {'item': [{'title': '湖南의 傳統繪畵',\n",
       "      'alternativeTitle': None,\n",
       "      'description': '&lt;p&gt;.&lt;/p&gt;',\n",
       "      'subDescription': None,\n",
       "      'subjectKeyword': None,\n",
       "      'viewCount': '84',\n",
       "      'url': None,\n",
       "      'localId': '1',\n",
       "      'createdDate': '2023-03-06 00:50:00',\n",
       "      'imageObject': None,\n",
       "      'sizing': '219',\n",
       "      'charge': None,\n",
       "      'period': None},\n",
       "     {'title': \"'푸른 남해, 안도패총 6000년'발굴 속보전\",\n",
       "      'alternativeTitle': None,\n",
       "      'description': '발굴 속보전을 열며 / 3 \\n\\n편안한 섬, 안도(安島) / 4~5 \\n\\n안도패총이 세상에 알려지기까지 / 6 \\n\\n&quot;안도패총&quot;이 세상에 드러나다. / 6~7 \\n\\n고기잡이 도구 / 8~9 \\n\\n기술과 생활 도구 / 10~11 \\n\\n아름다움, 상징, 신앙, 그리고... / 11~12 \\n\\n먼거리 교류 / 12~13',\n",
       "      'subDescription': '출판사:도서출판 라인,구입처:학예연구실 문의',\n",
       "      'subjectKeyword': None,\n",
       "      'viewCount': '60',\n",
       "      'url': None,\n",
       "      'localId': '10',\n",
       "      'createdDate': '2023-03-06 00:50:00',\n",
       "      'imageObject': None,\n",
       "      'sizing': '13',\n",
       "      'charge': None,\n",
       "      'period': None},\n",
       "     {'title': '하서 김인후와 필암서원',\n",
       "      'alternativeTitle': None,\n",
       "      'description': '&lt;p&gt;특별전을 열며 / 6 제1부 하서 김인후의 가계와 출사 / 8 제2부 인종과의 만남 / 8 제3부 조선의 성리학과 하서 / 38 제4부 선비정신과 시세계 / 78 제5부 하서와 필암서원 / 102 제6부 하서의 문묘배향 / 164 하서와 호남유학 / 190 특별논고 / 194 \\u3000오종일 - 하서의 삶과 그 학문 \\u3000윤희면 - 필암서원의 기능과 의의 하서 김인후 연보 / 222 참고문헌 / 230&lt;/p&gt;',\n",
       "      'subDescription': '출판사:그라픽네트,가격:25000,구입처:학예연구실 문의',\n",
       "      'subjectKeyword': None,\n",
       "      'viewCount': '74',\n",
       "      'url': None,\n",
       "      'localId': '11',\n",
       "      'createdDate': '2023-03-06 00:50:00',\n",
       "      'imageObject': None,\n",
       "      'sizing': '231',\n",
       "      'charge': None,\n",
       "      'period': None},\n",
       "     {'title': '사경변상도의 세계, 부처 그리고 마음',\n",
       "      'alternativeTitle': None,\n",
       "      'description': '&lt;p&gt;특별전을 열며 / 1 사경寫經 / 3 사경변상도寫經變相圖 / 4 통일신라의 사경변상도統一新羅寫經變相圖 / 5 고려의 사경변상도高麗寫經變相圖 / 6~7 불법을 지키는 신장神將 / 8~9 구도의 여행을 떠난 선재동자善財童子 / 10~14 조선의 사경변상도朝鮮寫經變相圖 / 15~17 사경의 글씨寫經書體 / 18~20 사경의 흔적들 / 21~23&lt;/p&gt;',\n",
       "      'subDescription': '출판사:도서출판 라인,구입처:학예연구실 문의',\n",
       "      'subjectKeyword': None,\n",
       "      'viewCount': '69',\n",
       "      'url': None,\n",
       "      'localId': '12',\n",
       "      'createdDate': '2023-03-06 00:50:00',\n",
       "      'imageObject': None,\n",
       "      'sizing': '23',\n",
       "      'charge': None,\n",
       "      'period': None},\n",
       "     {'title': '사호송수면의 회화세계',\n",
       "      'alternativeTitle': None,\n",
       "      'description': '&lt;p&gt;인사말 / 4 도판 / 4 사군자 / 7 화조&amp;middot;동물 / 59 꽃과 나비 / 77 산수 / 95 톡별 논고 사호沙湖 송수면宋修勉(1847~1916)의 생애와 회화(이선옥) / 129 도판 해설 / 150 도판 목록 / 186&lt;/p&gt;',\n",
       "      'subDescription': '출판사:주)비따,구입처:학예연구실 문의',\n",
       "      'subjectKeyword': None,\n",
       "      'viewCount': '53',\n",
       "      'url': None,\n",
       "      'localId': '13',\n",
       "      'createdDate': '2023-03-06 00:50:00',\n",
       "      'imageObject': None,\n",
       "      'sizing': '190',\n",
       "      'charge': None,\n",
       "      'period': None},\n",
       "     {'title': '화순 대곡리유적 발국 속보전 다시 태어난 청동 국보',\n",
       "      'alternativeTitle': None,\n",
       "      'description': '&lt;p&gt;- 발굴 속보전을 열며 / 2 - 옛날 사람들은 자연을 숭배하였다 / 3 - 원시신앙 / 4 - 화순 대곡리유적의 실체를 밝히다 / 6 - 적석목관묘 / 8 - 화순 대곡리유적 출토요물 / 9 - 2008년 조사에서 새로 출토된 동검 / 12 - 통나무관 아래서 새로운 동검을 찾아내다 / 13 - 드디어 동검의 모습을 드러내다 / 14 - 대곡리에 묻힌 사람은 누구일까? / 15 - 대곡리 유물과 닮은 모습들 / 15 - 통나무관을 사용했다 / 16 - 통나무관 복원 / 16 - 통나무관은 무슨 나무일까? / 17 - 통나무관 수종 분석 / 17 - 제사장 / 18&lt;/p&gt;',\n",
       "      'subDescription': '출판사:도서출판 라인,구입처:학예연구실 문의',\n",
       "      'subjectKeyword': None,\n",
       "      'viewCount': '64',\n",
       "      'url': None,\n",
       "      'localId': '14',\n",
       "      'createdDate': '2023-03-06 00:50:00',\n",
       "      'imageObject': None,\n",
       "      'sizing': '19',\n",
       "      'charge': None,\n",
       "      'period': None},\n",
       "     {'title': '사진으로 보는 중앙아시아 초원과 오아시스',\n",
       "      'alternativeTitle': None,\n",
       "      'description': '&lt;p&gt;- 특별전을 열며... / 2 - 사막과 오아시스 / 4 - 초원과 유목민의 삶 / 6 - 3부 바자르의 이모저모 / 8 - 생업 / 10 - 유적 / 12 - 유물&amp;middot;예술 / 16 - 인물 / 18&lt;/p&gt;',\n",
       "      'subDescription': '출판사:도서출판 라인,구입처:학예연구실 문의',\n",
       "      'subjectKeyword': None,\n",
       "      'viewCount': '43',\n",
       "      'url': None,\n",
       "      'localId': '15',\n",
       "      'createdDate': '2023-03-06 00:50:00',\n",
       "      'imageObject': None,\n",
       "      'sizing': '19',\n",
       "      'charge': None,\n",
       "      'period': None},\n",
       "     {'title': '기록으로 본 조선시대 사회문화',\n",
       "      'alternativeTitle': None,\n",
       "      'description': '&lt;p&gt;● 발간사 ● 제1부 \\u3000 충의와 절의의 선비 석탄石灘 이신의李愼儀 \\u3000 \\u3000 1. 석탄 이신의의 가계와 생애 / 10 \\u3000 \\u3000 2. 선무원종공신-의병과함께 나라를 지키다 / 18 \\u3000 \\u3000 3. 서원배향-충의와 절의를 본받다 / 30 \\u3000 \\u3000 4. 석탄금-인명은 유한하나 시간을 넘어 / 40 \\u3000 \\u3000 5. 사우가-네 벗을 노래하다 / 43 ● 제2부 \\u3000 문서로 본 조선시대 사회문화 \\u3000 \\u3000 1. 호적제도 / 50 \\u3000 \\u3000 2. 양자제도 -양자를 들여 대를 잇다 / 58 \\u3000 \\u3000 3. 재산상속-남녀구분 없이 동등하게 / 60 \\u3000 \\u3000 4. 토지거래-노비가 땅을 사고 팔다 / 66 \\u3000 \\u3000 5. 무덤 송사-소문난 명당에 몰래 묻다 / 70 \\u3000 \\u3000 6. 효를 실천하고 우애를 쌓다 / 77 \\u3000 \\u3000 7. 과거제도 / 84 ● 부록 \\u3000 \\u3000 1. 호적 자료 / 88 \\u3000 \\u3000 2. 유애사 자료 / 116 \\u3000 \\u3000 3. 소송 자료 / 126 \\u3000 \\u3000 4. 기타 자료 / 144&lt;/p&gt;',\n",
       "      'subDescription': '출판사:도서출판 라인,구입처:학예연구실 문의',\n",
       "      'subjectKeyword': None,\n",
       "      'viewCount': '59',\n",
       "      'url': None,\n",
       "      'localId': '16',\n",
       "      'createdDate': '2023-03-06 00:50:00',\n",
       "      'imageObject': None,\n",
       "      'sizing': '151',\n",
       "      'charge': None,\n",
       "      'period': None},\n",
       "     {'title': '남종화의 거장 소치 허련 200년',\n",
       "      'alternativeTitle': None,\n",
       "      'description': '&lt;p&gt;기획특별전을 개최하면서 / 2 가계家系와 생애生涯 / 6 학연學緣 초의선사와 추사 김정희 / 20 묵연？然 후원자와 친구 / 74 연운공양煙雲供養 예술세계 | 산수화&amp;middot;사군자&amp;middot;기타그림&amp;middot;글씨 / 148 인보印譜 / 356 논고論考 / 367 소치 허련의 생애와 회화세계 김성엽 | 문화재청, 한국회화사 소치 허련의 서예-형성과정과 특질을 중심으로 이동국 | 예솔의전당 서예박물관 학예사 湖南畵壇과 小癡 - 許鍊畵壇의 現左性 이원복 | 국립전주박물관 관장 소치 허련과 원대元代의 남종화 박해훈 | 국립광주박물관 학예연구사 연보 / 416 허련 관련 인물 약전 / 428&lt;/p&gt;',\n",
       "      'subDescription': '출판사:비에이디자인,구입처:학예연구실 문의',\n",
       "      'subjectKeyword': None,\n",
       "      'viewCount': '121',\n",
       "      'url': None,\n",
       "      'localId': '17',\n",
       "      'createdDate': '2023-03-06 00:50:00',\n",
       "      'imageObject': None,\n",
       "      'sizing': '433',\n",
       "      'charge': None,\n",
       "      'period': None},\n",
       "     {'title': '광주 유구한 문화의 도시',\n",
       "      'alternativeTitle': None,\n",
       "      'description': '&lt;p&gt;Ⅰ 광주의 위치와 환경 / 11 \\u3000 1. 광주의 위치 / 12 \\u3000 2. 광주의 자연환경 / 15 Ⅱ 선사시대의 광주 / 14 \\u3000 1. 구석기시대 / 27 \\u3000 2. 신석기시대 / 29 \\u3000 3. 청동기시대 / 32 \\u3000 4. 초기철기시대 / 38 Ⅲ 고대의 광주 / 45 \\u3000 1. 마한 / 46 \\u3000 2. 삼국시대의 무진주 / 52 \\u3000 3. 통일신라시대의 무주 / 66 \\u3000 4. 후백제의 성립 / 69 Ⅳ 고려&amp;middot;조선시대의 광주 / 71 \\u3000 1. 광주의 탄생과 발전 / 72 \\u3000 2. 광주의 학문 / 81 \\u3000 3. 의향 광주 / 118 Ⅴ 광주의 공예와 서화 / 141 \\u3000 1. 광주의 공예 / 142 \\u3000 2. 광주의 서화 / 154 Ⅵ 광주의 불교와 민속 / 177 \\u3000 1. 광주의 불교 / 178 \\u3000 2. 광주의 민속 / 229 부록 / 239&lt;/p&gt;',\n",
       "      'subDescription': '출판사:도서출판 라인,구입처:학예연구실 문의',\n",
       "      'subjectKeyword': None,\n",
       "      'viewCount': '74',\n",
       "      'url': None,\n",
       "      'localId': '18',\n",
       "      'createdDate': '2023-03-06 00:50:00',\n",
       "      'imageObject': None,\n",
       "      'sizing': '267',\n",
       "      'charge': None,\n",
       "      'period': None}]},\n",
       "   'numOfRows': '10',\n",
       "   'pageNo': '1',\n",
       "   'totalCount': '99'}}}"
      ]
     },
     "execution_count": 299,
     "metadata": {},
     "output_type": "execute_result"
    }
   ],
   "source": [
    "import xmltodict\n",
    "data = xmltodict.parse(response.text)\n",
    "data"
   ]
  },
  {
   "cell_type": "code",
   "execution_count": 313,
   "id": "1da56b9b-2e49-4c42-a166-381097e8a1e7",
   "metadata": {
    "scrolled": true,
    "tags": []
   },
   "outputs": [
    {
     "data": {
      "text/plain": [
       "[{'title': '湖南의 傳統繪畵',\n",
       "  'alternativeTitle': None,\n",
       "  'description': '&lt;p&gt;.&lt;/p&gt;',\n",
       "  'subDescription': None,\n",
       "  'subjectKeyword': None,\n",
       "  'viewCount': '84',\n",
       "  'url': None,\n",
       "  'localId': '1',\n",
       "  'createdDate': '2023-03-06 00:50:00',\n",
       "  'imageObject': None,\n",
       "  'sizing': '219',\n",
       "  'charge': None,\n",
       "  'period': None},\n",
       " {'title': \"'푸른 남해, 안도패총 6000년'발굴 속보전\",\n",
       "  'alternativeTitle': None,\n",
       "  'description': '발굴 속보전을 열며 / 3 \\n\\n편안한 섬, 안도(安島) / 4~5 \\n\\n안도패총이 세상에 알려지기까지 / 6 \\n\\n&quot;안도패총&quot;이 세상에 드러나다. / 6~7 \\n\\n고기잡이 도구 / 8~9 \\n\\n기술과 생활 도구 / 10~11 \\n\\n아름다움, 상징, 신앙, 그리고... / 11~12 \\n\\n먼거리 교류 / 12~13',\n",
       "  'subDescription': '출판사:도서출판 라인,구입처:학예연구실 문의',\n",
       "  'subjectKeyword': None,\n",
       "  'viewCount': '60',\n",
       "  'url': None,\n",
       "  'localId': '10',\n",
       "  'createdDate': '2023-03-06 00:50:00',\n",
       "  'imageObject': None,\n",
       "  'sizing': '13',\n",
       "  'charge': None,\n",
       "  'period': None},\n",
       " {'title': '하서 김인후와 필암서원',\n",
       "  'alternativeTitle': None,\n",
       "  'description': '&lt;p&gt;특별전을 열며 / 6 제1부 하서 김인후의 가계와 출사 / 8 제2부 인종과의 만남 / 8 제3부 조선의 성리학과 하서 / 38 제4부 선비정신과 시세계 / 78 제5부 하서와 필암서원 / 102 제6부 하서의 문묘배향 / 164 하서와 호남유학 / 190 특별논고 / 194 \\u3000오종일 - 하서의 삶과 그 학문 \\u3000윤희면 - 필암서원의 기능과 의의 하서 김인후 연보 / 222 참고문헌 / 230&lt;/p&gt;',\n",
       "  'subDescription': '출판사:그라픽네트,가격:25000,구입처:학예연구실 문의',\n",
       "  'subjectKeyword': None,\n",
       "  'viewCount': '74',\n",
       "  'url': None,\n",
       "  'localId': '11',\n",
       "  'createdDate': '2023-03-06 00:50:00',\n",
       "  'imageObject': None,\n",
       "  'sizing': '231',\n",
       "  'charge': None,\n",
       "  'period': None},\n",
       " {'title': '사경변상도의 세계, 부처 그리고 마음',\n",
       "  'alternativeTitle': None,\n",
       "  'description': '&lt;p&gt;특별전을 열며 / 1 사경寫經 / 3 사경변상도寫經變相圖 / 4 통일신라의 사경변상도統一新羅寫經變相圖 / 5 고려의 사경변상도高麗寫經變相圖 / 6~7 불법을 지키는 신장神將 / 8~9 구도의 여행을 떠난 선재동자善財童子 / 10~14 조선의 사경변상도朝鮮寫經變相圖 / 15~17 사경의 글씨寫經書體 / 18~20 사경의 흔적들 / 21~23&lt;/p&gt;',\n",
       "  'subDescription': '출판사:도서출판 라인,구입처:학예연구실 문의',\n",
       "  'subjectKeyword': None,\n",
       "  'viewCount': '69',\n",
       "  'url': None,\n",
       "  'localId': '12',\n",
       "  'createdDate': '2023-03-06 00:50:00',\n",
       "  'imageObject': None,\n",
       "  'sizing': '23',\n",
       "  'charge': None,\n",
       "  'period': None},\n",
       " {'title': '사호송수면의 회화세계',\n",
       "  'alternativeTitle': None,\n",
       "  'description': '&lt;p&gt;인사말 / 4 도판 / 4 사군자 / 7 화조&amp;middot;동물 / 59 꽃과 나비 / 77 산수 / 95 톡별 논고 사호沙湖 송수면宋修勉(1847~1916)의 생애와 회화(이선옥) / 129 도판 해설 / 150 도판 목록 / 186&lt;/p&gt;',\n",
       "  'subDescription': '출판사:주)비따,구입처:학예연구실 문의',\n",
       "  'subjectKeyword': None,\n",
       "  'viewCount': '53',\n",
       "  'url': None,\n",
       "  'localId': '13',\n",
       "  'createdDate': '2023-03-06 00:50:00',\n",
       "  'imageObject': None,\n",
       "  'sizing': '190',\n",
       "  'charge': None,\n",
       "  'period': None},\n",
       " {'title': '화순 대곡리유적 발국 속보전 다시 태어난 청동 국보',\n",
       "  'alternativeTitle': None,\n",
       "  'description': '&lt;p&gt;- 발굴 속보전을 열며 / 2 - 옛날 사람들은 자연을 숭배하였다 / 3 - 원시신앙 / 4 - 화순 대곡리유적의 실체를 밝히다 / 6 - 적석목관묘 / 8 - 화순 대곡리유적 출토요물 / 9 - 2008년 조사에서 새로 출토된 동검 / 12 - 통나무관 아래서 새로운 동검을 찾아내다 / 13 - 드디어 동검의 모습을 드러내다 / 14 - 대곡리에 묻힌 사람은 누구일까? / 15 - 대곡리 유물과 닮은 모습들 / 15 - 통나무관을 사용했다 / 16 - 통나무관 복원 / 16 - 통나무관은 무슨 나무일까? / 17 - 통나무관 수종 분석 / 17 - 제사장 / 18&lt;/p&gt;',\n",
       "  'subDescription': '출판사:도서출판 라인,구입처:학예연구실 문의',\n",
       "  'subjectKeyword': None,\n",
       "  'viewCount': '64',\n",
       "  'url': None,\n",
       "  'localId': '14',\n",
       "  'createdDate': '2023-03-06 00:50:00',\n",
       "  'imageObject': None,\n",
       "  'sizing': '19',\n",
       "  'charge': None,\n",
       "  'period': None},\n",
       " {'title': '사진으로 보는 중앙아시아 초원과 오아시스',\n",
       "  'alternativeTitle': None,\n",
       "  'description': '&lt;p&gt;- 특별전을 열며... / 2 - 사막과 오아시스 / 4 - 초원과 유목민의 삶 / 6 - 3부 바자르의 이모저모 / 8 - 생업 / 10 - 유적 / 12 - 유물&amp;middot;예술 / 16 - 인물 / 18&lt;/p&gt;',\n",
       "  'subDescription': '출판사:도서출판 라인,구입처:학예연구실 문의',\n",
       "  'subjectKeyword': None,\n",
       "  'viewCount': '43',\n",
       "  'url': None,\n",
       "  'localId': '15',\n",
       "  'createdDate': '2023-03-06 00:50:00',\n",
       "  'imageObject': None,\n",
       "  'sizing': '19',\n",
       "  'charge': None,\n",
       "  'period': None},\n",
       " {'title': '기록으로 본 조선시대 사회문화',\n",
       "  'alternativeTitle': None,\n",
       "  'description': '&lt;p&gt;● 발간사 ● 제1부 \\u3000 충의와 절의의 선비 석탄石灘 이신의李愼儀 \\u3000 \\u3000 1. 석탄 이신의의 가계와 생애 / 10 \\u3000 \\u3000 2. 선무원종공신-의병과함께 나라를 지키다 / 18 \\u3000 \\u3000 3. 서원배향-충의와 절의를 본받다 / 30 \\u3000 \\u3000 4. 석탄금-인명은 유한하나 시간을 넘어 / 40 \\u3000 \\u3000 5. 사우가-네 벗을 노래하다 / 43 ● 제2부 \\u3000 문서로 본 조선시대 사회문화 \\u3000 \\u3000 1. 호적제도 / 50 \\u3000 \\u3000 2. 양자제도 -양자를 들여 대를 잇다 / 58 \\u3000 \\u3000 3. 재산상속-남녀구분 없이 동등하게 / 60 \\u3000 \\u3000 4. 토지거래-노비가 땅을 사고 팔다 / 66 \\u3000 \\u3000 5. 무덤 송사-소문난 명당에 몰래 묻다 / 70 \\u3000 \\u3000 6. 효를 실천하고 우애를 쌓다 / 77 \\u3000 \\u3000 7. 과거제도 / 84 ● 부록 \\u3000 \\u3000 1. 호적 자료 / 88 \\u3000 \\u3000 2. 유애사 자료 / 116 \\u3000 \\u3000 3. 소송 자료 / 126 \\u3000 \\u3000 4. 기타 자료 / 144&lt;/p&gt;',\n",
       "  'subDescription': '출판사:도서출판 라인,구입처:학예연구실 문의',\n",
       "  'subjectKeyword': None,\n",
       "  'viewCount': '59',\n",
       "  'url': None,\n",
       "  'localId': '16',\n",
       "  'createdDate': '2023-03-06 00:50:00',\n",
       "  'imageObject': None,\n",
       "  'sizing': '151',\n",
       "  'charge': None,\n",
       "  'period': None},\n",
       " {'title': '남종화의 거장 소치 허련 200년',\n",
       "  'alternativeTitle': None,\n",
       "  'description': '&lt;p&gt;기획특별전을 개최하면서 / 2 가계家系와 생애生涯 / 6 학연學緣 초의선사와 추사 김정희 / 20 묵연？然 후원자와 친구 / 74 연운공양煙雲供養 예술세계 | 산수화&amp;middot;사군자&amp;middot;기타그림&amp;middot;글씨 / 148 인보印譜 / 356 논고論考 / 367 소치 허련의 생애와 회화세계 김성엽 | 문화재청, 한국회화사 소치 허련의 서예-형성과정과 특질을 중심으로 이동국 | 예솔의전당 서예박물관 학예사 湖南畵壇과 小癡 - 許鍊畵壇의 現左性 이원복 | 국립전주박물관 관장 소치 허련과 원대元代의 남종화 박해훈 | 국립광주박물관 학예연구사 연보 / 416 허련 관련 인물 약전 / 428&lt;/p&gt;',\n",
       "  'subDescription': '출판사:비에이디자인,구입처:학예연구실 문의',\n",
       "  'subjectKeyword': None,\n",
       "  'viewCount': '121',\n",
       "  'url': None,\n",
       "  'localId': '17',\n",
       "  'createdDate': '2023-03-06 00:50:00',\n",
       "  'imageObject': None,\n",
       "  'sizing': '433',\n",
       "  'charge': None,\n",
       "  'period': None},\n",
       " {'title': '광주 유구한 문화의 도시',\n",
       "  'alternativeTitle': None,\n",
       "  'description': '&lt;p&gt;Ⅰ 광주의 위치와 환경 / 11 \\u3000 1. 광주의 위치 / 12 \\u3000 2. 광주의 자연환경 / 15 Ⅱ 선사시대의 광주 / 14 \\u3000 1. 구석기시대 / 27 \\u3000 2. 신석기시대 / 29 \\u3000 3. 청동기시대 / 32 \\u3000 4. 초기철기시대 / 38 Ⅲ 고대의 광주 / 45 \\u3000 1. 마한 / 46 \\u3000 2. 삼국시대의 무진주 / 52 \\u3000 3. 통일신라시대의 무주 / 66 \\u3000 4. 후백제의 성립 / 69 Ⅳ 고려&amp;middot;조선시대의 광주 / 71 \\u3000 1. 광주의 탄생과 발전 / 72 \\u3000 2. 광주의 학문 / 81 \\u3000 3. 의향 광주 / 118 Ⅴ 광주의 공예와 서화 / 141 \\u3000 1. 광주의 공예 / 142 \\u3000 2. 광주의 서화 / 154 Ⅵ 광주의 불교와 민속 / 177 \\u3000 1. 광주의 불교 / 178 \\u3000 2. 광주의 민속 / 229 부록 / 239&lt;/p&gt;',\n",
       "  'subDescription': '출판사:도서출판 라인,구입처:학예연구실 문의',\n",
       "  'subjectKeyword': None,\n",
       "  'viewCount': '74',\n",
       "  'url': None,\n",
       "  'localId': '18',\n",
       "  'createdDate': '2023-03-06 00:50:00',\n",
       "  'imageObject': None,\n",
       "  'sizing': '267',\n",
       "  'charge': None,\n",
       "  'period': None}]"
      ]
     },
     "execution_count": 313,
     "metadata": {},
     "output_type": "execute_result"
    }
   ],
   "source": [
    "data[\"response\"]['body']['items']['item']"
   ]
  },
  {
   "cell_type": "code",
   "execution_count": 314,
   "id": "06bcb454-41b1-427c-9bd2-28dead52dc95",
   "metadata": {},
   "outputs": [
    {
     "data": {
      "text/html": [
       "<div>\n",
       "<style scoped>\n",
       "    .dataframe tbody tr th:only-of-type {\n",
       "        vertical-align: middle;\n",
       "    }\n",
       "\n",
       "    .dataframe tbody tr th {\n",
       "        vertical-align: top;\n",
       "    }\n",
       "\n",
       "    .dataframe thead th {\n",
       "        text-align: right;\n",
       "    }\n",
       "</style>\n",
       "<table border=\"1\" class=\"dataframe\">\n",
       "  <thead>\n",
       "    <tr style=\"text-align: right;\">\n",
       "      <th></th>\n",
       "      <th>title</th>\n",
       "      <th>alternativeTitle</th>\n",
       "      <th>description</th>\n",
       "      <th>subDescription</th>\n",
       "      <th>subjectKeyword</th>\n",
       "      <th>viewCount</th>\n",
       "      <th>url</th>\n",
       "      <th>localId</th>\n",
       "      <th>createdDate</th>\n",
       "      <th>imageObject</th>\n",
       "      <th>sizing</th>\n",
       "      <th>charge</th>\n",
       "      <th>period</th>\n",
       "    </tr>\n",
       "  </thead>\n",
       "  <tbody>\n",
       "    <tr>\n",
       "      <th>0</th>\n",
       "      <td>湖南의 傳統繪畵</td>\n",
       "      <td>None</td>\n",
       "      <td>&amp;lt;p&amp;gt;.&amp;lt;/p&amp;gt;</td>\n",
       "      <td>None</td>\n",
       "      <td>None</td>\n",
       "      <td>84</td>\n",
       "      <td>None</td>\n",
       "      <td>1</td>\n",
       "      <td>2023-03-06 00:50:00</td>\n",
       "      <td>None</td>\n",
       "      <td>219</td>\n",
       "      <td>None</td>\n",
       "      <td>None</td>\n",
       "    </tr>\n",
       "    <tr>\n",
       "      <th>1</th>\n",
       "      <td>'푸른 남해, 안도패총 6000년'발굴 속보전</td>\n",
       "      <td>None</td>\n",
       "      <td>발굴 속보전을 열며 / 3 \\n\\n편안한 섬, 안도(安島) / 4~5 \\n\\n안도패...</td>\n",
       "      <td>출판사:도서출판 라인,구입처:학예연구실 문의</td>\n",
       "      <td>None</td>\n",
       "      <td>60</td>\n",
       "      <td>None</td>\n",
       "      <td>10</td>\n",
       "      <td>2023-03-06 00:50:00</td>\n",
       "      <td>None</td>\n",
       "      <td>13</td>\n",
       "      <td>None</td>\n",
       "      <td>None</td>\n",
       "    </tr>\n",
       "    <tr>\n",
       "      <th>2</th>\n",
       "      <td>하서 김인후와 필암서원</td>\n",
       "      <td>None</td>\n",
       "      <td>&amp;lt;p&amp;gt;특별전을 열며 / 6 제1부 하서 김인후의 가계와 출사 / 8 제2...</td>\n",
       "      <td>출판사:그라픽네트,가격:25000,구입처:학예연구실 문의</td>\n",
       "      <td>None</td>\n",
       "      <td>74</td>\n",
       "      <td>None</td>\n",
       "      <td>11</td>\n",
       "      <td>2023-03-06 00:50:00</td>\n",
       "      <td>None</td>\n",
       "      <td>231</td>\n",
       "      <td>None</td>\n",
       "      <td>None</td>\n",
       "    </tr>\n",
       "    <tr>\n",
       "      <th>3</th>\n",
       "      <td>사경변상도의 세계, 부처 그리고 마음</td>\n",
       "      <td>None</td>\n",
       "      <td>&amp;lt;p&amp;gt;특별전을 열며 / 1 사경寫經 / 3 사경변상도寫經變相圖 / 4 통...</td>\n",
       "      <td>출판사:도서출판 라인,구입처:학예연구실 문의</td>\n",
       "      <td>None</td>\n",
       "      <td>69</td>\n",
       "      <td>None</td>\n",
       "      <td>12</td>\n",
       "      <td>2023-03-06 00:50:00</td>\n",
       "      <td>None</td>\n",
       "      <td>23</td>\n",
       "      <td>None</td>\n",
       "      <td>None</td>\n",
       "    </tr>\n",
       "    <tr>\n",
       "      <th>4</th>\n",
       "      <td>사호송수면의 회화세계</td>\n",
       "      <td>None</td>\n",
       "      <td>&amp;lt;p&amp;gt;인사말 / 4 도판 / 4 사군자 / 7 화조&amp;amp;middot;...</td>\n",
       "      <td>출판사:주)비따,구입처:학예연구실 문의</td>\n",
       "      <td>None</td>\n",
       "      <td>53</td>\n",
       "      <td>None</td>\n",
       "      <td>13</td>\n",
       "      <td>2023-03-06 00:50:00</td>\n",
       "      <td>None</td>\n",
       "      <td>190</td>\n",
       "      <td>None</td>\n",
       "      <td>None</td>\n",
       "    </tr>\n",
       "    <tr>\n",
       "      <th>5</th>\n",
       "      <td>화순 대곡리유적 발국 속보전 다시 태어난 청동 국보</td>\n",
       "      <td>None</td>\n",
       "      <td>&amp;lt;p&amp;gt;- 발굴 속보전을 열며 / 2 - 옛날 사람들은 자연을 숭배하였다 ...</td>\n",
       "      <td>출판사:도서출판 라인,구입처:학예연구실 문의</td>\n",
       "      <td>None</td>\n",
       "      <td>64</td>\n",
       "      <td>None</td>\n",
       "      <td>14</td>\n",
       "      <td>2023-03-06 00:50:00</td>\n",
       "      <td>None</td>\n",
       "      <td>19</td>\n",
       "      <td>None</td>\n",
       "      <td>None</td>\n",
       "    </tr>\n",
       "    <tr>\n",
       "      <th>6</th>\n",
       "      <td>사진으로 보는 중앙아시아 초원과 오아시스</td>\n",
       "      <td>None</td>\n",
       "      <td>&amp;lt;p&amp;gt;- 특별전을 열며... / 2 - 사막과 오아시스 / 4 - 초원과...</td>\n",
       "      <td>출판사:도서출판 라인,구입처:학예연구실 문의</td>\n",
       "      <td>None</td>\n",
       "      <td>43</td>\n",
       "      <td>None</td>\n",
       "      <td>15</td>\n",
       "      <td>2023-03-06 00:50:00</td>\n",
       "      <td>None</td>\n",
       "      <td>19</td>\n",
       "      <td>None</td>\n",
       "      <td>None</td>\n",
       "    </tr>\n",
       "    <tr>\n",
       "      <th>7</th>\n",
       "      <td>기록으로 본 조선시대 사회문화</td>\n",
       "      <td>None</td>\n",
       "      <td>&amp;lt;p&amp;gt;● 발간사 ● 제1부 　 충의와 절의의 선비 석탄石灘 이신의李愼儀 ...</td>\n",
       "      <td>출판사:도서출판 라인,구입처:학예연구실 문의</td>\n",
       "      <td>None</td>\n",
       "      <td>59</td>\n",
       "      <td>None</td>\n",
       "      <td>16</td>\n",
       "      <td>2023-03-06 00:50:00</td>\n",
       "      <td>None</td>\n",
       "      <td>151</td>\n",
       "      <td>None</td>\n",
       "      <td>None</td>\n",
       "    </tr>\n",
       "    <tr>\n",
       "      <th>8</th>\n",
       "      <td>남종화의 거장 소치 허련 200년</td>\n",
       "      <td>None</td>\n",
       "      <td>&amp;lt;p&amp;gt;기획특별전을 개최하면서 / 2 가계家系와 생애生涯 / 6 학연學緣 ...</td>\n",
       "      <td>출판사:비에이디자인,구입처:학예연구실 문의</td>\n",
       "      <td>None</td>\n",
       "      <td>121</td>\n",
       "      <td>None</td>\n",
       "      <td>17</td>\n",
       "      <td>2023-03-06 00:50:00</td>\n",
       "      <td>None</td>\n",
       "      <td>433</td>\n",
       "      <td>None</td>\n",
       "      <td>None</td>\n",
       "    </tr>\n",
       "    <tr>\n",
       "      <th>9</th>\n",
       "      <td>광주 유구한 문화의 도시</td>\n",
       "      <td>None</td>\n",
       "      <td>&amp;lt;p&amp;gt;Ⅰ 광주의 위치와 환경 / 11 　 1. 광주의 위치 / 12 　 ...</td>\n",
       "      <td>출판사:도서출판 라인,구입처:학예연구실 문의</td>\n",
       "      <td>None</td>\n",
       "      <td>74</td>\n",
       "      <td>None</td>\n",
       "      <td>18</td>\n",
       "      <td>2023-03-06 00:50:00</td>\n",
       "      <td>None</td>\n",
       "      <td>267</td>\n",
       "      <td>None</td>\n",
       "      <td>None</td>\n",
       "    </tr>\n",
       "  </tbody>\n",
       "</table>\n",
       "</div>"
      ],
      "text/plain": [
       "                          title alternativeTitle  \\\n",
       "0                      湖南의 傳統繪畵             None   \n",
       "1     '푸른 남해, 안도패총 6000년'발굴 속보전             None   \n",
       "2                  하서 김인후와 필암서원             None   \n",
       "3          사경변상도의 세계, 부처 그리고 마음             None   \n",
       "4                   사호송수면의 회화세계             None   \n",
       "5  화순 대곡리유적 발국 속보전 다시 태어난 청동 국보             None   \n",
       "6        사진으로 보는 중앙아시아 초원과 오아시스             None   \n",
       "7              기록으로 본 조선시대 사회문화             None   \n",
       "8            남종화의 거장 소치 허련 200년             None   \n",
       "9                 광주 유구한 문화의 도시             None   \n",
       "\n",
       "                                         description  \\\n",
       "0                               &lt;p&gt;.&lt;/p&gt;   \n",
       "1  발굴 속보전을 열며 / 3 \\n\\n편안한 섬, 안도(安島) / 4~5 \\n\\n안도패...   \n",
       "2  &lt;p&gt;특별전을 열며 / 6 제1부 하서 김인후의 가계와 출사 / 8 제2...   \n",
       "3  &lt;p&gt;특별전을 열며 / 1 사경寫經 / 3 사경변상도寫經變相圖 / 4 통...   \n",
       "4  &lt;p&gt;인사말 / 4 도판 / 4 사군자 / 7 화조&amp;middot;...   \n",
       "5  &lt;p&gt;- 발굴 속보전을 열며 / 2 - 옛날 사람들은 자연을 숭배하였다 ...   \n",
       "6  &lt;p&gt;- 특별전을 열며... / 2 - 사막과 오아시스 / 4 - 초원과...   \n",
       "7  &lt;p&gt;● 발간사 ● 제1부 　 충의와 절의의 선비 석탄石灘 이신의李愼儀 ...   \n",
       "8  &lt;p&gt;기획특별전을 개최하면서 / 2 가계家系와 생애生涯 / 6 학연學緣 ...   \n",
       "9  &lt;p&gt;Ⅰ 광주의 위치와 환경 / 11 　 1. 광주의 위치 / 12 　 ...   \n",
       "\n",
       "                    subDescription subjectKeyword viewCount   url localId  \\\n",
       "0                             None           None        84  None       1   \n",
       "1         출판사:도서출판 라인,구입처:학예연구실 문의           None        60  None      10   \n",
       "2  출판사:그라픽네트,가격:25000,구입처:학예연구실 문의           None        74  None      11   \n",
       "3         출판사:도서출판 라인,구입처:학예연구실 문의           None        69  None      12   \n",
       "4            출판사:주)비따,구입처:학예연구실 문의           None        53  None      13   \n",
       "5         출판사:도서출판 라인,구입처:학예연구실 문의           None        64  None      14   \n",
       "6         출판사:도서출판 라인,구입처:학예연구실 문의           None        43  None      15   \n",
       "7         출판사:도서출판 라인,구입처:학예연구실 문의           None        59  None      16   \n",
       "8          출판사:비에이디자인,구입처:학예연구실 문의           None       121  None      17   \n",
       "9         출판사:도서출판 라인,구입처:학예연구실 문의           None        74  None      18   \n",
       "\n",
       "           createdDate imageObject sizing charge period  \n",
       "0  2023-03-06 00:50:00        None    219   None   None  \n",
       "1  2023-03-06 00:50:00        None     13   None   None  \n",
       "2  2023-03-06 00:50:00        None    231   None   None  \n",
       "3  2023-03-06 00:50:00        None     23   None   None  \n",
       "4  2023-03-06 00:50:00        None    190   None   None  \n",
       "5  2023-03-06 00:50:00        None     19   None   None  \n",
       "6  2023-03-06 00:50:00        None     19   None   None  \n",
       "7  2023-03-06 00:50:00        None    151   None   None  \n",
       "8  2023-03-06 00:50:00        None    433   None   None  \n",
       "9  2023-03-06 00:50:00        None    267   None   None  "
      ]
     },
     "execution_count": 314,
     "metadata": {},
     "output_type": "execute_result"
    }
   ],
   "source": [
    "df = pd.DataFrame(data[\"response\"]['body']['items']['item'])\n",
    "df"
   ]
  },
  {
   "cell_type": "code",
   "execution_count": null,
   "id": "411443c9-0161-4ae5-91c8-acb04dfe8e75",
   "metadata": {},
   "outputs": [],
   "source": [
    "api.kcisa.kr/API_CNV_045/request"
   ]
  },
  {
   "cell_type": "code",
   "execution_count": 316,
   "id": "4fd14816-e513-43ea-8506-06efd2f4cde5",
   "metadata": {},
   "outputs": [
    {
     "name": "stdout",
     "output_type": "stream",
     "text": [
      "200\n"
     ]
    }
   ],
   "source": [
    "import requests\n",
    "import json\n",
    "\n",
    "response = requests.get('http://api.kcisa.kr/API_CNV_045/request',\n",
    "                       params={'serviceKey': '971211c6-7c5b-4bca-a39c-8b1d9e89d318'})\n",
    "print(response.status_code)"
   ]
  },
  {
   "cell_type": "code",
   "execution_count": 317,
   "id": "57c9398f-6b5c-4522-b028-052fe882cda2",
   "metadata": {},
   "outputs": [
    {
     "name": "stdout",
     "output_type": "stream",
     "text": [
      "인코딩: utf-8\n",
      "콘텐츠 타입: form; charset=utf-8\n",
      "서버: nginx\n"
     ]
    }
   ],
   "source": [
    "print(f\"인코딩: {response.encoding}\")\n",
    "print(f\"콘텐츠 타입: {response.headers['Content-Type']}\")\n",
    "print(f\"서버: {response.headers['server']}\")"
   ]
  },
  {
   "cell_type": "code",
   "execution_count": 318,
   "id": "41835e09-6769-4097-95aa-d1fead5399f4",
   "metadata": {
    "scrolled": true,
    "tags": []
   },
   "outputs": [
    {
     "data": {
      "text/plain": [
       "{'response': {'header': {'resultCode': '0000', 'resultMsg': 'OK'},\n",
       "  'body': {'items': {'item': [{'ESNTL_ID': 'KCUBSPO20N000000001',\n",
       "      'FCLTY_NM': '123기획',\n",
       "      'LCLAS_NM': '서점',\n",
       "      'MLSFC_NM': '중고서점',\n",
       "      'ZIP_NO': '14289',\n",
       "      'FCLTY_ROAD_NM_ADDR': '경기도 광명시 광오로24번길 6 (광명동, 금반석시티빌11차)',\n",
       "      'FCLTY_LA': '37.47609',\n",
       "      'FCLTY_LO': '126.8499984',\n",
       "      'WORKDAY_OPN_BSNS_TIME': None,\n",
       "      'WORKDAY_CLOS_TIME': None,\n",
       "      'SAT_OPN_BSNS_TIME': None,\n",
       "      'SAT_CLOS_TIME': None,\n",
       "      'SUN_OPN_BSNS_TIME': None,\n",
       "      'SUN_CLOS_TIME': None,\n",
       "      'RSTDE_OPN_BSNS_TIME': None,\n",
       "      'RSTDE_CLOS_TIME': None,\n",
       "      'RSTDE_GUID_CN': None,\n",
       "      'TEL_NO': '010-5258-9610',\n",
       "      'OPTN_DC': '중고서점',\n",
       "      'ADIT_DC': '헌책방 : 중고서점, 리뷰여부 : 있음'},\n",
       "     {'ESNTL_ID': 'KCUBSPO20N000000002',\n",
       "      'FCLTY_NM': '123기획',\n",
       "      'LCLAS_NM': '서점',\n",
       "      'MLSFC_NM': None,\n",
       "      'ZIP_NO': '5502',\n",
       "      'FCLTY_ROAD_NM_ADDR': '서울특별시 송파구 올림픽로 135 (잠실동, 리센츠)',\n",
       "      'FCLTY_LA': '37.515474',\n",
       "      'FCLTY_LO': '127.0854698',\n",
       "      'WORKDAY_OPN_BSNS_TIME': None,\n",
       "      'WORKDAY_CLOS_TIME': None,\n",
       "      'SAT_OPN_BSNS_TIME': None,\n",
       "      'SAT_CLOS_TIME': None,\n",
       "      'SUN_OPN_BSNS_TIME': None,\n",
       "      'SUN_CLOS_TIME': None,\n",
       "      'RSTDE_OPN_BSNS_TIME': None,\n",
       "      'RSTDE_CLOS_TIME': None,\n",
       "      'RSTDE_GUID_CN': None,\n",
       "      'TEL_NO': '02-856-5376',\n",
       "      'OPTN_DC': None,\n",
       "      'ADIT_DC': '리뷰여부 : 있음'},\n",
       "     {'ESNTL_ID': 'KCUBSPO20N000000003',\n",
       "      'FCLTY_NM': '3355서점',\n",
       "      'LCLAS_NM': '서점',\n",
       "      'MLSFC_NM': None,\n",
       "      'ZIP_NO': '4563',\n",
       "      'FCLTY_ROAD_NM_ADDR': '서울특별시 중구 장충단로13길 20 (을지로6가)',\n",
       "      'FCLTY_LA': '37.5687359',\n",
       "      'FCLTY_LO': '127.0076671',\n",
       "      'WORKDAY_OPN_BSNS_TIME': '0.4375',\n",
       "      'WORKDAY_CLOS_TIME': '0.791666666666667',\n",
       "      'SAT_OPN_BSNS_TIME': '0.4375',\n",
       "      'SAT_CLOS_TIME': '0.791666666666667',\n",
       "      'SUN_OPN_BSNS_TIME': '0.4375',\n",
       "      'SUN_CLOS_TIME': '0.791666666666667',\n",
       "      'RSTDE_OPN_BSNS_TIME': None,\n",
       "      'RSTDE_CLOS_TIME': None,\n",
       "      'RSTDE_GUID_CN': None,\n",
       "      'TEL_NO': '02-2271-0300',\n",
       "      'OPTN_DC': None,\n",
       "      'ADIT_DC': '리뷰여부 : 있음'},\n",
       "     {'ESNTL_ID': 'KCUBSPO20N000000004',\n",
       "      'FCLTY_NM': 'Bllessu Books',\n",
       "      'LCLAS_NM': '서점',\n",
       "      'MLSFC_NM': '중고서점',\n",
       "      'ZIP_NO': '3766',\n",
       "      'FCLTY_ROAD_NM_ADDR': '서울특별시 서대문구 이화여대5길 26 1층',\n",
       "      'FCLTY_LA': '37.5584044',\n",
       "      'FCLTY_LO': '126.9442671',\n",
       "      'WORKDAY_OPN_BSNS_TIME': '0.479166666666667',\n",
       "      'WORKDAY_CLOS_TIME': '0.875',\n",
       "      'SAT_OPN_BSNS_TIME': None,\n",
       "      'SAT_CLOS_TIME': None,\n",
       "      'SUN_OPN_BSNS_TIME': None,\n",
       "      'SUN_CLOS_TIME': None,\n",
       "      'RSTDE_OPN_BSNS_TIME': None,\n",
       "      'RSTDE_CLOS_TIME': None,\n",
       "      'RSTDE_GUID_CN': '주말,공휴일휴무',\n",
       "      'TEL_NO': '010-2258-8541',\n",
       "      'OPTN_DC': '중고서점',\n",
       "      'ADIT_DC': '헌책방 : 중고서점, 리뷰여부 : 있음'},\n",
       "     {'ESNTL_ID': 'KCUBSPO20N000000005',\n",
       "      'FCLTY_NM': 'Gk서적',\n",
       "      'LCLAS_NM': '서점',\n",
       "      'MLSFC_NM': None,\n",
       "      'ZIP_NO': '7988',\n",
       "      'FCLTY_ROAD_NM_ADDR': '서울특별시 양천구 목동동로 339 (목동, 목동트윈빌)',\n",
       "      'FCLTY_LA': '37.5443479',\n",
       "      'FCLTY_LO': '126.8654939',\n",
       "      'WORKDAY_OPN_BSNS_TIME': None,\n",
       "      'WORKDAY_CLOS_TIME': None,\n",
       "      'SAT_OPN_BSNS_TIME': None,\n",
       "      'SAT_CLOS_TIME': None,\n",
       "      'SUN_OPN_BSNS_TIME': None,\n",
       "      'SUN_CLOS_TIME': None,\n",
       "      'RSTDE_OPN_BSNS_TIME': None,\n",
       "      'RSTDE_CLOS_TIME': None,\n",
       "      'RSTDE_GUID_CN': None,\n",
       "      'TEL_NO': '02-2645-8277',\n",
       "      'OPTN_DC': None,\n",
       "      'ADIT_DC': '리뷰여부 : 있음'},\n",
       "     {'ESNTL_ID': 'KCUBSPO20N000000006',\n",
       "      'FCLTY_NM': 'ok헌옷',\n",
       "      'LCLAS_NM': '서점',\n",
       "      'MLSFC_NM': '중고물품점',\n",
       "      'ZIP_NO': '3307',\n",
       "      'FCLTY_ROAD_NM_ADDR': '서울특별시 은평구 북한산로 281 (진관동)',\n",
       "      'FCLTY_LA': '37.6568192',\n",
       "      'FCLTY_LO': '126.9414634',\n",
       "      'WORKDAY_OPN_BSNS_TIME': '0.375',\n",
       "      'WORKDAY_CLOS_TIME': '0.291666666666667',\n",
       "      'SAT_OPN_BSNS_TIME': '0.375',\n",
       "      'SAT_CLOS_TIME': '0.291666666666667',\n",
       "      'SUN_OPN_BSNS_TIME': '0.375',\n",
       "      'SUN_CLOS_TIME': '0.291666666666667',\n",
       "      'RSTDE_OPN_BSNS_TIME': None,\n",
       "      'RSTDE_CLOS_TIME': None,\n",
       "      'RSTDE_GUID_CN': None,\n",
       "      'TEL_NO': '010-9232-7589',\n",
       "      'OPTN_DC': '중고물품점',\n",
       "      'ADIT_DC': '헌책방 : 중고서점,'},\n",
       "     {'ESNTL_ID': 'KCUBSPO20N000000007',\n",
       "      'FCLTY_NM': 'YES24 중고서점 강남점',\n",
       "      'LCLAS_NM': '서점',\n",
       "      'MLSFC_NM': '중고서점',\n",
       "      'ZIP_NO': '6129',\n",
       "      'FCLTY_ROAD_NM_ADDR': '서울특별시 강남구 강남대로 422 씨티빌딩 지하1층',\n",
       "      'FCLTY_LA': '37.5003931',\n",
       "      'FCLTY_LO': '127.0269841',\n",
       "      'WORKDAY_OPN_BSNS_TIME': '0.416666666666667',\n",
       "      'WORKDAY_CLOS_TIME': '0.916666666666667',\n",
       "      'SAT_OPN_BSNS_TIME': '0.416666666666667',\n",
       "      'SAT_CLOS_TIME': '0.916666666666667',\n",
       "      'SUN_OPN_BSNS_TIME': '0.416666666666667',\n",
       "      'SUN_CLOS_TIME': '0.916666666666667',\n",
       "      'RSTDE_OPN_BSNS_TIME': None,\n",
       "      'RSTDE_CLOS_TIME': None,\n",
       "      'RSTDE_GUID_CN': '명절당일휴무',\n",
       "      'TEL_NO': '1566-4295',\n",
       "      'OPTN_DC': '중고서점',\n",
       "      'ADIT_DC': '헌책방 : 중고서점, 리뷰여부 : 있음'},\n",
       "     {'ESNTL_ID': 'KCUBSPO20N000000008',\n",
       "      'FCLTY_NM': 'YES24 중고서점 강서NC점',\n",
       "      'LCLAS_NM': '서점',\n",
       "      'MLSFC_NM': '중고서점',\n",
       "      'ZIP_NO': '7584',\n",
       "      'FCLTY_ROAD_NM_ADDR': '서울특별시 강서구 강서로56길 17 NC백화점 강서점 8,9층',\n",
       "      'FCLTY_LA': '37.5599334',\n",
       "      'FCLTY_LO': '126.8404989',\n",
       "      'WORKDAY_OPN_BSNS_TIME': '0.4375',\n",
       "      'WORKDAY_CLOS_TIME': '0.875',\n",
       "      'SAT_OPN_BSNS_TIME': '0.4375',\n",
       "      'SAT_CLOS_TIME': '0.916666666666667',\n",
       "      'SUN_OPN_BSNS_TIME': '0.4375',\n",
       "      'SUN_CLOS_TIME': '0.916666666666667',\n",
       "      'RSTDE_OPN_BSNS_TIME': None,\n",
       "      'RSTDE_CLOS_TIME': None,\n",
       "      'RSTDE_GUID_CN': None,\n",
       "      'TEL_NO': '1566-4295',\n",
       "      'OPTN_DC': '중고서점',\n",
       "      'ADIT_DC': '주차 : 가능, 화장실 남녀구분 : 구분, 헌책방 : 중고서점, 리뷰여부 : 있음'},\n",
       "     {'ESNTL_ID': 'KCUBSPO20N000000009',\n",
       "      'FCLTY_NM': 'YES24 중고서점 목동점',\n",
       "      'LCLAS_NM': '서점',\n",
       "      'MLSFC_NM': '중고서점',\n",
       "      'ZIP_NO': '8000',\n",
       "      'FCLTY_ROAD_NM_ADDR': '서울특별시 양천구 오목로 325 지하1층',\n",
       "      'FCLTY_LA': '37.5251077',\n",
       "      'FCLTY_LO': '126.8736273',\n",
       "      'WORKDAY_OPN_BSNS_TIME': '0.395833333333333',\n",
       "      'WORKDAY_CLOS_TIME': '0.916666666666667',\n",
       "      'SAT_OPN_BSNS_TIME': '0.395833333333333',\n",
       "      'SAT_CLOS_TIME': '0.916666666666667',\n",
       "      'SUN_OPN_BSNS_TIME': '0.395833333333333',\n",
       "      'SUN_CLOS_TIME': '0.916666666666667',\n",
       "      'RSTDE_OPN_BSNS_TIME': None,\n",
       "      'RSTDE_CLOS_TIME': None,\n",
       "      'RSTDE_GUID_CN': '명절당일휴무',\n",
       "      'TEL_NO': '1566-4295',\n",
       "      'OPTN_DC': '중고서점',\n",
       "      'ADIT_DC': '주차 : 가능, 화장실 남녀구분 : 구분, 헌책방 : 중고서점, 리뷰여부 : 있음'},\n",
       "     {'ESNTL_ID': 'KCUBSPO20N000000010',\n",
       "      'FCLTY_NM': 'YES24 중고서점 기흥점',\n",
       "      'LCLAS_NM': '서점',\n",
       "      'MLSFC_NM': '중고서점',\n",
       "      'ZIP_NO': '17087',\n",
       "      'FCLTY_ROAD_NM_ADDR': '경기 용인시 기흥구 신고매로 124 롯데프리미엄아울렛기흥점 2층',\n",
       "      'FCLTY_LA': '37.225365',\n",
       "      'FCLTY_LO': '127.1208999',\n",
       "      'WORKDAY_OPN_BSNS_TIME': '0.458333333333333',\n",
       "      'WORKDAY_CLOS_TIME': '0.875',\n",
       "      'SAT_OPN_BSNS_TIME': '0.458333333333333',\n",
       "      'SAT_CLOS_TIME': '0.875',\n",
       "      'SUN_OPN_BSNS_TIME': '0.458333333333333',\n",
       "      'SUN_CLOS_TIME': '0.875',\n",
       "      'RSTDE_OPN_BSNS_TIME': None,\n",
       "      'RSTDE_CLOS_TIME': None,\n",
       "      'RSTDE_GUID_CN': '명절당일휴무',\n",
       "      'TEL_NO': '1566-4295',\n",
       "      'OPTN_DC': '중고서점',\n",
       "      'ADIT_DC': '헌책방 : 중고서점, 리뷰여부 : 있음'}]},\n",
       "   'numOfRows': '10',\n",
       "   'pageNo': '1',\n",
       "   'totalCount': '432'}}}"
      ]
     },
     "execution_count": 318,
     "metadata": {},
     "output_type": "execute_result"
    }
   ],
   "source": [
    "import xmltodict\n",
    "data = xmltodict.parse(response.text)\n",
    "data"
   ]
  },
  {
   "cell_type": "code",
   "execution_count": 322,
   "id": "2df6a2aa-d8d5-4c93-ac25-011d2fe83bf2",
   "metadata": {},
   "outputs": [
    {
     "data": {
      "text/plain": [
       "[{'ESNTL_ID': 'KCUBSPO20N000000001',\n",
       "  'FCLTY_NM': '123기획',\n",
       "  'LCLAS_NM': '서점',\n",
       "  'MLSFC_NM': '중고서점',\n",
       "  'ZIP_NO': '14289',\n",
       "  'FCLTY_ROAD_NM_ADDR': '경기도 광명시 광오로24번길 6 (광명동, 금반석시티빌11차)',\n",
       "  'FCLTY_LA': '37.47609',\n",
       "  'FCLTY_LO': '126.8499984',\n",
       "  'WORKDAY_OPN_BSNS_TIME': None,\n",
       "  'WORKDAY_CLOS_TIME': None,\n",
       "  'SAT_OPN_BSNS_TIME': None,\n",
       "  'SAT_CLOS_TIME': None,\n",
       "  'SUN_OPN_BSNS_TIME': None,\n",
       "  'SUN_CLOS_TIME': None,\n",
       "  'RSTDE_OPN_BSNS_TIME': None,\n",
       "  'RSTDE_CLOS_TIME': None,\n",
       "  'RSTDE_GUID_CN': None,\n",
       "  'TEL_NO': '010-5258-9610',\n",
       "  'OPTN_DC': '중고서점',\n",
       "  'ADIT_DC': '헌책방 : 중고서점, 리뷰여부 : 있음'},\n",
       " {'ESNTL_ID': 'KCUBSPO20N000000002',\n",
       "  'FCLTY_NM': '123기획',\n",
       "  'LCLAS_NM': '서점',\n",
       "  'MLSFC_NM': None,\n",
       "  'ZIP_NO': '5502',\n",
       "  'FCLTY_ROAD_NM_ADDR': '서울특별시 송파구 올림픽로 135 (잠실동, 리센츠)',\n",
       "  'FCLTY_LA': '37.515474',\n",
       "  'FCLTY_LO': '127.0854698',\n",
       "  'WORKDAY_OPN_BSNS_TIME': None,\n",
       "  'WORKDAY_CLOS_TIME': None,\n",
       "  'SAT_OPN_BSNS_TIME': None,\n",
       "  'SAT_CLOS_TIME': None,\n",
       "  'SUN_OPN_BSNS_TIME': None,\n",
       "  'SUN_CLOS_TIME': None,\n",
       "  'RSTDE_OPN_BSNS_TIME': None,\n",
       "  'RSTDE_CLOS_TIME': None,\n",
       "  'RSTDE_GUID_CN': None,\n",
       "  'TEL_NO': '02-856-5376',\n",
       "  'OPTN_DC': None,\n",
       "  'ADIT_DC': '리뷰여부 : 있음'},\n",
       " {'ESNTL_ID': 'KCUBSPO20N000000003',\n",
       "  'FCLTY_NM': '3355서점',\n",
       "  'LCLAS_NM': '서점',\n",
       "  'MLSFC_NM': None,\n",
       "  'ZIP_NO': '4563',\n",
       "  'FCLTY_ROAD_NM_ADDR': '서울특별시 중구 장충단로13길 20 (을지로6가)',\n",
       "  'FCLTY_LA': '37.5687359',\n",
       "  'FCLTY_LO': '127.0076671',\n",
       "  'WORKDAY_OPN_BSNS_TIME': '0.4375',\n",
       "  'WORKDAY_CLOS_TIME': '0.791666666666667',\n",
       "  'SAT_OPN_BSNS_TIME': '0.4375',\n",
       "  'SAT_CLOS_TIME': '0.791666666666667',\n",
       "  'SUN_OPN_BSNS_TIME': '0.4375',\n",
       "  'SUN_CLOS_TIME': '0.791666666666667',\n",
       "  'RSTDE_OPN_BSNS_TIME': None,\n",
       "  'RSTDE_CLOS_TIME': None,\n",
       "  'RSTDE_GUID_CN': None,\n",
       "  'TEL_NO': '02-2271-0300',\n",
       "  'OPTN_DC': None,\n",
       "  'ADIT_DC': '리뷰여부 : 있음'},\n",
       " {'ESNTL_ID': 'KCUBSPO20N000000004',\n",
       "  'FCLTY_NM': 'Bllessu Books',\n",
       "  'LCLAS_NM': '서점',\n",
       "  'MLSFC_NM': '중고서점',\n",
       "  'ZIP_NO': '3766',\n",
       "  'FCLTY_ROAD_NM_ADDR': '서울특별시 서대문구 이화여대5길 26 1층',\n",
       "  'FCLTY_LA': '37.5584044',\n",
       "  'FCLTY_LO': '126.9442671',\n",
       "  'WORKDAY_OPN_BSNS_TIME': '0.479166666666667',\n",
       "  'WORKDAY_CLOS_TIME': '0.875',\n",
       "  'SAT_OPN_BSNS_TIME': None,\n",
       "  'SAT_CLOS_TIME': None,\n",
       "  'SUN_OPN_BSNS_TIME': None,\n",
       "  'SUN_CLOS_TIME': None,\n",
       "  'RSTDE_OPN_BSNS_TIME': None,\n",
       "  'RSTDE_CLOS_TIME': None,\n",
       "  'RSTDE_GUID_CN': '주말,공휴일휴무',\n",
       "  'TEL_NO': '010-2258-8541',\n",
       "  'OPTN_DC': '중고서점',\n",
       "  'ADIT_DC': '헌책방 : 중고서점, 리뷰여부 : 있음'},\n",
       " {'ESNTL_ID': 'KCUBSPO20N000000005',\n",
       "  'FCLTY_NM': 'Gk서적',\n",
       "  'LCLAS_NM': '서점',\n",
       "  'MLSFC_NM': None,\n",
       "  'ZIP_NO': '7988',\n",
       "  'FCLTY_ROAD_NM_ADDR': '서울특별시 양천구 목동동로 339 (목동, 목동트윈빌)',\n",
       "  'FCLTY_LA': '37.5443479',\n",
       "  'FCLTY_LO': '126.8654939',\n",
       "  'WORKDAY_OPN_BSNS_TIME': None,\n",
       "  'WORKDAY_CLOS_TIME': None,\n",
       "  'SAT_OPN_BSNS_TIME': None,\n",
       "  'SAT_CLOS_TIME': None,\n",
       "  'SUN_OPN_BSNS_TIME': None,\n",
       "  'SUN_CLOS_TIME': None,\n",
       "  'RSTDE_OPN_BSNS_TIME': None,\n",
       "  'RSTDE_CLOS_TIME': None,\n",
       "  'RSTDE_GUID_CN': None,\n",
       "  'TEL_NO': '02-2645-8277',\n",
       "  'OPTN_DC': None,\n",
       "  'ADIT_DC': '리뷰여부 : 있음'},\n",
       " {'ESNTL_ID': 'KCUBSPO20N000000006',\n",
       "  'FCLTY_NM': 'ok헌옷',\n",
       "  'LCLAS_NM': '서점',\n",
       "  'MLSFC_NM': '중고물품점',\n",
       "  'ZIP_NO': '3307',\n",
       "  'FCLTY_ROAD_NM_ADDR': '서울특별시 은평구 북한산로 281 (진관동)',\n",
       "  'FCLTY_LA': '37.6568192',\n",
       "  'FCLTY_LO': '126.9414634',\n",
       "  'WORKDAY_OPN_BSNS_TIME': '0.375',\n",
       "  'WORKDAY_CLOS_TIME': '0.291666666666667',\n",
       "  'SAT_OPN_BSNS_TIME': '0.375',\n",
       "  'SAT_CLOS_TIME': '0.291666666666667',\n",
       "  'SUN_OPN_BSNS_TIME': '0.375',\n",
       "  'SUN_CLOS_TIME': '0.291666666666667',\n",
       "  'RSTDE_OPN_BSNS_TIME': None,\n",
       "  'RSTDE_CLOS_TIME': None,\n",
       "  'RSTDE_GUID_CN': None,\n",
       "  'TEL_NO': '010-9232-7589',\n",
       "  'OPTN_DC': '중고물품점',\n",
       "  'ADIT_DC': '헌책방 : 중고서점,'},\n",
       " {'ESNTL_ID': 'KCUBSPO20N000000007',\n",
       "  'FCLTY_NM': 'YES24 중고서점 강남점',\n",
       "  'LCLAS_NM': '서점',\n",
       "  'MLSFC_NM': '중고서점',\n",
       "  'ZIP_NO': '6129',\n",
       "  'FCLTY_ROAD_NM_ADDR': '서울특별시 강남구 강남대로 422 씨티빌딩 지하1층',\n",
       "  'FCLTY_LA': '37.5003931',\n",
       "  'FCLTY_LO': '127.0269841',\n",
       "  'WORKDAY_OPN_BSNS_TIME': '0.416666666666667',\n",
       "  'WORKDAY_CLOS_TIME': '0.916666666666667',\n",
       "  'SAT_OPN_BSNS_TIME': '0.416666666666667',\n",
       "  'SAT_CLOS_TIME': '0.916666666666667',\n",
       "  'SUN_OPN_BSNS_TIME': '0.416666666666667',\n",
       "  'SUN_CLOS_TIME': '0.916666666666667',\n",
       "  'RSTDE_OPN_BSNS_TIME': None,\n",
       "  'RSTDE_CLOS_TIME': None,\n",
       "  'RSTDE_GUID_CN': '명절당일휴무',\n",
       "  'TEL_NO': '1566-4295',\n",
       "  'OPTN_DC': '중고서점',\n",
       "  'ADIT_DC': '헌책방 : 중고서점, 리뷰여부 : 있음'},\n",
       " {'ESNTL_ID': 'KCUBSPO20N000000008',\n",
       "  'FCLTY_NM': 'YES24 중고서점 강서NC점',\n",
       "  'LCLAS_NM': '서점',\n",
       "  'MLSFC_NM': '중고서점',\n",
       "  'ZIP_NO': '7584',\n",
       "  'FCLTY_ROAD_NM_ADDR': '서울특별시 강서구 강서로56길 17 NC백화점 강서점 8,9층',\n",
       "  'FCLTY_LA': '37.5599334',\n",
       "  'FCLTY_LO': '126.8404989',\n",
       "  'WORKDAY_OPN_BSNS_TIME': '0.4375',\n",
       "  'WORKDAY_CLOS_TIME': '0.875',\n",
       "  'SAT_OPN_BSNS_TIME': '0.4375',\n",
       "  'SAT_CLOS_TIME': '0.916666666666667',\n",
       "  'SUN_OPN_BSNS_TIME': '0.4375',\n",
       "  'SUN_CLOS_TIME': '0.916666666666667',\n",
       "  'RSTDE_OPN_BSNS_TIME': None,\n",
       "  'RSTDE_CLOS_TIME': None,\n",
       "  'RSTDE_GUID_CN': None,\n",
       "  'TEL_NO': '1566-4295',\n",
       "  'OPTN_DC': '중고서점',\n",
       "  'ADIT_DC': '주차 : 가능, 화장실 남녀구분 : 구분, 헌책방 : 중고서점, 리뷰여부 : 있음'},\n",
       " {'ESNTL_ID': 'KCUBSPO20N000000009',\n",
       "  'FCLTY_NM': 'YES24 중고서점 목동점',\n",
       "  'LCLAS_NM': '서점',\n",
       "  'MLSFC_NM': '중고서점',\n",
       "  'ZIP_NO': '8000',\n",
       "  'FCLTY_ROAD_NM_ADDR': '서울특별시 양천구 오목로 325 지하1층',\n",
       "  'FCLTY_LA': '37.5251077',\n",
       "  'FCLTY_LO': '126.8736273',\n",
       "  'WORKDAY_OPN_BSNS_TIME': '0.395833333333333',\n",
       "  'WORKDAY_CLOS_TIME': '0.916666666666667',\n",
       "  'SAT_OPN_BSNS_TIME': '0.395833333333333',\n",
       "  'SAT_CLOS_TIME': '0.916666666666667',\n",
       "  'SUN_OPN_BSNS_TIME': '0.395833333333333',\n",
       "  'SUN_CLOS_TIME': '0.916666666666667',\n",
       "  'RSTDE_OPN_BSNS_TIME': None,\n",
       "  'RSTDE_CLOS_TIME': None,\n",
       "  'RSTDE_GUID_CN': '명절당일휴무',\n",
       "  'TEL_NO': '1566-4295',\n",
       "  'OPTN_DC': '중고서점',\n",
       "  'ADIT_DC': '주차 : 가능, 화장실 남녀구분 : 구분, 헌책방 : 중고서점, 리뷰여부 : 있음'},\n",
       " {'ESNTL_ID': 'KCUBSPO20N000000010',\n",
       "  'FCLTY_NM': 'YES24 중고서점 기흥점',\n",
       "  'LCLAS_NM': '서점',\n",
       "  'MLSFC_NM': '중고서점',\n",
       "  'ZIP_NO': '17087',\n",
       "  'FCLTY_ROAD_NM_ADDR': '경기 용인시 기흥구 신고매로 124 롯데프리미엄아울렛기흥점 2층',\n",
       "  'FCLTY_LA': '37.225365',\n",
       "  'FCLTY_LO': '127.1208999',\n",
       "  'WORKDAY_OPN_BSNS_TIME': '0.458333333333333',\n",
       "  'WORKDAY_CLOS_TIME': '0.875',\n",
       "  'SAT_OPN_BSNS_TIME': '0.458333333333333',\n",
       "  'SAT_CLOS_TIME': '0.875',\n",
       "  'SUN_OPN_BSNS_TIME': '0.458333333333333',\n",
       "  'SUN_CLOS_TIME': '0.875',\n",
       "  'RSTDE_OPN_BSNS_TIME': None,\n",
       "  'RSTDE_CLOS_TIME': None,\n",
       "  'RSTDE_GUID_CN': '명절당일휴무',\n",
       "  'TEL_NO': '1566-4295',\n",
       "  'OPTN_DC': '중고서점',\n",
       "  'ADIT_DC': '헌책방 : 중고서점, 리뷰여부 : 있음'}]"
      ]
     },
     "execution_count": 322,
     "metadata": {},
     "output_type": "execute_result"
    }
   ],
   "source": [
    "data['response']['body']['items']['item']"
   ]
  },
  {
   "cell_type": "code",
   "execution_count": 323,
   "id": "f4dfb829-8c22-49a9-9fac-264859b0d5d2",
   "metadata": {},
   "outputs": [
    {
     "data": {
      "text/html": [
       "<div>\n",
       "<style scoped>\n",
       "    .dataframe tbody tr th:only-of-type {\n",
       "        vertical-align: middle;\n",
       "    }\n",
       "\n",
       "    .dataframe tbody tr th {\n",
       "        vertical-align: top;\n",
       "    }\n",
       "\n",
       "    .dataframe thead th {\n",
       "        text-align: right;\n",
       "    }\n",
       "</style>\n",
       "<table border=\"1\" class=\"dataframe\">\n",
       "  <thead>\n",
       "    <tr style=\"text-align: right;\">\n",
       "      <th></th>\n",
       "      <th>ESNTL_ID</th>\n",
       "      <th>FCLTY_NM</th>\n",
       "      <th>LCLAS_NM</th>\n",
       "      <th>MLSFC_NM</th>\n",
       "      <th>ZIP_NO</th>\n",
       "      <th>FCLTY_ROAD_NM_ADDR</th>\n",
       "      <th>FCLTY_LA</th>\n",
       "      <th>FCLTY_LO</th>\n",
       "      <th>WORKDAY_OPN_BSNS_TIME</th>\n",
       "      <th>WORKDAY_CLOS_TIME</th>\n",
       "      <th>SAT_OPN_BSNS_TIME</th>\n",
       "      <th>SAT_CLOS_TIME</th>\n",
       "      <th>SUN_OPN_BSNS_TIME</th>\n",
       "      <th>SUN_CLOS_TIME</th>\n",
       "      <th>RSTDE_OPN_BSNS_TIME</th>\n",
       "      <th>RSTDE_CLOS_TIME</th>\n",
       "      <th>RSTDE_GUID_CN</th>\n",
       "      <th>TEL_NO</th>\n",
       "      <th>OPTN_DC</th>\n",
       "      <th>ADIT_DC</th>\n",
       "    </tr>\n",
       "  </thead>\n",
       "  <tbody>\n",
       "    <tr>\n",
       "      <th>0</th>\n",
       "      <td>KCUBSPO20N000000001</td>\n",
       "      <td>123기획</td>\n",
       "      <td>서점</td>\n",
       "      <td>중고서점</td>\n",
       "      <td>14289</td>\n",
       "      <td>경기도 광명시 광오로24번길 6 (광명동, 금반석시티빌11차)</td>\n",
       "      <td>37.47609</td>\n",
       "      <td>126.8499984</td>\n",
       "      <td>None</td>\n",
       "      <td>None</td>\n",
       "      <td>None</td>\n",
       "      <td>None</td>\n",
       "      <td>None</td>\n",
       "      <td>None</td>\n",
       "      <td>None</td>\n",
       "      <td>None</td>\n",
       "      <td>None</td>\n",
       "      <td>010-5258-9610</td>\n",
       "      <td>중고서점</td>\n",
       "      <td>헌책방 : 중고서점, 리뷰여부 : 있음</td>\n",
       "    </tr>\n",
       "    <tr>\n",
       "      <th>1</th>\n",
       "      <td>KCUBSPO20N000000002</td>\n",
       "      <td>123기획</td>\n",
       "      <td>서점</td>\n",
       "      <td>None</td>\n",
       "      <td>5502</td>\n",
       "      <td>서울특별시 송파구 올림픽로 135 (잠실동, 리센츠)</td>\n",
       "      <td>37.515474</td>\n",
       "      <td>127.0854698</td>\n",
       "      <td>None</td>\n",
       "      <td>None</td>\n",
       "      <td>None</td>\n",
       "      <td>None</td>\n",
       "      <td>None</td>\n",
       "      <td>None</td>\n",
       "      <td>None</td>\n",
       "      <td>None</td>\n",
       "      <td>None</td>\n",
       "      <td>02-856-5376</td>\n",
       "      <td>None</td>\n",
       "      <td>리뷰여부 : 있음</td>\n",
       "    </tr>\n",
       "    <tr>\n",
       "      <th>2</th>\n",
       "      <td>KCUBSPO20N000000003</td>\n",
       "      <td>3355서점</td>\n",
       "      <td>서점</td>\n",
       "      <td>None</td>\n",
       "      <td>4563</td>\n",
       "      <td>서울특별시 중구 장충단로13길 20 (을지로6가)</td>\n",
       "      <td>37.5687359</td>\n",
       "      <td>127.0076671</td>\n",
       "      <td>0.4375</td>\n",
       "      <td>0.791666666666667</td>\n",
       "      <td>0.4375</td>\n",
       "      <td>0.791666666666667</td>\n",
       "      <td>0.4375</td>\n",
       "      <td>0.791666666666667</td>\n",
       "      <td>None</td>\n",
       "      <td>None</td>\n",
       "      <td>None</td>\n",
       "      <td>02-2271-0300</td>\n",
       "      <td>None</td>\n",
       "      <td>리뷰여부 : 있음</td>\n",
       "    </tr>\n",
       "    <tr>\n",
       "      <th>3</th>\n",
       "      <td>KCUBSPO20N000000004</td>\n",
       "      <td>Bllessu Books</td>\n",
       "      <td>서점</td>\n",
       "      <td>중고서점</td>\n",
       "      <td>3766</td>\n",
       "      <td>서울특별시 서대문구 이화여대5길 26 1층</td>\n",
       "      <td>37.5584044</td>\n",
       "      <td>126.9442671</td>\n",
       "      <td>0.479166666666667</td>\n",
       "      <td>0.875</td>\n",
       "      <td>None</td>\n",
       "      <td>None</td>\n",
       "      <td>None</td>\n",
       "      <td>None</td>\n",
       "      <td>None</td>\n",
       "      <td>None</td>\n",
       "      <td>주말,공휴일휴무</td>\n",
       "      <td>010-2258-8541</td>\n",
       "      <td>중고서점</td>\n",
       "      <td>헌책방 : 중고서점, 리뷰여부 : 있음</td>\n",
       "    </tr>\n",
       "    <tr>\n",
       "      <th>4</th>\n",
       "      <td>KCUBSPO20N000000005</td>\n",
       "      <td>Gk서적</td>\n",
       "      <td>서점</td>\n",
       "      <td>None</td>\n",
       "      <td>7988</td>\n",
       "      <td>서울특별시 양천구 목동동로 339 (목동, 목동트윈빌)</td>\n",
       "      <td>37.5443479</td>\n",
       "      <td>126.8654939</td>\n",
       "      <td>None</td>\n",
       "      <td>None</td>\n",
       "      <td>None</td>\n",
       "      <td>None</td>\n",
       "      <td>None</td>\n",
       "      <td>None</td>\n",
       "      <td>None</td>\n",
       "      <td>None</td>\n",
       "      <td>None</td>\n",
       "      <td>02-2645-8277</td>\n",
       "      <td>None</td>\n",
       "      <td>리뷰여부 : 있음</td>\n",
       "    </tr>\n",
       "    <tr>\n",
       "      <th>5</th>\n",
       "      <td>KCUBSPO20N000000006</td>\n",
       "      <td>ok헌옷</td>\n",
       "      <td>서점</td>\n",
       "      <td>중고물품점</td>\n",
       "      <td>3307</td>\n",
       "      <td>서울특별시 은평구 북한산로 281 (진관동)</td>\n",
       "      <td>37.6568192</td>\n",
       "      <td>126.9414634</td>\n",
       "      <td>0.375</td>\n",
       "      <td>0.291666666666667</td>\n",
       "      <td>0.375</td>\n",
       "      <td>0.291666666666667</td>\n",
       "      <td>0.375</td>\n",
       "      <td>0.291666666666667</td>\n",
       "      <td>None</td>\n",
       "      <td>None</td>\n",
       "      <td>None</td>\n",
       "      <td>010-9232-7589</td>\n",
       "      <td>중고물품점</td>\n",
       "      <td>헌책방 : 중고서점,</td>\n",
       "    </tr>\n",
       "    <tr>\n",
       "      <th>6</th>\n",
       "      <td>KCUBSPO20N000000007</td>\n",
       "      <td>YES24 중고서점 강남점</td>\n",
       "      <td>서점</td>\n",
       "      <td>중고서점</td>\n",
       "      <td>6129</td>\n",
       "      <td>서울특별시 강남구 강남대로 422 씨티빌딩 지하1층</td>\n",
       "      <td>37.5003931</td>\n",
       "      <td>127.0269841</td>\n",
       "      <td>0.416666666666667</td>\n",
       "      <td>0.916666666666667</td>\n",
       "      <td>0.416666666666667</td>\n",
       "      <td>0.916666666666667</td>\n",
       "      <td>0.416666666666667</td>\n",
       "      <td>0.916666666666667</td>\n",
       "      <td>None</td>\n",
       "      <td>None</td>\n",
       "      <td>명절당일휴무</td>\n",
       "      <td>1566-4295</td>\n",
       "      <td>중고서점</td>\n",
       "      <td>헌책방 : 중고서점, 리뷰여부 : 있음</td>\n",
       "    </tr>\n",
       "    <tr>\n",
       "      <th>7</th>\n",
       "      <td>KCUBSPO20N000000008</td>\n",
       "      <td>YES24 중고서점 강서NC점</td>\n",
       "      <td>서점</td>\n",
       "      <td>중고서점</td>\n",
       "      <td>7584</td>\n",
       "      <td>서울특별시 강서구 강서로56길 17 NC백화점 강서점 8,9층</td>\n",
       "      <td>37.5599334</td>\n",
       "      <td>126.8404989</td>\n",
       "      <td>0.4375</td>\n",
       "      <td>0.875</td>\n",
       "      <td>0.4375</td>\n",
       "      <td>0.916666666666667</td>\n",
       "      <td>0.4375</td>\n",
       "      <td>0.916666666666667</td>\n",
       "      <td>None</td>\n",
       "      <td>None</td>\n",
       "      <td>None</td>\n",
       "      <td>1566-4295</td>\n",
       "      <td>중고서점</td>\n",
       "      <td>주차 : 가능, 화장실 남녀구분 : 구분, 헌책방 : 중고서점, 리뷰여부 : 있음</td>\n",
       "    </tr>\n",
       "    <tr>\n",
       "      <th>8</th>\n",
       "      <td>KCUBSPO20N000000009</td>\n",
       "      <td>YES24 중고서점 목동점</td>\n",
       "      <td>서점</td>\n",
       "      <td>중고서점</td>\n",
       "      <td>8000</td>\n",
       "      <td>서울특별시 양천구 오목로 325 지하1층</td>\n",
       "      <td>37.5251077</td>\n",
       "      <td>126.8736273</td>\n",
       "      <td>0.395833333333333</td>\n",
       "      <td>0.916666666666667</td>\n",
       "      <td>0.395833333333333</td>\n",
       "      <td>0.916666666666667</td>\n",
       "      <td>0.395833333333333</td>\n",
       "      <td>0.916666666666667</td>\n",
       "      <td>None</td>\n",
       "      <td>None</td>\n",
       "      <td>명절당일휴무</td>\n",
       "      <td>1566-4295</td>\n",
       "      <td>중고서점</td>\n",
       "      <td>주차 : 가능, 화장실 남녀구분 : 구분, 헌책방 : 중고서점, 리뷰여부 : 있음</td>\n",
       "    </tr>\n",
       "    <tr>\n",
       "      <th>9</th>\n",
       "      <td>KCUBSPO20N000000010</td>\n",
       "      <td>YES24 중고서점 기흥점</td>\n",
       "      <td>서점</td>\n",
       "      <td>중고서점</td>\n",
       "      <td>17087</td>\n",
       "      <td>경기 용인시 기흥구 신고매로 124 롯데프리미엄아울렛기흥점 2층</td>\n",
       "      <td>37.225365</td>\n",
       "      <td>127.1208999</td>\n",
       "      <td>0.458333333333333</td>\n",
       "      <td>0.875</td>\n",
       "      <td>0.458333333333333</td>\n",
       "      <td>0.875</td>\n",
       "      <td>0.458333333333333</td>\n",
       "      <td>0.875</td>\n",
       "      <td>None</td>\n",
       "      <td>None</td>\n",
       "      <td>명절당일휴무</td>\n",
       "      <td>1566-4295</td>\n",
       "      <td>중고서점</td>\n",
       "      <td>헌책방 : 중고서점, 리뷰여부 : 있음</td>\n",
       "    </tr>\n",
       "  </tbody>\n",
       "</table>\n",
       "</div>"
      ],
      "text/plain": [
       "              ESNTL_ID          FCLTY_NM LCLAS_NM MLSFC_NM ZIP_NO  \\\n",
       "0  KCUBSPO20N000000001             123기획       서점     중고서점  14289   \n",
       "1  KCUBSPO20N000000002             123기획       서점     None   5502   \n",
       "2  KCUBSPO20N000000003            3355서점       서점     None   4563   \n",
       "3  KCUBSPO20N000000004     Bllessu Books       서점     중고서점   3766   \n",
       "4  KCUBSPO20N000000005              Gk서적       서점     None   7988   \n",
       "5  KCUBSPO20N000000006              ok헌옷       서점    중고물품점   3307   \n",
       "6  KCUBSPO20N000000007    YES24 중고서점 강남점       서점     중고서점   6129   \n",
       "7  KCUBSPO20N000000008  YES24 중고서점 강서NC점       서점     중고서점   7584   \n",
       "8  KCUBSPO20N000000009    YES24 중고서점 목동점       서점     중고서점   8000   \n",
       "9  KCUBSPO20N000000010    YES24 중고서점 기흥점       서점     중고서점  17087   \n",
       "\n",
       "                    FCLTY_ROAD_NM_ADDR    FCLTY_LA     FCLTY_LO  \\\n",
       "0   경기도 광명시 광오로24번길 6 (광명동, 금반석시티빌11차)    37.47609  126.8499984   \n",
       "1        서울특별시 송파구 올림픽로 135 (잠실동, 리센츠)   37.515474  127.0854698   \n",
       "2          서울특별시 중구 장충단로13길 20 (을지로6가)  37.5687359  127.0076671   \n",
       "3              서울특별시 서대문구 이화여대5길 26 1층  37.5584044  126.9442671   \n",
       "4       서울특별시 양천구 목동동로 339 (목동, 목동트윈빌)  37.5443479  126.8654939   \n",
       "5             서울특별시 은평구 북한산로 281 (진관동)  37.6568192  126.9414634   \n",
       "6         서울특별시 강남구 강남대로 422 씨티빌딩 지하1층  37.5003931  127.0269841   \n",
       "7   서울특별시 강서구 강서로56길 17 NC백화점 강서점 8,9층  37.5599334  126.8404989   \n",
       "8               서울특별시 양천구 오목로 325 지하1층  37.5251077  126.8736273   \n",
       "9  경기 용인시 기흥구 신고매로 124 롯데프리미엄아울렛기흥점 2층   37.225365  127.1208999   \n",
       "\n",
       "  WORKDAY_OPN_BSNS_TIME  WORKDAY_CLOS_TIME  SAT_OPN_BSNS_TIME  \\\n",
       "0                  None               None               None   \n",
       "1                  None               None               None   \n",
       "2                0.4375  0.791666666666667             0.4375   \n",
       "3     0.479166666666667              0.875               None   \n",
       "4                  None               None               None   \n",
       "5                 0.375  0.291666666666667              0.375   \n",
       "6     0.416666666666667  0.916666666666667  0.416666666666667   \n",
       "7                0.4375              0.875             0.4375   \n",
       "8     0.395833333333333  0.916666666666667  0.395833333333333   \n",
       "9     0.458333333333333              0.875  0.458333333333333   \n",
       "\n",
       "       SAT_CLOS_TIME  SUN_OPN_BSNS_TIME      SUN_CLOS_TIME  \\\n",
       "0               None               None               None   \n",
       "1               None               None               None   \n",
       "2  0.791666666666667             0.4375  0.791666666666667   \n",
       "3               None               None               None   \n",
       "4               None               None               None   \n",
       "5  0.291666666666667              0.375  0.291666666666667   \n",
       "6  0.916666666666667  0.416666666666667  0.916666666666667   \n",
       "7  0.916666666666667             0.4375  0.916666666666667   \n",
       "8  0.916666666666667  0.395833333333333  0.916666666666667   \n",
       "9              0.875  0.458333333333333              0.875   \n",
       "\n",
       "  RSTDE_OPN_BSNS_TIME RSTDE_CLOS_TIME RSTDE_GUID_CN         TEL_NO OPTN_DC  \\\n",
       "0                None            None          None  010-5258-9610    중고서점   \n",
       "1                None            None          None    02-856-5376    None   \n",
       "2                None            None          None   02-2271-0300    None   \n",
       "3                None            None      주말,공휴일휴무  010-2258-8541    중고서점   \n",
       "4                None            None          None   02-2645-8277    None   \n",
       "5                None            None          None  010-9232-7589   중고물품점   \n",
       "6                None            None        명절당일휴무      1566-4295    중고서점   \n",
       "7                None            None          None      1566-4295    중고서점   \n",
       "8                None            None        명절당일휴무      1566-4295    중고서점   \n",
       "9                None            None        명절당일휴무      1566-4295    중고서점   \n",
       "\n",
       "                                         ADIT_DC  \n",
       "0                          헌책방 : 중고서점, 리뷰여부 : 있음  \n",
       "1                                      리뷰여부 : 있음  \n",
       "2                                      리뷰여부 : 있음  \n",
       "3                          헌책방 : 중고서점, 리뷰여부 : 있음  \n",
       "4                                      리뷰여부 : 있음  \n",
       "5                                    헌책방 : 중고서점,  \n",
       "6                          헌책방 : 중고서점, 리뷰여부 : 있음  \n",
       "7  주차 : 가능, 화장실 남녀구분 : 구분, 헌책방 : 중고서점, 리뷰여부 : 있음  \n",
       "8  주차 : 가능, 화장실 남녀구분 : 구분, 헌책방 : 중고서점, 리뷰여부 : 있음  \n",
       "9                          헌책방 : 중고서점, 리뷰여부 : 있음  "
      ]
     },
     "execution_count": 323,
     "metadata": {},
     "output_type": "execute_result"
    }
   ],
   "source": [
    "df_2 = pd.DataFrame(data['response']['body']['items']['item'])\n",
    "df_2"
   ]
  },
  {
   "cell_type": "code",
   "execution_count": null,
   "id": "d58ad7ab-ce5e-4e3c-9efe-d3830bd8b1f3",
   "metadata": {},
   "outputs": [],
   "source": []
  }
 ],
 "metadata": {
  "kernelspec": {
   "display_name": "Python 3 (ipykernel)",
   "language": "python",
   "name": "python3"
  },
  "language_info": {
   "codemirror_mode": {
    "name": "ipython",
    "version": 3
   },
   "file_extension": ".py",
   "mimetype": "text/x-python",
   "name": "python",
   "nbconvert_exporter": "python",
   "pygments_lexer": "ipython3",
   "version": "3.9.12"
  }
 },
 "nbformat": 4,
 "nbformat_minor": 5
}
