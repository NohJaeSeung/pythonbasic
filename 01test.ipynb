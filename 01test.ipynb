{
 "cells": [
  {
   "cell_type": "code",
   "execution_count": 1,
   "id": "c862f6d6-5a7e-49bd-92d6-83030f102509",
   "metadata": {},
   "outputs": [],
   "source": [
    "import sys\n",
    "print(sys.version)"
   ]
  },
  {
   "cell_type": "code",
   "execution_count": 2,
   "id": "02c31648-39ea-4d6e-ae32-967ffd1cd28c",
   "metadata": {},
   "outputs": [
    {
     "name": "stdout",
     "output_type": "stream",
     "text": [
      " C 드라이브의 볼륨에는 이름이 없습니다.\n",
      " 볼륨 일련 번호: 1842-83A7\n",
      "\n",
      " C:\\python 디렉터리\n",
      "\n",
      "2023-02-13  오후 03:37    <DIR>          .\n",
      "2023-02-13  오후 03:37    <DIR>          .ipynb_checkpoints\n",
      "2023-02-13  오후 03:37                72 01test.ipynb\n",
      "2023-02-13  오후 03:35                 0 새 텍스트 문서.txt\n",
      "               2개 파일                  72 바이트\n",
      "               2개 디렉터리  95,357,296,640 바이트 남음\n"
     ]
    }
   ],
   "source": [
    "!dir"
   ]
  },
  {
   "cell_type": "code",
   "execution_count": null,
   "id": "6b3a6f44-f255-4393-b1d4-6feb4f99bb25",
   "metadata": {},
   "outputs": [],
   "source": []
  }
 ],
 "metadata": {
  "kernelspec": {
   "display_name": "Python 3 (ipykernel)",
   "language": "python",
   "name": "python3"
  },
  "language_info": {
   "codemirror_mode": {
    "name": "ipython",
    "version": 3
   },
   "file_extension": ".py",
   "mimetype": "text/x-python",
   "name": "python",
   "nbconvert_exporter": "python",
   "pygments_lexer": "ipython3",
   "version": "3.9.12"
  }
 },
 "nbformat": 4,
 "nbformat_minor": 5
}
