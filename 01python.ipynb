{
 "cells": [
  {
   "cell_type": "code",
   "execution_count": 1,
   "id": "ee79dce1-f327-468f-9690-603718ac3f83",
   "metadata": {},
   "outputs": [
    {
     "name": "stdout",
     "output_type": "stream",
     "text": [
      "3.9.13 (main, Aug 25 2022, 23:51:50) [MSC v.1916 64 bit (AMD64)]\n"
     ]
    }
   ],
   "source": [
    "import sys\n",
    "print(sys.version)"
   ]
  },
  {
   "cell_type": "code",
   "execution_count": 2,
   "id": "b26d9d47-70c0-4bad-8dbe-039bda514c24",
   "metadata": {},
   "outputs": [
    {
     "name": "stdout",
     "output_type": "stream",
     "text": [
      " C 드라이브의 볼륨에는 이름이 없습니다.\n",
      " 볼륨 일련 번호: 80EB-09F6\n",
      "\n",
      " C:\\python 디렉터리\n",
      "\n",
      "2023-02-13  오전 10:32    <DIR>          .\n",
      "2023-02-13  오전 10:32    <DIR>          ..\n",
      "2023-02-13  오전 10:32    <DIR>          .ipynb_checkpoints\n",
      "2023-02-13  오전 10:32               992 01python.ipynb\n",
      "               1개 파일                 992 바이트\n",
      "               3개 디렉터리  163,747,926,016 바이트 남음\n"
     ]
    }
   ],
   "source": [
    "!dir"
   ]
  },
  {
   "cell_type": "code",
   "execution_count": 1,
   "id": "53ead3f5-32a2-4b2a-94e0-301716e95d8b",
   "metadata": {},
   "outputs": [
    {
     "name": "stdout",
     "output_type": "stream",
     "text": [
      "Hello world\n"
     ]
    }
   ],
   "source": [
    "print(\"Hello world\")"
   ]
  },
  {
   "cell_type": "code",
   "execution_count": null,
   "id": "5633884c-d0a1-4276-b843-7ae6cce2aec7",
   "metadata": {},
   "outputs": [],
   "source": []
  }
 ],
 "metadata": {
  "kernelspec": {
   "display_name": "Python 3 (ipykernel)",
   "language": "python",
   "name": "python3"
  },
  "language_info": {
   "codemirror_mode": {
    "name": "ipython",
    "version": 3
   },
   "file_extension": ".py",
   "mimetype": "text/x-python",
   "name": "python",
   "nbconvert_exporter": "python",
   "pygments_lexer": "ipython3",
   "version": "3.9.12"
  }
 },
 "nbformat": 4,
 "nbformat_minor": 5
}
