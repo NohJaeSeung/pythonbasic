{
 "cells": [
  {
   "cell_type": "code",
   "execution_count": null,
   "id": "38ee1347-a935-4a43-b162-558a545ec28a",
   "metadata": {},
   "outputs": [],
   "source": [
    "for i in range(1,11):\n",
    "    print(i,end=' ')\n",
    "num =0\n",
    "while num != 10:\n",
    "    num +=1\n",
    "    print(num, end= ' ')"
   ]
  },
  {
   "cell_type": "code",
   "execution_count": 6,
   "id": "43dd5308-dd33-4fc1-87f9-99987b6c0c62",
   "metadata": {},
   "outputs": [
    {
     "name": "stdout",
     "output_type": "stream",
     "text": [
      "1 2 3 4 5 6 7 8 9 10 "
     ]
    }
   ],
   "source": [
    "num =0\n",
    "while num != 10:\n",
    "    num +=1\n",
    "    print(num, end= ' ')"
   ]
  },
  {
   "cell_type": "code",
   "execution_count": 13,
   "id": "f7129510-3082-455f-81f4-74bfb4b17f1b",
   "metadata": {},
   "outputs": [
    {
     "name": "stdout",
     "output_type": "stream",
     "text": [
      "79.0\n"
     ]
    }
   ],
   "source": [
    "class_a = (70,60,55,75,95,90,80,80,85,100)\n",
    "total=0\n",
    "i=0\n",
    "while i < len(class_a):\n",
    "    total += class_a[i]\n",
    "    i += 1\n",
    "print(total/ len(class_a))"
   ]
  },
  {
   "cell_type": "code",
   "execution_count": 14,
   "id": "a6457398-5059-41e4-aaf6-a9ff2a42940c",
   "metadata": {},
   "outputs": [
    {
     "name": "stdout",
     "output_type": "stream",
     "text": [
      "5050\n"
     ]
    }
   ],
   "source": [
    "i =0\n",
    "total = 0\n",
    "while True:\n",
    "    i+=1\n",
    "    total+=i\n",
    "    if i ==100:\n",
    "        break\n",
    "print(total)"
   ]
  },
  {
   "cell_type": "code",
   "execution_count": 25,
   "id": "0f7ddecf-67d2-40ac-a848-f0f9dc290125",
   "metadata": {},
   "outputs": [
    {
     "name": "stdin",
     "output_type": "stream",
     "text": [
      "시작하는 정수 입력: 1\n",
      "끝나는 정수 입력: 10\n"
     ]
    },
    {
     "name": "stdout",
     "output_type": "stream",
     "text": [
      "1부터 10까지의 합은 55입니다.\n",
      "1부터 10까지의 합은 55입니다.\n"
     ]
    }
   ],
   "source": [
    "n = int(input(\"시작하는 정수 입력:\"))\n",
    "m = int(input(\"끝나는 정수 입력:\"))\n",
    "result = 0\n",
    "total =0\n",
    "for i in range(n,m+1):\n",
    "    result += i\n",
    "print(\"1부터 10까지의 합은 {}입니다.\".format(result))\n",
    "while True:\n",
    "    total += n\n",
    "    n += 1\n",
    "    if n > m:\n",
    "        break\n",
    "print(\"1부터 10까지의 합은 {}입니다.\".format(total))"
   ]
  },
  {
   "cell_type": "code",
   "execution_count": 32,
   "id": "0a2469d0-b42d-4555-a2d9-d36a253c7c02",
   "metadata": {},
   "outputs": [
    {
     "name": "stdin",
     "output_type": "stream",
     "text": [
      "과일 이름을 입력하세요 파인애플\n"
     ]
    },
    {
     "name": "stdout",
     "output_type": "stream",
     "text": [
      "파인애플의 가격은 2000원 입니다.\n"
     ]
    }
   ],
   "source": [
    "fruit = str(input(\"과일 이름을 입력하세요\"))\n",
    "fruit_price = {'사과':1000,'바나나':700,'오렌지':1500,'파인애플':2000}\n",
    "print(\"{}의 가격은 {}원 입니다.\".format(fruit,fruit_price[fruit]))"
   ]
  },
  {
   "cell_type": "code",
   "execution_count": 37,
   "id": "242d056f-5aba-4352-a889-3595b6a0c247",
   "metadata": {},
   "outputs": [
    {
     "name": "stdin",
     "output_type": "stream",
     "text": [
      "이름을 기입해주세요. 뽀로로 루피 크롱 스누피\n"
     ]
    },
    {
     "name": "stdout",
     "output_type": "stream",
     "text": [
      "20.4 16.2 22.3 5.2 "
     ]
    }
   ],
   "source": [
    "name = input(\"이름을 기입해주세요.\").split()\n",
    "weight = {'뽀로로':20.4,'루피':16.2,'크롱':22.3,'스누피':5.2}\n",
    "for i in name:\n",
    "    print(weight[i], end=' ')"
   ]
  },
  {
   "cell_type": "code",
   "execution_count": 66,
   "id": "afd5077f-f21f-4310-957d-b9e3713f580d",
   "metadata": {},
   "outputs": [
    {
     "name": "stdin",
     "output_type": "stream",
     "text": [
      "이름을 기입해주세요. a b c d\n",
      "몸무게를 입력해주세요. 1 2 3 4\n"
     ]
    },
    {
     "name": "stdout",
     "output_type": "stream",
     "text": [
      "a b c d "
     ]
    }
   ],
   "source": [
    "name = input(\"이름을 기입해주세요.\").split()\n",
    "weight = input(\"몸무게를 입력해주세요.\").split()\n",
    "a={}\n",
    "for i in range(len(name)):\n",
    "    a[name[i]] = weight[i]"
   ]
  },
  {
   "cell_type": "code",
   "execution_count": 72,
   "id": "6bc4b03d-0e98-4a86-aac0-2add3b3c56fa",
   "metadata": {},
   "outputs": [
    {
     "name": "stdout",
     "output_type": "stream",
     "text": [
      "1\n",
      "2\n",
      "3\n",
      "4\n"
     ]
    }
   ],
   "source": [
    "for _ in a.values():\n",
    "    print(_)"
   ]
  },
  {
   "cell_type": "code",
   "execution_count": 81,
   "id": "3461fd12-9829-4c02-8391-bf24e594bb20",
   "metadata": {},
   "outputs": [
    {
     "name": "stdout",
     "output_type": "stream",
     "text": [
      "<class 'list'>\n",
      "[3, 0, 1, 6, 7, 4, 5, 10, 11]\n"
     ]
    }
   ],
   "source": [
    "prac_result = [x**2 for x in range(1,10)]\n",
    "print(type(prac_result))\n",
    "print(prac_result)"
   ]
  },
  {
   "cell_type": "code",
   "execution_count": 85,
   "id": "550cbf60-bf70-4702-ab34-bc8a2a74784f",
   "metadata": {},
   "outputs": [
    {
     "name": "stdout",
     "output_type": "stream",
     "text": [
      "[1, 3, 5, 7, 9]\n"
     ]
    }
   ],
   "source": [
    "prac_result2 = [x for x in range(1,10,2)]\n",
    "print(prac_result2)"
   ]
  },
  {
   "cell_type": "code",
   "execution_count": 87,
   "id": "483baea8-a430-41b0-9648-9dbc6734b8eb",
   "metadata": {},
   "outputs": [
    {
     "name": "stdout",
     "output_type": "stream",
     "text": [
      "['a', 'b', 'c', 'd', 'e', 'f']\n"
     ]
    }
   ],
   "source": [
    "prac_result3 = [x for x in 'abcdef']\n",
    "print(prac_result3)"
   ]
  },
  {
   "cell_type": "code",
   "execution_count": 100,
   "id": "3d7fc70b-17e1-4b1d-b0ab-260c59b61f31",
   "metadata": {},
   "outputs": [
    {
     "name": "stdout",
     "output_type": "stream",
     "text": [
      "['2', '3', '4', '5', '6', '7', '8', '9', '10', 'J', 'Q', 'K', 'A']\n"
     ]
    }
   ],
   "source": [
    "prac_result4 = [str(x) for x in range(2,11)]+ [y for y in 'JQKA']\n",
    "print(prac_result4)"
   ]
  },
  {
   "cell_type": "code",
   "execution_count": 99,
   "id": "3d231004-6096-4630-8e07-2585ab122a01",
   "metadata": {},
   "outputs": [
    {
     "name": "stdout",
     "output_type": "stream",
     "text": [
      "[['2', '3', '4', '5', '6', '7', '8', '9', '10', 'J', 'Q', 'K', 'A'], ['2', '3', '4', '5', '6', '7', '8', '9', '10', 'J', 'Q', 'K', 'A'], ['2', '3', '4', '5', '6', '7', '8', '9', '10', 'J', 'Q', 'K', 'A'], ['2', '3', '4', '5', '6', '7', '8', '9', '10', 'J', 'Q', 'K', 'A']]\n"
     ]
    }
   ],
   "source": [
    "prac_result5 = [prac_result4 for x in range(4)]\n",
    "print(prac_result5)"
   ]
  },
  {
   "cell_type": "code",
   "execution_count": 106,
   "id": "8fe16f0a-17ee-41c1-a907-0038e1ca40c5",
   "metadata": {},
   "outputs": [
    {
     "name": "stdout",
     "output_type": "stream",
     "text": [
      "1831441800064\n",
      "prac_result6[0] : 1831442249920\n",
      "prac_result6[1] : 1831442334400\n",
      "prac_result6[2] : 1831442311232\n",
      "prac_result6[3] : 1831442311424\n"
     ]
    }
   ],
   "source": [
    "prac_result6 = [prac_result4[:] for x in range(4)]\n",
    "print(id(prac_result4))\n",
    "for i, v in enumerate(prac_result6):\n",
    "    print(\"prac_result6[\",i,\"] : \", id(v), sep=\"\")\n"
   ]
  },
  {
   "cell_type": "code",
   "execution_count": 21,
   "id": "4b4ed466-376e-4591-afcc-4f75fba7c578",
   "metadata": {},
   "outputs": [
    {
     "name": "stdout",
     "output_type": "stream",
     "text": [
      "3263961476224\n",
      "3263961543744\n",
      "False\n",
      "True\n"
     ]
    }
   ],
   "source": [
    "#슬라이싱으로 가져올 경우 객체주소 다름\n",
    "old_list = list(range(10))\n",
    "new_list = old_list[:]\n",
    "\n",
    "print(id(old_list))\n",
    "print(id(new_list))\n",
    "print(old_list is new_list)\n",
    "print(old_list == new_list)"
   ]
  },
  {
   "cell_type": "code",
   "execution_count": 22,
   "id": "0f0919fc-a775-4e3f-8198-31f7422b72ed",
   "metadata": {},
   "outputs": [
    {
     "name": "stdout",
     "output_type": "stream",
     "text": [
      "False\n",
      "3263932049280\n",
      "3263961543168\n"
     ]
    }
   ],
   "source": [
    "# copy로 리스트 복사하면 객체주소 다름\n",
    "list_g = list(range(10))\n",
    "list_h = list_g.copy()\n",
    "print(list_g is list_h)\n",
    "print(id(list_g))\n",
    "print(id(list_h))"
   ]
  },
  {
   "cell_type": "code",
   "execution_count": 23,
   "id": "fcc66129-623f-4a30-817f-f36dd03546ab",
   "metadata": {},
   "outputs": [
    {
     "name": "stdout",
     "output_type": "stream",
     "text": [
      "True\n",
      "3263932049280\n",
      "3263932049280\n"
     ]
    }
   ],
   "source": [
    "# = 으로 만들경우 객체주소 같음\n",
    "list_h = list_g\n",
    "print(list_h is list_g)\n",
    "print(id(list_g))\n",
    "print(id(list_h))"
   ]
  },
  {
   "cell_type": "code",
   "execution_count": 24,
   "id": "d410826d-8353-4ed7-8990-2408697b7721",
   "metadata": {},
   "outputs": [
    {
     "name": "stdout",
     "output_type": "stream",
     "text": [
      "3263932049280\n",
      "3263932049280\n"
     ]
    }
   ],
   "source": [
    "#객체주소 같은 경우 값을 수정했을 때 같이 수정됨\n",
    "list_g[0] = 999\n",
    "print(id(list_g))\n",
    "print(id(list_h))"
   ]
  },
  {
   "cell_type": "code",
   "execution_count": 141,
   "id": "6950fce8-7ca9-4ed5-9e75-973efd5f0b2f",
   "metadata": {},
   "outputs": [
    {
     "name": "stdout",
     "output_type": "stream",
     "text": [
      "[999, 1, 2, 3, 4, 5, 6, 7, 8, 9]\n",
      "[999, 1, 2, 3, 4, 5, 6, 7, 8, 9]\n"
     ]
    }
   ],
   "source": [
    "print(list_g)\n",
    "print(list_h)"
   ]
  },
  {
   "cell_type": "markdown",
   "id": "c55d40db-68dd-44f8-a9ac-35ad966c5b0a",
   "metadata": {},
   "source": [
    "# 얕은 복사(shallow copy)\n",
    "* 메모리상에서 주소가 같으면 값 변경 했을때 같이 변경됨\n",
    "* 일단은 리스트 안에 리스트의 경우에만 주의하자!"
   ]
  },
  {
   "cell_type": "code",
   "execution_count": 4,
   "id": "13b7b31f-13c3-4136-ba6d-6107c80ff498",
   "metadata": {},
   "outputs": [
    {
     "name": "stdout",
     "output_type": "stream",
     "text": [
      "[[0], [0], [0]]\n"
     ]
    }
   ],
   "source": [
    "list_i = [[0]]*3\n",
    "print(list_i)"
   ]
  },
  {
   "cell_type": "code",
   "execution_count": 5,
   "id": "c6e5671e-e921-41a9-a42c-6fcbd6edc840",
   "metadata": {},
   "outputs": [
    {
     "name": "stdout",
     "output_type": "stream",
     "text": [
      "[[999], [999], [999]]\n"
     ]
    }
   ],
   "source": [
    "list_i[0][0] = 999\n",
    "print(list_i)"
   ]
  },
  {
   "cell_type": "code",
   "execution_count": 6,
   "id": "69464952-0496-4d3a-8ca7-7db84b22fc8e",
   "metadata": {},
   "outputs": [
    {
     "data": {
      "text/plain": [
       "True"
      ]
     },
     "execution_count": 6,
     "metadata": {},
     "output_type": "execute_result"
    }
   ],
   "source": [
    "list_i[0][0] is list_i[1][0]"
   ]
  },
  {
   "cell_type": "code",
   "execution_count": 1,
   "id": "3576f82f-192f-43f6-bda2-70058a60feca",
   "metadata": {},
   "outputs": [
    {
     "name": "stdout",
     "output_type": "stream",
     "text": [
      "[[0], [0], [0]]\n"
     ]
    }
   ],
   "source": [
    "list_j = [[0],[0],[0]]\n",
    "print(list_j)"
   ]
  },
  {
   "cell_type": "code",
   "execution_count": 2,
   "id": "809a92ba-d206-4cf4-b109-43b1d715135d",
   "metadata": {},
   "outputs": [
    {
     "name": "stdout",
     "output_type": "stream",
     "text": [
      "[[999], [0], [0]]\n"
     ]
    }
   ],
   "source": [
    "list_j[0][0] = 999\n",
    "print(list_j)"
   ]
  },
  {
   "cell_type": "markdown",
   "id": "a7daf112-5c98-4538-8e9d-d430658e6b52",
   "metadata": {},
   "source": [
    "*256까지는 효율? 때문에 메모리상 주소가 같음"
   ]
  },
  {
   "cell_type": "code",
   "execution_count": 7,
   "id": "9fc52071-64ad-41b1-93ef-9261cc98cc68",
   "metadata": {},
   "outputs": [
    {
     "data": {
      "text/plain": [
       "True"
      ]
     },
     "execution_count": 7,
     "metadata": {},
     "output_type": "execute_result"
    }
   ],
   "source": [
    "a= 256\n",
    "b = 256\n",
    "a is b"
   ]
  },
  {
   "cell_type": "code",
   "execution_count": 8,
   "id": "cb50dcd3-bfd5-4588-8ec3-25d1529c947e",
   "metadata": {},
   "outputs": [
    {
     "data": {
      "text/plain": [
       "False"
      ]
     },
     "execution_count": 8,
     "metadata": {},
     "output_type": "execute_result"
    }
   ],
   "source": [
    "a = 256\n",
    "b = 257\n",
    "a is b"
   ]
  },
  {
   "cell_type": "code",
   "execution_count": 18,
   "id": "fad686e5-5076-4a1e-b639-8cc158c934ce",
   "metadata": {},
   "outputs": [
    {
     "name": "stdout",
     "output_type": "stream",
     "text": [
      "3263846967568\n",
      "3263846967568\n"
     ]
    },
    {
     "data": {
      "text/plain": [
       "True"
      ]
     },
     "execution_count": 18,
     "metadata": {},
     "output_type": "execute_result"
    }
   ],
   "source": [
    "list_c =[]\n",
    "for i in range(3):\n",
    "    row=[0]\n",
    "    list_c.append(row)\n",
    "print(id(list_c[0][0]))\n",
    "print(id(list_c[1][0]))"
   ]
  },
  {
   "cell_type": "code",
   "execution_count": 14,
   "id": "69f142d4-9775-4023-acad-bde2ddba184a",
   "metadata": {},
   "outputs": [
    {
     "name": "stdout",
     "output_type": "stream",
     "text": [
      "3263846967568\n",
      "3263846967568\n"
     ]
    }
   ],
   "source": [
    "list_c =[]\n",
    "row=[0]\n",
    "for i in range(3):\n",
    "    list_c.append(row)\n",
    "print(id(list_c[0][0]))\n",
    "print(id(list_c[1][0]))"
   ]
  },
  {
   "cell_type": "code",
   "execution_count": 36,
   "id": "d9e408b5-e08e-4b52-8ad5-ea4cb9bb1340",
   "metadata": {},
   "outputs": [
    {
     "name": "stdout",
     "output_type": "stream",
     "text": [
      "False\n",
      "True\n",
      "3263961629184\n",
      "3263961629184\n"
     ]
    }
   ],
   "source": [
    "#리스트 내의 주소를 복사 ==> 리스트 자체는 다르지만 리스트 안의 값은 같은 주소로 복사해옴\n",
    "l5 = [7,8,(9,10)]\n",
    "l6 = l5.copy()\n",
    "print(l5 is l6)\n",
    "print(l5[-1] is l6[-1])\n",
    "print(id(l5[-1]))\n",
    "print(id(l6[-1]))"
   ]
  },
  {
   "cell_type": "code",
   "execution_count": 37,
   "id": "ffc4b7d8-9064-4b4c-8d4f-ba10bffdae68",
   "metadata": {},
   "outputs": [
    {
     "name": "stdout",
     "output_type": "stream",
     "text": [
      "(9, 10)\n",
      "9\n",
      "3263846967856\n",
      "3263961629184\n"
     ]
    }
   ],
   "source": [
    "l5[-1] = 9\n",
    "print(l6[-1])\n",
    "print(l5[-1])\n",
    "print(id(l5[-1]))\n",
    "print(id(l6[-1]))"
   ]
  },
  {
   "cell_type": "markdown",
   "id": "952e4373-afb9-43f6-8895-1d3ea4bf1379",
   "metadata": {},
   "source": [
    "# 깊은 복사(Deep copy)\n",
    "import copy로 라이브러리 불러오고 사용  \n",
    "copy() 매서드는 얕은 복사  \n",
    "deepcopy() 매서드는 깊은 복사  "
   ]
  },
  {
   "cell_type": "code",
   "execution_count": 148,
   "id": "72c62e12-0df2-497b-9ee1-d2d60149a49b",
   "metadata": {},
   "outputs": [
    {
     "name": "stdout",
     "output_type": "stream",
     "text": [
      "False\n"
     ]
    }
   ],
   "source": [
    "import copy\n",
    "list_n = [[9,10],[11,12]]\n",
    "list_o =copy.deepcopy(list_n)\n",
    "print(list_n[0] is list_o)"
   ]
  },
  {
   "cell_type": "code",
   "execution_count": 149,
   "id": "e796c005-78dc-4cb6-99e1-12803c5e6edb",
   "metadata": {},
   "outputs": [
    {
     "name": "stdout",
     "output_type": "stream",
     "text": [
      "[[9, 999], [11, 12]]\n",
      "[[9, 10], [11, 12]]\n"
     ]
    }
   ],
   "source": [
    "#deepcopy로 복사된 리스트는 서로 완전히 다른 객체이다\n",
    "list_n[0][1] = 999\n",
    "print(list_n)\n",
    "print(list_o)"
   ]
  },
  {
   "cell_type": "code",
   "execution_count": 150,
   "id": "2e8ecb38-d44e-45d8-b074-25a57fb1a071",
   "metadata": {},
   "outputs": [
    {
     "name": "stdout",
     "output_type": "stream",
     "text": [
      "1831442978496\n",
      "1831442959296\n"
     ]
    }
   ],
   "source": [
    "print(id(list_n))\n",
    "print(id(list_o))"
   ]
  },
  {
   "cell_type": "code",
   "execution_count": 39,
   "id": "3f7ca35b-7d24-4a0c-984a-a2b8eb1ba391",
   "metadata": {},
   "outputs": [
    {
     "name": "stdout",
     "output_type": "stream",
     "text": [
      "['alpha', 'bravo', 'delta', 'hotel', 'india']\n"
     ]
    }
   ],
   "source": [
    "a = ['alpha', 'bravo', 'charlie', 'delta', 'echo', 'foxtrot', 'golf', 'hotel', 'india']\n",
    "b = [x for x in a if len(x)==5]\n",
    "print(b)"
   ]
  },
  {
   "cell_type": "code",
   "execution_count": 80,
   "id": "c1470563-c82a-450d-813e-e9ba2bb01403",
   "metadata": {},
   "outputs": [
    {
     "name": "stdin",
     "output_type": "stream",
     "text": [
      " 10 20\n"
     ]
    },
    {
     "name": "stdout",
     "output_type": "stream",
     "text": [
      "[1024, 4096, 8192, 16384, 32768, 65536, 131072, 262144, 1048576]\n"
     ]
    }
   ],
   "source": [
    "while True:\n",
    "    N,M = map(int, input().split())\n",
    "    num_list=[]\n",
    "    if N<1 or N >20:  \n",
    "        print(\"첫번째 값의 범위는 1~20입니다.\")\n",
    "    elif M<10 or M>30:\n",
    "        print(\"두번째 값의 범위는 10~30입니다.\")\n",
    "    elif N>M:\n",
    "        print(\"첫 번째 입력 값은 두 번째 입력 값보다 작게 입력하세요.\")\n",
    "    else:\n",
    "        num_list = [2**i for i in range(N,M+1)]\n",
    "        del num_list[1],num_list[-2]\n",
    "        print(num_list)\n",
    "        break\n",
    "        "
   ]
  },
  {
   "cell_type": "code",
   "execution_count": null,
   "id": "6bb71e16-9d8f-4415-8db4-0237fa3e2a9e",
   "metadata": {},
   "outputs": [],
   "source": [
    "N = int(input(\"2부터 입력하신 수까지의 모든 소수를 찾는 프로그램입니다.\\n 찾는 범위를 입력하세요:\"))\n",
    "sosu=[]\n",
    "cnt_7=0\n",
    "for i in range(2,N+1):#1 ~100까지 순서대로 입력\n",
    "    cnt=0\n",
    "    for j in range(1,i+1):#각 자리수 판별하기!\n",
    "        if i % j == 0:#자기 수,1,로 나눠떨어지는수가 소수 이므로 cnt=2일때 sosu리스트에 추가\n",
    "            cnt+=1\n",
    "    if cnt ==2:\n",
    "        sosu.append(i)\n",
    "for i in sosu:\n",
    "    print(i, end=' ')\n",
    "    cnt_7 += 1\n",
    "    if cnt_7 %7==0:\n",
    "        print('')\n",
    "#int(i**(0.5))"
   ]
  },
  {
   "cell_type": "code",
   "execution_count": 7,
   "id": "34acf408-bea3-4b65-a6e1-810d8baae3ba",
   "metadata": {},
   "outputs": [
    {
     "name": "stdin",
     "output_type": "stream",
     "text": [
      "2부터 입력하신 수까지의 모든 소수를 찾는 프로그램입니다.\n",
      " 찾는 범위를 입력하세요: 100\n"
     ]
    },
    {
     "name": "stdout",
     "output_type": "stream",
     "text": [
      "4 6 9 25 49 "
     ]
    }
   ],
   "source": [
    "import math\n",
    "N = int(input(\"2부터 입력하신 수까지의 모든 소수를 찾는 프로그램입니다.\\n 찾는 범위를 입력하세요:\"))\n",
    "i = 2\n",
    "while i <=N:#1 ~100까지 순서대로 입력\n",
    "    end = int(math.sqrt(i+1))#10까지만 판별\n",
    "    j=2\n",
    "    while j <=end:\n",
    "        if i % j ==0:\n",
    "            break\n",
    "        j+=1\n",
    "    if j == end:\n",
    "        print(i,end=' ')\n",
    "    i+=1"
   ]
  },
  {
   "cell_type": "code",
   "execution_count": 6,
   "id": "2a8b3cb5-37ec-4e8a-9ed3-c7e90080ee5e",
   "metadata": {},
   "outputs": [
    {
     "name": "stdout",
     "output_type": "stream",
     "text": [
      "[63, 90, 60, 39, 5, 14, 37, 54, 56, 13]\n"
     ]
    }
   ],
   "source": [
    "import random\n",
    "random_list = [random.randint(1,100) for _ in range(10)]\n",
    "print(random_list)"
   ]
  },
  {
   "cell_type": "code",
   "execution_count": 31,
   "id": "ec4bc79d-3bae-4585-ae20-24accf34eecc",
   "metadata": {},
   "outputs": [
    {
     "name": "stdout",
     "output_type": "stream",
     "text": [
      "93\n"
     ]
    },
    {
     "name": "stdin",
     "output_type": "stream",
     "text": [
      " 90\n"
     ]
    },
    {
     "name": "stdout",
     "output_type": "stream",
     "text": [
      "그보다 큽니다.\n"
     ]
    },
    {
     "name": "stdin",
     "output_type": "stream",
     "text": [
      " 93\n"
     ]
    },
    {
     "name": "stdout",
     "output_type": "stream",
     "text": [
      "2번만에 맞추셨습니다\n",
      "입력한 숫자는 다음과 같습니다. 90, 93\n"
     ]
    }
   ],
   "source": [
    "#.join을 쓸 때는 리스트(문자열)만 가능 숫자 X\n",
    "num_list=[]\n",
    "A = random.randint(1,100)\n",
    "print(A)\n",
    "while True:\n",
    "    N = int(input())\n",
    "    num_list.append(str(N))\n",
    "    if 1> N or N> 100:\n",
    "        print(\"1~100 사이의 숫자를 입력하세요.\")\n",
    "    elif N < A:\n",
    "        print(\"그보다 큽니다.\")\n",
    "    elif N > A:\n",
    "        print(\"그보다 작습니다.\")\n",
    "    elif 1> N or N> 100:\n",
    "        print(\"1~100 사이의 숫자를 입력하세요.\")\n",
    "    else:\n",
    "        print(\"{}번만에 맞추셨습니다\".format(len(num_list)))\n",
    "        break\n",
    "print(\"입력한 숫자는 다음과 같습니다.\",\", \".join(num_list))"
   ]
  },
  {
   "cell_type": "markdown",
   "id": "0ef67e62-8776-4281-9754-61fd76667e48",
   "metadata": {},
   "source": [
    "# 세트 자료형(Set)\n",
    "*딕셔너리의 키와 같은 속성"
   ]
  },
  {
   "cell_type": "code",
   "execution_count": 32,
   "id": "463e38f6-2cdd-4cc8-9089-c9421a85ca62",
   "metadata": {},
   "outputs": [
    {
     "name": "stdout",
     "output_type": "stream",
     "text": [
      "{1}\n"
     ]
    }
   ],
   "source": [
    "#세트는 중복된 요소를 제거\n",
    "set_variable = set()\n",
    "[set_variable.add(1) for _ in range(5)]\n",
    "print(set_variable)"
   ]
  },
  {
   "cell_type": "code",
   "execution_count": 33,
   "id": "a265f4a0-8c61-4876-a7aa-c59308337003",
   "metadata": {},
   "outputs": [
    {
     "name": "stdout",
     "output_type": "stream",
     "text": [
      "A: {1, 2, 3, 4} \n",
      "B: {2, 4, 5}\n",
      "set.union(A,B): {1, 2, 3, 4, 5}\n",
      "A | B: {1, 2, 3, 4, 5}\n"
     ]
    }
   ],
   "source": [
    "#union매서드 또는 |로 세트의 합집합 만들기\n",
    "A = {_ for _ in range(1,5)}\n",
    "B = {_ for _ in range(2,6) if _!= 3}\n",
    "print(\"A:\", A, \"\\nB:\", B)\n",
    "print(\"set.union(A,B):\", set.union(A,B))\n",
    "print(\"A | B:\", A|B)"
   ]
  },
  {
   "cell_type": "code",
   "execution_count": 37,
   "id": "f3608a62-5789-47c5-879f-c4680f92989a",
   "metadata": {},
   "outputs": [
    {
     "name": "stdout",
     "output_type": "stream",
     "text": [
      "A: {1, 2, 3, 4} \n",
      "B: {2, 4, 5}\n",
      "set.difference(A,B): {1, 3}\n",
      "A - B: {1, 3}\n"
     ]
    }
   ],
   "source": [
    "#difference매서드 또는 -로 세트의 차집합 만들기\n",
    "A = {_ for _ in range(1,5)}\n",
    "B = {_ for _ in range(2,6) if _!= 3}\n",
    "print(\"A:\", A, \"\\nB:\", B)\n",
    "print(\"set.difference(A,B):\", set.difference(A,B))\n",
    "print(\"A - B:\", A-B)"
   ]
  },
  {
   "cell_type": "code",
   "execution_count": 69,
   "id": "0a358d8e-0c73-4183-91ab-67130c7db75d",
   "metadata": {},
   "outputs": [
    {
     "name": "stdout",
     "output_type": "stream",
     "text": [
      "A: {1, 2, 3, 4} \n",
      "B: {2, 4, 5}\n",
      "A |= B: {1, 2, 3, 4, 5}\n"
     ]
    }
   ],
   "source": [
    "#update()매서드 또는 |= 로 현재 세트에 다른 세트를 더하기\n",
    "A = {_ for _ in range(1,5)}\n",
    "B = {_ for _ in range(2,6) if _!= 3}\n",
    "print(\"A:\", A, \"\\nB:\", B)\n",
    "A.update(B)\n",
    "print(\"A |= B:\", A)"
   ]
  },
  {
   "cell_type": "code",
   "execution_count": 63,
   "id": "5d39e145-4cdf-435f-9385-3366780d77a1",
   "metadata": {},
   "outputs": [
    {
     "name": "stdout",
     "output_type": "stream",
     "text": [
      "A: {1, 2, 3, 4} \n",
      "B: {2, 4, 5}\n",
      "A &= B: {2, 4}\n"
     ]
    }
   ],
   "source": [
    "#intersection_update()매서드 또는 &=로 세트의 교집합 만들기\n",
    "A = {_ for _ in range(1,5)}\n",
    "B = {_ for _ in range(2,6) if _!= 3}\n",
    "print(\"A:\", A, \"\\nB:\", B)\n",
    "A.intersection_update(B) #A &= B와 같습니다\n",
    "print(\"A &= B:\", A)"
   ]
  },
  {
   "cell_type": "code",
   "execution_count": 51,
   "id": "a6053f29-9b5a-4c30-9701-f6169ce4d07b",
   "metadata": {},
   "outputs": [
    {
     "name": "stdout",
     "output_type": "stream",
     "text": [
      "A: {1, 2, 3, 4} \n",
      "B: {2, 4, 5}\n",
      "{1, 3, 5}\n"
     ]
    }
   ],
   "source": [
    "#symmetric_differencee()매서드 또는 &=로 대칭차집합(여집합)만들기\n",
    "A = {_ for _ in range(1,5)}\n",
    "B = {_ for _ in range(2,6) if _!= 3}\n",
    "print(\"A:\", A, \"\\nB:\", B)\n",
    "print(A.symmetric_difference(B))#A ^= B와 같습니다"
   ]
  },
  {
   "cell_type": "code",
   "execution_count": 40,
   "id": "e920013a-0f5c-4903-9bbc-caa95d26aeb9",
   "metadata": {},
   "outputs": [
    {
     "name": "stdout",
     "output_type": "stream",
     "text": [
      "A: {0, 1, 2} \n",
      "B: {0, 1, 2}\n",
      "A.issubset(B): True\n"
     ]
    }
   ],
   "source": [
    "#issubset() ==>부분집합 여부판별\n",
    "A = {_ for _ in range(0,3)}\n",
    "B ={_ for _ in range(0,3)}\n",
    "print(\"A:\",A, \"\\nB:\",B)\n",
    "print(\"A.issubset(B):\",A.issubset(B))"
   ]
  },
  {
   "cell_type": "code",
   "execution_count": 41,
   "id": "30f5ea64-e2d1-4f7d-b3fd-fad39e3ecece",
   "metadata": {},
   "outputs": [
    {
     "name": "stdout",
     "output_type": "stream",
     "text": [
      "A: {0, 1, 2} \n",
      "B: {0, 1}\n",
      "B.issubset(A): True\n"
     ]
    }
   ],
   "source": [
    "A = {_ for _ in range(0,3)}\n",
    "B ={_ for _ in range(0,2)}\n",
    "print(\"A:\",A, \"\\nB:\",B)\n",
    "print(\"B.issubset(A):\",B.issubset(A))"
   ]
  },
  {
   "cell_type": "code",
   "execution_count": 42,
   "id": "9542131a-1c06-46b6-a5b0-95a03aee5155",
   "metadata": {},
   "outputs": [
    {
     "name": "stdout",
     "output_type": "stream",
     "text": [
      "A: {0, 1, 2} \n",
      "B: {0, 1, 2}\n",
      "A.issuperset(B): True\n"
     ]
    }
   ],
   "source": [
    "#issuperset() ==>상위집합 여부판별\n",
    "A = {_ for _ in range(0,3)}\n",
    "B ={_ for _ in range(0,3)}\n",
    "print(\"A:\",A, \"\\nB:\",B)\n",
    "print(\"A.issuperset(B):\",A.issuperset(B))"
   ]
  },
  {
   "cell_type": "code",
   "execution_count": 43,
   "id": "dc2243a4-7387-45c2-8b2f-4484376d2436",
   "metadata": {},
   "outputs": [
    {
     "name": "stdout",
     "output_type": "stream",
     "text": [
      "A: {0, 1, 2} \n",
      "B: {0, 1}\n",
      "A.issuperset(B): True\n"
     ]
    }
   ],
   "source": [
    "A = {_ for _ in range(0,3)}\n",
    "B ={_ for _ in range(0,2)}\n",
    "print(\"A:\",A, \"\\nB:\",B)\n",
    "print(\"A.issuperset(B):\",A.issuperset(B))"
   ]
  },
  {
   "cell_type": "code",
   "execution_count": 47,
   "id": "44e13977-876a-4c96-a41e-0737a66ce8af",
   "metadata": {},
   "outputs": [
    {
     "name": "stdout",
     "output_type": "stream",
     "text": [
      "A: {0, 1, 2} \n",
      "B: {0, 1, 2}\n",
      "A > B: False\n",
      "A < B: False\n",
      "A == B: True\n"
     ]
    }
   ],
   "source": [
    "#상위 집합 판별\n",
    "A = {_ for _ in range(0,3)}\n",
    "B ={_ for _ in range(0,3)}\n",
    "print(\"A:\",A, \"\\nB:\",B)\n",
    "print(\"A > B:\",A>B)\n",
    "print(\"A < B:\",A<B)\n",
    "print(\"A == B:\",A==B)"
   ]
  },
  {
   "cell_type": "code",
   "execution_count": 48,
   "id": "b5a9ace1-2b5e-450e-b870-93a93278db40",
   "metadata": {},
   "outputs": [
    {
     "name": "stdout",
     "output_type": "stream",
     "text": [
      "A: {0, 1, 2} \n",
      "B: {3, 4, 5}\n",
      "A.isdisjoint(B): True\n"
     ]
    }
   ],
   "source": [
    "#세트가 겹치지 않는지 확인\n",
    "A = {_ for _ in range(0,3)}\n",
    "B ={_ for _ in range(3,6)}\n",
    "print(\"A:\",A, \"\\nB:\",B)\n",
    "print(\"A.isdisjoint(B):\",A.isdisjoint(B))"
   ]
  },
  {
   "cell_type": "code",
   "execution_count": 49,
   "id": "7144f1ac-420c-4005-b93d-1ef3abdc2137",
   "metadata": {},
   "outputs": [
    {
     "name": "stdout",
     "output_type": "stream",
     "text": [
      "{1, 2, 3, 4}\n"
     ]
    }
   ],
   "source": [
    "list_sample = [1,2,2,3,3,3,4,4,4,4]\n",
    "print(set(list_sample))"
   ]
  },
  {
   "cell_type": "code",
   "execution_count": 68,
   "id": "81cf2184-04cd-4941-871b-47d6c622992a",
   "metadata": {},
   "outputs": [
    {
     "name": "stdout",
     "output_type": "stream",
     "text": [
      "{75, 45, 15, 90, 60, 30}\n"
     ]
    }
   ],
   "source": [
    "set_3={x for x in range(3,101,3)}\n",
    "set_5={x for x in range(5,101,5)}\n",
    "result_set = set_3&set_5\n",
    "print(result_set)"
   ]
  },
  {
   "cell_type": "code",
   "execution_count": 93,
   "id": "de3affc2-75a5-4747-baeb-33a21be66c65",
   "metadata": {},
   "outputs": [
    {
     "name": "stdout",
     "output_type": "stream",
     "text": [
      "['개인정보 조회', '구매 관리', '근태 관리', '시스템 관리', '인사 관리', '회계 관리']\n"
     ]
    }
   ],
   "source": [
    "role_admin = (\"회계 관리\", \"인사 관리\", \"구매 관리\", \"시스템 관리\")\n",
    "role_hr = (\"인사 관리\", \"개인정보 조회\", \"회계 관리\", \"근태 관리\")\n",
    "role_user = (\"개인정보 조회\", \"근태 관리\")\n",
    "A = set(role_admin+role_hr+role_user)\n",
    "print(sorted(list(A)))"
   ]
  },
  {
   "cell_type": "markdown",
   "id": "966748c8-72cd-44a9-b7bc-30b304713516",
   "metadata": {},
   "source": [
    "# define(함수)"
   ]
  },
  {
   "cell_type": "code",
   "execution_count": 112,
   "id": "accefa15-8d92-488a-a377-88981ef502ed",
   "metadata": {},
   "outputs": [],
   "source": [
    "def print_ten(some_str):\n",
    "    \"\"\"print(hello)를 n번 출력합니다.\"\"\"\n",
    "    for i in range(10):\n",
    "        print(some_str)"
   ]
  },
  {
   "cell_type": "code",
   "execution_count": 113,
   "id": "785a76f1-2470-45ad-94ca-32a7986192de",
   "metadata": {},
   "outputs": [
    {
     "name": "stdout",
     "output_type": "stream",
     "text": [
      "hello\n",
      "hello\n",
      "hello\n",
      "hello\n",
      "hello\n",
      "hello\n",
      "hello\n",
      "hello\n",
      "hello\n",
      "hello\n"
     ]
    }
   ],
   "source": [
    "print_ten(\"hello\")"
   ]
  },
  {
   "cell_type": "code",
   "execution_count": 103,
   "id": "5a0cba5f-7eea-481f-9b93-ba8cd2047e08",
   "metadata": {},
   "outputs": [
    {
     "name": "stdout",
     "output_type": "stream",
     "text": [
      "print(hello)를 n번 출력합니다.\n"
     ]
    }
   ],
   "source": [
    "print(print_ten.__doc__)"
   ]
  },
  {
   "cell_type": "code",
   "execution_count": 110,
   "id": "9b964156-1024-4199-ae16-e935cb757e95",
   "metadata": {},
   "outputs": [
    {
     "name": "stdout",
     "output_type": "stream",
     "text": [
      "print(value, ..., sep=' ', end='\\n', file=sys.stdout, flush=False)\n",
      "\n",
      "Prints the values to a stream, or to sys.stdout by default.\n",
      "Optional keyword arguments:\n",
      "file:  a file-like object (stream); defaults to the current sys.stdout.\n",
      "sep:   string inserted between values, default a space.\n",
      "end:   string appended after the last value, default a newline.\n",
      "flush: whether to forcibly flush the stream.\n"
     ]
    }
   ],
   "source": [
    "print(print.__doc__)"
   ]
  },
  {
   "cell_type": "markdown",
   "id": "52c24a02-e384-44d0-a968-b1f3a7f01479",
   "metadata": {},
   "source": [
    "## 함수의 정의 - 인자(parameter)\n",
    "\n",
    "-- 인자의 종류 --  \n",
    "1.위치-키워드 : 위치로 혹은 키워드로 전달될 수 있는 인자, 매개변수의 기본 형태  \n",
    "2.위치 전용 : /문자를 기준으로 좌측에 위치한 인자  \n",
    "3.키워드 전용 : * 문자를 기준으로 우측에 위치한 인자  \n",
    "4.가변 위치 : 위치 매개변수 외에 추가적인 위치 매개변수를 개수에 상관없이 받을 수 있음, 변수명 앞에 *를 붙여 표기  \n",
    "5.가변 키워드 : 키워드 매개변수 외에 추가적인 키워드 매개변수를 개수에 상관없이 받을 수 있음, 변수명 앞에 ** 를 붙여 표기"
   ]
  },
  {
   "cell_type": "code",
   "execution_count": 114,
   "id": "39828e0e-796e-420d-8563-b41c2a7abc46",
   "metadata": {},
   "outputs": [],
   "source": [
    "def greeting(name,age):\n",
    "    print(f\"{name} 씨 안녕하세요. 약 {age *365.25}일 되었습니다.\")"
   ]
  },
  {
   "cell_type": "code",
   "execution_count": 115,
   "id": "d01e7c93-a160-4c68-9faf-ec545a08a553",
   "metadata": {},
   "outputs": [
    {
     "name": "stdout",
     "output_type": "stream",
     "text": [
      "파이썬 씨 안녕하세요. 약 11688.0일 되었습니다.\n"
     ]
    }
   ],
   "source": [
    "#위치 인수만으로 호출 (순서가 중요!)\n",
    "greeting(\"파이썬\",32)"
   ]
  },
  {
   "cell_type": "code",
   "execution_count": 118,
   "id": "2a50ad92-5ca2-46b3-9099-b864871086c0",
   "metadata": {},
   "outputs": [
    {
     "name": "stdout",
     "output_type": "stream",
     "text": [
      "파이썬 씨 안녕하세요. 약 11688.0일 되었습니다.\n"
     ]
    }
   ],
   "source": [
    "#키워드 인수만으로 호출\n",
    "greeting(name=\"파이썬\",age=32)"
   ]
  },
  {
   "cell_type": "code",
   "execution_count": 116,
   "id": "d4db2879-49ee-4ba9-8b4a-2b205f3bf0fe",
   "metadata": {},
   "outputs": [
    {
     "name": "stdout",
     "output_type": "stream",
     "text": [
      "파이썬 씨 안녕하세요. 약 11688.0일 되었습니다.\n"
     ]
    }
   ],
   "source": [
    "#위치 인수와 키워드 인수로 호출, 위치 인수가 키워드 인수보다 먼저! 위치해야 함\n",
    "greeting(\"파이썬\", age=32)"
   ]
  },
  {
   "cell_type": "code",
   "execution_count": 117,
   "id": "dda248b6-40b9-4d57-8812-28841e333bb3",
   "metadata": {},
   "outputs": [
    {
     "name": "stdout",
     "output_type": "stream",
     "text": [
      "파이썬 씨 안녕하세요. 약 11688.0일 되었습니다.\n"
     ]
    }
   ],
   "source": [
    "#키워드 인수만으로 호출시 순서는 상관X\n",
    "greeting(age=32, name=\"파이썬\")"
   ]
  },
  {
   "cell_type": "code",
   "execution_count": 119,
   "id": "a2bcaf7e-2da8-4946-ae5a-7d6fbb79b4f5",
   "metadata": {},
   "outputs": [
    {
     "ename": "SyntaxError",
     "evalue": "non-default argument follows default argument (3265332727.py, line 1)",
     "output_type": "error",
     "traceback": [
      "\u001b[1;36m  Input \u001b[1;32mIn [119]\u001b[1;36m\u001b[0m\n\u001b[1;33m    def greeting(name=\"default\",age):\u001b[0m\n\u001b[1;37m                                   ^\u001b[0m\n\u001b[1;31mSyntaxError\u001b[0m\u001b[1;31m:\u001b[0m non-default argument follows default argument\n"
     ]
    }
   ],
   "source": [
    "#default파라미터는 non-default파라미터 뒤에 와야함\n",
    "def greeting(name=\"default\",age):\n",
    "    print(f\"{name} 씨 안녕하세요. 약 {age *365.25}일 되었습니다.\")"
   ]
  },
  {
   "cell_type": "code",
   "execution_count": 121,
   "id": "08b22010-84ea-4097-8ace-58978cb4fe36",
   "metadata": {},
   "outputs": [],
   "source": [
    "def greeting(age,name=\"default\"):\n",
    "    print(f\"{name} 씨 안녕하세요. 약 {age *365.25}일 되었습니다.\")"
   ]
  },
  {
   "cell_type": "code",
   "execution_count": 124,
   "id": "f0ba5aaa-9ff5-4105-a817-350450db8011",
   "metadata": {},
   "outputs": [
    {
     "name": "stdout",
     "output_type": "stream",
     "text": [
      "파이썬 씨 안녕하세요. 약 11688.0일 되었습니다.\n"
     ]
    }
   ],
   "source": [
    "#default값이 있는 경우 생략가능\n",
    "def greeting(name,age=32):\n",
    "    print(f\"{name} 씨 안녕하세요. 약 {age *365.25}일 되었습니다.\")\n",
    "greeting(\"파이썬\")"
   ]
  },
  {
   "cell_type": "code",
   "execution_count": 126,
   "id": "e5593b5f-b221-4709-b1b4-744c7b8c5150",
   "metadata": {},
   "outputs": [
    {
     "name": "stdout",
     "output_type": "stream",
     "text": [
      "값만 입력해야 합니다\n"
     ]
    }
   ],
   "source": [
    "#2.위치 전용 인자 ==> /를 넣어 좌측부분을 위치 전용 인자로 선언\n",
    "def posonly(posonly, /):\n",
    "    print(posonly)\n",
    "posonly(\"값만 입력해야 합니다\")"
   ]
  },
  {
   "cell_type": "code",
   "execution_count": 127,
   "id": "1011cdc8-0196-4f81-ba96-8c09889b0b71",
   "metadata": {},
   "outputs": [
    {
     "ename": "TypeError",
     "evalue": "posonly() got some positional-only arguments passed as keyword arguments: 'posonly'",
     "output_type": "error",
     "traceback": [
      "\u001b[1;31m---------------------------------------------------------------------------\u001b[0m",
      "\u001b[1;31mTypeError\u001b[0m                                 Traceback (most recent call last)",
      "Input \u001b[1;32mIn [127]\u001b[0m, in \u001b[0;36m<cell line: 2>\u001b[1;34m()\u001b[0m\n\u001b[0;32m      1\u001b[0m \u001b[38;5;66;03m#키원드 인수로 전달하면 오류 발생\u001b[39;00m\n\u001b[1;32m----> 2\u001b[0m \u001b[43mposonly\u001b[49m\u001b[43m(\u001b[49m\u001b[43mposonly\u001b[49m\u001b[43m \u001b[49m\u001b[38;5;241;43m=\u001b[39;49m\u001b[43m \u001b[49m\u001b[38;5;124;43m\"\u001b[39;49m\u001b[38;5;124;43m키워드 인수로 전달하면 오류 발생!\u001b[39;49m\u001b[38;5;124;43m\"\u001b[39;49m\u001b[43m)\u001b[49m\n",
      "\u001b[1;31mTypeError\u001b[0m: posonly() got some positional-only arguments passed as keyword arguments: 'posonly'"
     ]
    }
   ],
   "source": [
    "#3.키워드 전용 인자 ==> 키워드 인수로 전달하면 오류 발생\n",
    "posonly(posonly = \"키워드 인수로 전달하면 오류 발생!\")"
   ]
  },
  {
   "cell_type": "code",
   "execution_count": 128,
   "id": "0c397d9a-7707-4f72-9355-a39552718dae",
   "metadata": {},
   "outputs": [
    {
     "name": "stdout",
     "output_type": "stream",
     "text": [
      "키워드로만 입력해야 합니다.\n"
     ]
    }
   ],
   "source": [
    "def keyonly(*, keyonly):\n",
    "    print(keyonly)\n",
    "keyonly(keyonly=\"키워드로만 입력해야 합니다.\")"
   ]
  },
  {
   "cell_type": "code",
   "execution_count": 129,
   "id": "cca9a117-a1b3-4013-8e95-6725a15f34ac",
   "metadata": {},
   "outputs": [
    {
     "name": "stdout",
     "output_type": "stream",
     "text": [
      "<class 'tuple'>\n",
      "15\n"
     ]
    }
   ],
   "source": [
    "#4.가변-위치 인자(명시된 인자 외에 추가적으로 위치 인수를 개수에 상관없이 유연하게 전달 받을 수 있음)\n",
    "def var_positional(*args):\n",
    "    print(type(args))#가변인수를 튜플로 packing한 뒤 전달\n",
    "    return sum([_ for _ in args])\n",
    "print(var_positional(1,2,3,4,5))"
   ]
  },
  {
   "cell_type": "code",
   "execution_count": 132,
   "id": "ee3c5914-cd4e-46e0-ab8b-8f9d7ec1c658",
   "metadata": {},
   "outputs": [
    {
     "name": "stdout",
     "output_type": "stream",
     "text": [
      "<class 'dict'>\n",
      "{'key': 'value', 'key2': 'value2'}\n"
     ]
    }
   ],
   "source": [
    "#5.가변 키워드 인자 ==> 명시된 인자 외에 추가적으로 키워드 인수를 개수에 상관없이 유연하게 전달 받을 수 있음\n",
    "def var_keyword(**kargs):\n",
    "    print(type(kargs))\n",
    "    return kargs\n",
    "print(var_keyword(key=\"value\", key2=\"value2\"))"
   ]
  },
  {
   "cell_type": "code",
   "execution_count": 145,
   "id": "e6daebee-a87c-4ccd-b009-1841603b0e98",
   "metadata": {},
   "outputs": [
    {
     "data": {
      "text/plain": [
       "80"
      ]
     },
     "execution_count": 145,
     "metadata": {},
     "output_type": "execute_result"
    }
   ],
   "source": [
    "def plus_ten(n):\n",
    "    result = n+10\n",
    "    return result\n",
    "plus_ten(70)"
   ]
  },
  {
   "cell_type": "code",
   "execution_count": 160,
   "id": "83fc164a-f207-4844-99eb-ae6efca69f42",
   "metadata": {},
   "outputs": [
    {
     "name": "stdout",
     "output_type": "stream",
     "text": [
      "21.11111111111111\n"
     ]
    }
   ],
   "source": [
    "def to_celsius(fahrenheit):\n",
    "    C = (fahrenheit-32)*5/9\n",
    "    return C\n",
    "print(to_celsius(70))"
   ]
  },
  {
   "cell_type": "code",
   "execution_count": 225,
   "id": "bbc5239d-5db5-4f28-92ad-c20056a08653",
   "metadata": {},
   "outputs": [],
   "source": [
    "def odd_even(number):\n",
    "    \"number가 짝수면 \\\"짝수\\\", 홀수면 \\\"홀수\\\" 반환\"\n",
    "    if type(number) is not int or number ==0:\n",
    "        return\n",
    "    else:\n",
    "        return \"짝수\" * (number % 2 ==0) or \"홀수\"\n",
    "    #짝수 일 때 number %2 ==0 이 True가 돼서 1로 입력됨 ==>\"짝수\" 반환\n",
    "    #홀수 일 때 False 되어서 뒤에 \"홀수\"반환"
   ]
  },
  {
   "cell_type": "code",
   "execution_count": 226,
   "id": "20ec08f3-ec35-46a4-b006-0e8c00d99b27",
   "metadata": {},
   "outputs": [
    {
     "name": "stdout",
     "output_type": "stream",
     "text": [
      "number가 짝수면 \"짝수\", 홀수면 \"홀수\" 반환\n",
      "짝수\n",
      "홀수\n",
      "None\n"
     ]
    }
   ],
   "source": [
    "print(odd_even.__doc__)\n",
    "print(odd_even(10))\n",
    "print(odd_even(9))\n",
    "print(odd_even(\"가\"))"
   ]
  },
  {
   "cell_type": "markdown",
   "id": "5fc25ebe-92fb-4277-a675-e317c8cd4299",
   "metadata": {},
   "source": [
    "### 문자열 입력해서 자연수로 변환 가능 여부 판별  \n",
    "* .isdigit() ==>단일 글자가 '숫자' 모양으로 생겼으면 무조건 True를 반환하는 함수  \n",
    "* .isdecimal() ==> 주어진 문자열이 int형으로 변환이 가능한지 알아내는 함수  \n",
    "* .isnumeric() ==>숫자값 표현에 해당하는 문자열까지 인정한다. 제곱근 및 분수, 거듭제곱 특수문자도 isnumeric() 함수는 True를 반환"
   ]
  },
  {
   "cell_type": "code",
   "execution_count": 239,
   "id": "61ebeb55-bf6c-4e6b-9121-37779c7106e0",
   "metadata": {},
   "outputs": [
    {
     "name": "stdout",
     "output_type": "stream",
     "text": [
      "반환 값: \"윤년\"\n",
      "반환 값: \"윤년\"\n",
      "반환 값: \"평년\"\n"
     ]
    }
   ],
   "source": [
    "def check_leap_year(n):\n",
    "    if n % 4 != 0 or (n %100 == 0 and n % 400 != 0):\n",
    "        return \"평년\"\n",
    "    else:\n",
    "        return \"윤년\"\n",
    "print(\"반환 값: \\\"\"+check_leap_year(2004)+\"\\\"\")\n",
    "print(\"반환 값: \\\"\"+check_leap_year(2000)+\"\\\"\")\n",
    "print(\"반환 값: \\\"\"+check_leap_year(1900)+\"\\\"\")"
   ]
  },
  {
   "cell_type": "code",
   "execution_count": 243,
   "id": "adf32284-9582-4c08-8c87-3ad6bf33a693",
   "metadata": {},
   "outputs": [
    {
     "name": "stdout",
     "output_type": "stream",
     "text": [
      "반환 값: 30\n",
      "반환 값: 28\n",
      "반환 값: 31\n"
     ]
    }
   ],
   "source": [
    "def days(month):\n",
    "    if month == 2:\n",
    "        return 28\n",
    "    elif month in [4,6,9,11]:\n",
    "        return 30\n",
    "    else:\n",
    "        return 31\n",
    "print(\"반환 값:\",days(11))\n",
    "print(\"반환 값:\",days(2))\n",
    "print(\"반환 값:\",days(1))"
   ]
  },
  {
   "cell_type": "code",
   "execution_count": 251,
   "id": "4be6d87b-8fe5-495e-aa2d-afd62fe435e7",
   "metadata": {},
   "outputs": [
    {
     "name": "stdout",
     "output_type": "stream",
     "text": [
      "반환 값: 30\n",
      "반환 값: 31\n",
      "반환 값: 28\n",
      "반환 값: 29\n"
     ]
    }
   ],
   "source": [
    "def days(year,month):\n",
    "    if month in [4,6,9,11]:\n",
    "        return 30\n",
    "    elif month in [1,3,5,7,8,10,12]:\n",
    "        return 31\n",
    "    else:\n",
    "        if year % 4 != 0 or (year %100 == 0 and year % 400 != 0):#평년일떼\n",
    "            return 28\n",
    "        else:\n",
    "            return 29\n",
    "print(\"반환 값:\",days(1900,11))\n",
    "print(\"반환 값:\",days(2004,10))\n",
    "print(\"반환 값:\",days(1900,2))\n",
    "print(\"반환 값:\",days(2000,2))"
   ]
  },
  {
   "cell_type": "markdown",
   "id": "dbab694a-e8c1-4634-9d1d-f396703fea4f",
   "metadata": {},
   "source": [
    "# 조건표현식(conditional Expression), inline if else\n",
    "\n",
    "True일때 값 if 조건식 else False일때 값"
   ]
  },
  {
   "cell_type": "code",
   "execution_count": 260,
   "id": "f3c0fba5-7559-4ccf-891f-c88a3023dacd",
   "metadata": {},
   "outputs": [
    {
     "data": {
      "text/plain": [
       "'C'"
      ]
     },
     "execution_count": 260,
     "metadata": {},
     "output_type": "execute_result"
    }
   ],
   "source": [
    "score = 70\n",
    "'A' if 90<score<=100 else 'B' if 80<score else 'C'"
   ]
  },
  {
   "cell_type": "code",
   "execution_count": null,
   "id": "132b00b9-9dbb-4a02-b9bc-eda3928c5eda",
   "metadata": {},
   "outputs": [],
   "source": []
  }
 ],
 "metadata": {
  "kernelspec": {
   "display_name": "Python 3 (ipykernel)",
   "language": "python",
   "name": "python3"
  },
  "language_info": {
   "codemirror_mode": {
    "name": "ipython",
    "version": 3
   },
   "file_extension": ".py",
   "mimetype": "text/x-python",
   "name": "python",
   "nbconvert_exporter": "python",
   "pygments_lexer": "ipython3",
   "version": "3.9.12"
  }
 },
 "nbformat": 4,
 "nbformat_minor": 5
}
