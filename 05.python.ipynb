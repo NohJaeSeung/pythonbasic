{
 "cells": [
  {
   "cell_type": "code",
   "execution_count": 7,
   "id": "38ee1347-a935-4a43-b162-558a545ec28a",
   "metadata": {},
   "outputs": [
    {
     "name": "stdout",
     "output_type": "stream",
     "text": [
      "1 2 3 4 5 6 7 8 9 10 1 2 3 4 5 6 7 8 9 10 "
     ]
    }
   ],
   "source": [
    "for i in range(1,11):\n",
    "    print(i,end=' ')\n",
    "num =0\n",
    "while num != 10:\n",
    "    num +=1\n",
    "    print(num, end= ' ')"
   ]
  },
  {
   "cell_type": "code",
   "execution_count": 6,
   "id": "43dd5308-dd33-4fc1-87f9-99987b6c0c62",
   "metadata": {},
   "outputs": [
    {
     "name": "stdout",
     "output_type": "stream",
     "text": [
      "1 2 3 4 5 6 7 8 9 10 "
     ]
    }
   ],
   "source": [
    "num =0\n",
    "while num != 10:\n",
    "    num +=1\n",
    "    print(num, end= ' ')"
   ]
  },
  {
   "cell_type": "code",
   "execution_count": 13,
   "id": "f7129510-3082-455f-81f4-74bfb4b17f1b",
   "metadata": {},
   "outputs": [
    {
     "name": "stdout",
     "output_type": "stream",
     "text": [
      "79.0\n"
     ]
    }
   ],
   "source": [
    "class_a = (70,60,55,75,95,90,80,80,85,100)\n",
    "total=0\n",
    "i=0\n",
    "while i < len(class_a):\n",
    "    total += class_a[i]\n",
    "    i += 1\n",
    "print(total/ len(class_a))"
   ]
  },
  {
   "cell_type": "code",
   "execution_count": 14,
   "id": "a6457398-5059-41e4-aaf6-a9ff2a42940c",
   "metadata": {},
   "outputs": [
    {
     "name": "stdout",
     "output_type": "stream",
     "text": [
      "5050\n"
     ]
    }
   ],
   "source": [
    "i =0\n",
    "total = 0\n",
    "while True:\n",
    "    i+=1\n",
    "    total+=i\n",
    "    if i ==100:\n",
    "        break\n",
    "print(total)"
   ]
  },
  {
   "cell_type": "code",
   "execution_count": 25,
   "id": "0f7ddecf-67d2-40ac-a848-f0f9dc290125",
   "metadata": {},
   "outputs": [
    {
     "name": "stdin",
     "output_type": "stream",
     "text": [
      "시작하는 정수 입력: 1\n",
      "끝나는 정수 입력: 10\n"
     ]
    },
    {
     "name": "stdout",
     "output_type": "stream",
     "text": [
      "1부터 10까지의 합은 55입니다.\n",
      "1부터 10까지의 합은 55입니다.\n"
     ]
    }
   ],
   "source": [
    "n = int(input(\"시작하는 정수 입력:\"))\n",
    "m = int(input(\"끝나는 정수 입력:\"))\n",
    "result = 0\n",
    "total =0\n",
    "for i in range(n,m+1):\n",
    "    result += i\n",
    "print(\"1부터 10까지의 합은 {}입니다.\".format(result))\n",
    "while True:\n",
    "    total += n\n",
    "    n += 1\n",
    "    if n > m:\n",
    "        break\n",
    "print(\"1부터 10까지의 합은 {}입니다.\".format(total))"
   ]
  },
  {
   "cell_type": "code",
   "execution_count": 32,
   "id": "0a2469d0-b42d-4555-a2d9-d36a253c7c02",
   "metadata": {},
   "outputs": [
    {
     "name": "stdin",
     "output_type": "stream",
     "text": [
      "과일 이름을 입력하세요 파인애플\n"
     ]
    },
    {
     "name": "stdout",
     "output_type": "stream",
     "text": [
      "파인애플의 가격은 2000원 입니다.\n"
     ]
    }
   ],
   "source": [
    "fruit = str(input(\"과일 이름을 입력하세요\"))\n",
    "fruit_price = {'사과':1000,'바나나':700,'오렌지':1500,'파인애플':2000}\n",
    "print(\"{}의 가격은 {}원 입니다.\".format(fruit,fruit_price[fruit]))"
   ]
  },
  {
   "cell_type": "code",
   "execution_count": 37,
   "id": "242d056f-5aba-4352-a889-3595b6a0c247",
   "metadata": {},
   "outputs": [
    {
     "name": "stdin",
     "output_type": "stream",
     "text": [
      "이름을 기입해주세요. 뽀로로 루피 크롱 스누피\n"
     ]
    },
    {
     "name": "stdout",
     "output_type": "stream",
     "text": [
      "20.4 16.2 22.3 5.2 "
     ]
    }
   ],
   "source": [
    "name = input(\"이름을 기입해주세요.\").split()\n",
    "weight = {'뽀로로':20.4,'루피':16.2,'크롱':22.3,'스누피':5.2}\n",
    "for i in name:\n",
    "    print(weight[i], end=' ')"
   ]
  },
  {
   "cell_type": "code",
   "execution_count": 66,
   "id": "afd5077f-f21f-4310-957d-b9e3713f580d",
   "metadata": {},
   "outputs": [
    {
     "name": "stdin",
     "output_type": "stream",
     "text": [
      "이름을 기입해주세요. a b c d\n",
      "몸무게를 입력해주세요. 1 2 3 4\n"
     ]
    },
    {
     "name": "stdout",
     "output_type": "stream",
     "text": [
      "a b c d "
     ]
    }
   ],
   "source": [
    "name = input(\"이름을 기입해주세요.\").split()\n",
    "weight = input(\"몸무게를 입력해주세요.\").split()\n",
    "a={}\n",
    "for i in range(len(name)):\n",
    "    a[name[i]] = weight[i]"
   ]
  },
  {
   "cell_type": "code",
   "execution_count": 72,
   "id": "6bc4b03d-0e98-4a86-aac0-2add3b3c56fa",
   "metadata": {},
   "outputs": [
    {
     "name": "stdout",
     "output_type": "stream",
     "text": [
      "1\n",
      "2\n",
      "3\n",
      "4\n"
     ]
    }
   ],
   "source": [
    "for _ in a.values():\n",
    "    print(_)"
   ]
  },
  {
   "cell_type": "code",
   "execution_count": 81,
   "id": "3461fd12-9829-4c02-8391-bf24e594bb20",
   "metadata": {},
   "outputs": [
    {
     "name": "stdout",
     "output_type": "stream",
     "text": [
      "<class 'list'>\n",
      "[3, 0, 1, 6, 7, 4, 5, 10, 11]\n"
     ]
    }
   ],
   "source": [
    "prac_result = [x**2 for x in range(1,10)]\n",
    "print(type(prac_result))\n",
    "print(prac_result)"
   ]
  },
  {
   "cell_type": "code",
   "execution_count": 85,
   "id": "550cbf60-bf70-4702-ab34-bc8a2a74784f",
   "metadata": {},
   "outputs": [
    {
     "name": "stdout",
     "output_type": "stream",
     "text": [
      "[1, 3, 5, 7, 9]\n"
     ]
    }
   ],
   "source": [
    "prac_result2 = [x for x in range(1,10,2)]\n",
    "print(prac_result2)"
   ]
  },
  {
   "cell_type": "code",
   "execution_count": 87,
   "id": "483baea8-a430-41b0-9648-9dbc6734b8eb",
   "metadata": {},
   "outputs": [
    {
     "name": "stdout",
     "output_type": "stream",
     "text": [
      "['a', 'b', 'c', 'd', 'e', 'f']\n"
     ]
    }
   ],
   "source": [
    "prac_result3 = [x for x in 'abcdef']\n",
    "print(prac_result3)"
   ]
  },
  {
   "cell_type": "code",
   "execution_count": 100,
   "id": "3d7fc70b-17e1-4b1d-b0ab-260c59b61f31",
   "metadata": {},
   "outputs": [
    {
     "name": "stdout",
     "output_type": "stream",
     "text": [
      "['2', '3', '4', '5', '6', '7', '8', '9', '10', 'J', 'Q', 'K', 'A']\n"
     ]
    }
   ],
   "source": [
    "prac_result4 = [str(x) for x in range(2,11)]+ [y for y in 'JQKA']\n",
    "print(prac_result4)"
   ]
  },
  {
   "cell_type": "code",
   "execution_count": 99,
   "id": "3d231004-6096-4630-8e07-2585ab122a01",
   "metadata": {},
   "outputs": [
    {
     "name": "stdout",
     "output_type": "stream",
     "text": [
      "[['2', '3', '4', '5', '6', '7', '8', '9', '10', 'J', 'Q', 'K', 'A'], ['2', '3', '4', '5', '6', '7', '8', '9', '10', 'J', 'Q', 'K', 'A'], ['2', '3', '4', '5', '6', '7', '8', '9', '10', 'J', 'Q', 'K', 'A'], ['2', '3', '4', '5', '6', '7', '8', '9', '10', 'J', 'Q', 'K', 'A']]\n"
     ]
    }
   ],
   "source": [
    "prac_result5 = [prac_result4 for x in range(4)]\n",
    "print(prac_result5)"
   ]
  },
  {
   "cell_type": "code",
   "execution_count": 106,
   "id": "8fe16f0a-17ee-41c1-a907-0038e1ca40c5",
   "metadata": {},
   "outputs": [
    {
     "name": "stdout",
     "output_type": "stream",
     "text": [
      "1831441800064\n",
      "prac_result6[0] : 1831442249920\n",
      "prac_result6[1] : 1831442334400\n",
      "prac_result6[2] : 1831442311232\n",
      "prac_result6[3] : 1831442311424\n"
     ]
    }
   ],
   "source": [
    "prac_result6 = [prac_result4[:] for x in range(4)]\n",
    "print(id(prac_result4))\n",
    "for i, v in enumerate(prac_result6):\n",
    "    print(\"prac_result6[\",i,\"] : \", id(v), sep=\"\")\n"
   ]
  },
  {
   "cell_type": "code",
   "execution_count": 112,
   "id": "4b4ed466-376e-4591-afcc-4f75fba7c578",
   "metadata": {},
   "outputs": [
    {
     "name": "stdout",
     "output_type": "stream",
     "text": [
      "1831441540032\n",
      "1831441744832\n",
      "False\n",
      "True\n"
     ]
    }
   ],
   "source": [
    "old_list = list(range(10))\n",
    "new_list = old_list[:]\n",
    "\n",
    "print(id(old_list))\n",
    "print(id(new_list))\n",
    "print(old_list is new_list)\n",
    "print(old_list == new_list)"
   ]
  },
  {
   "cell_type": "code",
   "execution_count": 137,
   "id": "0f0919fc-a775-4e3f-8198-31f7422b72ed",
   "metadata": {},
   "outputs": [
    {
     "name": "stdout",
     "output_type": "stream",
     "text": [
      "False\n",
      "1831442948224\n",
      "1831442934848\n"
     ]
    }
   ],
   "source": [
    "list_g = list(range(10))\n",
    "list_h = list_g.copy()\n",
    "print(list_g is list_h)\n",
    "print(id(list_g))\n",
    "print(id(list_h))"
   ]
  },
  {
   "cell_type": "code",
   "execution_count": 139,
   "id": "fcc66129-623f-4a30-817f-f36dd03546ab",
   "metadata": {},
   "outputs": [
    {
     "name": "stdout",
     "output_type": "stream",
     "text": [
      "True\n",
      "1831442948224\n",
      "1831442948224\n"
     ]
    }
   ],
   "source": [
    "list_h = list_g\n",
    "print(list_h is list_g)\n",
    "print(id(list_g))\n",
    "print(id(list_h))"
   ]
  },
  {
   "cell_type": "code",
   "execution_count": 140,
   "id": "d410826d-8353-4ed7-8990-2408697b7721",
   "metadata": {},
   "outputs": [
    {
     "name": "stdout",
     "output_type": "stream",
     "text": [
      "1831442948224\n",
      "1831442948224\n"
     ]
    }
   ],
   "source": [
    "list_g[0] = 999\n",
    "print(id(list_g))\n",
    "print(id(list_h))"
   ]
  },
  {
   "cell_type": "code",
   "execution_count": 141,
   "id": "6950fce8-7ca9-4ed5-9e75-973efd5f0b2f",
   "metadata": {},
   "outputs": [
    {
     "name": "stdout",
     "output_type": "stream",
     "text": [
      "[999, 1, 2, 3, 4, 5, 6, 7, 8, 9]\n",
      "[999, 1, 2, 3, 4, 5, 6, 7, 8, 9]\n"
     ]
    }
   ],
   "source": [
    "print(list_g)\n",
    "print(list_h)"
   ]
  },
  {
   "cell_type": "markdown",
   "id": "c55d40db-68dd-44f8-a9ac-35ad966c5b0a",
   "metadata": {},
   "source": [
    "# 얕은 복사(shallow copy)\n",
    "메모리상에서 주소가 같으면 값 변경 했을때 같이 변경됨"
   ]
  },
  {
   "cell_type": "code",
   "execution_count": 146,
   "id": "13b7b31f-13c3-4136-ba6d-6107c80ff498",
   "metadata": {},
   "outputs": [
    {
     "name": "stdout",
     "output_type": "stream",
     "text": [
      "[[0], [0], [0]]\n"
     ]
    }
   ],
   "source": [
    "list_i = [[0]]*3\n",
    "print(list_i)"
   ]
  },
  {
   "cell_type": "code",
   "execution_count": 147,
   "id": "c6e5671e-e921-41a9-a42c-6fcbd6edc840",
   "metadata": {},
   "outputs": [
    {
     "name": "stdout",
     "output_type": "stream",
     "text": [
      "[[999], [999], [999]]\n"
     ]
    }
   ],
   "source": [
    "list_i[0][0] = 999\n",
    "print(list_i)"
   ]
  },
  {
   "cell_type": "code",
   "execution_count": null,
   "id": "3576f82f-192f-43f6-bda2-70058a60feca",
   "metadata": {},
   "outputs": [],
   "source": []
  },
  {
   "cell_type": "markdown",
   "id": "952e4373-afb9-43f6-8895-1d3ea4bf1379",
   "metadata": {},
   "source": [
    "# 깊은 복사(Deep copy)\n",
    "import copy로 라이브러리 불러오고 사용"
   ]
  },
  {
   "cell_type": "code",
   "execution_count": 148,
   "id": "72c62e12-0df2-497b-9ee1-d2d60149a49b",
   "metadata": {},
   "outputs": [
    {
     "name": "stdout",
     "output_type": "stream",
     "text": [
      "False\n"
     ]
    }
   ],
   "source": [
    "import copy\n",
    "list_n = [[9,10],[11,12]]\n",
    "list_o =copy.deepcopy(list_n)\n",
    "print(list_n[0] is list_o)"
   ]
  },
  {
   "cell_type": "code",
   "execution_count": 149,
   "id": "e796c005-78dc-4cb6-99e1-12803c5e6edb",
   "metadata": {},
   "outputs": [
    {
     "name": "stdout",
     "output_type": "stream",
     "text": [
      "[[9, 999], [11, 12]]\n",
      "[[9, 10], [11, 12]]\n"
     ]
    }
   ],
   "source": [
    "#deepcopy로 복사된 리스트는 서로 완전히 다른 객체이다\n",
    "list_n[0][1] = 999\n",
    "print(list_n)\n",
    "print(list_o)"
   ]
  },
  {
   "cell_type": "code",
   "execution_count": 150,
   "id": "2e8ecb38-d44e-45d8-b074-25a57fb1a071",
   "metadata": {},
   "outputs": [
    {
     "name": "stdout",
     "output_type": "stream",
     "text": [
      "1831442978496\n",
      "1831442959296\n"
     ]
    }
   ],
   "source": [
    "print(id(list_n))\n",
    "print(id(list_o))"
   ]
  },
  {
   "cell_type": "code",
   "execution_count": null,
   "id": "3f7ca35b-7d24-4a0c-984a-a2b8eb1ba391",
   "metadata": {},
   "outputs": [],
   "source": []
  }
 ],
 "metadata": {
  "kernelspec": {
   "display_name": "Python 3 (ipykernel)",
   "language": "python",
   "name": "python3"
  },
  "language_info": {
   "codemirror_mode": {
    "name": "ipython",
    "version": 3
   },
   "file_extension": ".py",
   "mimetype": "text/x-python",
   "name": "python",
   "nbconvert_exporter": "python",
   "pygments_lexer": "ipython3",
   "version": "3.9.12"
  }
 },
 "nbformat": 4,
 "nbformat_minor": 5
}
