{
 "cells": [
  {
   "cell_type": "code",
   "execution_count": null,
   "id": "38ee1347-a935-4a43-b162-558a545ec28a",
   "metadata": {},
   "outputs": [],
   "source": [
    "for i in range(1,11):\n",
    "    print(i,end=' ')\n",
    "num =0\n",
    "while num != 10:\n",
    "    num +=1\n",
    "    print(num, end= ' ')"
   ]
  },
  {
   "cell_type": "code",
   "execution_count": 6,
   "id": "43dd5308-dd33-4fc1-87f9-99987b6c0c62",
   "metadata": {},
   "outputs": [
    {
     "name": "stdout",
     "output_type": "stream",
     "text": [
      "1 2 3 4 5 6 7 8 9 10 "
     ]
    }
   ],
   "source": [
    "num =0\n",
    "while num != 10:\n",
    "    num +=1\n",
    "    print(num, end= ' ')"
   ]
  },
  {
   "cell_type": "code",
   "execution_count": 13,
   "id": "f7129510-3082-455f-81f4-74bfb4b17f1b",
   "metadata": {},
   "outputs": [
    {
     "name": "stdout",
     "output_type": "stream",
     "text": [
      "79.0\n"
     ]
    }
   ],
   "source": [
    "class_a = (70,60,55,75,95,90,80,80,85,100)\n",
    "total=0\n",
    "i=0\n",
    "while i < len(class_a):\n",
    "    total += class_a[i]\n",
    "    i += 1\n",
    "print(total/ len(class_a))"
   ]
  },
  {
   "cell_type": "code",
   "execution_count": 14,
   "id": "a6457398-5059-41e4-aaf6-a9ff2a42940c",
   "metadata": {},
   "outputs": [
    {
     "name": "stdout",
     "output_type": "stream",
     "text": [
      "5050\n"
     ]
    }
   ],
   "source": [
    "i =0\n",
    "total = 0\n",
    "while True:\n",
    "    i+=1\n",
    "    total+=i\n",
    "    if i ==100:\n",
    "        break\n",
    "print(total)"
   ]
  },
  {
   "cell_type": "code",
   "execution_count": 25,
   "id": "0f7ddecf-67d2-40ac-a848-f0f9dc290125",
   "metadata": {},
   "outputs": [
    {
     "name": "stdin",
     "output_type": "stream",
     "text": [
      "시작하는 정수 입력: 1\n",
      "끝나는 정수 입력: 10\n"
     ]
    },
    {
     "name": "stdout",
     "output_type": "stream",
     "text": [
      "1부터 10까지의 합은 55입니다.\n",
      "1부터 10까지의 합은 55입니다.\n"
     ]
    }
   ],
   "source": [
    "n = int(input(\"시작하는 정수 입력:\"))\n",
    "m = int(input(\"끝나는 정수 입력:\"))\n",
    "result = 0\n",
    "total =0\n",
    "for i in range(n,m+1):\n",
    "    result += i\n",
    "print(\"1부터 10까지의 합은 {}입니다.\".format(result))\n",
    "while True:\n",
    "    total += n\n",
    "    n += 1\n",
    "    if n > m:\n",
    "        break\n",
    "print(\"1부터 10까지의 합은 {}입니다.\".format(total))"
   ]
  },
  {
   "cell_type": "code",
   "execution_count": 32,
   "id": "0a2469d0-b42d-4555-a2d9-d36a253c7c02",
   "metadata": {},
   "outputs": [
    {
     "name": "stdin",
     "output_type": "stream",
     "text": [
      "과일 이름을 입력하세요 파인애플\n"
     ]
    },
    {
     "name": "stdout",
     "output_type": "stream",
     "text": [
      "파인애플의 가격은 2000원 입니다.\n"
     ]
    }
   ],
   "source": [
    "fruit = str(input(\"과일 이름을 입력하세요\"))\n",
    "fruit_price = {'사과':1000,'바나나':700,'오렌지':1500,'파인애플':2000}\n",
    "print(\"{}의 가격은 {}원 입니다.\".format(fruit,fruit_price[fruit]))"
   ]
  },
  {
   "cell_type": "code",
   "execution_count": 37,
   "id": "242d056f-5aba-4352-a889-3595b6a0c247",
   "metadata": {},
   "outputs": [
    {
     "name": "stdin",
     "output_type": "stream",
     "text": [
      "이름을 기입해주세요. 뽀로로 루피 크롱 스누피\n"
     ]
    },
    {
     "name": "stdout",
     "output_type": "stream",
     "text": [
      "20.4 16.2 22.3 5.2 "
     ]
    }
   ],
   "source": [
    "name = input(\"이름을 기입해주세요.\").split()\n",
    "weight = {'뽀로로':20.4,'루피':16.2,'크롱':22.3,'스누피':5.2}\n",
    "for i in name:\n",
    "    print(weight[i], end=' ')"
   ]
  },
  {
   "cell_type": "code",
   "execution_count": 66,
   "id": "afd5077f-f21f-4310-957d-b9e3713f580d",
   "metadata": {},
   "outputs": [
    {
     "name": "stdin",
     "output_type": "stream",
     "text": [
      "이름을 기입해주세요. a b c d\n",
      "몸무게를 입력해주세요. 1 2 3 4\n"
     ]
    },
    {
     "name": "stdout",
     "output_type": "stream",
     "text": [
      "a b c d "
     ]
    }
   ],
   "source": [
    "name = input(\"이름을 기입해주세요.\").split()\n",
    "weight = input(\"몸무게를 입력해주세요.\").split()\n",
    "a={}\n",
    "for i in range(len(name)):\n",
    "    a[name[i]] = weight[i]"
   ]
  },
  {
   "cell_type": "code",
   "execution_count": 72,
   "id": "6bc4b03d-0e98-4a86-aac0-2add3b3c56fa",
   "metadata": {},
   "outputs": [
    {
     "name": "stdout",
     "output_type": "stream",
     "text": [
      "1\n",
      "2\n",
      "3\n",
      "4\n"
     ]
    }
   ],
   "source": [
    "for _ in a.values():\n",
    "    print(_)"
   ]
  },
  {
   "cell_type": "code",
   "execution_count": 81,
   "id": "3461fd12-9829-4c02-8391-bf24e594bb20",
   "metadata": {},
   "outputs": [
    {
     "name": "stdout",
     "output_type": "stream",
     "text": [
      "<class 'list'>\n",
      "[3, 0, 1, 6, 7, 4, 5, 10, 11]\n"
     ]
    }
   ],
   "source": [
    "prac_result = [x**2 for x in range(1,10)]\n",
    "print(type(prac_result))\n",
    "print(prac_result)"
   ]
  },
  {
   "cell_type": "code",
   "execution_count": 85,
   "id": "550cbf60-bf70-4702-ab34-bc8a2a74784f",
   "metadata": {},
   "outputs": [
    {
     "name": "stdout",
     "output_type": "stream",
     "text": [
      "[1, 3, 5, 7, 9]\n"
     ]
    }
   ],
   "source": [
    "prac_result2 = [x for x in range(1,10,2)]\n",
    "print(prac_result2)"
   ]
  },
  {
   "cell_type": "code",
   "execution_count": 87,
   "id": "483baea8-a430-41b0-9648-9dbc6734b8eb",
   "metadata": {},
   "outputs": [
    {
     "name": "stdout",
     "output_type": "stream",
     "text": [
      "['a', 'b', 'c', 'd', 'e', 'f']\n"
     ]
    }
   ],
   "source": [
    "prac_result3 = [x for x in 'abcdef']\n",
    "print(prac_result3)"
   ]
  },
  {
   "cell_type": "code",
   "execution_count": 100,
   "id": "3d7fc70b-17e1-4b1d-b0ab-260c59b61f31",
   "metadata": {},
   "outputs": [
    {
     "name": "stdout",
     "output_type": "stream",
     "text": [
      "['2', '3', '4', '5', '6', '7', '8', '9', '10', 'J', 'Q', 'K', 'A']\n"
     ]
    }
   ],
   "source": [
    "prac_result4 = [str(x) for x in range(2,11)]+ [y for y in 'JQKA']\n",
    "print(prac_result4)"
   ]
  },
  {
   "cell_type": "code",
   "execution_count": 99,
   "id": "3d231004-6096-4630-8e07-2585ab122a01",
   "metadata": {},
   "outputs": [
    {
     "name": "stdout",
     "output_type": "stream",
     "text": [
      "[['2', '3', '4', '5', '6', '7', '8', '9', '10', 'J', 'Q', 'K', 'A'], ['2', '3', '4', '5', '6', '7', '8', '9', '10', 'J', 'Q', 'K', 'A'], ['2', '3', '4', '5', '6', '7', '8', '9', '10', 'J', 'Q', 'K', 'A'], ['2', '3', '4', '5', '6', '7', '8', '9', '10', 'J', 'Q', 'K', 'A']]\n"
     ]
    }
   ],
   "source": [
    "prac_result5 = [prac_result4 for x in range(4)]\n",
    "print(prac_result5)"
   ]
  },
  {
   "cell_type": "code",
   "execution_count": 106,
   "id": "8fe16f0a-17ee-41c1-a907-0038e1ca40c5",
   "metadata": {},
   "outputs": [
    {
     "name": "stdout",
     "output_type": "stream",
     "text": [
      "1831441800064\n",
      "prac_result6[0] : 1831442249920\n",
      "prac_result6[1] : 1831442334400\n",
      "prac_result6[2] : 1831442311232\n",
      "prac_result6[3] : 1831442311424\n"
     ]
    }
   ],
   "source": [
    "prac_result6 = [prac_result4[:] for x in range(4)]\n",
    "print(id(prac_result4))\n",
    "for i, v in enumerate(prac_result6):\n",
    "    print(\"prac_result6[\",i,\"] : \", id(v), sep=\"\")\n"
   ]
  },
  {
   "cell_type": "code",
   "execution_count": 21,
   "id": "4b4ed466-376e-4591-afcc-4f75fba7c578",
   "metadata": {},
   "outputs": [
    {
     "name": "stdout",
     "output_type": "stream",
     "text": [
      "3263961476224\n",
      "3263961543744\n",
      "False\n",
      "True\n"
     ]
    }
   ],
   "source": [
    "#슬라이싱으로 가져올 경우 객체주소 다름\n",
    "old_list = list(range(10))\n",
    "new_list = old_list[:]\n",
    "\n",
    "print(id(old_list))\n",
    "print(id(new_list))\n",
    "print(old_list is new_list)\n",
    "print(old_list == new_list)"
   ]
  },
  {
   "cell_type": "code",
   "execution_count": 22,
   "id": "0f0919fc-a775-4e3f-8198-31f7422b72ed",
   "metadata": {},
   "outputs": [
    {
     "name": "stdout",
     "output_type": "stream",
     "text": [
      "False\n",
      "3263932049280\n",
      "3263961543168\n"
     ]
    }
   ],
   "source": [
    "# copy로 리스트 복사하면 객체주소 다름\n",
    "list_g = list(range(10))\n",
    "list_h = list_g.copy()\n",
    "print(list_g is list_h)\n",
    "print(id(list_g))\n",
    "print(id(list_h))"
   ]
  },
  {
   "cell_type": "code",
   "execution_count": 23,
   "id": "fcc66129-623f-4a30-817f-f36dd03546ab",
   "metadata": {},
   "outputs": [
    {
     "name": "stdout",
     "output_type": "stream",
     "text": [
      "True\n",
      "3263932049280\n",
      "3263932049280\n"
     ]
    }
   ],
   "source": [
    "# = 으로 만들경우 객체주소 같음\n",
    "list_h = list_g\n",
    "print(list_h is list_g)\n",
    "print(id(list_g))\n",
    "print(id(list_h))"
   ]
  },
  {
   "cell_type": "code",
   "execution_count": 24,
   "id": "d410826d-8353-4ed7-8990-2408697b7721",
   "metadata": {},
   "outputs": [
    {
     "name": "stdout",
     "output_type": "stream",
     "text": [
      "3263932049280\n",
      "3263932049280\n"
     ]
    }
   ],
   "source": [
    "#객체주소 같은 경우 값을 수정했을 때 같이 수정됨\n",
    "list_g[0] = 999\n",
    "print(id(list_g))\n",
    "print(id(list_h))"
   ]
  },
  {
   "cell_type": "code",
   "execution_count": 141,
   "id": "6950fce8-7ca9-4ed5-9e75-973efd5f0b2f",
   "metadata": {},
   "outputs": [
    {
     "name": "stdout",
     "output_type": "stream",
     "text": [
      "[999, 1, 2, 3, 4, 5, 6, 7, 8, 9]\n",
      "[999, 1, 2, 3, 4, 5, 6, 7, 8, 9]\n"
     ]
    }
   ],
   "source": [
    "print(list_g)\n",
    "print(list_h)"
   ]
  },
  {
   "cell_type": "markdown",
   "id": "c55d40db-68dd-44f8-a9ac-35ad966c5b0a",
   "metadata": {},
   "source": [
    "# 얕은 복사(shallow copy)\n",
    "* 메모리상에서 주소가 같으면 값 변경 했을때 같이 변경됨\n",
    "* 일단은 리스트 안에 리스트의 경우에만 주의하자!"
   ]
  },
  {
   "cell_type": "code",
   "execution_count": 4,
   "id": "13b7b31f-13c3-4136-ba6d-6107c80ff498",
   "metadata": {},
   "outputs": [
    {
     "name": "stdout",
     "output_type": "stream",
     "text": [
      "[[0], [0], [0]]\n"
     ]
    }
   ],
   "source": [
    "list_i = [[0]]*3\n",
    "print(list_i)"
   ]
  },
  {
   "cell_type": "code",
   "execution_count": 5,
   "id": "c6e5671e-e921-41a9-a42c-6fcbd6edc840",
   "metadata": {},
   "outputs": [
    {
     "name": "stdout",
     "output_type": "stream",
     "text": [
      "[[999], [999], [999]]\n"
     ]
    }
   ],
   "source": [
    "list_i[0][0] = 999\n",
    "print(list_i)"
   ]
  },
  {
   "cell_type": "code",
   "execution_count": 6,
   "id": "69464952-0496-4d3a-8ca7-7db84b22fc8e",
   "metadata": {},
   "outputs": [
    {
     "data": {
      "text/plain": [
       "True"
      ]
     },
     "execution_count": 6,
     "metadata": {},
     "output_type": "execute_result"
    }
   ],
   "source": [
    "list_i[0][0] is list_i[1][0]"
   ]
  },
  {
   "cell_type": "code",
   "execution_count": 1,
   "id": "3576f82f-192f-43f6-bda2-70058a60feca",
   "metadata": {},
   "outputs": [
    {
     "name": "stdout",
     "output_type": "stream",
     "text": [
      "[[0], [0], [0]]\n"
     ]
    }
   ],
   "source": [
    "list_j = [[0],[0],[0]]\n",
    "print(list_j)"
   ]
  },
  {
   "cell_type": "code",
   "execution_count": 2,
   "id": "809a92ba-d206-4cf4-b109-43b1d715135d",
   "metadata": {},
   "outputs": [
    {
     "name": "stdout",
     "output_type": "stream",
     "text": [
      "[[999], [0], [0]]\n"
     ]
    }
   ],
   "source": [
    "list_j[0][0] = 999\n",
    "print(list_j)"
   ]
  },
  {
   "cell_type": "markdown",
   "id": "a7daf112-5c98-4538-8e9d-d430658e6b52",
   "metadata": {},
   "source": [
    "*256까지는 효율? 때문에 메모리상 주소가 같음"
   ]
  },
  {
   "cell_type": "code",
   "execution_count": 7,
   "id": "9fc52071-64ad-41b1-93ef-9261cc98cc68",
   "metadata": {},
   "outputs": [
    {
     "data": {
      "text/plain": [
       "True"
      ]
     },
     "execution_count": 7,
     "metadata": {},
     "output_type": "execute_result"
    }
   ],
   "source": [
    "a= 256\n",
    "b = 256\n",
    "a is b"
   ]
  },
  {
   "cell_type": "code",
   "execution_count": 8,
   "id": "cb50dcd3-bfd5-4588-8ec3-25d1529c947e",
   "metadata": {},
   "outputs": [
    {
     "data": {
      "text/plain": [
       "False"
      ]
     },
     "execution_count": 8,
     "metadata": {},
     "output_type": "execute_result"
    }
   ],
   "source": [
    "a = 256\n",
    "b = 257\n",
    "a is b"
   ]
  },
  {
   "cell_type": "code",
   "execution_count": 18,
   "id": "fad686e5-5076-4a1e-b639-8cc158c934ce",
   "metadata": {},
   "outputs": [
    {
     "name": "stdout",
     "output_type": "stream",
     "text": [
      "3263846967568\n",
      "3263846967568\n"
     ]
    },
    {
     "data": {
      "text/plain": [
       "True"
      ]
     },
     "execution_count": 18,
     "metadata": {},
     "output_type": "execute_result"
    }
   ],
   "source": [
    "list_c =[]\n",
    "for i in range(3):\n",
    "    row=[0]\n",
    "    list_c.append(row)\n",
    "print(id(list_c[0][0]))\n",
    "print(id(list_c[1][0]))"
   ]
  },
  {
   "cell_type": "code",
   "execution_count": 14,
   "id": "69f142d4-9775-4023-acad-bde2ddba184a",
   "metadata": {},
   "outputs": [
    {
     "name": "stdout",
     "output_type": "stream",
     "text": [
      "3263846967568\n",
      "3263846967568\n"
     ]
    }
   ],
   "source": [
    "list_c =[]\n",
    "row=[0]\n",
    "for i in range(3):\n",
    "    list_c.append(row)\n",
    "print(id(list_c[0][0]))\n",
    "print(id(list_c[1][0]))"
   ]
  },
  {
   "cell_type": "code",
   "execution_count": 36,
   "id": "d9e408b5-e08e-4b52-8ad5-ea4cb9bb1340",
   "metadata": {},
   "outputs": [
    {
     "name": "stdout",
     "output_type": "stream",
     "text": [
      "False\n",
      "True\n",
      "3263961629184\n",
      "3263961629184\n"
     ]
    }
   ],
   "source": [
    "#리스트 내의 주소를 복사 ==> 리스트 자체는 다르지만 리스트 안의 값은 같은 주소로 복사해옴\n",
    "l5 = [7,8,(9,10)]\n",
    "l6 = l5.copy()\n",
    "print(l5 is l6)\n",
    "print(l5[-1] is l6[-1])\n",
    "print(id(l5[-1]))\n",
    "print(id(l6[-1]))"
   ]
  },
  {
   "cell_type": "code",
   "execution_count": 37,
   "id": "ffc4b7d8-9064-4b4c-8d4f-ba10bffdae68",
   "metadata": {},
   "outputs": [
    {
     "name": "stdout",
     "output_type": "stream",
     "text": [
      "(9, 10)\n",
      "9\n",
      "3263846967856\n",
      "3263961629184\n"
     ]
    }
   ],
   "source": [
    "l5[-1] = 9\n",
    "print(l6[-1])\n",
    "print(l5[-1])\n",
    "print(id(l5[-1]))\n",
    "print(id(l6[-1]))"
   ]
  },
  {
   "cell_type": "markdown",
   "id": "952e4373-afb9-43f6-8895-1d3ea4bf1379",
   "metadata": {},
   "source": [
    "# 깊은 복사(Deep copy)\n",
    "import copy로 라이브러리 불러오고 사용  \n",
    "copy() 매서드는 얕은 복사  \n",
    "deepcopy() 매서드는 깊은 복사  "
   ]
  },
  {
   "cell_type": "code",
   "execution_count": 148,
   "id": "72c62e12-0df2-497b-9ee1-d2d60149a49b",
   "metadata": {},
   "outputs": [
    {
     "name": "stdout",
     "output_type": "stream",
     "text": [
      "False\n"
     ]
    }
   ],
   "source": [
    "import copy\n",
    "list_n = [[9,10],[11,12]]\n",
    "list_o =copy.deepcopy(list_n)\n",
    "print(list_n[0] is list_o)"
   ]
  },
  {
   "cell_type": "code",
   "execution_count": 149,
   "id": "e796c005-78dc-4cb6-99e1-12803c5e6edb",
   "metadata": {},
   "outputs": [
    {
     "name": "stdout",
     "output_type": "stream",
     "text": [
      "[[9, 999], [11, 12]]\n",
      "[[9, 10], [11, 12]]\n"
     ]
    }
   ],
   "source": [
    "#deepcopy로 복사된 리스트는 서로 완전히 다른 객체이다\n",
    "list_n[0][1] = 999\n",
    "print(list_n)\n",
    "print(list_o)"
   ]
  },
  {
   "cell_type": "code",
   "execution_count": 150,
   "id": "2e8ecb38-d44e-45d8-b074-25a57fb1a071",
   "metadata": {},
   "outputs": [
    {
     "name": "stdout",
     "output_type": "stream",
     "text": [
      "1831442978496\n",
      "1831442959296\n"
     ]
    }
   ],
   "source": [
    "print(id(list_n))\n",
    "print(id(list_o))"
   ]
  },
  {
   "cell_type": "code",
   "execution_count": 39,
   "id": "3f7ca35b-7d24-4a0c-984a-a2b8eb1ba391",
   "metadata": {},
   "outputs": [
    {
     "name": "stdout",
     "output_type": "stream",
     "text": [
      "['alpha', 'bravo', 'delta', 'hotel', 'india']\n"
     ]
    }
   ],
   "source": [
    "a = ['alpha', 'bravo', 'charlie', 'delta', 'echo', 'foxtrot', 'golf', 'hotel', 'india']\n",
    "b = [x for x in a if len(x)==5]\n",
    "print(b)"
   ]
  },
  {
   "cell_type": "code",
   "execution_count": 80,
   "id": "c1470563-c82a-450d-813e-e9ba2bb01403",
   "metadata": {},
   "outputs": [
    {
     "name": "stdin",
     "output_type": "stream",
     "text": [
      " 10 20\n"
     ]
    },
    {
     "name": "stdout",
     "output_type": "stream",
     "text": [
      "[1024, 4096, 8192, 16384, 32768, 65536, 131072, 262144, 1048576]\n"
     ]
    }
   ],
   "source": [
    "while True:\n",
    "    N,M = map(int, input().split())\n",
    "    num_list=[]\n",
    "    if N<1 or N >20:  \n",
    "        print(\"첫번째 값의 범위는 1~20입니다.\")\n",
    "    elif M<10 or M>30:\n",
    "        print(\"두번째 값의 범위는 10~30입니다.\")\n",
    "    elif N>M:\n",
    "        print(\"첫 번째 입력 값은 두 번째 입력 값보다 작게 입력하세요.\")\n",
    "    else:\n",
    "        num_list = [2**i for i in range(N,M+1)]\n",
    "        del num_list[1],num_list[-2]\n",
    "        print(num_list)\n",
    "        break\n",
    "        "
   ]
  },
  {
   "cell_type": "code",
   "execution_count": null,
   "id": "6bb71e16-9d8f-4415-8db4-0237fa3e2a9e",
   "metadata": {},
   "outputs": [],
   "source": [
    "N = int(input(\"2부터 입력하신 수까지의 모든 소수를 찾는 프로그램입니다.\\n 찾는 범위를 입력하세요:\"))\n",
    "sosu=[]\n",
    "cnt_7=0\n",
    "for i in range(2,N+1):#1 ~100까지 순서대로 입력\n",
    "    cnt=0\n",
    "    for j in range(1,i+1):#각 자리수 판별하기!\n",
    "        if i % j == 0:#자기 수,1,로 나눠떨어지는수가 소수 이므로 cnt=2일때 sosu리스트에 추가\n",
    "            cnt+=1\n",
    "    if cnt ==2:\n",
    "        sosu.append(i)\n",
    "for i in sosu:\n",
    "    print(i, end=' ')\n",
    "    cnt_7 += 1\n",
    "    if cnt_7 %7==0:\n",
    "        print('')\n",
    "#int(i**(0.5))"
   ]
  },
  {
   "cell_type": "code",
   "execution_count": 7,
   "id": "34acf408-bea3-4b65-a6e1-810d8baae3ba",
   "metadata": {},
   "outputs": [
    {
     "name": "stdin",
     "output_type": "stream",
     "text": [
      "2부터 입력하신 수까지의 모든 소수를 찾는 프로그램입니다.\n",
      " 찾는 범위를 입력하세요: 100\n"
     ]
    },
    {
     "name": "stdout",
     "output_type": "stream",
     "text": [
      "4 6 9 25 49 "
     ]
    }
   ],
   "source": [
    "import math\n",
    "N = int(input(\"2부터 입력하신 수까지의 모든 소수를 찾는 프로그램입니다.\\n 찾는 범위를 입력하세요:\"))\n",
    "i = 2\n",
    "while i <=N:#1 ~100까지 순서대로 입력\n",
    "    end = int(math.sqrt(i+1))#10까지만 판별\n",
    "    j=2\n",
    "    while j <=end:\n",
    "        if i % j ==0:\n",
    "            break\n",
    "        j+=1\n",
    "    if j == end:\n",
    "        print(i,end=' ')\n",
    "    i+=1"
   ]
  },
  {
   "cell_type": "code",
   "execution_count": 6,
   "id": "2a8b3cb5-37ec-4e8a-9ed3-c7e90080ee5e",
   "metadata": {},
   "outputs": [
    {
     "name": "stdout",
     "output_type": "stream",
     "text": [
      "[63, 90, 60, 39, 5, 14, 37, 54, 56, 13]\n"
     ]
    }
   ],
   "source": [
    "import random\n",
    "random_list = [random.randint(1,100) for _ in range(10)]\n",
    "print(random_list)"
   ]
  },
  {
   "cell_type": "code",
   "execution_count": 31,
   "id": "ec4bc79d-3bae-4585-ae20-24accf34eecc",
   "metadata": {},
   "outputs": [
    {
     "name": "stdout",
     "output_type": "stream",
     "text": [
      "93\n"
     ]
    },
    {
     "name": "stdin",
     "output_type": "stream",
     "text": [
      " 90\n"
     ]
    },
    {
     "name": "stdout",
     "output_type": "stream",
     "text": [
      "그보다 큽니다.\n"
     ]
    },
    {
     "name": "stdin",
     "output_type": "stream",
     "text": [
      " 93\n"
     ]
    },
    {
     "name": "stdout",
     "output_type": "stream",
     "text": [
      "2번만에 맞추셨습니다\n",
      "입력한 숫자는 다음과 같습니다. 90, 93\n"
     ]
    }
   ],
   "source": [
    "#.join을 쓸 때는 리스트(문자열)만 가능 숫자 X\n",
    "num_list=[]\n",
    "A = random.randint(1,100)\n",
    "print(A)\n",
    "while True:\n",
    "    N = int(input())\n",
    "    num_list.append(str(N))\n",
    "    if 1> N or N> 100:\n",
    "        print(\"1~100 사이의 숫자를 입력하세요.\")\n",
    "    elif N < A:\n",
    "        print(\"그보다 큽니다.\")\n",
    "    elif N > A:\n",
    "        print(\"그보다 작습니다.\")\n",
    "    elif 1> N or N> 100:\n",
    "        print(\"1~100 사이의 숫자를 입력하세요.\")\n",
    "    else:\n",
    "        print(\"{}번만에 맞추셨습니다\".format(len(num_list)))\n",
    "        break\n",
    "print(\"입력한 숫자는 다음과 같습니다.\",\", \".join(num_list))"
   ]
  },
  {
   "cell_type": "markdown",
   "id": "0ef67e62-8776-4281-9754-61fd76667e48",
   "metadata": {},
   "source": [
    "# 세트 자료형(Set)\n",
    "*딕셔너리의 키와 같은 속성"
   ]
  },
  {
   "cell_type": "code",
   "execution_count": 32,
   "id": "463e38f6-2cdd-4cc8-9089-c9421a85ca62",
   "metadata": {},
   "outputs": [
    {
     "name": "stdout",
     "output_type": "stream",
     "text": [
      "{1}\n"
     ]
    }
   ],
   "source": [
    "#세트는 중복된 요소를 제거\n",
    "set_variable = set()\n",
    "[set_variable.add(1) for _ in range(5)]\n",
    "print(set_variable)"
   ]
  },
  {
   "cell_type": "code",
   "execution_count": 33,
   "id": "a265f4a0-8c61-4876-a7aa-c59308337003",
   "metadata": {},
   "outputs": [
    {
     "name": "stdout",
     "output_type": "stream",
     "text": [
      "A: {1, 2, 3, 4} \n",
      "B: {2, 4, 5}\n",
      "set.union(A,B): {1, 2, 3, 4, 5}\n",
      "A | B: {1, 2, 3, 4, 5}\n"
     ]
    }
   ],
   "source": [
    "#union매서드 또는 |로 세트의 합집합 만들기\n",
    "A = {_ for _ in range(1,5)}\n",
    "B = {_ for _ in range(2,6) if _!= 3}\n",
    "print(\"A:\", A, \"\\nB:\", B)\n",
    "print(\"set.union(A,B):\", set.union(A,B))\n",
    "print(\"A | B:\", A|B)"
   ]
  },
  {
   "cell_type": "code",
   "execution_count": 37,
   "id": "f3608a62-5789-47c5-879f-c4680f92989a",
   "metadata": {},
   "outputs": [
    {
     "name": "stdout",
     "output_type": "stream",
     "text": [
      "A: {1, 2, 3, 4} \n",
      "B: {2, 4, 5}\n",
      "set.difference(A,B): {1, 3}\n",
      "A - B: {1, 3}\n"
     ]
    }
   ],
   "source": [
    "#difference매서드 또는 -로 세트의 차집합 만들기\n",
    "A = {_ for _ in range(1,5)}\n",
    "B = {_ for _ in range(2,6) if _!= 3}\n",
    "print(\"A:\", A, \"\\nB:\", B)\n",
    "print(\"set.difference(A,B):\", set.difference(A,B))\n",
    "print(\"A - B:\", A-B)"
   ]
  },
  {
   "cell_type": "code",
   "execution_count": 65,
   "id": "0a358d8e-0c73-4183-91ab-67130c7db75d",
   "metadata": {},
   "outputs": [
    {
     "name": "stdout",
     "output_type": "stream",
     "text": [
      "A: {1, 2, 3, 4} \n",
      "B: {2, 4, 5}\n",
      "A |= B: {1, 2, 3, 4, 5}\n"
     ]
    }
   ],
   "source": [
    "#update매서드 또는 |=로 세트의  만들기\n",
    "A = {_ for _ in range(1,5)}\n",
    "B = {_ for _ in range(2,6) if _!= 3}\n",
    "print(\"A:\", A, \"\\nB:\", B)\n",
    "A.update(B)\n",
    "print(\"A |= B:\", A)"
   ]
  },
  {
   "cell_type": "code",
   "execution_count": 63,
   "id": "5d39e145-4cdf-435f-9385-3366780d77a1",
   "metadata": {},
   "outputs": [
    {
     "name": "stdout",
     "output_type": "stream",
     "text": [
      "A: {1, 2, 3, 4} \n",
      "B: {2, 4, 5}\n",
      "A &= B: {2, 4}\n"
     ]
    }
   ],
   "source": [
    "#intersection_update()매서드 또는 &=로 세트의 만들기\n",
    "A = {_ for _ in range(1,5)}\n",
    "B = {_ for _ in range(2,6) if _!= 3}\n",
    "print(\"A:\", A, \"\\nB:\", B)\n",
    "A.intersection_update(B) #A &= B와 같습니다\n",
    "print(\"A &= B:\", A)"
   ]
  },
  {
   "cell_type": "code",
   "execution_count": 51,
   "id": "a6053f29-9b5a-4c30-9701-f6169ce4d07b",
   "metadata": {},
   "outputs": [
    {
     "name": "stdout",
     "output_type": "stream",
     "text": [
      "A: {1, 2, 3, 4} \n",
      "B: {2, 4, 5}\n",
      "{1, 3, 5}\n"
     ]
    }
   ],
   "source": [
    "#symmetric_differencee()매서드 또는 &=로 대칭차집합(여집합)만들기\n",
    "A = {_ for _ in range(1,5)}\n",
    "B = {_ for _ in range(2,6) if _!= 3}\n",
    "print(\"A:\", A, \"\\nB:\", B)\n",
    "print(A.symmetric_difference(B))#A ^= B와 같습니다"
   ]
  },
  {
   "cell_type": "code",
   "execution_count": 40,
   "id": "e920013a-0f5c-4903-9bbc-caa95d26aeb9",
   "metadata": {},
   "outputs": [
    {
     "name": "stdout",
     "output_type": "stream",
     "text": [
      "A: {0, 1, 2} \n",
      "B: {0, 1, 2}\n",
      "A.issubset(B): True\n"
     ]
    }
   ],
   "source": [
    "#부분집합 issubset() 여부\n",
    "A = {_ for _ in range(0,3)}\n",
    "B ={_ for _ in range(0,3)}\n",
    "print(\"A:\",A, \"\\nB:\",B)\n",
    "print(\"A.issubset(B):\",A.issubset(B))"
   ]
  },
  {
   "cell_type": "code",
   "execution_count": 41,
   "id": "30f5ea64-e2d1-4f7d-b3fd-fad39e3ecece",
   "metadata": {},
   "outputs": [
    {
     "name": "stdout",
     "output_type": "stream",
     "text": [
      "A: {0, 1, 2} \n",
      "B: {0, 1}\n",
      "B.issubset(A): True\n"
     ]
    }
   ],
   "source": [
    "A = {_ for _ in range(0,3)}\n",
    "B ={_ for _ in range(0,2)}\n",
    "print(\"A:\",A, \"\\nB:\",B)\n",
    "print(\"B.issubset(A):\",B.issubset(A))"
   ]
  },
  {
   "cell_type": "code",
   "execution_count": 42,
   "id": "9542131a-1c06-46b6-a5b0-95a03aee5155",
   "metadata": {},
   "outputs": [
    {
     "name": "stdout",
     "output_type": "stream",
     "text": [
      "A: {0, 1, 2} \n",
      "B: {0, 1, 2}\n",
      "A.issuperset(B): True\n"
     ]
    }
   ],
   "source": [
    "#상위집합 issuperset()여부\n",
    "A = {_ for _ in range(0,3)}\n",
    "B ={_ for _ in range(0,3)}\n",
    "print(\"A:\",A, \"\\nB:\",B)\n",
    "print(\"A.issuperset(B):\",A.issuperset(B))"
   ]
  },
  {
   "cell_type": "code",
   "execution_count": 43,
   "id": "dc2243a4-7387-45c2-8b2f-4484376d2436",
   "metadata": {},
   "outputs": [
    {
     "name": "stdout",
     "output_type": "stream",
     "text": [
      "A: {0, 1, 2} \n",
      "B: {0, 1}\n",
      "A.issuperset(B): True\n"
     ]
    }
   ],
   "source": [
    "A = {_ for _ in range(0,3)}\n",
    "B ={_ for _ in range(0,2)}\n",
    "print(\"A:\",A, \"\\nB:\",B)\n",
    "print(\"A.issuperset(B):\",A.issuperset(B))"
   ]
  },
  {
   "cell_type": "code",
   "execution_count": 47,
   "id": "44e13977-876a-4c96-a41e-0737a66ce8af",
   "metadata": {},
   "outputs": [
    {
     "name": "stdout",
     "output_type": "stream",
     "text": [
      "A: {0, 1, 2} \n",
      "B: {0, 1, 2}\n",
      "A > B: False\n",
      "A < B: False\n",
      "A == B: True\n"
     ]
    }
   ],
   "source": [
    "#상위 집합 판별\n",
    "A = {_ for _ in range(0,3)}\n",
    "B ={_ for _ in range(0,3)}\n",
    "print(\"A:\",A, \"\\nB:\",B)\n",
    "print(\"A > B:\",A>B)\n",
    "print(\"A < B:\",A<B)\n",
    "print(\"A == B:\",A==B)"
   ]
  },
  {
   "cell_type": "code",
   "execution_count": 48,
   "id": "b5a9ace1-2b5e-450e-b870-93a93278db40",
   "metadata": {},
   "outputs": [
    {
     "name": "stdout",
     "output_type": "stream",
     "text": [
      "A: {0, 1, 2} \n",
      "B: {3, 4, 5}\n",
      "A.isdisjoint(B): True\n"
     ]
    }
   ],
   "source": [
    "#세트가 겹치지 않는지 확인\n",
    "A = {_ for _ in range(0,3)}\n",
    "B ={_ for _ in range(3,6)}\n",
    "print(\"A:\",A, \"\\nB:\",B)\n",
    "print(\"A.isdisjoint(B):\",A.isdisjoint(B))"
   ]
  },
  {
   "cell_type": "code",
   "execution_count": 49,
   "id": "7144f1ac-420c-4005-b93d-1ef3abdc2137",
   "metadata": {},
   "outputs": [
    {
     "name": "stdout",
     "output_type": "stream",
     "text": [
      "{1, 2, 3, 4}\n"
     ]
    }
   ],
   "source": [
    "list_sample = [1,2,2,3,3,3,4,4,4,4]\n",
    "print(set(list_sample))"
   ]
  },
  {
   "cell_type": "code",
   "execution_count": null,
   "id": "81cf2184-04cd-4941-871b-47d6c622992a",
   "metadata": {},
   "outputs": [],
   "source": []
  }
 ],
 "metadata": {
  "kernelspec": {
   "display_name": "Python 3 (ipykernel)",
   "language": "python",
   "name": "python3"
  },
  "language_info": {
   "codemirror_mode": {
    "name": "ipython",
    "version": 3
   },
   "file_extension": ".py",
   "mimetype": "text/x-python",
   "name": "python",
   "nbconvert_exporter": "python",
   "pygments_lexer": "ipython3",
   "version": "3.9.12"
  }
 },
 "nbformat": 4,
 "nbformat_minor": 5
}
